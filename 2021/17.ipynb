{
 "cells": [
  {
   "cell_type": "code",
   "execution_count": 1,
   "metadata": {},
   "outputs": [],
   "source": [
    "import re"
   ]
  },
  {
   "cell_type": "code",
   "execution_count": 2,
   "metadata": {},
   "outputs": [],
   "source": [
    "pattern = r\"target area: x=(-?\\d+)..(-?\\d+), y=(-?\\d+)..(-?\\d+)\""
   ]
  },
  {
   "cell_type": "code",
   "execution_count": 3,
   "metadata": {},
   "outputs": [],
   "source": [
    "data = open(\"input/17.txt\").read()"
   ]
  },
  {
   "cell_type": "code",
   "execution_count": 4,
   "metadata": {},
   "outputs": [],
   "source": [
    "match = re.match(pattern, data)"
   ]
  },
  {
   "cell_type": "code",
   "execution_count": 5,
   "metadata": {},
   "outputs": [],
   "source": [
    "x_start, x_end, y_start, y_end = list(map(int, match.groups()))"
   ]
  },
  {
   "cell_type": "code",
   "execution_count": 6,
   "metadata": {},
   "outputs": [],
   "source": [
    "def try_trajectory(x, y):\n",
    "    pos = [0, 0]\n",
    "    max_y = 0\n",
    "    while True:\n",
    "        pos[0] += x\n",
    "        pos[1] += y\n",
    "        if x > 0:\n",
    "            x -= 1\n",
    "        elif x < 0:\n",
    "            x += 1\n",
    "        y -= 1\n",
    "        \n",
    "        max_y = max(max_y, pos[1])\n",
    "        if x_start <= pos[0] <= x_end:\n",
    "            if y_start <= pos[1] <= y_end:\n",
    "                return True, max_y\n",
    "        \n",
    "        if pos[0] > x_end:\n",
    "            return False, -2\n",
    "        if pos[1] < y_start:\n",
    "            return False, -1    "
   ]
  },
  {
   "cell_type": "markdown",
   "metadata": {},
   "source": [
    "300 is arbitrary chosen number, first runs really high, then lowered for performance. I guess you can do more advanced calculations"
   ]
  },
  {
   "cell_type": "markdown",
   "metadata": {},
   "source": [
    "# Part 1"
   ]
  },
  {
   "cell_type": "code",
   "execution_count": 7,
   "metadata": {},
   "outputs": [
    {
     "name": "stdout",
     "output_type": "stream",
     "text": [
      "Answer #1: 35511\n"
     ]
    }
   ],
   "source": [
    "res = []\n",
    "# No idea shooting longer away than target x\n",
    "for x in range(x_end + 1):\n",
    "    # Try to shoot up (no negative numbers)\n",
    "    for y in range(0, 300):\n",
    "        sucess, max_y = try_trajectory(x, y)\n",
    "        if sucess:\n",
    "            res.append(max_y)\n",
    "res.sort()\n",
    "part1 = res[-1]\n",
    "print(f\"Answer #1: {part1}\")\n",
    "assert part1 == 35511"
   ]
  },
  {
   "cell_type": "markdown",
   "metadata": {},
   "source": [
    "# Part 2"
   ]
  },
  {
   "cell_type": "code",
   "execution_count": 8,
   "metadata": {},
   "outputs": [
    {
     "name": "stdout",
     "output_type": "stream",
     "text": [
      "Answer #2: 3282\n"
     ]
    }
   ],
   "source": [
    "res = []\n",
    "# No idea shooting longer away than target x\n",
    "for x in range(x_end + 1):\n",
    "    for y in range(y_start, 300):\n",
    "        sucess, max_y = try_trajectory(x, y)\n",
    "        if sucess:\n",
    "            res.append([max_y, x, y])\n",
    "part2 = len(res)\n",
    "print(f\"Answer #2: {part2}\")\n",
    "assert part2 == 3282"
   ]
  }
 ],
 "metadata": {
  "kernelspec": {
   "display_name": "Python 3 (ipykernel)",
   "language": "python",
   "name": "python3"
  },
  "language_info": {
   "codemirror_mode": {
    "name": "ipython",
    "version": 3
   },
   "file_extension": ".py",
   "mimetype": "text/x-python",
   "name": "python",
   "nbconvert_exporter": "python",
   "pygments_lexer": "ipython3",
   "version": "3.9.6"
  }
 },
 "nbformat": 4,
 "nbformat_minor": 4
}
