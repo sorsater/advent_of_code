{
 "cells": [
  {
   "cell_type": "code",
   "execution_count": 1,
   "metadata": {},
   "outputs": [],
   "source": [
    "example = \"[[[[[9,8],1],2],3],4]\""
   ]
  },
  {
   "cell_type": "code",
   "execution_count": 11,
   "metadata": {},
   "outputs": [],
   "source": [
    "def can_explode(arr):\n",
    "    explode = 0\n",
    "    for idx, char in enumerate(arr):\n",
    "        if char == \"[\":\n",
    "            explode += 1\n",
    "        if char == \"]\":\n",
    "            explode -= 1\n",
    "        if explode >= 4:\n",
    "            print(\"exp\", idx)\n",
    "            return idx\n",
    "    print(explode)\n",
    "    return -1"
   ]
  },
  {
   "cell_type": "code",
   "execution_count": 22,
   "metadata": {},
   "outputs": [],
   "source": [
    "def find_exploading_pair(arr, start_idx):\n",
    "    sliced_arr = arr[start_idx:]\n",
    "    print(arr)\n",
    "    print(sliced_arr)\n",
    "    number = sliced_arr.split(',')[0]\n",
    "    number = number.replace('[', '').replace(']', '')\n",
    "    number = int(number)\n",
    "    print(number)"
   ]
  },
  {
   "cell_type": "code",
   "execution_count": 23,
   "metadata": {},
   "outputs": [
    {
     "name": "stdout",
     "output_type": "stream",
     "text": [
      "exp 3\n",
      "[[[[[9,8],1],2],3],4]\n",
      "[[9,8],1],2],3],4]\n",
      "9\n"
     ]
    }
   ],
   "source": [
    "idx = can_explode(example)\n",
    "if idx > 0:\n",
    "    find_exploading_pair(example, idx)"
   ]
  }
 ],
 "metadata": {
  "kernelspec": {
   "display_name": "Python 3",
   "language": "python",
   "name": "python3"
  },
  "language_info": {
   "codemirror_mode": {
    "name": "ipython",
    "version": 3
   },
   "file_extension": ".py",
   "mimetype": "text/x-python",
   "name": "python",
   "nbconvert_exporter": "python",
   "pygments_lexer": "ipython3",
   "version": "3.8.10"
  }
 },
 "nbformat": 4,
 "nbformat_minor": 4
}
