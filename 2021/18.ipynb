{
 "cells": [
  {
   "cell_type": "code",
   "execution_count": 1,
   "metadata": {},
   "outputs": [],
   "source": [
    "from itertools import combinations\n",
    "from tqdm.notebook import tqdm"
   ]
  },
  {
   "cell_type": "code",
   "execution_count": 2,
   "metadata": {},
   "outputs": [],
   "source": [
    "lines = open(\"input/18\").read().splitlines()"
   ]
  },
  {
   "cell_type": "code",
   "execution_count": 3,
   "metadata": {},
   "outputs": [],
   "source": [
    "def add_two(a, b):\n",
    "    combination = \"[\" + a + \",\" + b + \"]\"\n",
    "    data = []\n",
    "    for idx, char in enumerate(combination):\n",
    "        if char in [\",\", \"[\", \"]\"]:\n",
    "            data.append(char)\n",
    "            continue\n",
    "        data.append(int(char))\n",
    "        \n",
    "    return data"
   ]
  },
  {
   "cell_type": "code",
   "execution_count": 4,
   "metadata": {},
   "outputs": [],
   "source": [
    "def explode(data):\n",
    "    c = 0\n",
    "    for idx, char in enumerate(data):\n",
    "        if char == \"[\":\n",
    "            c += 1\n",
    "        elif char == \"]\":\n",
    "            c -= 1\n",
    "        if c == 5:\n",
    "            pair = \"[\"\n",
    "            i = 1\n",
    "            while True:\n",
    "                next = data[idx + i]\n",
    "                pair += str(next)\n",
    "                if next == \"]\":\n",
    "                    break\n",
    "                i += 1\n",
    "            end_idx = idx + i\n",
    "           \n",
    "            before = data[:idx]\n",
    "            after = data[end_idx:]\n",
    "           \n",
    "            first, second = pair[1:-1].split(\",\")\n",
    "            first = int(first)\n",
    "            second = int(second)\n",
    "            \n",
    "            break\n",
    "    else:\n",
    "        return False, None\n",
    "\n",
    "    for b_idx, elem in enumerate(before[::-1]):\n",
    "        if isinstance(elem, int):\n",
    "            data[idx  - b_idx - 1] = elem + first\n",
    "            break\n",
    "    for a_idx, elem in enumerate(after):\n",
    "        if isinstance(elem, int): \n",
    "            data[end_idx + a_idx] = elem + second\n",
    "            break\n",
    "    \n",
    "    data = data[:idx] + [0] + data[end_idx + 1:]\n",
    "    \n",
    "    return True, data\n"
   ]
  },
  {
   "cell_type": "code",
   "execution_count": 5,
   "metadata": {},
   "outputs": [],
   "source": [
    "def split(data):\n",
    "    for idx, char in enumerate(data):\n",
    "        if isinstance(char, int) and char >= 10:\n",
    "            break\n",
    "    else:\n",
    "        return False, None\n",
    "    first = second = char // 2\n",
    "    if char % 2 == 1:\n",
    "        second += 1\n",
    "    slice = [\"[\", first, \",\", second, \"]\"]\n",
    "    data = data[:idx] + slice + data[idx + 1:]\n",
    "\n",
    "    return True, data"
   ]
  },
  {
   "cell_type": "code",
   "execution_count": 6,
   "metadata": {},
   "outputs": [],
   "source": [
    "def reduce(data):\n",
    "    while True: \n",
    "        can_explode, new_data = explode(data)\n",
    "        if can_explode:\n",
    "            data = new_data\n",
    "            continue\n",
    "        \n",
    "        can_split, new_data = split(data)\n",
    "        if can_split:\n",
    "            data = new_data\n",
    "            continue\n",
    "        break\n",
    "    return data"
   ]
  },
  {
   "cell_type": "code",
   "execution_count": 7,
   "metadata": {},
   "outputs": [],
   "source": [
    "res = lines[0]\n",
    "for line in lines[1:]:\n",
    "    res = \"\".join([str(s) for s in res])\n",
    "    data = add_two(res, line)\n",
    "    res = reduce(data)"
   ]
  },
  {
   "cell_type": "code",
   "execution_count": 8,
   "metadata": {},
   "outputs": [],
   "source": [
    "def calculate_magnitude(res):\n",
    "    while True:\n",
    "        if \"[\" not in res:\n",
    "            break\n",
    "        for idx in range(len(res)):\n",
    "            slice = res[idx:idx+5]\n",
    "            if isinstance(slice[1], int) and isinstance(slice[3], int):\n",
    "                magnitude = 3 * slice[1] + 2 * slice[3]\n",
    "                res = res[:idx] + [magnitude] + res[idx + 5:]\n",
    "                break\n",
    "    return res[0]"
   ]
  },
  {
   "cell_type": "code",
   "execution_count": 9,
   "metadata": {},
   "outputs": [
    {
     "name": "stdout",
     "output_type": "stream",
     "text": [
      "Answer #1: 3574\n"
     ]
    }
   ],
   "source": [
    "print(f\"Answer #1: {calculate_magnitude(res)}\")"
   ]
  },
  {
   "cell_type": "markdown",
   "metadata": {},
   "source": [
    "# Part 2"
   ]
  },
  {
   "cell_type": "code",
   "execution_count": 10,
   "metadata": {},
   "outputs": [],
   "source": [
    "best = -1\n",
    "for comb in combinations(lines, 2):\n",
    "    for _ in range(2):\n",
    "        data = add_two(comb[0], comb[1])\n",
    "        mag = calculate_magnitude(reduce(data))\n",
    "        best = max(best, mag)\n",
    "        comb = comb[::-1]"
   ]
  },
  {
   "cell_type": "code",
   "execution_count": 11,
   "metadata": {},
   "outputs": [
    {
     "name": "stdout",
     "output_type": "stream",
     "text": [
      "Answer #2: 4763\n"
     ]
    }
   ],
   "source": [
    "print(f\"Answer #2: {best}\")"
   ]
  }
 ],
 "metadata": {
  "kernelspec": {
   "display_name": "Python 3 (ipykernel)",
   "language": "python",
   "name": "python3"
  },
  "language_info": {
   "codemirror_mode": {
    "name": "ipython",
    "version": 3
   },
   "file_extension": ".py",
   "mimetype": "text/x-python",
   "name": "python",
   "nbconvert_exporter": "python",
   "pygments_lexer": "ipython3",
   "version": "3.9.6"
  },
  "widgets": {
   "application/vnd.jupyter.widget-state+json": {
    "state": {},
    "version_major": 2,
    "version_minor": 0
   }
  }
 },
 "nbformat": 4,
 "nbformat_minor": 4
}
