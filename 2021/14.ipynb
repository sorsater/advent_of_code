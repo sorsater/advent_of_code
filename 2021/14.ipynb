{
 "cells": [
  {
   "cell_type": "code",
   "execution_count": 8,
   "id": "dfc419e4",
   "metadata": {},
   "outputs": [],
   "source": [
    "from copy import deepcopy\n",
    "from collections import Counter, defaultdict"
   ]
  },
  {
   "cell_type": "code",
   "execution_count": 2,
   "id": "ad823fba",
   "metadata": {},
   "outputs": [],
   "source": [
    "data = open(\"input/14.txt\").read().splitlines()"
   ]
  },
  {
   "cell_type": "markdown",
   "id": "c0a294e7",
   "metadata": {},
   "source": [
    "# Part 1"
   ]
  },
  {
   "cell_type": "code",
   "execution_count": 3,
   "id": "5104a80f",
   "metadata": {},
   "outputs": [],
   "source": [
    "class Poly:\n",
    "    def __init__(self, seq, codes):\n",
    "        self.seq = seq\n",
    "        self.codes = codes\n",
    "        \n",
    "    def run(self):\n",
    "        inserts = []\n",
    "        for code in self.codes:\n",
    "            first, second = code.split(' -> ')\n",
    "            for idx in range(len(self.seq) - 1):\n",
    "                chunk = self.seq[idx: idx + 2]\n",
    "                if chunk == first:\n",
    "                    inserts.append([idx, second])\n",
    "        for count, (idx, char) in enumerate(sorted(inserts)):\n",
    "            self.seq = self.seq[:idx + count + 1] + char + self.seq[idx + count + 1:]   "
   ]
  },
  {
   "cell_type": "code",
   "execution_count": 82,
   "id": "ef5f553a",
   "metadata": {},
   "outputs": [
    {
     "name": "stdout",
     "output_type": "stream",
     "text": [
      "NCNBCHB\n",
      "NBCCNBBBCBHCB\n",
      "NBBBCNCCNBBNBNBBCHBHHBCHB\n",
      "NBBNBNBBCCNBCNCCNBBNBBNBBBNBBNBBCBHCBHHNHCBBCBHCB\n",
      "NBBNBBNBBBNBBNBBCNCCNBBBCCNBCNCCNBBNBBNBBNBBNBBNBNBBNBBNBBNBBNBBCHBHHBCHBHHNHCNCHBCHBNBBCHBHHBCHB\n",
      "NBBNBBNBBNBBNBBNBNBBNBBNBBNBBNBBCCNBCNCCNBBNBNBBCNCCNBBBCCNBCNCCNBBNBBNBBNBBNBBNBBNBBNBBNBBNBBNBBBNBBNBBNBBNBBNBBNBBNBBNBBNBBNBBCBHCBHHNHCBBCBHCBHHNHCNCHBCCNBCBHCBBCBHCBBNBBNBBCBHCBHHNHCBBCBHCB\n",
      "NBBNBBNBBNBBNBBNBBNBBNBBNBBNBBNBBBNBBNBBNBBNBBNBBNBBNBBNBBNBBNBBCNCCNBBBCCNBCNCCNBBNBBNBBBNBBNBBCCNBCNCCNBBNBNBBCNCCNBBBCCNBCNCCNBBNBBNBBNBBNBBNBBNBBNBBNBBNBBNBBNBBNBBNBBNBBNBBNBBNBBNBBNBBNBBNBNBBNBBNBBNBBNBBNBBNBBNBBNBBNBBNBBNBBNBBNBBNBBNBBNBBNBBNBBNBBNBBCHBHHBCHBHHNHCNCHBCHBNBBCHBHHBCHBHHNHCNCHBCCNBCBHCBBCNCCNBBBCHBHHBCHBNBBCHBHHBCHBNBBNBBNBBNBBNBBCHBHHBCHBHHNHCNCHBCHBNBBCHBHHBCHB\n",
      "NBBNBBNBBNBBNBBNBBNBBNBBNBBNBBNBBNBBNBBNBBNBBNBBNBBNBBNBBNBBNBBNBNBBNBBNBBNBBNBBNBBNBBNBBNBBNBBNBBNBBNBBNBBNBBNBBNBBNBBNBBNBBNBBCCNBCNCCNBBNBNBBCNCCNBBBCCNBCNCCNBBNBBNBBNBBNBBNBNBBNBBNBBNBBNBBCNCCNBBBCCNBCNCCNBBNBBNBBBNBBNBBCCNBCNCCNBBNBNBBCNCCNBBBCCNBCNCCNBBNBBNBBNBBNBBNBBNBBNBBNBBNBBNBBNBBNBBNBBNBBNBBNBBNBBNBBNBBNBBNBBNBBNBBNBBNBBNBBNBBNBBNBBNBBNBBNBBNBBNBBNBBNBBNBBNBBNBBNBBNBBNBBBNBBNBBNBBNBBNBBNBBNBBNBBNBBNBBNBBNBBNBBNBBNBBNBBNBBNBBNBBNBBNBBNBBNBBNBBNBBNBBNBBNBBNBBNBBNBBNBBNBBNBBNBBNBBNBBNBBNBBNBBNBBNBBCBHCBHHNHCBBCBHCBHHNHCNCHBCCNBCBHCBBCBHCBBNBBNBBCBHCBHHNHCBBCBHCBHHNHCNCHBCCNBCBHCBBCNCCNBBBCHBHHBCHBNBBCCNBCNCCNBBNBNBBCBHCBHHNHCBBCBHCBBNBBNBBCBHCBHHNHCBBCBHCBBNBBNBBNBBNBBNBBNBBNBBNBBNBBNBBCBHCBHHNHCBBCBHCBHHNHCNCHBCCNBCBHCBBCBHCBBNBBNBBCBHCBHHNHCBBCBHCB\n",
      "NBBNBBNBBNBBNBBNBBNBBNBBNBBNBBNBBNBBNBBNBBNBBNBBNBBNBBNBBNBBNBBNBBNBBNBBNBBNBBNBBNBBNBBNBBNBBNBBNBBNBBNBBNBBNBBNBBNBBNBBNBBNBBNBBBNBBNBBNBBNBBNBBNBBNBBNBBNBBNBBNBBNBBNBBNBBNBBNBBNBBNBBNBBNBBNBBNBBNBBNBBNBBNBBNBBNBBNBBNBBNBBNBBNBBNBBNBBNBBNBBNBBNBBNBBNBBNBBCNCCNBBBCCNBCNCCNBBNBBNBBBNBBNBBCCNBCNCCNBBNBNBBCNCCNBBBCCNBCNCCNBBNBBNBBNBBNBBNBBNBBNBBNBBNBBNBBBNBBNBBNBBNBBNBBNBBNBBNBBNBBNBBCCNBCNCCNBBNBNBBCNCCNBBBCCNBCNCCNBBNBBNBBNBBNBBNBNBBNBBNBBNBBNBBCNCCNBBBCCNBCNCCNBBNBBNBBBNBBNBBCCNBCNCCNBBNBNBBCNCCNBBBCCNBCNCCNBBNBBNBBNBBNBBNBBNBBNBBNBBNBBNBBNBBNBBNBBNBBNBBNBBNBBNBBNBBNBBNBBNBBNBBNBBNBBNBBNBBNBBNBBNBBNBBNBBNBBNBBNBBNBBNBBNBBNBBNBBNBBNBBNBBNBBNBBNBBNBBNBBNBBNBBNBBNBBNBBNBBNBBNBBNBBNBBNBBNBBNBBNBBNBBNBBNBBNBBNBBNBBNBBNBBNBBNBBNBBNBBNBBNBBNBBNBBNBBNBBNBBNBBNBBNBBNBNBBNBBNBBNBBNBBNBBNBBNBBNBBNBBNBBNBBNBBNBBNBBNBBNBBNBBNBBNBBNBBNBBNBBNBBNBBNBBNBBNBBNBBNBBNBBNBBNBBNBBNBBNBBNBBNBBNBBNBBNBBNBBNBBNBBNBBNBBNBBNBBNBBNBBNBBNBBNBBNBBNBBNBBNBBNBBNBBNBBNBBNBBNBBNBBNBBNBBNBBNBBNBBNBBNBBNBBNBBNBBNBBNBBNBBNBBNBBNBBNBBNBBNBBNBBNBBCHBHHBCHBHHNHCNCHBCHBNBBCHBHHBCHBHHNHCNCHBCCNBCBHCBBCNCCNBBBCHBHHBCHBNBBCHBHHBCHBNBBNBBNBBNBBNBBCHBHHBCHBHHNHCNCHBCHBNBBCHBHHBCHBHHNHCNCHBCCNBCBHCBBCNCCNBBBCHBHHBCHBNBBCCNBCNCCNBBNBNBBCBHCBHHNHCBBCBHCBBNBBNBBCNCCNBBBCCNBCNCCNBBNBBNBBBNBBNBBCHBHHBCHBHHNHCNCHBCHBNBBCHBHHBCHBNBBNBBNBBNBBNBBCHBHHBCHBHHNHCNCHBCHBNBBCHBHHBCHBNBBNBBNBBNBBNBBNBBNBBNBBNBBNBBNBBNBBNBBNBBNBBNBBNBBNBBNBBNBBNBBCHBHHBCHBHHNHCNCHBCHBNBBCHBHHBCHBHHNHCNCHBCCNBCBHCBBCNCCNBBBCHBHHBCHBNBBCHBHHBCHBNBBNBBNBBNBBNBBCHBHHBCHBHHNHCNCHBCHBNBBCHBHHBCHB\n",
      "NBBNBBNBBNBBNBBNBBNBBNBBNBBNBBNBBNBBNBBNBBNBBNBBNBBNBBNBBNBBNBBNBBNBBNBBNBBNBBNBBNBBNBBNBBNBBNBBNBBNBBNBBNBBNBBNBBNBBNBBNBBNBBNBBNBBNBBNBBNBBNBBNBBNBBNBBNBBNBBNBBNBBNBBNBBNBBNBBNBBNBBNBBNBBNBBNBBNBBNBBNBBNBBNBBNBBNBBNBBNBBNBBNBBNBBNBBNBBNBBNBBNBBNBBNBBNBBNBNBBNBBNBBNBBNBBNBBNBBNBBNBBNBBNBBNBBNBBNBBNBBNBBNBBNBBNBBNBBNBBNBBNBBNBBNBBNBBNBBNBBNBBNBBNBBNBBNBBNBBNBBNBBNBBNBBNBBNBBNBBNBBNBBNBBNBBNBBNBBNBBNBBNBBNBBNBBNBBNBBNBBNBBNBBNBBNBBNBBNBBNBBNBBNBBNBBNBBNBBNBBNBBNBBNBBNBBNBBNBBNBBNBBNBBNBBNBBNBBNBBNBBNBBNBBNBBCCNBCNCCNBBNBNBBCNCCNBBBCCNBCNCCNBBNBBNBBNBBNBBNBNBBNBBNBBNBBNBBCNCCNBBBCCNBCNCCNBBNBBNBBBNBBNBBCCNBCNCCNBBNBNBBCNCCNBBBCCNBCNCCNBBNBBNBBNBBNBBNBBNBBNBBNBBNBBNBBNBBNBBNBBNBBNBBNBBNBBNBBNBBNBBNBNBBNBBNBBNBBNBBNBBNBBNBBNBBNBBNBBNBBNBBNBBNBBNBBNBBNBBNBBNBBNBBCNCCNBBBCCNBCNCCNBBNBBNBBBNBBNBBCCNBCNCCNBBNBNBBCNCCNBBBCCNBCNCCNBBNBBNBBNBBNBBNBBNBBNBBNBBNBBNBBBNBBNBBNBBNBBNBBNBBNBBNBBNBBNBBCCNBCNCCNBBNBNBBCNCCNBBBCCNBCNCCNBBNBBNBBNBBNBBNBNBBNBBNBBNBBNBBCNCCNBBBCCNBCNCCNBBNBBNBBBNBBNBBCCNBCNCCNBBNBNBBCNCCNBBBCCNBCNCCNBBNBBNBBNBBNBBNBBNBBNBBNBBNBBNBBNBBNBBNBBNBBNBBNBBNBBNBBNBBNBBNBBNBBNBBNBBNBBNBBNBBNBBNBBNBBNBBNBBNBBNBBNBBNBBNBBNBBNBBNBBNBBNBBNBBNBBNBBNBBNBBNBBNBBNBBNBBNBBNBBNBBNBBNBBNBBNBBNBBNBBNBBNBBNBBNBBNBBNBBNBBNBBNBBNBBNBBNBBNBBNBBNBBNBBNBBNBBNBBNBBNBBNBBNBBNBBNBBNBBNBBNBBNBBNBBNBBNBBNBBNBBNBBNBBNBBNBBNBBNBBNBBNBBNBBNBBNBBNBBNBBNBBNBBNBBNBBNBBNBBNBBNBBNBBNBBNBBNBBNBBNBBNBBNBBNBBNBBNBBNBBNBBNBBNBBNBBNBBNBBNBBNBBNBBNBBNBBNBBNBBNBBNBBNBBNBBNBBNBBNBBNBBNBBNBBNBBNBBNBBNBBNBBNBBNBBNBBNBBNBBNBBNBBNBBNBBNBBNBBNBBNBBNBBNBBBNBBNBBNBBNBBNBBNBBNBBNBBNBBNBBNBBNBBNBBNBBNBBNBBNBBNBBNBBNBBNBBNBBNBBNBBNBBNBBNBBNBBNBBNBBNBBNBBNBBNBBNBBNBBNBBNBBNBBNBBNBBNBBNBBNBBNBBNBBNBBNBBNBBNBBNBBNBBNBBNBBNBBNBBNBBNBBNBBNBBNBBNBBNBBNBBNBBNBBNBBNBBNBBNBBNBBNBBNBBNBBNBBNBBNBBNBBNBBNBBNBBNBBNBBNBBNBBNBBNBBNBBNBBNBBNBBNBBNBBNBBNBBNBBNBBNBBNBBNBBNBBNBBNBBNBBNBBNBBNBBNBBNBBNBBNBBNBBNBBNBBNBBNBBNBBNBBNBBNBBNBBNBBNBBNBBNBBNBBNBBNBBNBBNBBNBBNBBNBBNBBNBBNBBNBBNBBNBBNBBNBBNBBNBBNBBNBBNBBNBBNBBNBBNBBNBBNBBNBBNBBNBBNBBNBBNBBNBBNBBNBBNBBNBBNBBNBBNBBNBBNBBNBBNBBCBHCBHHNHCBBCBHCBHHNHCNCHBCCNBCBHCBBCBHCBBNBBNBBCBHCBHHNHCBBCBHCBHHNHCNCHBCCNBCBHCBBCNCCNBBBCHBHHBCHBNBBCCNBCNCCNBBNBNBBCBHCBHHNHCBBCBHCBBNBBNBBCBHCBHHNHCBBCBHCBBNBBNBBNBBNBBNBBNBBNBBNBBNBBNBBCBHCBHHNHCBBCBHCBHHNHCNCHBCCNBCBHCBBCBHCBBNBBNBBCBHCBHHNHCBBCBHCBHHNHCNCHBCCNBCBHCBBCNCCNBBBCHBHHBCHBNBBCCNBCNCCNBBNBNBBCBHCBHHNHCBBCBHCBBNBBNBBCNCCNBBBCCNBCNCCNBBNBBNBBBNBBNBBCHBHHBCHBHHNHCNCHBCHBNBBCHBHHBCHBNBBNBBNBBNBBNBBCCNBCNCCNBBNBNBBCNCCNBBBCCNBCNCCNBBNBBNBBNBBNBBNBNBBNBBNBBNBBNBBCBHCBHHNHCBBCBHCBHHNHCNCHBCCNBCBHCBBCBHCBBNBBNBBCBHCBHHNHCBBCBHCBBNBBNBBNBBNBBNBBNBBNBBNBBNBBNBBCBHCBHHNHCBBCBHCBHHNHCNCHBCCNBCBHCBBCBHCBBNBBNBBCBHCBHHNHCBBCBHCBBNBBNBBNBBNBBNBBNBBNBBNBBNBBNBBNBBNBBNBBNBBNBBNBBNBBNBBNBBNBBNBBNBBNBBNBBNBBNBBNBBNBBNBBNBBNBBNBBNBBNBBNBBNBBNBBNBBNBBNBBNBBNBBCBHCBHHNHCBBCBHCBHHNHCNCHBCCNBCBHCBBCBHCBBNBBNBBCBHCBHHNHCBBCBHCBHHNHCNCHBCCNBCBHCBBCNCCNBBBCHBHHBCHBNBBCCNBCNCCNBBNBNBBCBHCBHHNHCBBCBHCBBNBBNBBCBHCBHHNHCBBCBHCBBNBBNBBNBBNBBNBBNBBNBBNBBNBBNBBCBHCBHHNHCBBCBHCBHHNHCNCHBCCNBCBHCBBCBHCBBNBBNBBCBHCBHHNHCBBCBHCB\n"
     ]
    }
   ],
   "source": [
    "p = Poly(data[0], data[2:])\n",
    "for a in range(10):\n",
    "    p.run()\n",
    "    print(p.seq)"
   ]
  },
  {
   "cell_type": "code",
   "execution_count": 87,
   "id": "754a58fd",
   "metadata": {},
   "outputs": [
    {
     "name": "stdout",
     "output_type": "stream",
     "text": [
      "1749\n",
      "dict_values([865, 1749, 298, 161])\n",
      "1588\n"
     ]
    },
    {
     "ename": "AssertionError",
     "evalue": "",
     "output_type": "error",
     "traceback": [
      "\u001b[0;31m---------------------------------------------------------------------------\u001b[0m",
      "\u001b[0;31mAssertionError\u001b[0m                            Traceback (most recent call last)",
      "\u001b[0;32m/tmp/ipykernel_409276/1354470544.py\u001b[0m in \u001b[0;36m<module>\u001b[0;34m\u001b[0m\n\u001b[1;32m      5\u001b[0m \u001b[0mprint\u001b[0m\u001b[0;34m(\u001b[0m\u001b[0mpart1\u001b[0m\u001b[0;34m)\u001b[0m\u001b[0;34m\u001b[0m\u001b[0;34m\u001b[0m\u001b[0m\n\u001b[1;32m      6\u001b[0m \u001b[0;34m\u001b[0m\u001b[0m\n\u001b[0;32m----> 7\u001b[0;31m \u001b[0;32massert\u001b[0m \u001b[0mpart1\u001b[0m \u001b[0;34m==\u001b[0m \u001b[0;36m2891\u001b[0m\u001b[0;34m\u001b[0m\u001b[0;34m\u001b[0m\u001b[0m\n\u001b[0m",
      "\u001b[0;31mAssertionError\u001b[0m: "
     ]
    }
   ],
   "source": [
    "counts = Counter(list(p.seq)).values()\n",
    "part1 = max(counts) - min(counts)\n",
    "print(max(counts))\n",
    "print(counts)\n",
    "print(part1)\n",
    "\n",
    "assert part1 == 2891"
   ]
  },
  {
   "cell_type": "markdown",
   "id": "c883f35d",
   "metadata": {},
   "source": [
    "# Part 2"
   ]
  },
  {
   "cell_type": "code",
   "execution_count": 71,
   "id": "eca9e59a",
   "metadata": {},
   "outputs": [],
   "source": [
    "class SmartPoly:\n",
    "    def __init__(self, seq, codes):\n",
    "        self.seq = seq\n",
    "        self.codes = codes\n",
    "        self.code_map = defaultdict(int)\n",
    "        \n",
    "        for idx in range(len(self.seq) - 1):\n",
    "            chunk = self.seq[idx: idx + 2]\n",
    "            print(chunk)\n",
    "            self.code_map[chunk] += 1\n",
    "        print(self.code_map)\n",
    "        \n",
    "    def run(self):\n",
    "        changes = []\n",
    "        for code in self.codes:\n",
    "            first, second = code.split(' -> ')\n",
    "            count = self.code_map.get(first)\n",
    "            if not count:\n",
    "                continue\n",
    "            new1 = first[0] + second\n",
    "            new2 = second + first[1]\n",
    "            changes.append([new1, True, count])\n",
    "            changes.append([new2, True, count])\n",
    "            changes.append([first, False, count])\n",
    "            \n",
    "        #print(self.code_map)\n",
    "        #for c in changes:\n",
    "         #   print(c)\n",
    "        for pair, status, cc in changes:\n",
    "            #print(pair, status)\n",
    "            if status:\n",
    "                self.code_map[pair] += cc\n",
    "                continue\n",
    " #           count = self.code_map.get(pair)\n",
    "  #          if count == 1:\n",
    "            #    self.code_map.pop(pair)\n",
    "            #else:\n",
    "            self.code_map[pair] -= cc\n",
    "                \n",
    "        print(self.code_map)"
   ]
  },
  {
   "cell_type": "code",
   "execution_count": 73,
   "id": "4e1d2c7b",
   "metadata": {},
   "outputs": [
    {
     "name": "stdout",
     "output_type": "stream",
     "text": [
      "NN\n",
      "NC\n",
      "CB\n",
      "defaultdict(<class 'int'>, {'NN': 1, 'NC': 1, 'CB': 1})\n",
      "defaultdict(<class 'int'>, {'NN': 0, 'NC': 1, 'CB': 0, 'CH': 1, 'HB': 1, 'CN': 1, 'NB': 1, 'BC': 1})\n",
      "defaultdict(<class 'int'>, {'NN': 0, 'NC': 0, 'CB': 2, 'CH': 0, 'HB': 0, 'CN': 1, 'NB': 2, 'BC': 2, 'BH': 1, 'HC': 1, 'BB': 2, 'CC': 1})\n",
      "defaultdict(<class 'int'>, {'NN': 0, 'NC': 1, 'CB': 0, 'CH': 2, 'HB': 3, 'CN': 2, 'NB': 4, 'BC': 3, 'BH': 1, 'HC': 0, 'BB': 4, 'CC': 1, 'HH': 1, 'BN': 2})\n",
      "defaultdict(<class 'int'>, {'NN': 0, 'NC': 1, 'CB': 5, 'CH': 0, 'HB': 0, 'CN': 3, 'NB': 9, 'BC': 4, 'BH': 3, 'HC': 3, 'BB': 9, 'CC': 2, 'HH': 1, 'BN': 6, 'HN': 1, 'NH': 1})\n",
      "defaultdict(<class 'int'>, {'NN': 0, 'NC': 3, 'CB': 0, 'CH': 6, 'HB': 8, 'CN': 6, 'NB': 19, 'BC': 8, 'BH': 3, 'HC': 1, 'BB': 19, 'CC': 3, 'HH': 3, 'BN': 15, 'HN': 1, 'NH': 1})\n",
      "defaultdict(<class 'int'>, {'NN': 0, 'NC': 4, 'CB': 14, 'CH': 1, 'HB': 1, 'CN': 10, 'NB': 41, 'BC': 12, 'BH': 9, 'HC': 9, 'BB': 42, 'CC': 6, 'HH': 3, 'BN': 34, 'HN': 3, 'NH': 3})\n",
      "defaultdict(<class 'int'>, {'NN': 0, 'NC': 9, 'CB': 2, 'CH': 17, 'HB': 23, 'CN': 19, 'NB': 87, 'BC': 25, 'BH': 10, 'HC': 4, 'BB': 87, 'CC': 10, 'HH': 9, 'BN': 76, 'HN': 3, 'NH': 3})\n",
      "defaultdict(<class 'int'>, {'NN': 0, 'NC': 13, 'CB': 40, 'CH': 5, 'HB': 6, 'CN': 32, 'NB': 183, 'BC': 38, 'BH': 27, 'HC': 26, 'BB': 188, 'CC': 19, 'HH': 10, 'BN': 163, 'HN': 9, 'NH': 9})\n",
      "defaultdict(<class 'int'>, {'NN': 0, 'NC': 28, 'CB': 11, 'CH': 49, 'HB': 66, 'CN': 60, 'NB': 384, 'BC': 77, 'BH': 32, 'HC': 15, 'BB': 384, 'CC': 32, 'HH': 27, 'BN': 351, 'HN': 10, 'NH': 10})\n",
      "defaultdict(<class 'int'>, {'NN': 0, 'NC': 42, 'CB': 115, 'CH': 21, 'HB': 26, 'CN': 102, 'NB': 796, 'BC': 120, 'BH': 81, 'HC': 76, 'BB': 812, 'CC': 60, 'HH': 32, 'BN': 735, 'HN': 27, 'NH': 27})\n",
      "1\n"
     ]
    }
   ],
   "source": [
    "p = SmartPoly(data[0], data[2:])\n",
    "hej = [\n",
    "    \"NNCB\",\n",
    "    \"NCNBCHB\",\n",
    "    \"NBCCNBBBCBHCB\",\n",
    "    \"NBBBCNCCNBBNBNBBCHBHHBCHB\",\n",
    "    \"NBBNBNBBCCNBCNCCNBBNBBNBBBNBBNBBCBHCBHHNHCBBCBHCB\",\n",
    "]\n",
    "\n",
    "for a in range(10):\n",
    "    p.run()\n",
    "    \n",
    "counts = Counter(list(p.seq)).values()\n",
    "part1 = max(counts) - min(counts)\n",
    "print(part1)\n",
    "\n",
    "#assert part1 == 2891\n"
   ]
  },
  {
   "cell_type": "code",
   "execution_count": null,
   "id": "6c31a543",
   "metadata": {},
   "outputs": [],
   "source": [
    "dict_values([865, 1749, 298, 161])"
   ]
  },
  {
   "cell_type": "code",
   "execution_count": 77,
   "id": "124fe8e4",
   "metadata": {},
   "outputs": [],
   "source": [
    "tjo = defaultdict(int)\n",
    "for pair, count in p.code_map.items():\n",
    "    first, second = pair[0], pair[1]\n",
    "    tjo[first] += count\n",
    "    tjo[second] += count"
   ]
  },
  {
   "cell_type": "code",
   "execution_count": 85,
   "id": "5afcf8d6",
   "metadata": {},
   "outputs": [
    {
     "data": {
      "text/plain": [
       "defaultdict(int, {'N': 1729, 'C': 596, 'B': 3497, 'H': 322})"
      ]
     },
     "execution_count": 85,
     "metadata": {},
     "output_type": "execute_result"
    }
   ],
   "source": [
    "tjo"
   ]
  },
  {
   "cell_type": "code",
   "execution_count": 86,
   "id": "9cede082",
   "metadata": {},
   "outputs": [
    {
     "data": {
      "text/plain": [
       "dict_values([1729, 596, 3497, 322])"
      ]
     },
     "execution_count": 86,
     "metadata": {},
     "output_type": "execute_result"
    }
   ],
   "source": [
    "values"
   ]
  },
  {
   "cell_type": "code",
   "execution_count": 81,
   "id": "a5c26cb1",
   "metadata": {},
   "outputs": [
    {
     "name": "stdout",
     "output_type": "stream",
     "text": [
      "3175\n"
     ]
    }
   ],
   "source": [
    "values = tjo.values()\n",
    "part1 = max(values) - min(values)\n",
    "print(part1)"
   ]
  }
 ],
 "metadata": {
  "kernelspec": {
   "display_name": "Python 3 (ipykernel)",
   "language": "python",
   "name": "python3"
  },
  "language_info": {
   "codemirror_mode": {
    "name": "ipython",
    "version": 3
   },
   "file_extension": ".py",
   "mimetype": "text/x-python",
   "name": "python",
   "nbconvert_exporter": "python",
   "pygments_lexer": "ipython3",
   "version": "3.8.10"
  }
 },
 "nbformat": 4,
 "nbformat_minor": 5
}
