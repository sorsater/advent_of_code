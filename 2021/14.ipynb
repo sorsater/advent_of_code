{
 "cells": [
  {
   "cell_type": "code",
   "execution_count": 1,
   "id": "e152f574",
   "metadata": {},
   "outputs": [],
   "source": [
    "from copy import deepcopy\n",
    "from collections import Counter, defaultdict"
   ]
  },
  {
   "cell_type": "code",
   "execution_count": 2,
   "id": "4c6a8e1f",
   "metadata": {},
   "outputs": [],
   "source": [
    "data = open(\"input/14.txt\").read().splitlines()"
   ]
  },
  {
   "cell_type": "markdown",
   "id": "3f3bf640",
   "metadata": {},
   "source": [
    "# Part 1"
   ]
  },
  {
   "cell_type": "code",
   "execution_count": 3,
   "id": "4ffff5cc",
   "metadata": {},
   "outputs": [],
   "source": [
    "class Poly:\n",
    "    def __init__(self, seq, codes):\n",
    "        self.seq = seq\n",
    "        self.codes = codes\n",
    "        \n",
    "    def run(self):\n",
    "        inserts = []\n",
    "        for code in self.codes:\n",
    "            first, second = code.split(' -> ')\n",
    "            for idx in range(len(self.seq) - 1):\n",
    "                chunk = self.seq[idx: idx + 2]\n",
    "                if chunk == first:\n",
    "                    inserts.append([idx, second])\n",
    "        for count, (idx, char) in enumerate(sorted(inserts)):\n",
    "            cur_idx = idx + count + 1\n",
    "            self.seq = self.seq[:cur_idx] + char + self.seq[cur_idx:]   "
   ]
  },
  {
   "cell_type": "code",
   "execution_count": 4,
   "id": "67f94db9",
   "metadata": {},
   "outputs": [],
   "source": [
    "p = Poly(data[0], data[2:])\n",
    "for _ in range(10):\n",
    "    p.run()"
   ]
  },
  {
   "cell_type": "code",
   "execution_count": 5,
   "id": "d64c30b8",
   "metadata": {},
   "outputs": [
    {
     "name": "stdout",
     "output_type": "stream",
     "text": [
      "Answer #1: 2891\n"
     ]
    }
   ],
   "source": [
    "counts = Counter(list(p.seq)).values()\n",
    "part1 = max(counts) - min(counts)\n",
    "print(f\"Answer #1: {part1}\")\n",
    "\n",
    "assert part1 == 2891"
   ]
  },
  {
   "cell_type": "markdown",
   "id": "06bd254b",
   "metadata": {},
   "source": [
    "# Part 2"
   ]
  },
  {
   "cell_type": "code",
   "execution_count": 6,
   "id": "e00e751a",
   "metadata": {},
   "outputs": [],
   "source": [
    "class SmartPoly:\n",
    "    def __init__(self, seq, codes):\n",
    "        self.seq = seq\n",
    "        self.codes = codes\n",
    "        self.code_map = defaultdict(int)\n",
    "        for idx in range(len(self.seq) - 1):\n",
    "            chunk = self.seq[idx: idx + 2]\n",
    "            self.code_map[chunk] += 1\n",
    "        \n",
    "        # We need to keep track of the start and end chunk\n",
    "        # In the end we multiply the occurrences by two,\n",
    "        # but the start/end value shouldn't be counted twice\n",
    "        self.start_chunk = self.seq[:2]\n",
    "        self.end_chunk = self.seq[-2:]\n",
    "        \n",
    "    def run(self):\n",
    "        changes = []\n",
    "        for code in self.codes:\n",
    "            first, second = code.split(' -> ')\n",
    "            count = self.code_map.get(first)\n",
    "            if not count:\n",
    "                continue\n",
    "            new1 = first[0] + second\n",
    "            new2 = second + first[1]\n",
    "            changes.append([new1, True, count])\n",
    "            changes.append([new2, True, count])\n",
    "            changes.append([first, False, count])\n",
    "            \n",
    "            # Update chunks\n",
    "            if self.start_chunk == first:\n",
    "                self.start_chunk = new1\n",
    "            if self.end_chunk == first:\n",
    "                self.end_cunk = new2\n",
    "            \n",
    "        for chunk, status, count in changes:\n",
    "            if status:\n",
    "                self.code_map[chunk] += count\n",
    "            else:\n",
    "                self.code_map[chunk] -= count"
   ]
  },
  {
   "cell_type": "code",
   "execution_count": 7,
   "id": "9062a841",
   "metadata": {},
   "outputs": [],
   "source": [
    "p = SmartPoly(data[0], data[2:])\n",
    "\n",
    "for _ in range(40):\n",
    "    p.run()"
   ]
  },
  {
   "cell_type": "code",
   "execution_count": 8,
   "id": "a2ff2382",
   "metadata": {},
   "outputs": [
    {
     "name": "stdout",
     "output_type": "stream",
     "text": [
      "Answer #2: 4607749009683\n"
     ]
    }
   ],
   "source": [
    "counts = defaultdict(int)\n",
    "for pair, count in p.code_map.items():\n",
    "    if count == 0:\n",
    "        continue\n",
    "    counts[pair[0]] += count\n",
    "    counts[pair[1]] += count\n",
    "    # Take the start/end into account\n",
    "    # because we count everything twice\n",
    "    # (and divide by two) add 1 extra\n",
    "    if pair == p.start_chunk:\n",
    "        counts[pair[0]] += 1\n",
    "    if pair == p.end_chunk:\n",
    "        counts[pair[1]] += 1\n",
    "\n",
    "res = [val // 2 for val in counts.values()]\n",
    "part2 = max(res) - min(res)\n",
    "print(f\"Answer #2: {part2}\")\n",
    "\n",
    "assert part2 == 4607749009683"
   ]
  }
 ],
 "metadata": {
  "kernelspec": {
   "display_name": "Python 3 (ipykernel)",
   "language": "python",
   "name": "python3"
  },
  "language_info": {
   "codemirror_mode": {
    "name": "ipython",
    "version": 3
   },
   "file_extension": ".py",
   "mimetype": "text/x-python",
   "name": "python",
   "nbconvert_exporter": "python",
   "pygments_lexer": "ipython3",
   "version": "3.9.6"
  }
 },
 "nbformat": 4,
 "nbformat_minor": 5
}
