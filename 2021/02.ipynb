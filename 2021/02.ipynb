{
 "cells": [
  {
   "cell_type": "code",
   "execution_count": 1,
   "id": "2094d3db-61c7-40c0-9a27-716448b252a8",
   "metadata": {},
   "outputs": [],
   "source": [
    "data = open(\"input/02\").read().splitlines()"
   ]
  },
  {
   "cell_type": "code",
   "execution_count": 2,
   "id": "dc3001a9-0dc8-48eb-982a-137e49ba2c79",
   "metadata": {},
   "outputs": [],
   "source": [
    "horizontal_1, depth_1 = 0, 0\n",
    "aim = 0\n",
    "horizontal_2, depth_2 = 0, 0\n",
    "for line in data:\n",
    "    command, number = line.split(\" \")\n",
    "    number = int(number)\n",
    "    if command == \"forward\":\n",
    "        horizontal_1 += number\n",
    "        horizontal_2 += number\n",
    "        depth_2 += aim * number\n",
    "    elif command == \"down\":\n",
    "        depth_1 += number\n",
    "        aim += number\n",
    "    elif command == \"up\":\n",
    "        depth_1 -= number\n",
    "        aim -= number"
   ]
  },
  {
   "cell_type": "code",
   "execution_count": 3,
   "id": "afc9e27f-f3c0-4bee-80ae-5eccf3c75cab",
   "metadata": {},
   "outputs": [
    {
     "name": "stdout",
     "output_type": "stream",
     "text": [
      "Answer #1: 1250395\n"
     ]
    }
   ],
   "source": [
    "print(f\"Answer #1: {horizontal_1 * depth_1}\")"
   ]
  },
  {
   "cell_type": "code",
   "execution_count": 4,
   "id": "5d9305b3-e59b-4141-a5d0-5b8337462ec9",
   "metadata": {},
   "outputs": [
    {
     "name": "stdout",
     "output_type": "stream",
     "text": [
      "Answer #2: 1451210346\n"
     ]
    }
   ],
   "source": [
    "print(f\"Answer #2: {horizontal_2 * depth_2}\")"
   ]
  }
 ],
 "metadata": {
  "kernelspec": {
   "display_name": "Python 3 (ipykernel)",
   "language": "python",
   "name": "python3"
  },
  "language_info": {
   "codemirror_mode": {
    "name": "ipython",
    "version": 3
   },
   "file_extension": ".py",
   "mimetype": "text/x-python",
   "name": "python",
   "nbconvert_exporter": "python",
   "pygments_lexer": "ipython3",
   "version": "3.9.6"
  }
 },
 "nbformat": 4,
 "nbformat_minor": 5
}
