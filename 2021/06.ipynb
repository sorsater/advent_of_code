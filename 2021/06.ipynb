{
 "cells": [
  {
   "cell_type": "code",
   "execution_count": 1,
   "id": "d418673f-3291-4ece-91a3-92f56b8b296f",
   "metadata": {},
   "outputs": [],
   "source": [
    "from collections import defaultdict"
   ]
  },
  {
   "cell_type": "code",
   "execution_count": 2,
   "id": "dbd39d72-c5ff-476d-9330-e7171d1097d6",
   "metadata": {},
   "outputs": [],
   "source": [
    "data = open(\"input/06\").read()"
   ]
  },
  {
   "cell_type": "code",
   "execution_count": 3,
   "id": "5625ce22-6293-40f0-92ce-dfa5d7fb48de",
   "metadata": {},
   "outputs": [],
   "source": [
    "nums = list(map(int, data.split(\",\")))"
   ]
  },
  {
   "cell_type": "code",
   "execution_count": 4,
   "id": "e8e996fb-d698-45d6-b2ac-fa5c969a1d87",
   "metadata": {},
   "outputs": [],
   "source": [
    "count = defaultdict(int)\n",
    "for num in nums:\n",
    "    count[num] += 1"
   ]
  },
  {
   "cell_type": "code",
   "execution_count": 5,
   "id": "1d5a0cc6-912c-4888-b420-e2ca90ff40e2",
   "metadata": {},
   "outputs": [],
   "source": [
    "for i in range(256):\n",
    "    new_count = defaultdict(int)\n",
    "    for num, c in count.items():\n",
    "        if num == 0:\n",
    "            new_count[6] += c\n",
    "            new_count[8] += c\n",
    "        else:\n",
    "            new_count[num - 1] += c\n",
    "    count = new_count\n",
    "    if i == 79:\n",
    "        part1 = sum(count.values())"
   ]
  },
  {
   "cell_type": "code",
   "execution_count": 6,
   "id": "8b29bce5-d28e-48d3-82f1-d6d53b86a964",
   "metadata": {},
   "outputs": [
    {
     "name": "stdout",
     "output_type": "stream",
     "text": [
      "Answer #1: 354564\n"
     ]
    }
   ],
   "source": [
    "print(f\"Answer #1: {part1}\")"
   ]
  },
  {
   "cell_type": "code",
   "execution_count": 7,
   "id": "fc380a86-b75b-4d61-b752-003831d508e8",
   "metadata": {},
   "outputs": [],
   "source": [
    "part2 = sum(count.values())"
   ]
  },
  {
   "cell_type": "code",
   "execution_count": 8,
   "id": "9e40cd96-302a-485f-8e27-757325202910",
   "metadata": {},
   "outputs": [
    {
     "name": "stdout",
     "output_type": "stream",
     "text": [
      "Answer #2: 1609058859115\n"
     ]
    }
   ],
   "source": [
    "print(f\"Answer #2: {part2}\")"
   ]
  }
 ],
 "metadata": {
  "kernelspec": {
   "display_name": "Python 3 (ipykernel)",
   "language": "python",
   "name": "python3"
  },
  "language_info": {
   "codemirror_mode": {
    "name": "ipython",
    "version": 3
   },
   "file_extension": ".py",
   "mimetype": "text/x-python",
   "name": "python",
   "nbconvert_exporter": "python",
   "pygments_lexer": "ipython3",
   "version": "3.9.6"
  }
 },
 "nbformat": 4,
 "nbformat_minor": 5
}
