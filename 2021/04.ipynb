{
 "cells": [
  {
   "cell_type": "code",
   "execution_count": 1,
   "id": "5f6b6f86-399a-422a-b4be-5601b1a1d374",
   "metadata": {},
   "outputs": [],
   "source": [
    "data = open(\"input/04\").read()"
   ]
  },
  {
   "cell_type": "code",
   "execution_count": 2,
   "id": "6d487e4f-2aea-4d57-9261-ccf90e8b6586",
   "metadata": {},
   "outputs": [],
   "source": [
    "parts = data.split(\"\\n\\n\")\n",
    "numbers, raw_boards = parts[0], parts[1:]"
   ]
  },
  {
   "cell_type": "code",
   "execution_count": 3,
   "id": "83be0a07-2cd9-43ad-8752-ec42fbbf883a",
   "metadata": {},
   "outputs": [],
   "source": [
    "numbers = list(map(int, numbers.split(\",\")))"
   ]
  },
  {
   "cell_type": "code",
   "execution_count": 4,
   "id": "36be5df6-fbf1-458c-9ffb-8e9297f88300",
   "metadata": {},
   "outputs": [],
   "source": [
    "boards = []\n",
    "for board in raw_boards:\n",
    "    b = {}\n",
    "    for r, row in enumerate(board.split(\"\\n\")):\n",
    "        c = 0\n",
    "        for val in row.split(\" \"):\n",
    "            if not val:\n",
    "                continue\n",
    "            b[(r, c)] = [int(val.strip()), False]\n",
    "            c += 1\n",
    "    boards.append(b)"
   ]
  },
  {
   "cell_type": "code",
   "execution_count": 5,
   "id": "b8f11c4c-0905-42e4-b66f-9fff99ed110d",
   "metadata": {},
   "outputs": [],
   "source": [
    "def mark_number(number):\n",
    "    for board in boards:\n",
    "        for key, val in board.items():\n",
    "            if number == val[0]:\n",
    "                board[key][1] = True"
   ]
  },
  {
   "cell_type": "code",
   "execution_count": 6,
   "id": "b8fd9f95-3f4a-4ff0-85bd-8b67acf6ff26",
   "metadata": {},
   "outputs": [],
   "source": [
    "def check_winner_board(board_idx):\n",
    "    board = boards[board_idx]\n",
    "    winner = False\n",
    "    for row in range(5):\n",
    "        res1 = []\n",
    "        res2 = []\n",
    "        for col in range(5):\n",
    "            res1.append(board[(row, col)][1])\n",
    "            res2.append(board[(col, row)][1])\n",
    "        if sum(res1) == 5 or sum(res2) == 5:\n",
    "            unmarked = 0\n",
    "            for val in board.values():\n",
    "                if val[1] == False:\n",
    "                    unmarked += val[0]\n",
    "            return unmarked"
   ]
  },
  {
   "cell_type": "code",
   "execution_count": 7,
   "id": "0b670911-fa36-45eb-a75a-afbc1e7f9246",
   "metadata": {},
   "outputs": [],
   "source": [
    "def check_winner_part1():\n",
    "    for board_idx in range(len(boards)):\n",
    "        res = check_winner_board(board_idx)\n",
    "        if res:\n",
    "            return res"
   ]
  },
  {
   "cell_type": "code",
   "execution_count": 8,
   "id": "8043e6e6-4926-4113-98f9-32ae07b96e4e",
   "metadata": {},
   "outputs": [],
   "source": [
    "all_done_idx = set()\n",
    "def check_winner_part2():\n",
    "    for board_idx in range(len(boards)):\n",
    "        if board_idx in all_done_idx:\n",
    "            continue\n",
    "        res = check_winner_board(board_idx)\n",
    "        if res:\n",
    "            all_done_idx.add(board_idx)\n",
    "            if len(all_done_idx) == len(boards):\n",
    "                return res"
   ]
  },
  {
   "cell_type": "code",
   "execution_count": 9,
   "id": "03298ec0-5e45-4cf1-a46b-c28490eeae42",
   "metadata": {},
   "outputs": [],
   "source": [
    "part1 = None\n",
    "for number in numbers:\n",
    "    mark_number(number)\n",
    "    res = check_winner_part1()\n",
    "    if res is not None and part1 is None:\n",
    "        part1 = number * res\n",
    "    res = check_winner_part2()\n",
    "    if isinstance(res, int):\n",
    "        part2 = number * res\n",
    "        break"
   ]
  },
  {
   "cell_type": "code",
   "execution_count": 10,
   "id": "9fc6eedd-57a4-40f8-b615-aedf70d2cc96",
   "metadata": {},
   "outputs": [
    {
     "name": "stdout",
     "output_type": "stream",
     "text": [
      "Answer #1: 16674\n"
     ]
    }
   ],
   "source": [
    "print(f\"Answer #1: {part1}\")"
   ]
  },
  {
   "cell_type": "code",
   "execution_count": 11,
   "id": "6a104728-4f78-4420-a9ef-bc8395d8cfe2",
   "metadata": {},
   "outputs": [
    {
     "name": "stdout",
     "output_type": "stream",
     "text": [
      "Answer #2: 7075\n"
     ]
    }
   ],
   "source": [
    "print(f\"Answer #2: {part2}\")"
   ]
  }
 ],
 "metadata": {
  "kernelspec": {
   "display_name": "Python 3 (ipykernel)",
   "language": "python",
   "name": "python3"
  },
  "language_info": {
   "codemirror_mode": {
    "name": "ipython",
    "version": 3
   },
   "file_extension": ".py",
   "mimetype": "text/x-python",
   "name": "python",
   "nbconvert_exporter": "python",
   "pygments_lexer": "ipython3",
   "version": "3.9.6"
  }
 },
 "nbformat": 4,
 "nbformat_minor": 5
}
