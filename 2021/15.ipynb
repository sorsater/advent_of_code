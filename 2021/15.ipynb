{
 "cells": [
  {
   "cell_type": "code",
   "execution_count": 5,
   "id": "53597237",
   "metadata": {},
   "outputs": [],
   "source": [
    "from queue import PriorityQueue"
   ]
  },
  {
   "cell_type": "code",
   "execution_count": 15,
   "id": "59f8cb6f",
   "metadata": {},
   "outputs": [],
   "source": [
    "data = open(\"input/15.txt\").read().splitlines()"
   ]
  },
  {
   "cell_type": "code",
   "execution_count": 7,
   "id": "3bfea5cb",
   "metadata": {},
   "outputs": [],
   "source": [
    "def h(node1, node2):\n",
    "    return abs(node1[0] - node2[0]) + abs(node1[1] - node2[1])\n",
    "    \n",
    "class Cave_hej:\n",
    "    def __init__(self, data):\n",
    "        self.grid = {}\n",
    "        self.q = PriorityQueue()\n",
    "        \n",
    "        self.g_scores = {}\n",
    "        self.f_scores = {}\n",
    "        self.start = (0, 0)\n",
    "        self.goal = (len(data) - 1, len(data[0]) - 1)\n",
    "        \n",
    "        for r_idx, row in enumerate(data):\n",
    "            for c_idx, elem in enumerate(row):\n",
    "                self.grid[tuple((r_idx, c_idx))] = int(elem)\n",
    "        \n",
    "        for pos in self.grid:\n",
    "            self.g_scores[pos] = float(\"inf\")\n",
    "            self.f_scores[pos] = float(\"inf\")\n",
    "        self.g_scores[self.start] = 0\n",
    "        self.f_scores[self.start] = h(self.start, self.goal)\n",
    "        \n",
    "        self.q.put((h(self.start, self.goal), h(self.start, self.goal), self.start))\n",
    "        \n",
    "        self.p = {}\n",
    "\n",
    "    def run(self):\n",
    "        while not self.q.empty():\n",
    "            current = self.q.get()\n",
    "            pos = current[2]\n",
    "            if pos == self.goal:\n",
    "                return self.f_scores[self.goal]\n",
    "            for p in [[1, 0], [-1, 0], [0, 1], [0, -1]]:\n",
    "                new_pos = (pos[0] + p[0], pos[1] + p[1])\n",
    "                if new_pos not in self.grid:\n",
    "                    continue\n",
    "                \n",
    "                cost = self.grid[new_pos]\n",
    "                \n",
    "                temp_g_score = self.g_scores[pos] + cost\n",
    "                temp_f_score = temp_g_score + h(new_pos, self.goal)\n",
    "\n",
    "                if temp_f_score < self.f_scores[new_pos]:\n",
    "                    self.g_scores[new_pos] = temp_g_score\n",
    "                    self.f_scores[new_pos] = temp_f_score\n",
    "\n",
    "                    self.q.put((temp_f_score, h(new_pos, self.goal), new_pos))\n",
    "                    self.p[new_pos] = pos"
   ]
  },
  {
   "cell_type": "markdown",
   "id": "66ba70fe",
   "metadata": {},
   "source": [
    "# Part 1"
   ]
  },
  {
   "cell_type": "code",
   "execution_count": 8,
   "id": "243205a1",
   "metadata": {},
   "outputs": [
    {
     "name": "stdout",
     "output_type": "stream",
     "text": [
      "40\n"
     ]
    }
   ],
   "source": [
    "c = Cave_hej(data)\n",
    "part1 = c.run()\n",
    "print(part1)"
   ]
  },
  {
   "cell_type": "markdown",
   "id": "e1894ad8",
   "metadata": {},
   "source": [
    "# Part 2"
   ]
  },
  {
   "cell_type": "code",
   "execution_count": 17,
   "id": "c2fe2dc9",
   "metadata": {},
   "outputs": [
    {
     "name": "stdout",
     "output_type": "stream",
     "text": [
      "1\n",
      "1\n",
      "6\n",
      "3\n",
      "7\n",
      "5\n",
      "1\n",
      "7\n",
      "4\n",
      "2\n",
      "2\n",
      "2\n",
      "1\n",
      "6\n",
      "1\n",
      "1\n",
      "2\n",
      "1\n",
      "8\n",
      "4\n",
      "3\n",
      "3\n",
      "1\n",
      "9\n",
      "1\n",
      "1\n",
      "3\n",
      "1\n",
      "1\n",
      "6\n",
      "4\n",
      "4\n",
      "1\n",
      "1\n",
      "1\n",
      "1\n",
      "4\n",
      "1\n",
      "1\n",
      "8\n",
      "5\n",
      "5\n",
      "1\n",
      "1\n",
      "1\n",
      "1\n",
      "5\n",
      "1\n",
      "1\n",
      "1\n",
      "None\n"
     ]
    }
   ],
   "source": [
    "def process_map(data):\n",
    "    new_map = []\n",
    "    next_tile = []\n",
    "    for i in range(1, 6):\n",
    "        for line in data:\n",
    "            for elem in line:\n",
    "                elem = int(elem)\n",
    "                new_elem = elem * i\n",
    "                if new_elem > 9:\n",
    "                    new_elem = 1\n",
    "                print(new_elem)\n",
    "            break\n",
    "            \n",
    "datas = process_map(data)\n",
    "print(datas)"
   ]
  }
 ],
 "metadata": {
  "kernelspec": {
   "display_name": "Python 3 (ipykernel)",
   "language": "python",
   "name": "python3"
  },
  "language_info": {
   "codemirror_mode": {
    "name": "ipython",
    "version": 3
   },
   "file_extension": ".py",
   "mimetype": "text/x-python",
   "name": "python",
   "nbconvert_exporter": "python",
   "pygments_lexer": "ipython3",
   "version": "3.8.10"
  }
 },
 "nbformat": 4,
 "nbformat_minor": 5
}
