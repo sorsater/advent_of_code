{
 "cells": [
  {
   "cell_type": "code",
   "execution_count": 1,
   "metadata": {},
   "outputs": [],
   "source": [
    "from queue import PriorityQueue"
   ]
  },
  {
   "cell_type": "code",
   "execution_count": 2,
   "metadata": {},
   "outputs": [],
   "source": [
    "data = open(\"input/15.txt\").read().splitlines()"
   ]
  },
  {
   "cell_type": "code",
   "execution_count": 3,
   "metadata": {},
   "outputs": [],
   "source": [
    "class Cave:\n",
    "    def __init__(self, data):\n",
    "        self.grid = {}\n",
    "        self.q = PriorityQueue()\n",
    "        \n",
    "        self.g_scores = {}\n",
    "        self.f_scores = {}\n",
    "        self.start = (0, 0)\n",
    "        \n",
    "        for r_idx, row in enumerate(data):\n",
    "            for c_idx, elem in enumerate(row):\n",
    "                self.grid[tuple((r_idx, c_idx))] = int(elem)\n",
    "        \n",
    "        self.goal = (len(data) - 1, len(data) - 1)\n",
    "\n",
    "    def populate_data(self, grid):\n",
    "        self.grid = grid\n",
    "        for pos in self.grid:\n",
    "            self.g_scores[pos] = float(\"inf\")\n",
    "            self.f_scores[pos] = float(\"inf\")\n",
    "            \n",
    "        self.g_scores[self.start] = 0\n",
    "        self.f_scores[self.start] = self.h(self.start, self.goal)\n",
    "        self.q.put((self.h(self.start, self.goal), self.start))\n",
    "        \n",
    "    def h(self, node1, node2):\n",
    "        return abs(node1[0] - node2[0]) + abs(node1[1] - node2[1])\n",
    "\n",
    "    def run(self):\n",
    "        while not self.q.empty():\n",
    "            current = self.q.get()\n",
    "            pos = current[1]\n",
    "            if pos == self.goal:\n",
    "                return self.f_scores[self.goal]\n",
    "            for p in [[1, 0], [-1, 0], [0, 1], [0, -1]]:\n",
    "                new_pos = (pos[0] + p[0], pos[1] + p[1])\n",
    "                if new_pos not in self.grid:\n",
    "                    continue\n",
    "                \n",
    "                g = self.g_scores[pos] + self.grid[new_pos]\n",
    "                h = self.h(new_pos, self.goal)\n",
    "                f = g + h\n",
    "\n",
    "                if f < self.f_scores[new_pos]:\n",
    "                    self.g_scores[new_pos] = g\n",
    "                    self.f_scores[new_pos] = f\n",
    "\n",
    "                    self.q.put((f, new_pos))"
   ]
  },
  {
   "cell_type": "markdown",
   "metadata": {},
   "source": [
    "# Part 1"
   ]
  },
  {
   "cell_type": "code",
   "execution_count": 4,
   "metadata": {},
   "outputs": [
    {
     "name": "stdout",
     "output_type": "stream",
     "text": [
      "696\n"
     ]
    }
   ],
   "source": [
    "c = Cave(data)\n",
    "c.populate_data(c.grid)\n",
    "part1 = c.run()\n",
    "print(part1)\n",
    "\n",
    "assert part1 == 696"
   ]
  },
  {
   "cell_type": "markdown",
   "metadata": {},
   "source": [
    "# Part 2"
   ]
  },
  {
   "cell_type": "code",
   "execution_count": 5,
   "metadata": {},
   "outputs": [],
   "source": [
    "def process_map(cave, map_size):\n",
    "    new_grid = {}\n",
    "    for row in range((cave.goal[0] + 1) * 5):\n",
    "        for col in range((cave.goal[1] + 1) * 5):\n",
    "            if (row, col) in cave.grid:\n",
    "                new_grid[(row, col)] = cave.grid[(row, col)]\n",
    "                continue\n",
    "            num_to_add = row // map_size + col // map_size\n",
    "            new_val = cave.grid[(row % map_size, col % map_size)] + num_to_add\n",
    "            new_val = new_val if new_val <= 9 else new_val - 9\n",
    "            new_grid[(row, col)] = new_val\n",
    "    return new_grid"
   ]
  },
  {
   "cell_type": "code",
   "execution_count": 6,
   "metadata": {},
   "outputs": [
    {
     "name": "stdout",
     "output_type": "stream",
     "text": [
      "2952\n",
      "CPU times: user 4.91 s, sys: 55.3 ms, total: 4.97 s\n",
      "Wall time: 4.97 s\n"
     ]
    }
   ],
   "source": [
    "%%time\n",
    "c = Cave(data)\n",
    "new_grid = process_map(c, len(data))\n",
    "c.populate_data(new_grid)\n",
    "c.goal = (499, 499)\n",
    "part2 = c.run()\n",
    "print(part2)\n",
    "\n",
    "assert part2 == 2952"
   ]
  }
 ],
 "metadata": {
  "kernelspec": {
   "display_name": "Python 3",
   "language": "python",
   "name": "python3"
  },
  "language_info": {
   "codemirror_mode": {
    "name": "ipython",
    "version": 3
   },
   "file_extension": ".py",
   "mimetype": "text/x-python",
   "name": "python",
   "nbconvert_exporter": "python",
   "pygments_lexer": "ipython3",
   "version": "3.8.10"
  }
 },
 "nbformat": 4,
 "nbformat_minor": 5
}
