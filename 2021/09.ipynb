{
 "cells": [
  {
   "cell_type": "code",
   "execution_count": 1,
   "id": "39ebfc35-5fca-48a3-b4bd-093ed6b6b494",
   "metadata": {},
   "outputs": [],
   "source": [
    "from functools import reduce"
   ]
  },
  {
   "cell_type": "code",
   "execution_count": 2,
   "id": "fea99503-897d-482b-badb-e31714118637",
   "metadata": {},
   "outputs": [],
   "source": [
    "data = open(\"input/09\").read().splitlines()"
   ]
  },
  {
   "cell_type": "code",
   "execution_count": 3,
   "id": "0ef0d03e-5d3a-4904-a806-8d7f9ce83f5d",
   "metadata": {},
   "outputs": [],
   "source": [
    "grid = {}\n",
    "for r, row in enumerate(data):\n",
    "    for c, elem in enumerate(row):\n",
    "        grid[(r, c)] = int(elem)"
   ]
  },
  {
   "cell_type": "code",
   "execution_count": 4,
   "id": "5aa6a9d0-82ba-4cda-a622-07cb67242918",
   "metadata": {},
   "outputs": [],
   "source": [
    "neighs = [(0, 1), (0, -1), (1, 0), (-1, 0)]"
   ]
  },
  {
   "cell_type": "code",
   "execution_count": 5,
   "id": "ae302745-d67f-4f78-becd-5d2cb8e95a31",
   "metadata": {},
   "outputs": [],
   "source": [
    "part1 = 0\n",
    "for pos, val in grid.items():\n",
    "    for n in neighs:\n",
    "        new_pos = (pos[0] + n[0], pos[1] + n[1])\n",
    "        if new_pos not in grid:\n",
    "            continue\n",
    "        if grid[new_pos] <= val:\n",
    "            break\n",
    "    else:\n",
    "        part1 += val + 1    "
   ]
  },
  {
   "cell_type": "code",
   "execution_count": 6,
   "id": "e2c3881a-ec1a-4c08-b2ed-13c2160a64cc",
   "metadata": {},
   "outputs": [
    {
     "name": "stdout",
     "output_type": "stream",
     "text": [
      "Answer #1: 603\n"
     ]
    }
   ],
   "source": [
    "print(f\"Answer #1: {part1}\")"
   ]
  },
  {
   "cell_type": "markdown",
   "id": "5bc50e87-bdeb-4794-a9c0-179605af05c3",
   "metadata": {},
   "source": [
    "# Part 2"
   ]
  },
  {
   "cell_type": "code",
   "execution_count": 7,
   "id": "23dd4a27-23a0-46d9-a8db-52f85c40543c",
   "metadata": {},
   "outputs": [],
   "source": [
    "def search(pos):\n",
    "    visited = set()\n",
    "    q = [pos]\n",
    "    while q:\n",
    "        cur = q.pop()\n",
    "        if cur in visited:\n",
    "            continue\n",
    "        visited.add(cur)\n",
    "        for n in neighs:\n",
    "            new_pos = (cur[0] + n[0], cur[1] + n[1])\n",
    "            if new_pos not in grid:\n",
    "                continue\n",
    "            val = grid[new_pos]\n",
    "            if val == 9:\n",
    "                continue\n",
    "            q.append(new_pos)\n",
    "\n",
    "    return visited\n",
    "    "
   ]
  },
  {
   "cell_type": "code",
   "execution_count": 8,
   "id": "11c1a2ec-3e62-4ac3-9ba8-2a4cff7756f4",
   "metadata": {},
   "outputs": [],
   "source": [
    "basins = []\n",
    "already_checked = set()\n",
    "for pos, val in grid.items():\n",
    "    if val == 9:\n",
    "        continue\n",
    "    if pos in already_checked:\n",
    "        continue\n",
    "    vis = search(pos)\n",
    "    basins.append(len(vis))\n",
    "    already_checked |= vis"
   ]
  },
  {
   "cell_type": "code",
   "execution_count": 9,
   "id": "5aa8d286-9ed6-4f8c-b6e5-39afab7ce2a8",
   "metadata": {},
   "outputs": [
    {
     "name": "stdout",
     "output_type": "stream",
     "text": [
      "Answer #2: 786780\n"
     ]
    }
   ],
   "source": [
    "part2 = reduce(lambda x, y: x * y, sorted(basins)[-3:])\n",
    "print(f\"Answer #2: {part2}\")"
   ]
  }
 ],
 "metadata": {
  "kernelspec": {
   "display_name": "Python 3 (ipykernel)",
   "language": "python",
   "name": "python3"
  },
  "language_info": {
   "codemirror_mode": {
    "name": "ipython",
    "version": 3
   },
   "file_extension": ".py",
   "mimetype": "text/x-python",
   "name": "python",
   "nbconvert_exporter": "python",
   "pygments_lexer": "ipython3",
   "version": "3.9.6"
  }
 },
 "nbformat": 4,
 "nbformat_minor": 5
}
