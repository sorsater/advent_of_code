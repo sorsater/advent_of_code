{
 "cells": [
  {
   "cell_type": "code",
   "execution_count": 1,
   "id": "1274a82f-7448-424f-a04d-0c249b037dbb",
   "metadata": {},
   "outputs": [],
   "source": [
    "# First char in algorithm is \"on\" which means everything in the \"infinity\" turns on every odd tick\n",
    "# Handle by:\n",
    "#  * every even turn, store the on\n",
    "#  * every odd turn, store the off"
   ]
  },
  {
   "cell_type": "code",
   "execution_count": 2,
   "id": "e4b9268c-0e92-41cf-8221-493ca5f1ccf1",
   "metadata": {},
   "outputs": [],
   "source": [
    "from tqdm.notebook import tqdm"
   ]
  },
  {
   "cell_type": "code",
   "execution_count": 3,
   "id": "bfd0f921-f11a-468a-b9f2-d8bd58f53010",
   "metadata": {},
   "outputs": [],
   "source": [
    "data = open(\"input/20\").read()"
   ]
  },
  {
   "cell_type": "code",
   "execution_count": 4,
   "id": "f0b8583a-5186-4171-a5e1-aa5700fe6358",
   "metadata": {},
   "outputs": [],
   "source": [
    "algo, data = data.split(\"\\n\\n\")\n",
    "algo = list(map(int, algo.replace(\"#\", \"1\").replace(\".\", \"0\")))"
   ]
  },
  {
   "cell_type": "code",
   "execution_count": 5,
   "id": "0d2a38fd-c43a-42e5-9163-1ac0e6490791",
   "metadata": {},
   "outputs": [],
   "source": [
    "grid = set()\n",
    "for r, row in enumerate(data.split(\"\\n\")):\n",
    "    for c, elem in enumerate(row):\n",
    "        if elem == \"#\":\n",
    "            grid.add((r, c))"
   ]
  },
  {
   "cell_type": "code",
   "execution_count": 6,
   "id": "e78a8ba5-6af1-4b4b-9b6f-5d5c2f6e3737",
   "metadata": {},
   "outputs": [],
   "source": [
    "d = [\n",
    "    (-1, -1), (-1, 0), (-1, 1),\n",
    "    (0, -1), (0, 0), (0, 1),\n",
    "    (1, -1), (1, 0), (1, 1),\n",
    "] "
   ]
  },
  {
   "cell_type": "code",
   "execution_count": 7,
   "id": "b3a08b00-8846-4644-94e4-1235f29757f6",
   "metadata": {},
   "outputs": [],
   "source": [
    "def get_candidates(g):\n",
    "    rs, cs = [], []\n",
    "    for r, c in g:\n",
    "        rs.append(r)\n",
    "        cs.append(c)\n",
    "    cands = set()\n",
    "    for r in range(min(rs) - 1, max(rs) + 2):\n",
    "        for c in range(min(cs) - 1, max(cs) + 2):\n",
    "            cands.add((r, c))\n",
    "    return cands"
   ]
  },
  {
   "cell_type": "code",
   "execution_count": 8,
   "id": "e1682db7-45d9-4fc5-bdd2-ed94355abb1c",
   "metadata": {},
   "outputs": [],
   "source": [
    "def iterate(g, on_turn: bool):   \n",
    "    cands = get_candidates(g)\n",
    "    new_grid = set()\n",
    "    for pos in cands:\n",
    "        algo_idx = 0\n",
    "        for idx, n in enumerate(d):\n",
    "            new_pos = (pos[0] + n[0], pos[1] + n[1])\n",
    "            if (new_pos in g) == on_turn:            \n",
    "                algo_idx += 2**(8-idx)\n",
    "                \n",
    "        new_val = algo[algo_idx]\n",
    "        if (new_val == 1) != on_turn:\n",
    "            new_grid.add(pos)\n",
    "        \n",
    "    return new_grid\n"
   ]
  },
  {
   "cell_type": "code",
   "execution_count": 9,
   "id": "ee06c68a-89ac-4ec1-b5d1-7089c227b974",
   "metadata": {},
   "outputs": [
    {
     "data": {
      "application/vnd.jupyter.widget-view+json": {
       "model_id": "8e93021babfd4e899e0b55e87eb90731",
       "version_major": 2,
       "version_minor": 0
      },
      "text/plain": [
       "  0%|          | 0/50 [00:00<?, ?it/s]"
      ]
     },
     "metadata": {},
     "output_type": "display_data"
    }
   ],
   "source": [
    "for i in tqdm(range(50)):\n",
    "    grid = iterate(grid, i%2==0)\n",
    "    if i == 1:\n",
    "        part1 = len(grid)"
   ]
  },
  {
   "cell_type": "code",
   "execution_count": 10,
   "id": "34338614-701b-4739-a81f-a40790e1b41f",
   "metadata": {},
   "outputs": [
    {
     "name": "stdout",
     "output_type": "stream",
     "text": [
      "Answer #1: 5081\n"
     ]
    }
   ],
   "source": [
    "print(f\"Answer #1: {part1}\")"
   ]
  },
  {
   "cell_type": "code",
   "execution_count": 11,
   "id": "4352ff28-3499-4153-8b41-9a33c94ffda9",
   "metadata": {},
   "outputs": [
    {
     "name": "stdout",
     "output_type": "stream",
     "text": [
      "Answer #2: 15088\n"
     ]
    }
   ],
   "source": [
    "print(f\"Answer #2: {len(grid)}\")"
   ]
  }
 ],
 "metadata": {
  "kernelspec": {
   "display_name": "Python 3 (ipykernel)",
   "language": "python",
   "name": "python3"
  },
  "language_info": {
   "codemirror_mode": {
    "name": "ipython",
    "version": 3
   },
   "file_extension": ".py",
   "mimetype": "text/x-python",
   "name": "python",
   "nbconvert_exporter": "python",
   "pygments_lexer": "ipython3",
   "version": "3.9.6"
  }
 },
 "nbformat": 4,
 "nbformat_minor": 5
}
