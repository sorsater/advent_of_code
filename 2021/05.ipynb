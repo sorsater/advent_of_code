{
 "cells": [
  {
   "cell_type": "code",
   "execution_count": 1,
   "id": "45eaee57-bed4-485a-a747-76ef806eb57b",
   "metadata": {},
   "outputs": [],
   "source": [
    "import re\n",
    "from collections import defaultdict"
   ]
  },
  {
   "cell_type": "code",
   "execution_count": 2,
   "id": "c21ed69a-be41-4087-ba11-22abf8086bb3",
   "metadata": {},
   "outputs": [],
   "source": [
    "data = open(\"input/05\").read().splitlines()"
   ]
  },
  {
   "cell_type": "code",
   "execution_count": 3,
   "id": "65e9dfe6-417f-4e3c-a650-d03af8d67515",
   "metadata": {},
   "outputs": [],
   "source": [
    "pattern = r\"(\\d+),(\\d+) -> (\\d+),(\\d+)\""
   ]
  },
  {
   "cell_type": "code",
   "execution_count": 4,
   "id": "29c0be74-66e1-42a9-9601-79c79ea118aa",
   "metadata": {},
   "outputs": [],
   "source": [
    "lines = []\n",
    "for line in data:\n",
    "    lines.append(list(map(int, re.match(pattern, line).groups())))"
   ]
  },
  {
   "cell_type": "code",
   "execution_count": 5,
   "id": "69e76185-68eb-4870-85bf-75b641b69c5f",
   "metadata": {},
   "outputs": [],
   "source": [
    "sub_lines = []\n",
    "for line in lines:\n",
    "    if line[0] == line[2] or line[1] == line[3]:\n",
    "        sub_lines.append(line)"
   ]
  },
  {
   "cell_type": "code",
   "execution_count": 6,
   "id": "053f23b9-ab6f-4173-8060-75c5fc9b88c8",
   "metadata": {},
   "outputs": [],
   "source": [
    "grid = defaultdict(int)"
   ]
  },
  {
   "cell_type": "code",
   "execution_count": 7,
   "id": "cb232783-efd8-453f-a897-b8163198b64e",
   "metadata": {},
   "outputs": [],
   "source": [
    "def draw_line_simple(line):\n",
    "    xs = [line[0], line[2]]\n",
    "    ys = [line[1], line[3]]\n",
    "    for x in range(min(xs), max(xs) + 1):\n",
    "        for y in range(min(ys), max(ys) + 1):\n",
    "            grid[(x, y)] += 1"
   ]
  },
  {
   "cell_type": "code",
   "execution_count": 8,
   "id": "71360416-80db-4f74-9be1-b5ce5e594ea2",
   "metadata": {},
   "outputs": [],
   "source": [
    "def draw_line_advanced(line):\n",
    "    len = abs(line[2] - line[0])\n",
    "   \n",
    "    step1 = 1 if line[2] > line[0] else -1\n",
    "    step2 = 1 if line[3] > line[1] else -1\n",
    "    x, y = line[0], line[1]\n",
    "    for i in range(len + 1):\n",
    "        grid[(x, y)] += 1\n",
    "        x += step1\n",
    "        y += step2"
   ]
  },
  {
   "cell_type": "code",
   "execution_count": 9,
   "id": "74792ab5-7ebc-4aad-93bf-526184b83fd2",
   "metadata": {},
   "outputs": [],
   "source": [
    "for line in lines:\n",
    "    if line in sub_lines:\n",
    "        draw_line_simple(line)"
   ]
  },
  {
   "cell_type": "code",
   "execution_count": 10,
   "id": "424482b7-0ec0-4ad4-b976-54350e59f775",
   "metadata": {},
   "outputs": [
    {
     "name": "stdout",
     "output_type": "stream",
     "text": [
      "Answer #1: 5585\n"
     ]
    }
   ],
   "source": [
    "part1 = 0\n",
    "for val in grid.values():\n",
    "    if val >= 2:\n",
    "        part1 += 1\n",
    "print(f\"Answer #1: {part1}\")"
   ]
  },
  {
   "cell_type": "code",
   "execution_count": 11,
   "id": "8956f134-6035-40fe-90e0-75902b2cb498",
   "metadata": {},
   "outputs": [],
   "source": [
    "for line in lines:\n",
    "    if line not in sub_lines:\n",
    "        draw_line_advanced(line)"
   ]
  },
  {
   "cell_type": "code",
   "execution_count": 12,
   "id": "4efa6521-848f-410e-b81b-f28884545f7c",
   "metadata": {},
   "outputs": [
    {
     "name": "stdout",
     "output_type": "stream",
     "text": [
      "Answer #2: 17193\n"
     ]
    }
   ],
   "source": [
    "part2 = 0\n",
    "for val in grid.values():\n",
    "    if val >= 2:\n",
    "        part2 += 1\n",
    "print(f\"Answer #2: {part2}\")"
   ]
  }
 ],
 "metadata": {
  "kernelspec": {
   "display_name": "Python 3 (ipykernel)",
   "language": "python",
   "name": "python3"
  },
  "language_info": {
   "codemirror_mode": {
    "name": "ipython",
    "version": 3
   },
   "file_extension": ".py",
   "mimetype": "text/x-python",
   "name": "python",
   "nbconvert_exporter": "python",
   "pygments_lexer": "ipython3",
   "version": "3.9.6"
  }
 },
 "nbformat": 4,
 "nbformat_minor": 5
}
