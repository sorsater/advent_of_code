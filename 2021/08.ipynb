{
 "cells": [
  {
   "cell_type": "code",
   "execution_count": 1,
   "metadata": {},
   "outputs": [],
   "source": [
    "from collections import defaultdict"
   ]
  },
  {
   "cell_type": "code",
   "execution_count": 2,
   "metadata": {},
   "outputs": [],
   "source": [
    "data = open(\"input/08\").read().splitlines()"
   ]
  },
  {
   "cell_type": "code",
   "execution_count": 3,
   "metadata": {},
   "outputs": [],
   "source": [
    "part1 = 0\n",
    "for line in data:\n",
    "    _, output = line.split(\" | \")\n",
    "    for chunk in output.split(\" \"):\n",
    "        if len(chunk) in [2, 3, 4, 7]:\n",
    "            part1 += 1"
   ]
  },
  {
   "cell_type": "code",
   "execution_count": 4,
   "metadata": {},
   "outputs": [
    {
     "name": "stdout",
     "output_type": "stream",
     "text": [
      "Answer #1: 440\n"
     ]
    }
   ],
   "source": [
    "print(f\"Answer #1: {part1}\")"
   ]
  },
  {
   "cell_type": "code",
   "execution_count": 5,
   "metadata": {},
   "outputs": [],
   "source": [
    "segments = {\n",
    "    \"abcefg\": 0,\n",
    "    \"cf\": 1,\n",
    "    \"acdeg\": 2,\n",
    "    \"acdfg\": 3,\n",
    "    \"bcdf\": 4,\n",
    "    \"abdfg\": 5,\n",
    "    \"abdefg\": 6,\n",
    "    \"acf\": 7,\n",
    "    \"abcdefg\": 8,\n",
    "    \"abcdfg\": 9,\n",
    "}\n",
    "\n",
    "# Counts of each segment\n",
    "nums = defaultdict(int)\n",
    "for key in segments.keys():\n",
    "    for char in key:\n",
    "        nums[char] += 1"
   ]
  },
  {
   "cell_type": "code",
   "execution_count": 6,
   "metadata": {},
   "outputs": [],
   "source": [
    "def evaluate_line(line):\n",
    "    mapping = {}\n",
    "    nums, output = line.split(\" | \")\n",
    "    counts = defaultdict(int)\n",
    "    for char in nums:\n",
    "        if char == \" \":\n",
    "            continue\n",
    "        counts[char] += 1\n",
    "    for k, v in counts.items():\n",
    "        if v == 4:\n",
    "            mapping[\"e\"] = k\n",
    "        elif v == 6:\n",
    "            mapping[\"b\"] = k\n",
    "        elif v == 9:\n",
    "            mapping[\"f\"] = k\n",
    "\n",
    "    for num in nums.split(\" \"):\n",
    "        if len(num) == 2:\n",
    "            target = num[1] if num[0] in mapping.values() else num[0]\n",
    "            mapping[\"c\"] = target\n",
    "    for k, v in counts.items():\n",
    "        if v != 8:\n",
    "            continue\n",
    "        if k not in mapping.values():\n",
    "            mapping[\"a\"] = k\n",
    "    candidates = defaultdict(int)\n",
    "    for num in nums.split(\" \"):\n",
    "        if len(num) == 6:\n",
    "            for char in num:\n",
    "                if char in mapping.values():\n",
    "                    continue\n",
    "                candidates[char] += 1\n",
    "    flipped = {v: k for k, v in candidates.items()}\n",
    "    mapping[\"d\"] = flipped[2]\n",
    "    mapping[\"g\"] = flipped[3]\n",
    "\n",
    "    mapping = {v: k for k, v in mapping.items()}\n",
    "    final_num = \"\"\n",
    "    for num in output.split(\" \"):       \n",
    "        new_num = \"\".join(sorted([mapping[char] for char in num]))\n",
    "        final_num += str(segments[new_num])\n",
    "    return int(final_num)"
   ]
  },
  {
   "cell_type": "code",
   "execution_count": 7,
   "metadata": {},
   "outputs": [],
   "source": [
    "part2 = 0\n",
    "for line in data:\n",
    "    part2 += evaluate_line(line)"
   ]
  },
  {
   "cell_type": "code",
   "execution_count": 8,
   "metadata": {},
   "outputs": [
    {
     "name": "stdout",
     "output_type": "stream",
     "text": [
      "Answer #2: 1046281\n"
     ]
    }
   ],
   "source": [
    "print(f\"Answer #2: {part2}\")"
   ]
  }
 ],
 "metadata": {
  "kernelspec": {
   "display_name": "Python 3 (ipykernel)",
   "language": "python",
   "name": "python3"
  },
  "language_info": {
   "codemirror_mode": {
    "name": "ipython",
    "version": 3
   },
   "file_extension": ".py",
   "mimetype": "text/x-python",
   "name": "python",
   "nbconvert_exporter": "python",
   "pygments_lexer": "ipython3",
   "version": "3.9.6"
  },
  "widgets": {
   "application/vnd.jupyter.widget-state+json": {
    "state": {},
    "version_major": 2,
    "version_minor": 0
   }
  }
 },
 "nbformat": 4,
 "nbformat_minor": 4
}
