{
 "cells": [
  {
   "cell_type": "code",
   "execution_count": 1,
   "id": "d86efd46-3c33-4f06-ba4c-cb604f068acc",
   "metadata": {},
   "outputs": [],
   "source": [
    "from copy import deepcopy"
   ]
  },
  {
   "cell_type": "code",
   "execution_count": 2,
   "id": "0361cef5-f55c-4868-a754-51dbd437c514",
   "metadata": {},
   "outputs": [],
   "source": [
    "data = open(\"input/03\").read().splitlines()\n",
    "data_copy = deepcopy(data)"
   ]
  },
  {
   "cell_type": "code",
   "execution_count": 3,
   "id": "fec78231-99d8-4aff-b59f-e44303e75147",
   "metadata": {},
   "outputs": [],
   "source": [
    "length = len(data[0])\n",
    "res = [0] * length\n",
    "for number in data:\n",
    "    for idx, char in enumerate(number):\n",
    "        if char == \"1\":\n",
    "            res[idx] += 1\n",
    "        else:\n",
    "            res[idx] -= 1"
   ]
  },
  {
   "cell_type": "code",
   "execution_count": 4,
   "id": "41833f0a-4d7a-43bf-beb6-dc66e5620bf7",
   "metadata": {},
   "outputs": [],
   "source": [
    "gamma = 0\n",
    "for idx, num in enumerate(res):\n",
    "    if num > 0:\n",
    "        gamma += 2**(length - idx - 1)\n",
    "epsilon = 2**(length) - gamma - 1"
   ]
  },
  {
   "cell_type": "code",
   "execution_count": 5,
   "id": "82d5ed64-aa68-4f64-b336-8e92d9fcbaa4",
   "metadata": {},
   "outputs": [
    {
     "name": "stdout",
     "output_type": "stream",
     "text": [
      "Answer #1: 3959450\n"
     ]
    }
   ],
   "source": [
    "print(f\"Answer #1: {gamma * epsilon}\")"
   ]
  },
  {
   "cell_type": "markdown",
   "id": "da3140b7-4347-45e9-9fac-e2405adfaf92",
   "metadata": {},
   "source": [
    "# Part 2"
   ]
  },
  {
   "cell_type": "code",
   "execution_count": 6,
   "id": "fd455df2-3d04-4930-868b-84797a58d51a",
   "metadata": {},
   "outputs": [],
   "source": [
    "# oxygen\n",
    "for idx in range(length):\n",
    "    if len(data) == 1:\n",
    "        break\n",
    "    new_data = []\n",
    "    res = 0\n",
    "    for row in data:\n",
    "        num = row[idx]\n",
    "        res += 1 if num == \"1\" else -1\n",
    "    for row in data:\n",
    "        if res >= 0 and row[idx] == \"0\":\n",
    "            continue\n",
    "        if res < 0 and row[idx] == \"1\":\n",
    "            continue\n",
    "        \n",
    "        new_data.append(row)\n",
    "    data = new_data"
   ]
  },
  {
   "cell_type": "code",
   "execution_count": 7,
   "id": "66837193-8403-472d-870a-2ab0d2a1fbd3",
   "metadata": {},
   "outputs": [],
   "source": [
    "oxygen = int(data[0], 2)"
   ]
  },
  {
   "cell_type": "code",
   "execution_count": 8,
   "id": "d1aa473d-d390-466d-9273-076473ae8167",
   "metadata": {},
   "outputs": [],
   "source": [
    "# co2\n",
    "data = data_copy\n",
    "for idx in range(length):\n",
    "    if len(data) == 1:\n",
    "        break\n",
    "    new_data = []\n",
    "    res = 0\n",
    "    for row in data:\n",
    "        num = row[idx]\n",
    "        res += 1 if num == \"1\" else -1\n",
    "    for row in data:\n",
    "        if res >= 0 and row[idx] == \"1\":\n",
    "            continue\n",
    "        if res < 0 and row[idx] == \"0\":\n",
    "            continue\n",
    "        \n",
    "        new_data.append(row)\n",
    "    data = new_data"
   ]
  },
  {
   "cell_type": "code",
   "execution_count": 9,
   "id": "0c50d611-94d1-4ba3-a3c3-b1ed66593e6f",
   "metadata": {},
   "outputs": [],
   "source": [
    "co2 = int(data[0], 2)"
   ]
  },
  {
   "cell_type": "code",
   "execution_count": 10,
   "id": "71af790f-7289-4544-84b6-3962ee41f4de",
   "metadata": {},
   "outputs": [
    {
     "name": "stdout",
     "output_type": "stream",
     "text": [
      "Answer #2: 7440311\n"
     ]
    }
   ],
   "source": [
    "print(f\"Answer #2: {oxygen * co2}\")"
   ]
  }
 ],
 "metadata": {
  "kernelspec": {
   "display_name": "Python 3 (ipykernel)",
   "language": "python",
   "name": "python3"
  },
  "language_info": {
   "codemirror_mode": {
    "name": "ipython",
    "version": 3
   },
   "file_extension": ".py",
   "mimetype": "text/x-python",
   "name": "python",
   "nbconvert_exporter": "python",
   "pygments_lexer": "ipython3",
   "version": "3.9.6"
  }
 },
 "nbformat": 4,
 "nbformat_minor": 5
}
