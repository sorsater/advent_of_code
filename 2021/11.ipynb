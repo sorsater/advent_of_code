{
 "cells": [
  {
   "cell_type": "code",
   "execution_count": 1,
   "metadata": {},
   "outputs": [],
   "source": [
    "from copy import deepcopy"
   ]
  },
  {
   "cell_type": "code",
   "execution_count": 2,
   "metadata": {},
   "outputs": [],
   "source": [
    "data = open(\"input/11.txt\").read().splitlines()"
   ]
  },
  {
   "cell_type": "code",
   "execution_count": 3,
   "metadata": {},
   "outputs": [],
   "source": [
    "neighs = [(a, b) for a in [-1, 0, 1] for b in [-1, 0, 1]]\n",
    "neighs.remove(tuple((0, 0)))"
   ]
  },
  {
   "cell_type": "code",
   "execution_count": 4,
   "metadata": {},
   "outputs": [],
   "source": [
    "add_pos_func = lambda x, y: x + y\n",
    "def add_pos(a, b):\n",
    "    return tuple(map(add_pos_func, a, b))"
   ]
  },
  {
   "cell_type": "code",
   "execution_count": 5,
   "metadata": {},
   "outputs": [],
   "source": [
    "class Cavern:\n",
    "    def __init__(self, data, part2=False):\n",
    "        self.grid = {}\n",
    "        for r_idx, row in enumerate(data):\n",
    "            for c_idx, elem in enumerate(row):\n",
    "                self.grid[tuple((r_idx, c_idx))] = int(elem)\n",
    "\n",
    "        self.flashqueue = {}\n",
    "        self.tot_flashes = 0\n",
    "        self.part2 = part2\n",
    "        \n",
    "    def update_neighbors(self, cur_pos):\n",
    "        for neigh in neighs:\n",
    "            pos = add_pos(cur_pos, neigh)\n",
    "            if pos not in self.grid:\n",
    "                continue\n",
    "            old = self.flashqueue.get(pos)\n",
    "            # already processed\n",
    "            if old == True:\n",
    "                continue\n",
    "            # Unseen\n",
    "            if old is None:\n",
    "                self.grid[pos] += 1\n",
    "                if self.grid[pos] > 9:\n",
    "                    self.flashqueue[pos] = False\n",
    "    \n",
    "    def flash(self):\n",
    "        for pos, elem in self.grid.items():\n",
    "            if elem > 9:\n",
    "                self.flashqueue[pos] = False\n",
    "        \n",
    "        while not all(self.flashqueue.values()):\n",
    "            for pos, state in deepcopy(self.flashqueue).items():\n",
    "                if state == False:\n",
    "                    self.flashqueue[pos] = True\n",
    "                    self.update_neighbors(pos)\n",
    "        \n",
    "        for pos, elem in self.grid.items():\n",
    "            if elem > 9:\n",
    "                self.grid[pos] = 0\n",
    "                \n",
    "    def step(self):\n",
    "        for pos in self.grid:\n",
    "            self.grid[pos] += 1\n",
    "        self.flash()\n",
    "        \n",
    "        num_flashes = len(self.flashqueue)\n",
    "        if self.part2 and num_flashes == 100:\n",
    "                return True\n",
    "        \n",
    "        self.tot_flashes += num_flashes\n",
    "        self.flashqueue = {}"
   ]
  },
  {
   "cell_type": "markdown",
   "metadata": {},
   "source": [
    "# Part 1"
   ]
  },
  {
   "cell_type": "code",
   "execution_count": 6,
   "metadata": {},
   "outputs": [
    {
     "name": "stdout",
     "output_type": "stream",
     "text": [
      "1719\n"
     ]
    }
   ],
   "source": [
    "cavern = Cavern(data)\n",
    "for s in range(100):\n",
    "    cavern.step()\n",
    "part1 = cavern.tot_flashes\n",
    "print(part1)\n",
    "assert part1 == 1719"
   ]
  },
  {
   "cell_type": "markdown",
   "metadata": {},
   "source": [
    "# Part 2"
   ]
  },
  {
   "cell_type": "code",
   "execution_count": 7,
   "metadata": {},
   "outputs": [
    {
     "name": "stdout",
     "output_type": "stream",
     "text": [
      "232\n"
     ]
    }
   ],
   "source": [
    "cavern = Cavern(data, part2=True)\n",
    "s = 0\n",
    "while True:    \n",
    "    if cavern.step():\n",
    "        part2 = s + 1\n",
    "        break    \n",
    "    s += 1\n",
    "print(part2)\n",
    "assert part2 == 232"
   ]
  }
 ],
 "metadata": {
  "kernelspec": {
   "display_name": "Python 3",
   "language": "python",
   "name": "python3"
  },
  "language_info": {
   "codemirror_mode": {
    "name": "ipython",
    "version": 3
   },
   "file_extension": ".py",
   "mimetype": "text/x-python",
   "name": "python",
   "nbconvert_exporter": "python",
   "pygments_lexer": "ipython3",
   "version": "3.8.10"
  }
 },
 "nbformat": 4,
 "nbformat_minor": 4
}
