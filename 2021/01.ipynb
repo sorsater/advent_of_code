{
 "cells": [
  {
   "cell_type": "code",
   "execution_count": 1,
   "id": "d0f3c188-4f2f-456d-b8ce-b3ff13d265cd",
   "metadata": {},
   "outputs": [],
   "source": [
    "data = open(\"input/01\").read().splitlines()\n",
    "data = list(map(int, data))"
   ]
  },
  {
   "cell_type": "code",
   "execution_count": 2,
   "id": "dee8ea22-a931-4cad-a889-49116ea93ed2",
   "metadata": {},
   "outputs": [],
   "source": [
    "part1 = 0\n",
    "part2 = 0\n",
    "for idx, num in enumerate(data):\n",
    "    if idx < len(data) - 1 and data[idx + 1] > num:\n",
    "        part1 += 1\n",
    "    if idx < len(data) - 3:\n",
    "        slice1 = data[idx - 1: idx + 2]\n",
    "        slice2 = data[idx: idx + 3]\n",
    "        if sum(slice2) > sum(slice1):\n",
    "            part2 += 1"
   ]
  },
  {
   "cell_type": "code",
   "execution_count": 3,
   "id": "0daa1512-3c2d-4dd0-bca6-6385c56ccbeb",
   "metadata": {},
   "outputs": [
    {
     "name": "stdout",
     "output_type": "stream",
     "text": [
      "Answer #1: 1477\n"
     ]
    }
   ],
   "source": [
    "print(f\"Answer #1: {part1}\")"
   ]
  },
  {
   "cell_type": "code",
   "execution_count": 4,
   "id": "3918669f-dd48-4e05-99dd-624966583e87",
   "metadata": {},
   "outputs": [
    {
     "name": "stdout",
     "output_type": "stream",
     "text": [
      "Answer #2: 1523\n"
     ]
    }
   ],
   "source": [
    "print(f\"Answer #2: {part2}\")"
   ]
  }
 ],
 "metadata": {
  "kernelspec": {
   "display_name": "Python 3 (ipykernel)",
   "language": "python",
   "name": "python3"
  },
  "language_info": {
   "codemirror_mode": {
    "name": "ipython",
    "version": 3
   },
   "file_extension": ".py",
   "mimetype": "text/x-python",
   "name": "python",
   "nbconvert_exporter": "python",
   "pygments_lexer": "ipython3",
   "version": "3.9.6"
  }
 },
 "nbformat": 4,
 "nbformat_minor": 5
}
