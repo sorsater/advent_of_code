{
 "cells": [
  {
   "cell_type": "code",
   "execution_count": 1,
   "metadata": {},
   "outputs": [],
   "source": [
    "from collections import Counter, defaultdict"
   ]
  },
  {
   "cell_type": "code",
   "execution_count": 2,
   "metadata": {},
   "outputs": [],
   "source": [
    "START = \"start\"\n",
    "END = \"end\""
   ]
  },
  {
   "cell_type": "code",
   "execution_count": 3,
   "metadata": {},
   "outputs": [],
   "source": [
    "data = open(\"input/12.txt\").read().splitlines()"
   ]
  },
  {
   "cell_type": "code",
   "execution_count": 4,
   "metadata": {},
   "outputs": [],
   "source": [
    "caves = defaultdict(list)"
   ]
  },
  {
   "cell_type": "code",
   "execution_count": 5,
   "metadata": {},
   "outputs": [],
   "source": [
    "for line in data:\n",
    "    a, b = line.split('-')\n",
    "    if b != END and a != START:\n",
    "        caves[b].append(a)\n",
    "    if a != END and b != START:\n",
    "        caves[a].append(b)"
   ]
  },
  {
   "cell_type": "code",
   "execution_count": 6,
   "metadata": {},
   "outputs": [],
   "source": [
    "def valid_paths(part2=False):\n",
    "    paths = [[START]]\n",
    "    total_paths = 0\n",
    "    while paths:\n",
    "        path = paths.pop()\n",
    "        for cave in caves[path[-1]]:\n",
    "            if cave == END:\n",
    "                total_paths += 1\n",
    "                continue\n",
    "            if cave.islower() and cave in path:\n",
    "                if not part2:\n",
    "                    continue\n",
    "                lower_counts = Counter([c for c in path if c.islower()])\n",
    "                if max(lower_counts.values()) > 1:\n",
    "                    continue\n",
    "            paths.append(path + [cave])\n",
    "    print(total_paths)"
   ]
  },
  {
   "cell_type": "markdown",
   "metadata": {},
   "source": [
    "# Part 1"
   ]
  },
  {
   "cell_type": "code",
   "execution_count": 7,
   "metadata": {
    "scrolled": true
   },
   "outputs": [
    {
     "name": "stdout",
     "output_type": "stream",
     "text": [
      "4338\n"
     ]
    }
   ],
   "source": [
    "valid_paths()"
   ]
  },
  {
   "cell_type": "markdown",
   "metadata": {},
   "source": [
    "# Part 2"
   ]
  },
  {
   "cell_type": "code",
   "execution_count": 8,
   "metadata": {},
   "outputs": [
    {
     "name": "stdout",
     "output_type": "stream",
     "text": [
      "114189\n"
     ]
    }
   ],
   "source": [
    "valid_paths(part2=True)"
   ]
  }
 ],
 "metadata": {
  "kernelspec": {
   "display_name": "Python 3",
   "language": "python",
   "name": "python3"
  },
  "language_info": {
   "codemirror_mode": {
    "name": "ipython",
    "version": 3
   },
   "file_extension": ".py",
   "mimetype": "text/x-python",
   "name": "python",
   "nbconvert_exporter": "python",
   "pygments_lexer": "ipython3",
   "version": "3.8.10"
  }
 },
 "nbformat": 4,
 "nbformat_minor": 4
}
