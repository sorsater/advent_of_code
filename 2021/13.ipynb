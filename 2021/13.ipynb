{
 "cells": [
  {
   "cell_type": "code",
   "execution_count": 1,
   "metadata": {},
   "outputs": [],
   "source": [
    "from copy import deepcopy"
   ]
  },
  {
   "cell_type": "code",
   "execution_count": 2,
   "metadata": {},
   "outputs": [],
   "source": [
    "data = open(\"input/13.txt\").read().splitlines()"
   ]
  },
  {
   "cell_type": "code",
   "execution_count": 3,
   "metadata": {},
   "outputs": [],
   "source": [
    "coords, folds = [], []\n",
    "for line in data:\n",
    "    if not line:\n",
    "        continue\n",
    "    if \",\" in line:\n",
    "        coords.append(list(map(int, line.split(','))))\n",
    "    else:\n",
    "        axis, where = line.replace(\"fold along \", \"\").split(\"=\")\n",
    "        folds.append([axis, int(where)])"
   ]
  },
  {
   "cell_type": "code",
   "execution_count": 4,
   "metadata": {},
   "outputs": [],
   "source": [
    "class Paper:\n",
    "    def __init__(self, coords):\n",
    "        self.grid = {}\n",
    "        self.max_x, self.max_y = 0, 0\n",
    "        for x, y in coords:\n",
    "            self.max_x = max(self.max_x, x)\n",
    "            self.max_y = max(self.max_y, y)\n",
    "            self.grid[tuple((x, y))] = \"#\"\n",
    "    \n",
    "    def fold(self, axis, where):\n",
    "        if axis == \"y\":\n",
    "            self.max_y = self.max_y - where - 1\n",
    "            for pos in deepcopy(self.grid):\n",
    "                if pos[1] > where:\n",
    "                    existing = self.grid[pos]\n",
    "                    if existing != \"#\":\n",
    "                        continue\n",
    "                    new_y = 2 * where - pos[1]\n",
    "                    self.grid[tuple((pos[0], new_y))] = existing \n",
    "        else:\n",
    "            self.max_x = self.max_x - where - 1\n",
    "            for pos in deepcopy(self.grid):\n",
    "                if pos[0] > where:\n",
    "                    existing = self.grid[pos]\n",
    "                    if existing != \"#\":\n",
    "                        continue\n",
    "                    new_x = 2 * where - pos[0]\n",
    "                    self.grid[tuple((new_x, pos[1]))] = existing \n",
    "    \n",
    "    def show(self):\n",
    "        for y in range(self.max_y + 1):\n",
    "            for x in range(self.max_x + 1):\n",
    "                value = self.grid.get(tuple((x, y)), \" \")\n",
    "                print(value, end=\"\")\n",
    "            print()\n",
    "            \n",
    "    def part1(self):\n",
    "        count = 0\n",
    "        for y in range(self.max_y + 1):\n",
    "            for x in range(self.max_x + 1):\n",
    "                if self.grid.get(tuple((x, y))):\n",
    "                    count += 1\n",
    "        return count"
   ]
  },
  {
   "cell_type": "markdown",
   "metadata": {},
   "source": [
    "# Part 1"
   ]
  },
  {
   "cell_type": "code",
   "execution_count": 5,
   "metadata": {},
   "outputs": [
    {
     "name": "stdout",
     "output_type": "stream",
     "text": [
      "653\n"
     ]
    }
   ],
   "source": [
    "p = Paper(coords)\n",
    "p.fold(*folds[0])\n",
    "part1 = p.part1()\n",
    "print(part1)\n",
    "assert part1 == 653"
   ]
  },
  {
   "cell_type": "markdown",
   "metadata": {},
   "source": [
    "# Part 2"
   ]
  },
  {
   "cell_type": "code",
   "execution_count": 6,
   "metadata": {},
   "outputs": [
    {
     "name": "stdout",
     "output_type": "stream",
     "text": [
      "#    #  # ###  #### ###  ###  ###  #  # \n",
      "#    # #  #  # #    #  # #  # #  # # #  \n",
      "#    ##   #  # ###  ###  #  # #  # ##   \n",
      "#    # #  ###  #    #  # ###  ###  # #  \n",
      "#    # #  # #  #    #  # #    # #  # #  \n",
      "#### #  # #  # #### ###  #    #  # #  # \n"
     ]
    }
   ],
   "source": [
    "p = Paper(coords)\n",
    "for fold in folds:\n",
    "    p.fold(*fold)\n",
    "p.show()"
   ]
  }
 ],
 "metadata": {
  "kernelspec": {
   "display_name": "Python 3",
   "language": "python",
   "name": "python3"
  },
  "language_info": {
   "codemirror_mode": {
    "name": "ipython",
    "version": 3
   },
   "file_extension": ".py",
   "mimetype": "text/x-python",
   "name": "python",
   "nbconvert_exporter": "python",
   "pygments_lexer": "ipython3",
   "version": "3.8.10"
  }
 },
 "nbformat": 4,
 "nbformat_minor": 4
}
