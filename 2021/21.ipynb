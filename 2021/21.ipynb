{
 "cells": [
  {
   "cell_type": "code",
   "execution_count": 1,
   "id": "eb3f50b6-100c-4639-aa4e-fbff754b52d8",
   "metadata": {},
   "outputs": [],
   "source": [
    "data = open(\"input/21\").read().splitlines()"
   ]
  },
  {
   "cell_type": "code",
   "execution_count": 2,
   "id": "f769b0a0-a1ff-4791-8cb0-7d153c801ad0",
   "metadata": {},
   "outputs": [],
   "source": [
    "poses = [int(data[0][-1:]), int(data[1][-1:])]"
   ]
  },
  {
   "cell_type": "code",
   "execution_count": 3,
   "id": "d23c14f8-a466-4b69-842f-acfafcfe1981",
   "metadata": {},
   "outputs": [],
   "source": [
    "def roll(die):\n",
    "    rolls = []\n",
    "    for _ in range(3):\n",
    "        if die == 101:\n",
    "            die = 1\n",
    "        rolls.append(die)\n",
    "        die += 1\n",
    "    return sum(rolls), die"
   ]
  },
  {
   "cell_type": "code",
   "execution_count": 4,
   "id": "adc53adc-73d0-48b5-ad9d-17ddf763a332",
   "metadata": {},
   "outputs": [],
   "source": [
    "player1 = True\n",
    "c = 1\n",
    "die = 1\n",
    "scores = [0, 0]\n",
    "while True:\n",
    "    rolls, die = roll(die)\n",
    "    idx = 0 if player1 else 1\n",
    "\n",
    "    poses[idx] = (poses[idx] + rolls) % 10 or 10\n",
    "    scores[idx] += poses[idx]\n",
    "    \n",
    "    if scores[idx] >= 1000:\n",
    "        part1 = scores[(idx + 1) % 2] * c\n",
    "        break\n",
    "        \n",
    "    c += 3\n",
    "    player1 = not player1"
   ]
  },
  {
   "cell_type": "code",
   "execution_count": 5,
   "id": "aea3c64e-fcae-4edf-8816-62283d2d0707",
   "metadata": {},
   "outputs": [
    {
     "name": "stdout",
     "output_type": "stream",
     "text": [
      "Answer #1: 751247\n"
     ]
    }
   ],
   "source": [
    "print(f\"Answer #1: {part1}\")"
   ]
  }
 ],
 "metadata": {
  "kernelspec": {
   "display_name": "Python 3 (ipykernel)",
   "language": "python",
   "name": "python3"
  },
  "language_info": {
   "codemirror_mode": {
    "name": "ipython",
    "version": 3
   },
   "file_extension": ".py",
   "mimetype": "text/x-python",
   "name": "python",
   "nbconvert_exporter": "python",
   "pygments_lexer": "ipython3",
   "version": "3.9.6"
  }
 },
 "nbformat": 4,
 "nbformat_minor": 5
}
