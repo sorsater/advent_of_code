{
 "cells": [
  {
   "cell_type": "code",
   "execution_count": 1,
   "metadata": {},
   "outputs": [],
   "source": [
    "data = list(open(\"input/16.txt\").read())"
   ]
  },
  {
   "cell_type": "code",
   "execution_count": 2,
   "metadata": {},
   "outputs": [],
   "source": [
    "def hex_to_bin(char):\n",
    "    return bin(int(char, 16))[2:].zfill(4)"
   ]
  },
  {
   "cell_type": "code",
   "execution_count": 3,
   "metadata": {},
   "outputs": [],
   "source": [
    "def create_binary_string(data):\n",
    "    bin_string = \"\"\n",
    "    for char in data:\n",
    "        bin_string += hex_to_bin(char)\n",
    "    return bin_string"
   ]
  },
  {
   "cell_type": "code",
   "execution_count": 4,
   "metadata": {},
   "outputs": [],
   "source": [
    "def bin_to_int(num):\n",
    "    return int(num, 2)"
   ]
  },
  {
   "cell_type": "markdown",
   "metadata": {},
   "source": [
    "# Part 1"
   ]
  },
  {
   "cell_type": "code",
   "execution_count": 5,
   "metadata": {},
   "outputs": [],
   "source": [
    "def parse_literal_value(bin_string):\n",
    "    packets = bin_string\n",
    "    binary_representation = \"\"\n",
    "    idx = 0\n",
    "    while True:\n",
    "        packet = packets[5 * idx:(5 * idx)+5]\n",
    "        binary_representation += packet[1:]\n",
    "        \n",
    "        if packet[0] == \"1\":\n",
    "            print('not last packet')\n",
    "        else:\n",
    "            print(\"last packet\")\n",
    "            break\n",
    "        idx += 1\n",
    "    \n",
    "    print(\"idx res\")\n",
    "    print(idx)\n",
    "    print((idx + 1) * 5)\n",
    "\n",
    "    print(binary_representation)\n",
    "    res = bin_to_int(binary_representation)\n",
    "    print(\"hej\", res)\n",
    "    return (idx + 1) * 5"
   ]
  },
  {
   "cell_type": "code",
   "execution_count": 6,
   "metadata": {},
   "outputs": [],
   "source": [
    "def parse_operator_old(bin_string):\n",
    "    length_type_id = bin_string[6]\n",
    "    print(\"len type id\", length_type_id)\n",
    "    if length_type_id == \"0\":\n",
    "        print(\"total length in bits: 15\")\n",
    "        next_15 = bin_string[7:22]\n",
    "        bin_string = bin_string[22:]\n",
    "        print(next_15)\n",
    "        packet_length = bin_to_int(next_15)\n",
    "        print(packet_length)\n",
    "        \n",
    "        diff = packet_length - packet_length // 16 * 16\n",
    "        #print(\"DIFFF\", diff)\n",
    "        packets = []\n",
    "        if packet_length % 16 != 0:\n",
    "            #print(\"fuck my shit up\")\n",
    "            diff = packet_length - packet_length // 16 * 16\n",
    "            #print(diff)\n",
    "            \n",
    "            first = bin_string[:diff]\n",
    "            #print(first)\n",
    "            parse_packet(first)\n",
    "            \n",
    "            bin_string = bin_string[diff:]\n",
    "            \n",
    "        for idx in range(packet_length // 16):\n",
    "            packet = bin_string[16 * idx:(16 * idx)+16]\n",
    "            parse_packet(packet)\n",
    "            \n",
    "    else:\n",
    "        print(\"total packets\")\n",
    "        next_11 = bin_string[7:18]\n",
    "        print(next_11)\n",
    "        bin_string = bin_string[18:]\n",
    "        num_packets = bin_to_int(next_11)\n",
    "        print(\"num packets\", num_packets)"
   ]
  },
  {
   "cell_type": "code",
   "execution_count": 7,
   "metadata": {},
   "outputs": [],
   "source": [
    "def parse_operator(bin_string):\n",
    "    length_type_id = bin_string[6]\n",
    "    print(\"len type id\", length_type_id)\n",
    "    if length_type_id == \"0\":\n",
    "        print(\"total length in bits: 15\")\n",
    "        next_15 = bin_string[7:22]\n",
    "        bin_string = bin_string[22:]\n",
    "        print(next_15)\n",
    "        packet_length = bin_to_int(next_15)\n",
    "        print(\"packet_length\", packet_length)\n",
    "        \n",
    "        packet = bin_string[:packet_length]\n",
    "        \n",
    "        parse_packet(packet)\n",
    "        \n",
    "            \n",
    "    else:\n",
    "        print(\"total packets\")\n",
    "        next_11 = bin_string[7:18]\n",
    "        print(next_11)\n",
    "        bin_string = bin_string[18:]\n",
    "        num_packets = bin_to_int(next_11)\n",
    "        print(\"num packets\", num_packets)"
   ]
  },
  {
   "cell_type": "code",
   "execution_count": 8,
   "metadata": {},
   "outputs": [],
   "source": [
    "versions = []\n",
    "def parse_packet(bin_string):\n",
    "    print(\"parse packet\")\n",
    "    packet_version = bin_to_int(bin_string[:3])\n",
    "    print(packet_version)\n",
    "    versions.append(packet_version)\n",
    "    type_id = bin_to_int(bin_string[3:6])\n",
    "    print(type_id)\n",
    "\n",
    "    literal_value = None\n",
    "    if type_id == 4:\n",
    "        literal_value = True\n",
    "        bin_string = bin_string[6:]\n",
    "        aaa = parse_literal_value(bin_string)\n",
    "        print(\"aaa\", aaa)\n",
    "        print(\"len bit string\", len(bin_string))\n",
    "    else:\n",
    "        print('operator', type_id)\n",
    "        parse_operator(bin_string)"
   ]
  },
  {
   "cell_type": "code",
   "execution_count": 9,
   "metadata": {},
   "outputs": [
    {
     "name": "stdout",
     "output_type": "stream",
     "text": [
      "parse packet\n",
      "1\n",
      "6\n",
      "operator 6\n",
      "len type id 0\n",
      "total length in bits: 15\n",
      "000000000011011\n",
      "packet_length 27\n",
      "parse packet\n",
      "6\n",
      "4\n",
      "last packet\n",
      "idx res\n",
      "0\n",
      "5\n",
      "1010\n",
      "hej 10\n",
      "aaa 5\n",
      "len bit string 21\n",
      "[1, 6]\n"
     ]
    }
   ],
   "source": [
    "bin_string = create_binary_string(data)\n",
    "parse_packet(bin_string)\n",
    "print(versions)"
   ]
  }
 ],
 "metadata": {
  "kernelspec": {
   "display_name": "Python 3 (ipykernel)",
   "language": "python",
   "name": "python3"
  },
  "language_info": {
   "codemirror_mode": {
    "name": "ipython",
    "version": 3
   },
   "file_extension": ".py",
   "mimetype": "text/x-python",
   "name": "python",
   "nbconvert_exporter": "python",
   "pygments_lexer": "ipython3",
   "version": "3.9.6"
  }
 },
 "nbformat": 4,
 "nbformat_minor": 4
}
