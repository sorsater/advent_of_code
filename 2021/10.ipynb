{
 "cells": [
  {
   "cell_type": "code",
   "execution_count": 1,
   "metadata": {},
   "outputs": [],
   "source": [
    "data = open(\"input/10\").read().splitlines()"
   ]
  },
  {
   "cell_type": "code",
   "execution_count": 2,
   "metadata": {},
   "outputs": [],
   "source": [
    "score = {\n",
    "    \")\": 3,\n",
    "    \"]\": 57,\n",
    "    \"}\": 1197,\n",
    "    \">\": 25137,\n",
    "}\n",
    "\n",
    "score_part2 = {\n",
    "    \")\": 1,\n",
    "    \"]\": 2,\n",
    "    \"}\": 3,\n",
    "    \">\": 4,\n",
    "}"
   ]
  },
  {
   "cell_type": "code",
   "execution_count": 3,
   "metadata": {},
   "outputs": [],
   "source": [
    "friend_map = {\n",
    "    \")\": \"(\",\n",
    "    \"]\": \"[\",\n",
    "    \">\": \"<\",\n",
    "    \"}\": \"{\",\n",
    "}\n",
    "inverted_friend = {v:k for k, v in friend_map.items()}\n",
    "\n",
    "def get_part2_score(brackets):\n",
    "    s = 0\n",
    "    for char in brackets[::-1]:\n",
    "        s *= 5\n",
    "        s += score_part2[inverted_friend[char]]\n",
    "    return s"
   ]
  },
  {
   "cell_type": "code",
   "execution_count": 4,
   "metadata": {},
   "outputs": [],
   "source": [
    "def check_corrupted(entry):\n",
    "    brackets = []\n",
    "    for char in entry:\n",
    "        if char in friend_map.values():\n",
    "            brackets.append(char)\n",
    "        else:\n",
    "            friend = friend_map[char]\n",
    "            expected_friend = brackets.pop()\n",
    "            if friend != expected_friend:\n",
    "                return True, score[char]\n",
    "    return False, get_part2_score(brackets)"
   ]
  },
  {
   "cell_type": "code",
   "execution_count": 5,
   "metadata": {},
   "outputs": [],
   "source": [
    "part1 = 0\n",
    "part2 = []\n",
    "for line in data:\n",
    "    part1_, res = check_corrupted(line)\n",
    "    if part1_:\n",
    "        part1 += res\n",
    "    else:\n",
    "        part2.append(res)"
   ]
  },
  {
   "cell_type": "code",
   "execution_count": 6,
   "metadata": {},
   "outputs": [
    {
     "name": "stdout",
     "output_type": "stream",
     "text": [
      "Answer #1: 316851\n"
     ]
    }
   ],
   "source": [
    "print(f\"Answer #1: {part1}\")"
   ]
  },
  {
   "cell_type": "code",
   "execution_count": 7,
   "metadata": {},
   "outputs": [
    {
     "name": "stdout",
     "output_type": "stream",
     "text": [
      "Answer #2: 2182912364\n"
     ]
    }
   ],
   "source": [
    "part2 = sorted(part2)[len(part2) // 2]\n",
    "print(f\"Answer #2: {part2}\")"
   ]
  }
 ],
 "metadata": {
  "kernelspec": {
   "display_name": "Python 3 (ipykernel)",
   "language": "python",
   "name": "python3"
  },
  "language_info": {
   "codemirror_mode": {
    "name": "ipython",
    "version": 3
   },
   "file_extension": ".py",
   "mimetype": "text/x-python",
   "name": "python",
   "nbconvert_exporter": "python",
   "pygments_lexer": "ipython3",
   "version": "3.9.6"
  },
  "widgets": {
   "application/vnd.jupyter.widget-state+json": {
    "state": {},
    "version_major": 2,
    "version_minor": 0
   }
  }
 },
 "nbformat": 4,
 "nbformat_minor": 4
}
