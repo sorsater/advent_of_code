{
 "cells": [
  {
   "cell_type": "code",
   "execution_count": 1,
   "id": "bef5870e-ed32-42cf-ab31-49ee9d88be99",
   "metadata": {},
   "outputs": [],
   "source": [
    "import re"
   ]
  },
  {
   "cell_type": "code",
   "execution_count": 2,
   "id": "693a33a4-912d-4d4e-b66c-39f0ba9454c7",
   "metadata": {},
   "outputs": [],
   "source": [
    "data = open(\"input/03\").read()"
   ]
  },
  {
   "cell_type": "code",
   "execution_count": 3,
   "id": "be7c0fcd-5938-4c67-8df9-ef2344b126bd",
   "metadata": {},
   "outputs": [],
   "source": [
    "pattern = r\"mul\\((\\d{1,3}),(\\d{1,3})\\)\""
   ]
  },
  {
   "cell_type": "code",
   "execution_count": 4,
   "id": "b6e06d0e-6d25-46a6-b1cc-6699add5786d",
   "metadata": {},
   "outputs": [],
   "source": [
    "def multiply_string(string):\n",
    "    matches = [[int(a), int(b)] for a, b in re.findall(pattern, string)]\n",
    "    return sum([a * b for a, b in matches])"
   ]
  },
  {
   "cell_type": "code",
   "execution_count": 5,
   "id": "0f3d40ec-5520-4372-9396-25ab5cf534c9",
   "metadata": {},
   "outputs": [
    {
     "name": "stdout",
     "output_type": "stream",
     "text": [
      "Answer #1: 173785482\n"
     ]
    }
   ],
   "source": [
    "print(f\"Answer #1: {multiply_string(data)}\")"
   ]
  },
  {
   "cell_type": "code",
   "execution_count": 6,
   "id": "1380927c-9acb-476c-a7b9-38e9ba220cae",
   "metadata": {},
   "outputs": [],
   "source": [
    "filtered_data = \"\"\n",
    "for split in data.split(\"do()\"):\n",
    "    filtered_data += split.split(\"don't()\")[0]"
   ]
  },
  {
   "cell_type": "code",
   "execution_count": 7,
   "id": "62950dd8-033e-4d8e-ba26-987dd88689fa",
   "metadata": {},
   "outputs": [
    {
     "name": "stdout",
     "output_type": "stream",
     "text": [
      "Answer #1: 83158140\n"
     ]
    }
   ],
   "source": [
    "print(f\"Answer #1: {multiply_string(filtered_data)}\")"
   ]
  }
 ],
 "metadata": {
  "kernelspec": {
   "display_name": "Python 3 (ipykernel)",
   "language": "python",
   "name": "python3"
  },
  "language_info": {
   "codemirror_mode": {
    "name": "ipython",
    "version": 3
   },
   "file_extension": ".py",
   "mimetype": "text/x-python",
   "name": "python",
   "nbconvert_exporter": "python",
   "pygments_lexer": "ipython3",
   "version": "3.9.20"
  }
 },
 "nbformat": 4,
 "nbformat_minor": 5
}
