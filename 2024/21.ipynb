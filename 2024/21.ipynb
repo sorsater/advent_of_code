{
 "cells": [
  {
   "cell_type": "code",
   "execution_count": 1,
   "id": "bd71d32b-33dc-483a-8fc1-7b89feb37bb2",
   "metadata": {},
   "outputs": [],
   "source": [
    "# Didn't understand this one, took help from other solutions"
   ]
  },
  {
   "cell_type": "code",
   "execution_count": 2,
   "id": "1b9f124c-6d5d-4c36-b353-ec5e5e464ea0",
   "metadata": {},
   "outputs": [],
   "source": [
    "from functools import cache\n",
    "from random import random"
   ]
  },
  {
   "cell_type": "code",
   "execution_count": 3,
   "id": "c18dfb26-8f31-42ed-8140-b217c6ccc305",
   "metadata": {},
   "outputs": [],
   "source": [
    "codes = open(\"input/21\").read().splitlines()"
   ]
  },
  {
   "cell_type": "code",
   "execution_count": 4,
   "id": "02238f59-bd31-4fb3-bf2a-65cd280565c4",
   "metadata": {},
   "outputs": [],
   "source": [
    "numpad_dict = {\n",
    "    \"7\": (0, 0),\n",
    "    \"8\": (0, 1),\n",
    "    \"9\": (0, 2),\n",
    "    \"4\": (1, 0),\n",
    "    \"5\": (1, 1),\n",
    "    \"6\": (1, 2),\n",
    "    \"1\": (2, 0),\n",
    "    \"2\": (2, 1),\n",
    "    \"3\": (2, 2),\n",
    "    \" \": (3, 0),\n",
    "    \"0\": (3, 1),\n",
    "    \"A\": (3, 2),\n",
    "}\n",
    "keypad_dict = {\n",
    "    \" \": (0, 0),\n",
    "    \"^\": (0, 1),\n",
    "    \"A\": (0, 2),\n",
    "    \"<\": (1, 0),\n",
    "    \"v\": (1, 1),\n",
    "    \">\": (1, 2),\n",
    "}"
   ]
  },
  {
   "cell_type": "code",
   "execution_count": 5,
   "id": "80fe1ed0-4336-4b0c-b54a-b5db54f27298",
   "metadata": {},
   "outputs": [],
   "source": [
    "ydir = lambda x: \"v\" if x > 0 else \"^\"\n",
    "xdir = lambda x: \">\" if x > 0 else \"<\""
   ]
  },
  {
   "cell_type": "code",
   "execution_count": 6,
   "id": "7ca8fd15-2fdd-42fa-8840-33a0add2043b",
   "metadata": {},
   "outputs": [],
   "source": [
    "@cache\n",
    "def find_moves(curr_key, next_key, numpad: bool):\n",
    "    if numpad:\n",
    "        pad = numpad_dict\n",
    "    else:\n",
    "        pad = keypad_dict\n",
    "        \n",
    "    distance = (\n",
    "        pad[next_key][0] - pad[curr_key][0],\n",
    "        pad[next_key][1] - pad[curr_key][1],\n",
    "    )\n",
    "    right_left = ydir(distance[0]) * abs(distance[0])\n",
    "    up_down = xdir(distance[1]) * abs(distance[1])\n",
    "\n",
    "    empty_pos = pad[\" \"]\n",
    "\n",
    "    # Check direction of where we're going, if we should start with up/down first or left/right\n",
    "    if (pad[curr_key][0], pad[next_key][1]) == empty_pos:\n",
    "        return right_left + up_down + \"A\"\n",
    "\n",
    "    if (pad[next_key][0], pad[curr_key][1]) == empty_pos:\n",
    "        return up_down + right_left + \"A\"\n",
    "    \n",
    "    return (right_left + up_down if random() < 0.5 else up_down + right_left) + \"A\""
   ]
  },
  {
   "cell_type": "code",
   "execution_count": 7,
   "id": "6c241249-e1e4-4ce8-8c34-25b23383e6db",
   "metadata": {},
   "outputs": [],
   "source": [
    "@cache\n",
    "def rec_count(code, depth, numpad=False, curr=0):\n",
    "    if depth == 0:\n",
    "        return len(code)\n",
    "    for idx, char in enumerate(code):\n",
    "        prev_char = code[idx - 1]\n",
    "        curr += rec_count(find_moves(prev_char, char, numpad), depth - 1)\n",
    "    return curr"
   ]
  },
  {
   "cell_type": "code",
   "execution_count": 8,
   "id": "7b9333aa-97f9-404a-9157-074b2288070a",
   "metadata": {},
   "outputs": [],
   "source": [
    "def check_code(code, num_robots):\n",
    "    shortest = None\n",
    "    for _ in range(100):\n",
    "        find_moves.cache_clear()\n",
    "        rec_count.cache_clear()\n",
    "        new_score = rec_count(code, num_robots, numpad=True)\n",
    "        if shortest is None:\n",
    "            shortest = new_score\n",
    "        else:\n",
    "            shortest = min(shortest, new_score)\n",
    "    return shortest * int(code[:-1])\n",
    "        "
   ]
  },
  {
   "cell_type": "code",
   "execution_count": 9,
   "id": "d799fc4e-0a6f-4c96-bca8-ce8c4a9d2806",
   "metadata": {},
   "outputs": [
    {
     "name": "stdout",
     "output_type": "stream",
     "text": [
      "Answer #1: 270084\n"
     ]
    }
   ],
   "source": [
    "part1 = 0\n",
    "for code in codes:\n",
    "    part1 += check_code(code, 3)\n",
    "print(f\"Answer #1: {part1}\")"
   ]
  },
  {
   "cell_type": "code",
   "execution_count": 10,
   "id": "f4a22204-b85b-4cf1-a6e2-7f7e0f0ebd58",
   "metadata": {},
   "outputs": [
    {
     "name": "stdout",
     "output_type": "stream",
     "text": [
      "Answer #2: 329431019997766\n"
     ]
    }
   ],
   "source": [
    "part2 = 0\n",
    "for code in codes:\n",
    "    part2 += check_code(code, 26)\n",
    "print(f\"Answer #2: {part2}\")"
   ]
  }
 ],
 "metadata": {
  "kernelspec": {
   "display_name": "Python 3 (ipykernel)",
   "language": "python",
   "name": "python3"
  },
  "language_info": {
   "codemirror_mode": {
    "name": "ipython",
    "version": 3
   },
   "file_extension": ".py",
   "mimetype": "text/x-python",
   "name": "python",
   "nbconvert_exporter": "python",
   "pygments_lexer": "ipython3",
   "version": "3.9.6"
  }
 },
 "nbformat": 4,
 "nbformat_minor": 5
}
