{
 "cells": [
  {
   "cell_type": "code",
   "execution_count": 1,
   "id": "abebe3a3-4488-4502-86af-de8e46c6c2d2",
   "metadata": {},
   "outputs": [],
   "source": [
    "data = open(\"input/04\").read().splitlines()"
   ]
  },
  {
   "cell_type": "code",
   "execution_count": 2,
   "id": "634167b6-4e60-465f-8450-4f0f38832da2",
   "metadata": {},
   "outputs": [],
   "source": [
    "grid = {}\n",
    "for r_idx, row in enumerate(data):\n",
    "    for c_idx, char in enumerate(row):\n",
    "        grid[(r_idx, c_idx)] = char"
   ]
  },
  {
   "cell_type": "code",
   "execution_count": 3,
   "id": "792019b9-62d1-4668-8d3b-d3eb2572d5a8",
   "metadata": {},
   "outputs": [],
   "source": [
    "directions = []\n",
    "for i in [-1, 0, 1]:\n",
    "    for j in [-1, 0, 1]:\n",
    "        directions.append([i, j])"
   ]
  },
  {
   "cell_type": "code",
   "execution_count": 4,
   "id": "ec9f00b7-5b83-4f5c-85f3-987b856030c6",
   "metadata": {},
   "outputs": [
    {
     "name": "stdout",
     "output_type": "stream",
     "text": [
      "Answer #1: 2593\n"
     ]
    }
   ],
   "source": [
    "found = 0\n",
    "for key, val in grid.items():\n",
    "    r, c = key\n",
    "    for r_d, c_d in directions:\n",
    "        substring = \"\"\n",
    "        for i in range(4):\n",
    "            substring += grid.get((r + r_d * i, c + c_d * i), \"\")\n",
    "        if substring == \"XMAS\":\n",
    "            found += 1\n",
    "       \n",
    "print(f\"Answer #1: {found}\")"
   ]
  },
  {
   "cell_type": "markdown",
   "id": "402a6054-f988-411f-9a44-9bb04bf621ce",
   "metadata": {},
   "source": [
    "# Part 2"
   ]
  },
  {
   "cell_type": "code",
   "execution_count": 5,
   "id": "ecd5de98-95be-4eb3-b657-47fa7c5fc79d",
   "metadata": {},
   "outputs": [
    {
     "name": "stdout",
     "output_type": "stream",
     "text": [
      "Answer #2: 1950\n"
     ]
    }
   ],
   "source": [
    "found = 0\n",
    "for key, val in grid.items():\n",
    "    if val != \"A\":\n",
    "        continue\n",
    "\n",
    "    r, c = key\n",
    "    letter1 = grid.get((r - 1, c - 1), \"\")\n",
    "    letter2 = grid.get((r + 1, c + 1), \"\")\n",
    "    letter3 = grid.get((r - 1, c + 1), \"\")\n",
    "    letter4 = grid.get((r + 1, c - 1), \"\")\n",
    "\n",
    "    if letter1 == letter2: # To avoid finding SS or MM\n",
    "        continue\n",
    "\n",
    "    word = [letter1, letter2, letter3, letter4]\n",
    "    if \"\".join(sorted(word)) == \"MMSS\":\n",
    "        found += 1\n",
    "\n",
    "print(f\"Answer #2: {found}\")"
   ]
  }
 ],
 "metadata": {
  "kernelspec": {
   "display_name": "Python 3 (ipykernel)",
   "language": "python",
   "name": "python3"
  },
  "language_info": {
   "codemirror_mode": {
    "name": "ipython",
    "version": 3
   },
   "file_extension": ".py",
   "mimetype": "text/x-python",
   "name": "python",
   "nbconvert_exporter": "python",
   "pygments_lexer": "ipython3",
   "version": "3.9.20"
  }
 },
 "nbformat": 4,
 "nbformat_minor": 5
}
