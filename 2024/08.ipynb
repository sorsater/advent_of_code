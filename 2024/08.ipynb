{
 "cells": [
  {
   "cell_type": "code",
   "execution_count": 1,
   "id": "0fef24e8-2c68-4456-8288-51179cad1ac0",
   "metadata": {},
   "outputs": [],
   "source": [
    "from collections import defaultdict\n",
    "from itertools import combinations"
   ]
  },
  {
   "cell_type": "code",
   "execution_count": 2,
   "id": "6283eb8f-c370-4775-87f9-8d1d4239b1cd",
   "metadata": {},
   "outputs": [],
   "source": [
    "data = open(\"input/08\").read().splitlines()"
   ]
  },
  {
   "cell_type": "code",
   "execution_count": 3,
   "id": "abff8d05-d825-4f0e-b593-404afab7cf62",
   "metadata": {},
   "outputs": [],
   "source": [
    "grid = defaultdict(list)\n",
    "valid_poses = set()\n",
    "max_iter = 0  # To know how far to look out\n",
    "for r, row in enumerate(data):\n",
    "    for c, elem in enumerate(row):\n",
    "        valid_poses.add((r, c))\n",
    "        max_iter = max(max_iter, r)\n",
    "        max_iter = max(max_iter, c)\n",
    "        \n",
    "        if elem == \".\":\n",
    "            continue\n",
    "        grid[elem].append((r, c))"
   ]
  },
  {
   "cell_type": "code",
   "execution_count": 4,
   "id": "c5a01e21-fbe3-4429-b1a8-037f033a864b",
   "metadata": {},
   "outputs": [],
   "source": [
    "part1 = set()\n",
    "part2 = set()\n",
    "for key in grid.keys():\n",
    "    for (a, b) in combinations(grid[key], 2):\n",
    "        x_diff = a[0] - b[0]\n",
    "        y_diff = a[1] - b[1]\n",
    "\n",
    "        for i in range(max_iter):\n",
    "            a1 = (a[0] + x_diff * i, a[1] + y_diff * i)\n",
    "            a2 = (b[0] - x_diff * i, b[1] - y_diff * i)\n",
    "\n",
    "            # Part 1\n",
    "            if i == 1:\n",
    "                if a1 in valid_poses:\n",
    "                    part1.add(a1)\n",
    "                if a2 in valid_poses:\n",
    "                    part1.add(a2)\n",
    "\n",
    "            # Part 2\n",
    "            if a1 in valid_poses:\n",
    "                part2.add(a1)\n",
    "            if a2 in valid_poses:\n",
    "                part2.add(a2)"
   ]
  },
  {
   "cell_type": "code",
   "execution_count": 5,
   "id": "8612306f-eab9-446e-a850-58d69ecfdc73",
   "metadata": {},
   "outputs": [
    {
     "name": "stdout",
     "output_type": "stream",
     "text": [
      "Answer #1: 214\n"
     ]
    }
   ],
   "source": [
    "print(f\"Answer #1: {len(part1)}\")"
   ]
  },
  {
   "cell_type": "code",
   "execution_count": 6,
   "id": "cf9f8e15-57d1-43d2-a485-3296fcd2bbed",
   "metadata": {},
   "outputs": [
    {
     "name": "stdout",
     "output_type": "stream",
     "text": [
      "Answer #2: 809\n"
     ]
    }
   ],
   "source": [
    "print(f\"Answer #2: {len(part2)}\")"
   ]
  }
 ],
 "metadata": {
  "kernelspec": {
   "display_name": "Python 3 (ipykernel)",
   "language": "python",
   "name": "python3"
  },
  "language_info": {
   "codemirror_mode": {
    "name": "ipython",
    "version": 3
   },
   "file_extension": ".py",
   "mimetype": "text/x-python",
   "name": "python",
   "nbconvert_exporter": "python",
   "pygments_lexer": "ipython3",
   "version": "3.9.6"
  }
 },
 "nbformat": 4,
 "nbformat_minor": 5
}
