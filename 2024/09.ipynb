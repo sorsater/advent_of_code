{
 "cells": [
  {
   "cell_type": "code",
   "execution_count": 1,
   "id": "4007de67-4b3d-40ae-8975-e77572bc6fa9",
   "metadata": {},
   "outputs": [],
   "source": [
    "import math\n",
    "from copy import deepcopy\n",
    "from tqdm.notebook import tqdm\n",
    "from collections import defaultdict"
   ]
  },
  {
   "cell_type": "code",
   "execution_count": 2,
   "id": "8383f304-265c-4852-8408-a9f463419de1",
   "metadata": {},
   "outputs": [],
   "source": [
    "raw_data = open(\"input/09\").read()\n",
    "data = list(map(int, raw_data))"
   ]
  },
  {
   "cell_type": "code",
   "execution_count": 3,
   "id": "2b381f6f-7a79-4d4f-a18c-afa9f4e042bb",
   "metadata": {},
   "outputs": [],
   "source": [
    "expanded_string = []\n",
    "num_idx = 0\n",
    "toggle = True\n",
    "for char in data:\n",
    "    if toggle:\n",
    "        for j in range(char):\n",
    "            expanded_string.append(num_idx)\n",
    "        num_idx += 1\n",
    "    else:  # Empty\n",
    "        for j in range(char):\n",
    "            expanded_string.append(\".\")\n",
    "\n",
    "    toggle = not toggle"
   ]
  },
  {
   "cell_type": "markdown",
   "id": "cbac0671-8f05-455d-ac8a-533b93efdaea",
   "metadata": {},
   "source": [
    "# Part 1"
   ]
  },
  {
   "cell_type": "code",
   "execution_count": 4,
   "id": "5020f866-7693-4e14-ba0a-06fee2705645",
   "metadata": {},
   "outputs": [
    {
     "data": {
      "application/vnd.jupyter.widget-view+json": {
       "model_id": "1acfad6b544944f087c642a4bab365de",
       "version_major": 2,
       "version_minor": 0
      },
      "text/plain": [
       "  0%|          | 0/94924 [00:00<?, ?it/s]"
      ]
     },
     "metadata": {},
     "output_type": "display_data"
    }
   ],
   "source": [
    "part1_res = []\n",
    "num_to_cut = 0\n",
    "\n",
    "part1_copy = deepcopy(expanded_string)\n",
    "for idx, char in tqdm(enumerate(part1_copy), total=len(part1_copy)):\n",
    "    if char == \".\":\n",
    "        i = 0\n",
    "        while True:\n",
    "            last = part1_copy[-1]\n",
    "            part1_copy = part1_copy[:-1]\n",
    "            if last != \".\":\n",
    "                break\n",
    "        num_to_cut += 1\n",
    "        part1_res.append(last)\n",
    "    else:\n",
    "        part1_res.append(char)\n",
    "\n",
    "part1_res = part1_res[:-num_to_cut]"
   ]
  },
  {
   "cell_type": "code",
   "execution_count": 5,
   "id": "db745dfd-e2e3-440c-8082-8a091488658f",
   "metadata": {},
   "outputs": [
    {
     "name": "stdout",
     "output_type": "stream",
     "text": [
      "Answer #1: 6310675819476\n"
     ]
    }
   ],
   "source": [
    "part1 = 0\n",
    "for i, e in enumerate(list(map(int, part1_res))):\n",
    "    part1 += i * e\n",
    "\n",
    "print(f\"Answer #1: {part1}\")"
   ]
  },
  {
   "cell_type": "markdown",
   "id": "efd1d181-19b5-4d39-b7cc-6b07e5e64295",
   "metadata": {},
   "source": [
    "# Part 2"
   ]
  },
  {
   "cell_type": "code",
   "execution_count": 6,
   "id": "c4b1bef1-9850-476a-b382-aa84ca754625",
   "metadata": {},
   "outputs": [],
   "source": [
    "# Helper stuff\n",
    "dict_len = defaultdict(int)\n",
    "dict_pos = defaultdict(list)\n",
    "for idx, char in enumerate(expanded_string):\n",
    "    if char == \".\":\n",
    "        continue\n",
    "    dict_len[char] += 1\n",
    "    dict_pos[char].append(idx)"
   ]
  },
  {
   "cell_type": "code",
   "execution_count": 7,
   "id": "4424ef88-65e5-48b4-bdec-834d16a1330b",
   "metadata": {},
   "outputs": [
    {
     "data": {
      "application/vnd.jupyter.widget-view+json": {
       "model_id": "6b33ca304e014954a2d2c49d2b196c6e",
       "version_major": 2,
       "version_minor": 0
      },
      "text/plain": [
       "  0%|          | 0/10000 [00:00<?, ?it/s]"
      ]
     },
     "metadata": {},
     "output_type": "display_data"
    }
   ],
   "source": [
    "part2_res = deepcopy(expanded_string)\n",
    "for key in tqdm(sorted(dict_len.keys(), reverse=True)):\n",
    "    key_len = dict_len[key]\n",
    "    dot_len = 0\n",
    "    for idx, char in enumerate(part2_res):\n",
    "        if char == \".\":\n",
    "            dot_len += 1\n",
    "        else:\n",
    "            dot_len = 0\n",
    "\n",
    "        if dot_len == key_len:\n",
    "            if idx > dict_pos[key][0]:\n",
    "                break\n",
    "            for d in range(dot_len):\n",
    "                part2_res[idx - d] = key\n",
    "\n",
    "            for overwrite_idx in dict_pos[key]:\n",
    "                part2_res[overwrite_idx] = \".\"\n",
    "\n",
    "            break"
   ]
  },
  {
   "cell_type": "code",
   "execution_count": 8,
   "id": "171eafd4-369d-49fe-9e7c-7709cf71946d",
   "metadata": {},
   "outputs": [
    {
     "name": "stdout",
     "output_type": "stream",
     "text": [
      "Answer #2: 6335972980679\n"
     ]
    }
   ],
   "source": [
    "part2 = 0\n",
    "for i, e in enumerate(part2_res):\n",
    "    if e == \".\":\n",
    "        continue\n",
    "    part2 += i * int(e)\n",
    "\n",
    "print(f\"Answer #2: {part2}\")"
   ]
  }
 ],
 "metadata": {
  "kernelspec": {
   "display_name": "Python 3 (ipykernel)",
   "language": "python",
   "name": "python3"
  },
  "language_info": {
   "codemirror_mode": {
    "name": "ipython",
    "version": 3
   },
   "file_extension": ".py",
   "mimetype": "text/x-python",
   "name": "python",
   "nbconvert_exporter": "python",
   "pygments_lexer": "ipython3",
   "version": "3.9.20"
  }
 },
 "nbformat": 4,
 "nbformat_minor": 5
}
