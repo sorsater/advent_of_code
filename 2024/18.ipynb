{
 "cells": [
  {
   "cell_type": "code",
   "execution_count": 1,
   "id": "1e974dc6-ce9a-44d0-ae47-b62d0610aa4f",
   "metadata": {},
   "outputs": [],
   "source": [
    "import heapq"
   ]
  },
  {
   "cell_type": "code",
   "execution_count": 2,
   "id": "b3748309-f96d-4d31-a611-e9dc85ea0ae0",
   "metadata": {},
   "outputs": [],
   "source": [
    "data = open(\"input/18\").read().splitlines()"
   ]
  },
  {
   "cell_type": "code",
   "execution_count": 3,
   "id": "ac474caa-f363-4180-a360-78439071103a",
   "metadata": {},
   "outputs": [],
   "source": [
    "w_h = 70\n",
    "end = (w_h, w_h)"
   ]
  },
  {
   "cell_type": "code",
   "execution_count": 4,
   "id": "403d6b30-bbad-468f-b77e-a6f49806455a",
   "metadata": {},
   "outputs": [],
   "source": [
    "grid = {}\n",
    "for r in range(w_h + 1):\n",
    "    for c in range(w_h + 1):\n",
    "        grid[(r, c)] = \".\""
   ]
  },
  {
   "cell_type": "code",
   "execution_count": 5,
   "id": "660112b5-969f-4473-a216-55681009a37e",
   "metadata": {},
   "outputs": [],
   "source": [
    "for idx, row in enumerate(data):\n",
    "    a, b = row.split(\",\")\n",
    "    grid[(int(b), int(a))] = \"#\"\n",
    "    if idx >= 1023:\n",
    "        break       "
   ]
  },
  {
   "cell_type": "code",
   "execution_count": 6,
   "id": "f0e5ab93-529b-48f1-9473-c45c982d3739",
   "metadata": {},
   "outputs": [],
   "source": [
    "def astart_find_best(pos):\n",
    "    q = []\n",
    "    heapq.heappush(q, (0, 0, pos))\n",
    "\n",
    "    directions = [(-1, 0), (1, 0), (0, -1), (0, 1)]\n",
    "    visited = set()\n",
    "    while q:\n",
    "        h_cost, cost, pos = heapq.heappop(q)\n",
    "        for direction in directions:\n",
    "            neighbour = (pos[0] + direction[0], pos[1] + direction[1])\n",
    "            neighbour_elem = grid.get(neighbour)\n",
    "            if not neighbour_elem or neighbour_elem == \"#\" or neighbour in visited:\n",
    "                continue\n",
    "            \n",
    "            if neighbour == end:\n",
    "                # +1 for the end node\n",
    "                return cost + 1\n",
    "                \n",
    "            visited.add(neighbour)\n",
    "\n",
    "            new_cost = cost + 1\n",
    "            \n",
    "            heur = abs(end[0] - neighbour[0]) + abs(end[1] - neighbour[1])\n",
    "            \n",
    "            heapq.heappush(q, (heur + new_cost, new_cost, neighbour))\n",
    "    return 0"
   ]
  },
  {
   "cell_type": "code",
   "execution_count": 7,
   "id": "1dc74bbb-b846-4911-82f9-f088bbfbfcaf",
   "metadata": {},
   "outputs": [
    {
     "name": "stdout",
     "output_type": "stream",
     "text": [
      "Answer #1: 372\n"
     ]
    }
   ],
   "source": [
    "part1 = astart_find_best((0, 0))\n",
    "print(f\"Answer #1: {part1}\")"
   ]
  },
  {
   "cell_type": "markdown",
   "id": "65501b33-efeb-47a5-8227-3b01b23e49ef",
   "metadata": {},
   "source": [
    "# Part 2"
   ]
  },
  {
   "cell_type": "code",
   "execution_count": 8,
   "id": "5b660e5b-864f-4e7d-abd5-54ec51183f80",
   "metadata": {},
   "outputs": [],
   "source": [
    "def fall_one_more(cut_off_idx):\n",
    "    row = data[cut_off_idx + 1]\n",
    "    a, b = row.split(\",\")\n",
    "    grid[(int(b), int(a))] = \"#\""
   ]
  },
  {
   "cell_type": "code",
   "execution_count": 9,
   "id": "146b1e2c-6138-4805-806c-606258fa85f0",
   "metadata": {},
   "outputs": [
    {
     "name": "stdout",
     "output_type": "stream",
     "text": [
      "Answer #2: 25,6\n"
     ]
    }
   ],
   "source": [
    "cut_off = 1023\n",
    "while True:\n",
    "    fall_one_more(cut_off)\n",
    "    cut_off += 1\n",
    "    res = astart_find_best((0, 0))\n",
    "    if res == 0:\n",
    "        break\n",
    "    \n",
    "print(f\"Answer #2: {data[cut_off]}\")"
   ]
  }
 ],
 "metadata": {
  "kernelspec": {
   "display_name": "Python 3 (ipykernel)",
   "language": "python",
   "name": "python3"
  },
  "language_info": {
   "codemirror_mode": {
    "name": "ipython",
    "version": 3
   },
   "file_extension": ".py",
   "mimetype": "text/x-python",
   "name": "python",
   "nbconvert_exporter": "python",
   "pygments_lexer": "ipython3",
   "version": "3.9.20"
  }
 },
 "nbformat": 4,
 "nbformat_minor": 5
}
