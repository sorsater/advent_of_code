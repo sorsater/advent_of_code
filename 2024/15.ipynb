{
 "cells": [
  {
   "cell_type": "code",
   "execution_count": 1,
   "id": "ce9841c6-8b83-4581-b2bc-9b845d067745",
   "metadata": {},
   "outputs": [],
   "source": [
    "from collections import defaultdict\n",
    "from tqdm.notebook import tqdm"
   ]
  },
  {
   "cell_type": "code",
   "execution_count": 2,
   "id": "bb0b3e4d-fff0-4bce-80c3-ee53c48b45f1",
   "metadata": {},
   "outputs": [],
   "source": [
    "data = open(\"input/15\").read()"
   ]
  },
  {
   "cell_type": "code",
   "execution_count": 3,
   "id": "2964b87d-cc9f-4583-a8ad-a5eb3b8a145a",
   "metadata": {},
   "outputs": [],
   "source": [
    "raw_grid, instructions = data.split(\"\\n\\n\")"
   ]
  },
  {
   "cell_type": "code",
   "execution_count": 4,
   "id": "2bac8b11-78de-470a-9507-9ee1ffabbe87",
   "metadata": {},
   "outputs": [],
   "source": [
    "instructions = instructions.replace(\"\\n\", \"\")"
   ]
  },
  {
   "cell_type": "code",
   "execution_count": 5,
   "id": "caf2cd17-1218-4b2b-83ca-50e7a4be84a5",
   "metadata": {},
   "outputs": [],
   "source": [
    "grid = defaultdict(str)\n",
    "grid2 = defaultdict(str)\n",
    "my_pos = None\n",
    "my_pos2 = None\n",
    "for r, row in enumerate(raw_grid.split()):\n",
    "    for c, elem in enumerate(row):\n",
    "        if elem == \"@\":\n",
    "            my_pos = (r, c)\n",
    "            my_pos2 = (r, c * 2)\n",
    "            elem = \".\"\n",
    "        grid[(r, c)] = elem\n",
    "\n",
    "        if elem == \"O\":\n",
    "            elem1 = \"[\"\n",
    "            elem2 = \"]\"\n",
    "        else:\n",
    "            elem1 = elem2 = elem\n",
    "\n",
    "        grid2[(r, c * 2)] = elem1\n",
    "        grid2[(r, c * 2 + 1)] = elem2"
   ]
  },
  {
   "cell_type": "code",
   "execution_count": 6,
   "id": "e2da06fb-8155-460d-a595-2d0083e10b32",
   "metadata": {},
   "outputs": [],
   "source": [
    "instr_map = {\n",
    "    \">\": [0, 1],\n",
    "    \"<\": [0, -1],\n",
    "    \"^\": [-1, 0],\n",
    "    \"v\": [1, 0],\n",
    "}"
   ]
  },
  {
   "cell_type": "markdown",
   "id": "5b9d5550-983d-49c8-9bc3-43b67ea294a8",
   "metadata": {},
   "source": [
    "# Part 1"
   ]
  },
  {
   "cell_type": "code",
   "execution_count": 7,
   "id": "3b7745aa-3c8c-41a0-83f7-190402d59d87",
   "metadata": {},
   "outputs": [],
   "source": [
    "def do_instr(instr, my_pos):\n",
    "    d = instr_map[instr]\n",
    "    wanted_pos = (my_pos[0] + d[0], my_pos[1] + d[1])\n",
    "    elem = grid[wanted_pos]\n",
    "    \n",
    "    if elem == \"#\":\n",
    "        return my_pos\n",
    "        \n",
    "    if elem == \".\":\n",
    "        return wanted_pos\n",
    "\n",
    "    # TODO rremvoe\n",
    "    if elem == \"O\":\n",
    "        i = 1\n",
    "        while True:\n",
    "            next_pos = (my_pos[0] + d[0] * i, my_pos[1] + d[1] * i)\n",
    " \n",
    "            elem = grid[next_pos]\n",
    "            if elem == \".\":\n",
    "                grid[next_pos] = \"O\"\n",
    "                grid[wanted_pos] = \".\"\n",
    "                return wanted_pos\n",
    "            if elem == \"#\":\n",
    "                return my_pos\n",
    "\n",
    "            i += 1"
   ]
  },
  {
   "cell_type": "code",
   "execution_count": 8,
   "id": "d00eceb0-5b6d-4b09-8d4a-fc72fd3e9782",
   "metadata": {},
   "outputs": [],
   "source": [
    "for instr in instructions:\n",
    "    my_pos = do_instr(instr, my_pos)"
   ]
  },
  {
   "cell_type": "code",
   "execution_count": 9,
   "id": "023b6a12-7166-4644-b06a-1c3e70ce4a47",
   "metadata": {},
   "outputs": [],
   "source": [
    "def calculate_sum():\n",
    "    price = 0\n",
    "    for pos, val in grid.items():\n",
    "        if val != \"O\":\n",
    "            continue\n",
    "        price += 100 * pos[0] + pos[1]\n",
    "    return price"
   ]
  },
  {
   "cell_type": "code",
   "execution_count": 10,
   "id": "8e7cd6b4-a6ca-449b-80ff-7daa5069f808",
   "metadata": {},
   "outputs": [
    {
     "name": "stdout",
     "output_type": "stream",
     "text": [
      "Answer #1: 1514333\n"
     ]
    }
   ],
   "source": [
    "print(f\"Answer #1: {calculate_sum()}\")"
   ]
  },
  {
   "cell_type": "markdown",
   "id": "fdc5b565-06f3-4007-b781-736e3d3ce25d",
   "metadata": {},
   "source": [
    "# Part 2"
   ]
  },
  {
   "cell_type": "code",
   "execution_count": 11,
   "id": "5371d739-99f5-4da3-84c8-ee9eaa49e8d6",
   "metadata": {},
   "outputs": [],
   "source": [
    "def do_instr2(instr, my_pos):\n",
    "    d = instr_map[instr]\n",
    "    wanted_pos = (my_pos[0] + d[0], my_pos[1] + d[1])\n",
    "    elem = grid2[wanted_pos]\n",
    "    \n",
    "    if elem == \"#\":\n",
    "        return my_pos\n",
    "        \n",
    "    if elem == \".\":\n",
    "        return wanted_pos\n",
    "        \n",
    "    if elem in [\"[\", \"]\"]:\n",
    "        if instr in [\"<\", \">\"]:\n",
    "            # This is the \"easy\" one, left/right wont affect other than that row\n",
    "            i = 1\n",
    "            elems = []\n",
    "            opposite = \"[\" if elem == \"]\" else \"]\"\n",
    "            while True:\n",
    "                next_pos = (my_pos[0] + d[0] * i, my_pos[1] + d[1] * i)\n",
    "                n_elem = grid2[next_pos]\n",
    "                elems.append([n_elem, next_pos])\n",
    "                if n_elem == \".\":\n",
    "                    toggle = True\n",
    "                    for e, pos in elems[1:]:\n",
    "                        grid2[pos] = elem if toggle else opposite\n",
    "                        toggle = not toggle\n",
    "                    grid2[wanted_pos] = \".\"\n",
    "                    return wanted_pos\n",
    "                if n_elem == \"#\":\n",
    "                    return my_pos\n",
    "                i += 1\n",
    "        else:\n",
    "            return move_up_down(instr, my_pos)\n"
   ]
  },
  {
   "cell_type": "code",
   "execution_count": 12,
   "id": "719c073d-6c74-49ca-9e77-65c772942a25",
   "metadata": {},
   "outputs": [],
   "source": [
    "def do_the_updates(instr, visited):\n",
    "    pos_cache = {p: grid2[p] for p in visited}\n",
    "    # Reset those positions to simplify update\n",
    "    for p in visited:\n",
    "        grid2[p] = \".\"\n",
    "    if instr == \"^\":\n",
    "        for pos in visited:\n",
    "            above_pos = (pos[0] - 1, pos[1])\n",
    "            grid2[above_pos] = pos_cache[pos]        \n",
    "    else:\n",
    "        for pos in visited:\n",
    "            below_pos = (pos[0] + 1, pos[1])\n",
    "            grid2[below_pos] = pos_cache[pos]\n",
    "        pass\n",
    "    "
   ]
  },
  {
   "cell_type": "code",
   "execution_count": 13,
   "id": "f4cdc1fa-17ae-44cc-9cf4-90d0af0f13c5",
   "metadata": {},
   "outputs": [],
   "source": [
    "def move_up_down(instr, my_pos):\n",
    "    d = instr_map[instr]\n",
    "    wanted_pos = (my_pos[0] + d[0], my_pos[1] + d[1])\n",
    "    elem = grid2[wanted_pos]\n",
    "    queue = [wanted_pos]\n",
    "    if elem == \"]\":\n",
    "        queue.append((wanted_pos[0], wanted_pos[1] - 1))\n",
    "    else:\n",
    "        queue.append((wanted_pos[0], wanted_pos[1] + 1))\n",
    "    visited = set()\n",
    "    while queue:\n",
    "        cur_pos = queue.pop()\n",
    "        if cur_pos in visited:\n",
    "            continue\n",
    "        visited.add(cur_pos)\n",
    "        grid_elem = grid2[cur_pos]\n",
    "        if instr == \"^\":\n",
    "            above_below_pos = (cur_pos[0] - 1, cur_pos[1])\n",
    "        else:\n",
    "            above_below_pos = (cur_pos[0] + 1, cur_pos[1])\n",
    "        above_below_elem = grid2[above_below_pos]\n",
    "\n",
    "        if above_below_elem == \"#\":\n",
    "            # Won't work\n",
    "            return my_pos\n",
    "\n",
    "        if above_below_elem in [\"]\", \"[\"]:\n",
    "            queue.append(above_below_pos)\n",
    "            if above_below_elem == grid_elem:\n",
    "                continue\n",
    "            else:\n",
    "                if above_below_elem == \"]\":\n",
    "                    queue.append((above_below_pos[0], above_below_pos[1] - 1))\n",
    "                else:\n",
    "                    queue.append((above_below_pos[0], above_below_pos[1] + 1))\n",
    "    \n",
    "    do_the_updates(instr, visited)\n",
    "    return wanted_pos\n",
    "                      "
   ]
  },
  {
   "cell_type": "code",
   "execution_count": 14,
   "id": "3d280c1f-317c-435d-b808-e4f3f8c3d648",
   "metadata": {},
   "outputs": [],
   "source": [
    "for instr in instructions:\n",
    "    my_pos2 = do_instr2(instr, my_pos2)"
   ]
  },
  {
   "cell_type": "code",
   "execution_count": 15,
   "id": "45c374ab-5f8f-478f-972d-c690d778cabd",
   "metadata": {},
   "outputs": [],
   "source": [
    "def calculate_sum2():\n",
    "    price = 0\n",
    "    for pos, val in grid2.items():\n",
    "        if val != \"[\":\n",
    "            continue\n",
    "        price += 100 * pos[0] + pos[1]\n",
    "    return price"
   ]
  },
  {
   "cell_type": "code",
   "execution_count": 16,
   "id": "1c4cc299-58d4-49a4-af4f-9e203f2cd269",
   "metadata": {},
   "outputs": [
    {
     "name": "stdout",
     "output_type": "stream",
     "text": [
      "Answer #2: 1528453\n"
     ]
    }
   ],
   "source": [
    "print(f\"Answer #2: {calculate_sum2()}\")"
   ]
  }
 ],
 "metadata": {
  "kernelspec": {
   "display_name": "Python 3 (ipykernel)",
   "language": "python",
   "name": "python3"
  },
  "language_info": {
   "codemirror_mode": {
    "name": "ipython",
    "version": 3
   },
   "file_extension": ".py",
   "mimetype": "text/x-python",
   "name": "python",
   "nbconvert_exporter": "python",
   "pygments_lexer": "ipython3",
   "version": "3.9.6"
  }
 },
 "nbformat": 4,
 "nbformat_minor": 5
}
