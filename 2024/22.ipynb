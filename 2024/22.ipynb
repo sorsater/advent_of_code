{
 "cells": [
  {
   "cell_type": "code",
   "execution_count": 1,
   "id": "3c39fc47-7073-4d60-8111-d10d82ba7ddf",
   "metadata": {},
   "outputs": [],
   "source": [
    "from collections import defaultdict\n",
    "from tqdm.notebook import tqdm"
   ]
  },
  {
   "cell_type": "code",
   "execution_count": 2,
   "id": "2859d487-10b4-4bad-a586-eae7c8dd9604",
   "metadata": {},
   "outputs": [],
   "source": [
    "data = list(map(int, open(\"input/22\").read().splitlines()))"
   ]
  },
  {
   "cell_type": "code",
   "execution_count": 3,
   "id": "406d4878-5725-41e2-a62c-de155546d9fe",
   "metadata": {},
   "outputs": [],
   "source": [
    "def mix(number, secret_number):\n",
    "    return number ^ secret_number\n",
    "\n",
    "def prune(number):\n",
    "    return number % 16777216"
   ]
  },
  {
   "cell_type": "code",
   "execution_count": 4,
   "id": "5620665e-1a5b-46f0-8b99-8668e7215674",
   "metadata": {},
   "outputs": [],
   "source": [
    "def next_number(secret_number):\n",
    "    number = secret_number * 64\n",
    "    secret_number = mix(number, secret_number)\n",
    "    secret_number = prune(secret_number)\n",
    "    \n",
    "    number = secret_number // 32\n",
    "    number = mix(number, secret_number)\n",
    "    secret_number = prune(number)\n",
    "    \n",
    "    number = secret_number * 2048\n",
    "    number = mix(number, secret_number)\n",
    "    number = prune(number)\n",
    "    \n",
    "    return number"
   ]
  },
  {
   "cell_type": "code",
   "execution_count": 5,
   "id": "e3888a3c-1b74-4687-894d-dbdd6679d893",
   "metadata": {},
   "outputs": [],
   "source": [
    "def run_one(num):\n",
    "    res = []\n",
    "    for i in range(2000):\n",
    "        num = next_number(num)\n",
    "        res.append(num % 10)\n",
    "    return num, res"
   ]
  },
  {
   "cell_type": "code",
   "execution_count": 6,
   "id": "e98d65e8-8eee-46f4-8a77-dfbf652576e3",
   "metadata": {},
   "outputs": [],
   "source": [
    "best_keys = defaultdict(int)\n",
    "def store_patterns(sequence, initial):\n",
    "    used_keys = set()\n",
    "    diffs = [sequence[0] - initial % 10]\n",
    "    for idx, num in enumerate(sequence[:-1]):\n",
    "        diffs.append(sequence[idx + 1] - num)\n",
    "\n",
    "        last_four = tuple(diffs[-4:])\n",
    "        if last_four in used_keys:\n",
    "            continue\n",
    "        if len(last_four) < 4:\n",
    "            continue\n",
    "        best_keys[last_four] += sequence[idx + 1]\n",
    "        used_keys.add(last_four)"
   ]
  },
  {
   "cell_type": "code",
   "execution_count": 7,
   "id": "9d1d3b4e-6f9b-4e86-9801-07889a738b9e",
   "metadata": {},
   "outputs": [
    {
     "data": {
      "application/vnd.jupyter.widget-view+json": {
       "model_id": "d46800f7e75f4c71bd6a0df5f06bd693",
       "version_major": 2,
       "version_minor": 0
      },
      "text/plain": [
       "  0%|          | 0/1536 [00:00<?, ?it/s]"
      ]
     },
     "metadata": {},
     "output_type": "display_data"
    },
    {
     "name": "stdout",
     "output_type": "stream",
     "text": [
      "Answer #1: 13185239446\n"
     ]
    }
   ],
   "source": [
    "part1 = 0\n",
    "part2 = 0\n",
    "for num in tqdm(data):\n",
    "    part1_part, part2_seq = run_one(num)\n",
    "    store_patterns(part2_seq, num)\n",
    "    part1 += part1_part\n",
    "print(f\"Answer #1: {part1}\")"
   ]
  },
  {
   "cell_type": "code",
   "execution_count": 8,
   "id": "b29744c9-7f0d-4ae9-ada0-2b3a14515367",
   "metadata": {},
   "outputs": [
    {
     "name": "stdout",
     "output_type": "stream",
     "text": [
      "Answer #2: 1501\n"
     ]
    }
   ],
   "source": [
    "part2 = max(best_keys.values())\n",
    "print(f\"Answer #2: {part2}\")"
   ]
  }
 ],
 "metadata": {
  "kernelspec": {
   "display_name": "Python 3 (ipykernel)",
   "language": "python",
   "name": "python3"
  },
  "language_info": {
   "codemirror_mode": {
    "name": "ipython",
    "version": 3
   },
   "file_extension": ".py",
   "mimetype": "text/x-python",
   "name": "python",
   "nbconvert_exporter": "python",
   "pygments_lexer": "ipython3",
   "version": "3.9.6"
  }
 },
 "nbformat": 4,
 "nbformat_minor": 5
}
