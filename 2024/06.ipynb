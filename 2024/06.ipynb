{
 "cells": [
  {
   "cell_type": "code",
   "execution_count": 1,
   "id": "ba650470-79c1-4688-bad4-b7d975d452d4",
   "metadata": {},
   "outputs": [],
   "source": [
    "from copy import deepcopy\n",
    "from tqdm.notebook import tqdm"
   ]
  },
  {
   "cell_type": "code",
   "execution_count": 2,
   "id": "2c72abf5-8811-49c9-8852-89d48bfee4c2",
   "metadata": {},
   "outputs": [],
   "source": [
    "data = open(\"input/06\").read().splitlines()"
   ]
  },
  {
   "cell_type": "code",
   "execution_count": 3,
   "id": "da7ecb1d-36c0-423a-b94a-b3fd108f1db6",
   "metadata": {},
   "outputs": [],
   "source": [
    "grid = {}\n",
    "dude_start_pos = None\n",
    "for r_idx, row in enumerate(data):\n",
    "    for c_idx, item in enumerate(row):\n",
    "        original_grid[(r_idx, c_idx)] = item == \"#\"\n",
    "        if item == \"^\":\n",
    "            dude_start_pos = (r_idx, c_idx)"
   ]
  },
  {
   "cell_type": "code",
   "execution_count": 4,
   "id": "75e96e76-8946-491d-8696-84d496274e79",
   "metadata": {},
   "outputs": [],
   "source": [
    "directions = {\n",
    "    (-1, 0): (0, 1),\n",
    "    (0, 1): (1, 0),\n",
    "    (1, 0): (0, -1),\n",
    "    (0, -1): (-1, 0),\n",
    "}"
   ]
  },
  {
   "cell_type": "code",
   "execution_count": 5,
   "id": "0c1d62a0-3c8e-4ff9-9993-dbdeaae8f01a",
   "metadata": {},
   "outputs": [],
   "source": [
    "def find_loop(r, c, part1=False):\n",
    "    dude_pos = dude_start_pos\n",
    "    direction = (-1, 0)\n",
    "    grid[(r, c)] = True\n",
    "    visited_part1 = set()\n",
    "    visited_part2 = set()\n",
    "    while True:\n",
    "        if (dude_pos, direction) in visited_part2:\n",
    "            grid[(r, c)] = False\n",
    "            return True\n",
    "        visited_part1.add(dude_pos)\n",
    "        visited_part2.add((dude_pos, direction))\n",
    "        next_pos = (dude_pos[0] + direction[0], dude_pos[1] + direction[1])\n",
    "        grid_val = grid.get(next_pos)\n",
    "        if grid_val is None: # outside\n",
    "            grid[(r, c)] = False\n",
    "            if part1:\n",
    "                return visited_part1\n",
    "            return False\n",
    "\n",
    "        if grid_val: # obstacle\n",
    "            for i in range(3): # avoid hitting wall on two sides\n",
    "                direction = directions[direction]\n",
    "                tmp_dude_pos = (dude_pos[0] + direction[0], dude_pos[1] + direction[1])\n",
    "                if not original_grid.get(tmp_dude_pos):\n",
    "                    dude_pos = (dude_pos[0] + direction[0], dude_pos[1] + direction[1])\n",
    "                    break\n",
    "        else:\n",
    "            dude_pos = next_pos"
   ]
  },
  {
   "cell_type": "code",
   "execution_count": 6,
   "id": "25f94cb8-f673-4338-915d-7c7cab3a1c4c",
   "metadata": {},
   "outputs": [
    {
     "name": "stdout",
     "output_type": "stream",
     "text": [
      "Answer #1: 5212\n"
     ]
    }
   ],
   "source": [
    "part1_visited = find_loop(-1, -1, part1=True) # using invalid index to only get visited\n",
    "print(f\"Answer #1: {len(part1_visited)}\")"
   ]
  },
  {
   "cell_type": "markdown",
   "id": "289de6ef-2d35-4471-85e1-29fcf13c394b",
   "metadata": {},
   "source": [
    "# Part 2"
   ]
  },
  {
   "cell_type": "code",
   "execution_count": 7,
   "id": "2ebcf95e-5943-4557-9b0e-2f3fcdcc7321",
   "metadata": {
    "scrolled": true
   },
   "outputs": [
    {
     "data": {
      "application/vnd.jupyter.widget-view+json": {
       "model_id": "35eab7d0b74943feb7b55511d49b721b",
       "version_major": 2,
       "version_minor": 0
      },
      "text/plain": [
       "  0%|          | 0/130 [00:00<?, ?it/s]"
      ]
     },
     "metadata": {},
     "output_type": "display_data"
    }
   ],
   "source": [
    "part2 = 0\n",
    "for r_idx in tqdm(range(len(data))):\n",
    "    for c_idx in range(len(data[0])):\n",
    "        pos = (r_idx, c_idx)\n",
    "        if original_grid[pos]: # Ignore if already placed\n",
    "            continue\n",
    "        if pos == dude_start_pos: # Ignore where we start\n",
    "            continue\n",
    "        if pos not in part1_visited: # Only care about the places we visited in part 1\n",
    "            continue\n",
    "        if find_loop(r_idx, c_idx):\n",
    "            part2 += 1"
   ]
  },
  {
   "cell_type": "code",
   "execution_count": 8,
   "id": "62047c12-32dc-42da-a1d8-f637ba8319ab",
   "metadata": {},
   "outputs": [
    {
     "name": "stdout",
     "output_type": "stream",
     "text": [
      "Answer #2: 1767\n"
     ]
    }
   ],
   "source": [
    "print(f\"Answer #2: {part2}\")"
   ]
  }
 ],
 "metadata": {
  "kernelspec": {
   "display_name": "Python 3 (ipykernel)",
   "language": "python",
   "name": "python3"
  },
  "language_info": {
   "codemirror_mode": {
    "name": "ipython",
    "version": 3
   },
   "file_extension": ".py",
   "mimetype": "text/x-python",
   "name": "python",
   "nbconvert_exporter": "python",
   "pygments_lexer": "ipython3",
   "version": "3.9.20"
  }
 },
 "nbformat": 4,
 "nbformat_minor": 5
}
