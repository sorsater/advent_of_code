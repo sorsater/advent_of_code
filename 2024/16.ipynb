{
 "cells": [
  {
   "cell_type": "code",
   "execution_count": 1,
   "id": "f63231c5-668d-438b-a805-8eb48fcbf4c0",
   "metadata": {},
   "outputs": [],
   "source": [
    "import heapq\n",
    "from tqdm.notebook import tqdm"
   ]
  },
  {
   "cell_type": "code",
   "execution_count": 2,
   "id": "6f8a0287-6b6b-49bb-99b2-bdcea66e5696",
   "metadata": {},
   "outputs": [],
   "source": [
    "data = open(\"input/16\").read().splitlines()"
   ]
  },
  {
   "cell_type": "code",
   "execution_count": 3,
   "id": "53cf9615-d2dc-4b63-be77-8ea1ccff9681",
   "metadata": {},
   "outputs": [],
   "source": [
    "grid = {}\n",
    "start = None\n",
    "end = None\n",
    "for r, row in enumerate(data):\n",
    "    for c, elem in enumerate(row):\n",
    "        grid[(r, c)] = elem\n",
    "        if elem == \"S\":\n",
    "            start = (r, c)\n",
    "        if elem == \"E\":\n",
    "            end = (r, c)"
   ]
  },
  {
   "cell_type": "code",
   "execution_count": 4,
   "id": "33ad225e-a548-4764-883d-35662e799fc7",
   "metadata": {},
   "outputs": [],
   "source": [
    "def astart_find_best(pos, direction):\n",
    "    q = []\n",
    "    heapq.heappush(q, (0, 0, pos, direction))\n",
    "\n",
    "    directions = [(-1, 0), (1, 0), (0, -1), (0, 1)]\n",
    "    visited = set()\n",
    "    while q:\n",
    "        h_cost, cost, pos, prev_direction = heapq.heappop(q)\n",
    "\n",
    "        for direction in directions:\n",
    "            neighbour = (pos[0] + direction[0], pos[1] + direction[1])\n",
    "            neighbour_elem = grid.get(neighbour)\n",
    "            if not neighbour_elem or neighbour_elem == \"#\" or neighbour in visited:\n",
    "                continue\n",
    "            \n",
    "            if neighbour_elem == \"E\":\n",
    "                # +1 for the end node\n",
    "                return cost + 1\n",
    "                \n",
    "            visited.add(neighbour)\n",
    "\n",
    "            if direction == prev_direction:\n",
    "                new_cost = cost + 1\n",
    "            else:\n",
    "                new_cost = cost + 1001\n",
    "                \n",
    "            heur = abs(end[0] - neighbour[0]) + abs(end[1] - neighbour[1])\n",
    "            \n",
    "            heapq.heappush(q, (heur + new_cost, new_cost, neighbour, direction))\n"
   ]
  },
  {
   "cell_type": "code",
   "execution_count": 5,
   "id": "faa2c983-cab1-412f-a438-c76ad18e5729",
   "metadata": {},
   "outputs": [
    {
     "name": "stdout",
     "output_type": "stream",
     "text": [
      "Answer #1: 90460\n"
     ]
    }
   ],
   "source": [
    "part1 = astart_find_best(start, (0, 1))\n",
    "print(f\"Answer #1: {part1}\")"
   ]
  },
  {
   "cell_type": "markdown",
   "id": "11a424a1-633f-4440-b66d-6496e51a31ea",
   "metadata": {},
   "source": [
    "# Part 2"
   ]
  },
  {
   "cell_type": "code",
   "execution_count": 6,
   "id": "431fb13a-b266-4a85-a408-42cf3ef271af",
   "metadata": {},
   "outputs": [
    {
     "data": {
      "application/vnd.jupyter.widget-view+json": {
       "model_id": "51b26949070146b7aa14dd7776028774",
       "version_major": 2,
       "version_minor": 0
      },
      "text/plain": [
       "  0%|          | 0/19881 [00:00<?, ?it/s]"
      ]
     },
     "metadata": {},
     "output_type": "display_data"
    }
   ],
   "source": [
    "# Cache intermediate steps to speed up the bfs in part 2\n",
    "\n",
    "shortest_map = {}\n",
    "for pos in tqdm(grid.keys()):\n",
    "    if grid[pos] == \"#\":\n",
    "        continue\n",
    "    shortest1 = astart_find_best(pos, (0, 1))\n",
    "    shortest2 = astart_find_best(pos, (0, -1))\n",
    "    shortest3 = astart_find_best(pos, (1, 0))\n",
    "    shortest4 = astart_find_best(pos, (-1, 0))\n",
    "\n",
    "    shortest_map[(pos[0], pos[1])] = min(shortest1, shortest2, shortest3, shortest4)"
   ]
  },
  {
   "cell_type": "code",
   "execution_count": 7,
   "id": "df76fe46-2cb0-46a8-9010-4160c9dd60fd",
   "metadata": {},
   "outputs": [],
   "source": [
    "def bfs_find_all(pos, direction, upper_limit):\n",
    "    q = []\n",
    "    heapq.heappush(q, (0, pos, direction, {pos}))\n",
    "\n",
    "    directions = [(-1, 0), (1, 0), (0, -1), (0, 1)]\n",
    "    poses_in_path = set()\n",
    "   \n",
    "    while q:\n",
    "        cost, pos, prev_direction, path = heapq.heappop(q)\n",
    "\n",
    "        if cost + shortest_map[(pos[0], pos[1])] > upper_limit:\n",
    "            continue\n",
    "\n",
    "        for direction in directions:\n",
    "            neighbour = (pos[0] + direction[0], pos[1] + direction[1])\n",
    "            \n",
    "            if neighbour in path:\n",
    "                continue\n",
    "\n",
    "            neighbour_elem = grid.get(neighbour)\n",
    "\n",
    "            if not neighbour_elem or neighbour_elem == \"#\":\n",
    "                continue\n",
    "\n",
    "            if neighbour_elem == \"E\":\n",
    "                for p in path:\n",
    "                    poses_in_path.add(p)\n",
    "                \n",
    "            if direction == prev_direction:\n",
    "                heapq.heappush(q, (cost + 1, neighbour, direction, path | {neighbour}))\n",
    "            else:\n",
    "                heapq.heappush(q, (cost + 1001, neighbour, direction, path | {neighbour}))\n",
    "\n",
    "    # +1 for the end node\n",
    "    return len(poses_in_path) + 1"
   ]
  },
  {
   "cell_type": "code",
   "execution_count": 8,
   "id": "67698ea2-8a56-4ccb-ad08-31a2aff06447",
   "metadata": {},
   "outputs": [
    {
     "name": "stdout",
     "output_type": "stream",
     "text": [
      "Answer #2: 575\n"
     ]
    }
   ],
   "source": [
    "part2 = bfs_find_all(start, (0, 1), part1)\n",
    "print(f\"Answer #2: {part2}\")"
   ]
  }
 ],
 "metadata": {
  "kernelspec": {
   "display_name": "Python 3 (ipykernel)",
   "language": "python",
   "name": "python3"
  },
  "language_info": {
   "codemirror_mode": {
    "name": "ipython",
    "version": 3
   },
   "file_extension": ".py",
   "mimetype": "text/x-python",
   "name": "python",
   "nbconvert_exporter": "python",
   "pygments_lexer": "ipython3",
   "version": "3.9.20"
  }
 },
 "nbformat": 4,
 "nbformat_minor": 5
}
