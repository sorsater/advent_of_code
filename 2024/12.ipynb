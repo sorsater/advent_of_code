{
 "cells": [
  {
   "cell_type": "code",
   "execution_count": 1,
   "id": "07169438-c577-4e74-859c-bb55ce7b5dfa",
   "metadata": {},
   "outputs": [],
   "source": [
    "from collections import defaultdict\n",
    "from itertools import combinations"
   ]
  },
  {
   "cell_type": "code",
   "execution_count": 2,
   "id": "a6f4b162-a35d-40d6-abbf-be33fccb5c41",
   "metadata": {},
   "outputs": [],
   "source": [
    "data = open(\"input/12\").read().splitlines()"
   ]
  },
  {
   "cell_type": "code",
   "execution_count": 3,
   "id": "5c420816-c3c7-4606-b29f-b7c12ae040a6",
   "metadata": {},
   "outputs": [],
   "source": [
    "grid = {}\n",
    "for r, row in enumerate(data):\n",
    "    for c, elem in enumerate(row):\n",
    "        grid[(r, c)] = elem"
   ]
  },
  {
   "cell_type": "code",
   "execution_count": 4,
   "id": "e6618b22-12f5-4741-ada2-d878d3e15c0c",
   "metadata": {},
   "outputs": [],
   "source": [
    "def bfs_find_paths(pos, idx):\n",
    "    plot_key = grid.get(pos) + \"_\" + str(idx)\n",
    "    plots = set()\n",
    "    queue = [pos]\n",
    "    visited = set()\n",
    "    while queue:\n",
    "        current_pos = queue.pop(0)\n",
    "        current_value = grid.get(current_pos)\n",
    "        plots.add(current_pos)\n",
    "        for direction in [(-1, 0), (1, 0), (0, -1), (0, 1)]:\n",
    "            neighbour = (current_pos[0] + direction[0], current_pos[1] + direction[1])\n",
    "            if neighbour in visited:\n",
    "                continue\n",
    "            visited.add(neighbour)\n",
    "            if neighbour in plots:\n",
    "                continue\n",
    "            neighbour_value = grid.get(neighbour)\n",
    "            if neighbour_value != current_value:\n",
    "                continue\n",
    "            queue.append(neighbour)\n",
    "\n",
    "    return plots"
   ]
  },
  {
   "cell_type": "code",
   "execution_count": 5,
   "id": "67818c63-56c0-4489-99f3-d5eaeaf4abb1",
   "metadata": {},
   "outputs": [],
   "source": [
    "garden_plots = {}\n",
    "all_visited_pos = {(-1, -1)}\n",
    "for idx, (pos, value) in enumerate(grid.items()):\n",
    "    if pos in all_visited_pos:\n",
    "        continue\n",
    "    plot_key = grid.get(pos) + \"_\" + str(idx)\n",
    "    \n",
    "    garden_plot_poses = bfs_find_paths(pos, idx)   \n",
    "    garden_plots[plot_key] = garden_plot_poses\n",
    "    \n",
    "    all_visited_pos.update(garden_plot_poses)"
   ]
  },
  {
   "cell_type": "code",
   "execution_count": 6,
   "id": "b0ee1311-db17-415c-ad67-dda732897168",
   "metadata": {},
   "outputs": [],
   "source": [
    "def get_area(key):\n",
    "    return len(garden_plots[key])"
   ]
  },
  {
   "cell_type": "code",
   "execution_count": 7,
   "id": "f7d1c090-1ee3-4e36-b76c-3122b8b35a58",
   "metadata": {},
   "outputs": [],
   "source": [
    "def get_perimeter(key):\n",
    "    vals = garden_plots[key]\n",
    "    perimeter = len(vals) * 4\n",
    "    for a, b in combinations(vals, 2):\n",
    "        x_diff = a[0] - b[0]\n",
    "        y_diff = a[1] - b[1]\n",
    "        if abs(x_diff) + abs(y_diff) == 1:\n",
    "            perimeter -= 2\n",
    "    return perimeter"
   ]
  },
  {
   "cell_type": "code",
   "execution_count": 8,
   "id": "f4b71d2b-2693-43e4-b63b-8b87563f3b2c",
   "metadata": {},
   "outputs": [],
   "source": [
    "def get_price(key):\n",
    "    area = get_area(key)\n",
    "    perimeter = get_perimeter(key)\n",
    "    return area * perimeter"
   ]
  },
  {
   "cell_type": "code",
   "execution_count": 9,
   "id": "05cbf865-e33e-43ab-bfc0-cb8709d12e64",
   "metadata": {},
   "outputs": [
    {
     "name": "stdout",
     "output_type": "stream",
     "text": [
      "Answer #1: 1473276\n"
     ]
    }
   ],
   "source": [
    "price = sum([get_price(k) for k in garden_plots.keys()])\n",
    "print(f\"Answer #1: {price}\")"
   ]
  },
  {
   "cell_type": "markdown",
   "id": "5a0b4475-c176-411b-a905-79206b54e060",
   "metadata": {},
   "source": [
    "# Part 2"
   ]
  },
  {
   "cell_type": "code",
   "execution_count": 10,
   "id": "a7afae99-026f-4102-a982-1b20f40ca028",
   "metadata": {},
   "outputs": [],
   "source": [
    "dirs = [\n",
    "        [[-0.5, 0], \"left\"],\n",
    "        [[0.5, 0], \"right\"],\n",
    "        [[0, -0.5], \"up\"],\n",
    "        [[0, 0.5], \"down\"]\n",
    "    ]"
   ]
  },
  {
   "cell_type": "code",
   "execution_count": 11,
   "id": "06f926dd-ad56-45fa-9047-264bedb1ebf7",
   "metadata": {},
   "outputs": [],
   "source": [
    "def get_num_corners(border_points):\n",
    "    corners = 0\n",
    "    invalid_up_down = {\"up\", \"down\"}\n",
    "    invalid_left_right = {\"left\", \"right\"}\n",
    "\n",
    "    alarm = 0\n",
    "    for pos in border_points:\n",
    "        borders = set()\n",
    "        for d, name in dirs:\n",
    "            new_coord = (pos[0] + d[0], pos[1] + d[1])\n",
    "            if new_coord not in border_points:\n",
    "                continue\n",
    "            borders.add(name)\n",
    "        \n",
    "        if borders == invalid_up_down or borders == invalid_left_right:\n",
    "            continue\n",
    "\n",
    "        off_eight = [[-0.5, 0.5], [0.5, 0.5], [-0.5, -0.5], [0.5, -0.5]]\n",
    "        for d in off_eight:\n",
    "            new = (pos[0] + d[0], pos[1] + d[1])\n",
    "            if new in border_points:\n",
    "                alarm += 1\n",
    "        corners += 1\n",
    "\n",
    "    # Handle edge case when 3 are intersecting, shouldn't be the case.\n",
    "    # Honestly, not a 100 how this works but science huh\n",
    "    # Would likely break if same property on two sides\n",
    "    # Might come back and fix more properly, likely some edge case in the off_eight/alarm calculation\n",
    "    alarm_diff = alarm // 4\n",
    "    if alarm_diff % 2 != 0:\n",
    "        alarm_diff -= 1\n",
    "    corners -= alarm_diff\n",
    "    return corners"
   ]
  },
  {
   "cell_type": "code",
   "execution_count": 12,
   "id": "8242d8f9-19d0-48a7-91df-c9c67ebe34e5",
   "metadata": {},
   "outputs": [],
   "source": [
    "directions = [[-1, 0], [1, 0], [0, -1], [0, 1],[-1, -1], [-1, 1], [1, -1],[1, 1]]\n",
    "def get_sides(key):\n",
    "    vals = garden_plots[key]\n",
    "    border = set()\n",
    "    for val in vals:\n",
    "        for d in directions:\n",
    "            new_pos = (val[0] + d[0], val[1] + d[1])\n",
    "            if new_pos in vals:\n",
    "                continue\n",
    "            new_pos_small = (val[0] + d[0] / 2, val[1] + d[1] / 2)\n",
    "            border.add(new_pos_small)\n",
    "\n",
    "    corners = get_num_corners(border)\n",
    "    return border, corners\n"
   ]
  },
  {
   "cell_type": "code",
   "execution_count": 13,
   "id": "5c1575ae-e81f-41f6-9cd4-2667cf8bd0de",
   "metadata": {},
   "outputs": [],
   "source": [
    "def get_price_part2(key):\n",
    "    area = get_area(key)\n",
    "    border, corners = get_sides(key)\n",
    "    return area * corners\n",
    "    "
   ]
  },
  {
   "cell_type": "code",
   "execution_count": 14,
   "id": "980e9f36-1c31-440d-878f-1302f4d6cbe9",
   "metadata": {},
   "outputs": [
    {
     "name": "stdout",
     "output_type": "stream",
     "text": [
      "Answer #2: 901100\n"
     ]
    }
   ],
   "source": [
    "price = 0\n",
    "for key in garden_plots.keys():\n",
    "    price += get_price_part2(key)\n",
    "\n",
    "print(f\"Answer #2: {price}\")"
   ]
  }
 ],
 "metadata": {
  "kernelspec": {
   "display_name": "Python 3 (ipykernel)",
   "language": "python",
   "name": "python3"
  },
  "language_info": {
   "codemirror_mode": {
    "name": "ipython",
    "version": 3
   },
   "file_extension": ".py",
   "mimetype": "text/x-python",
   "name": "python",
   "nbconvert_exporter": "python",
   "pygments_lexer": "ipython3",
   "version": "3.9.20"
  }
 },
 "nbformat": 4,
 "nbformat_minor": 5
}
