{
 "cells": [
  {
   "cell_type": "code",
   "execution_count": 1,
   "id": "ac5742f5-a8f2-461a-b0c8-515077b7c08b",
   "metadata": {},
   "outputs": [],
   "source": [
    "import re"
   ]
  },
  {
   "cell_type": "code",
   "execution_count": 2,
   "id": "bab06435-72a9-45b5-8e9a-17fc82fcd486",
   "metadata": {},
   "outputs": [],
   "source": [
    "data = open(\"input/01\").read().splitlines()"
   ]
  },
  {
   "cell_type": "code",
   "execution_count": 3,
   "id": "53d9b546-4223-4a2a-8c26-604ca1c9f5b7",
   "metadata": {},
   "outputs": [],
   "source": [
    "pattern = r\"(\\d+)\\s+(\\d+)\""
   ]
  },
  {
   "cell_type": "code",
   "execution_count": 4,
   "id": "bade950a-3cf8-47b4-8d75-1534948ebe86",
   "metadata": {},
   "outputs": [],
   "source": [
    "left, right = [], []\n",
    "for line in data:\n",
    "    m = re.match(pattern, line).groups()\n",
    "    r, l = list(map(int, m))    \n",
    "    left.append(r)\n",
    "    right.append(l)"
   ]
  },
  {
   "cell_type": "code",
   "execution_count": 5,
   "id": "3ad198b1-84c5-41b5-a3ca-b22ae3380311",
   "metadata": {},
   "outputs": [],
   "source": [
    "distance = 0\n",
    "for l, r in zip(sorted(left), sorted(right)):\n",
    "    distance += abs(r - l)"
   ]
  },
  {
   "cell_type": "code",
   "execution_count": 6,
   "id": "a65a0f92-02c7-402b-a5b5-c7df33416744",
   "metadata": {},
   "outputs": [
    {
     "name": "stdout",
     "output_type": "stream",
     "text": [
      "Answer #1: 1938424\n"
     ]
    }
   ],
   "source": [
    "print(f\"Answer #1: {distance}\")"
   ]
  },
  {
   "cell_type": "markdown",
   "id": "ad6135a1-9f27-4696-bf53-e2346c1dba2a",
   "metadata": {},
   "source": [
    "# Part 2"
   ]
  },
  {
   "cell_type": "code",
   "execution_count": 7,
   "id": "45f9e268-295c-477f-9ab4-1f9d86e38a61",
   "metadata": {},
   "outputs": [],
   "source": [
    "similarity_score = 0\n",
    "for item in left:\n",
    "    similarity_score += item * right.count(item)"
   ]
  },
  {
   "cell_type": "code",
   "execution_count": 8,
   "id": "76d5412e-4c7e-4b58-bfd7-2ba2855066d0",
   "metadata": {},
   "outputs": [
    {
     "name": "stdout",
     "output_type": "stream",
     "text": [
      "Answer #2: 22014209\n"
     ]
    }
   ],
   "source": [
    "print(f\"Answer #2: {similarity_score}\")"
   ]
  }
 ],
 "metadata": {
  "kernelspec": {
   "display_name": "Python 3 (ipykernel)",
   "language": "python",
   "name": "python3"
  },
  "language_info": {
   "codemirror_mode": {
    "name": "ipython",
    "version": 3
   },
   "file_extension": ".py",
   "mimetype": "text/x-python",
   "name": "python",
   "nbconvert_exporter": "python",
   "pygments_lexer": "ipython3",
   "version": "3.9.20"
  }
 },
 "nbformat": 4,
 "nbformat_minor": 5
}
