{
 "cells": [
  {
   "cell_type": "code",
   "execution_count": 1,
   "id": "7ce3483e-8326-4f4f-9875-9a500fb54d40",
   "metadata": {},
   "outputs": [],
   "source": [
    "from collections import defaultdict"
   ]
  },
  {
   "cell_type": "code",
   "execution_count": 2,
   "id": "5755378d-ccdf-45f2-8017-9bc026c0f8fe",
   "metadata": {},
   "outputs": [],
   "source": [
    "data = open(\"input/05\").read()"
   ]
  },
  {
   "cell_type": "code",
   "execution_count": 3,
   "id": "ef46ba6d-c896-41d4-bd80-fb46a8e98a7f",
   "metadata": {},
   "outputs": [],
   "source": [
    "page_ordering, pages = data.split(\"\\n\\n\")\n",
    "page_ordering = page_ordering.split(\"\\n\")\n",
    "pages = pages.split(\"\\n\")\n",
    "\n",
    "pages = [list(map(int, page.split(\",\"))) for page in pages]"
   ]
  },
  {
   "cell_type": "code",
   "execution_count": 4,
   "id": "1aad8923-5037-4caf-a41f-5ccdf2a45ca3",
   "metadata": {},
   "outputs": [],
   "source": [
    "deps = defaultdict(list)\n",
    "for line in page_ordering: \n",
    "    a, b = list(map(int, line.split(\"|\")))\n",
    "    deps[a].append(b)"
   ]
  },
  {
   "cell_type": "code",
   "execution_count": 5,
   "id": "acddb3e5-ef2b-46a9-bf61-40199bd12bd7",
   "metadata": {},
   "outputs": [],
   "source": [
    "def check_page(page):\n",
    "    for idx, num in enumerate(page):\n",
    "        for dep in deps[num]:\n",
    "            if dep not in page:\n",
    "                continue\n",
    "            d_idx = page.index(dep)\n",
    "            if d_idx < idx:\n",
    "                return False\n",
    "    return True"
   ]
  },
  {
   "cell_type": "code",
   "execution_count": 6,
   "id": "3d9e2b5c-a0e0-4427-9a65-a00c87be64c4",
   "metadata": {},
   "outputs": [],
   "source": [
    "def convert_incorrect(incorrect):\n",
    "    childrens = defaultdict(list)\n",
    "    for num in incorrect:\n",
    "        childs = deps[num]\n",
    "        for child in childs:\n",
    "            # Filter out the irrelevant ones\n",
    "            if child in incorrect:\n",
    "                childrens[num].append(child)\n",
    "\n",
    "    correct = []\n",
    "    # The first one should be the one with the most kids (remaining sequence)\n",
    "    for key, val in sorted(childrens.items(), key=lambda x: len(x[1]), reverse=True):\n",
    "        correct.append(key)\n",
    "\n",
    "    # add the remaining one\n",
    "    for k in incorrect:\n",
    "        if k not in correct:\n",
    "            correct.append(k)\n",
    "\n",
    "    return correct[len(correct) // 2]"
   ]
  },
  {
   "cell_type": "code",
   "execution_count": 7,
   "id": "1d2c9459-2ceb-4169-9de5-ff3304f47ba9",
   "metadata": {},
   "outputs": [
    {
     "name": "stdout",
     "output_type": "stream",
     "text": [
      "Answer #1: 6505\n",
      "Answer #2: 6897\n"
     ]
    }
   ],
   "source": [
    "part1, part2 = 0, 0\n",
    "for page in pages:\n",
    "    if check_page(page):\n",
    "        part1 += page[len(page) // 2]\n",
    "    else:\n",
    "        part2 += convert_incorrect(page)\n",
    "\n",
    "print(f\"Answer #1: {part1}\")\n",
    "print(f\"Answer #2: {part2}\")"
   ]
  }
 ],
 "metadata": {
  "kernelspec": {
   "display_name": "Python 3 (ipykernel)",
   "language": "python",
   "name": "python3"
  },
  "language_info": {
   "codemirror_mode": {
    "name": "ipython",
    "version": 3
   },
   "file_extension": ".py",
   "mimetype": "text/x-python",
   "name": "python",
   "nbconvert_exporter": "python",
   "pygments_lexer": "ipython3",
   "version": "3.9.20"
  }
 },
 "nbformat": 4,
 "nbformat_minor": 5
}
