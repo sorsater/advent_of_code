{
 "cells": [
  {
   "cell_type": "code",
   "execution_count": 1,
   "id": "867cefda-4eaa-4f46-87de-22abb26906eb",
   "metadata": {},
   "outputs": [],
   "source": [
    "from z3 import BitVec, Optimize"
   ]
  },
  {
   "cell_type": "code",
   "execution_count": 2,
   "id": "eac205b1-603a-4042-8ecd-639271f181a8",
   "metadata": {},
   "outputs": [],
   "source": [
    "data = open(\"input/17\").read().splitlines()"
   ]
  },
  {
   "cell_type": "code",
   "execution_count": 3,
   "id": "f40c01a9-be0a-4113-a2a2-dfd8686a5b0d",
   "metadata": {},
   "outputs": [],
   "source": [
    "rega = int(data[0].split(\": \")[1])\n",
    "regb = int(data[1].split(\": \")[1])\n",
    "regc = int(data[2].split(\": \")[1])\n",
    "\n",
    "regs = {\"A\": rega, \"B\": regb, \"C\": regc}\n",
    "\n",
    "program = list(map(int, data[4].split(\": \")[1].split(\",\")))"
   ]
  },
  {
   "cell_type": "code",
   "execution_count": 4,
   "id": "c68283bd-29fd-4618-8b3b-cbfcae657250",
   "metadata": {},
   "outputs": [],
   "source": [
    "def get_combo_operand(op):\n",
    "    if op == 4:\n",
    "        return regs[\"A\"]\n",
    "    elif op == 5:\n",
    "        return regs[\"B\"]\n",
    "    elif op == 6:\n",
    "        return regs[\"C\"]\n",
    "    return op"
   ]
  },
  {
   "cell_type": "code",
   "execution_count": 5,
   "id": "f67f1839-7f5d-4f80-98b4-84b2cb6a93a2",
   "metadata": {},
   "outputs": [],
   "source": [
    "pc = 0\n",
    "output = []\n",
    "while True:\n",
    "    if pc >= len(program):\n",
    "        break\n",
    "    instr, op = program[pc], program[pc + 1]\n",
    "\n",
    "    if instr == 0:\n",
    "        regs[\"A\"] = int(regs[\"A\"] / 2 ** get_combo_operand(op))\n",
    "        pc += 2\n",
    "\n",
    "    elif instr == 1:\n",
    "        regs[\"B\"] = regs[\"B\"] ^ op\n",
    "        pc += 2\n",
    "\n",
    "    elif instr == 2:\n",
    "        regs[\"B\"] = get_combo_operand(op) % 8\n",
    "        pc += 2\n",
    "\n",
    "    elif instr == 3:\n",
    "        if regs[\"A\"] == 0:\n",
    "            pc += 2\n",
    "            continue\n",
    "        pc = op\n",
    "\n",
    "    elif instr == 4:\n",
    "        regs[\"B\"] = regs[\"B\"] ^ regs[\"C\"]\n",
    "        pc += 2\n",
    "        \n",
    "    elif instr == 5:\n",
    "        output.append(get_combo_operand(op) % 8)\n",
    "        pc += 2\n",
    "        \n",
    "    elif instr == 6:\n",
    "        regs[\"B\"] = int(regs[\"A\"] / 2 ** get_combo_operand(op))\n",
    "        pc += 2\n",
    "        \n",
    "    elif instr == 7:\n",
    "        regs[\"C\"] = int(regs[\"A\"] / 2 ** get_combo_operand(op))\n",
    "        pc += 2"
   ]
  },
  {
   "cell_type": "code",
   "execution_count": 6,
   "id": "cda03e86-212e-44c4-8808-5d726d66a32e",
   "metadata": {},
   "outputs": [
    {
     "name": "stdout",
     "output_type": "stream",
     "text": [
      "Answer #1: 4,3,2,6,4,5,3,2,4\n"
     ]
    }
   ],
   "source": [
    "part1 = \",\".join(list(map(str, output)))\n",
    "print(f\"Answer #1: {part1}\")"
   ]
  },
  {
   "cell_type": "markdown",
   "id": "85428d68-fc82-48e2-a655-6b6d33c98d4b",
   "metadata": {},
   "source": [
    "# Part 2"
   ]
  },
  {
   "cell_type": "code",
   "execution_count": 7,
   "id": "bbc7a4cf-d4a1-4695-8898-7533e33e447d",
   "metadata": {},
   "outputs": [],
   "source": [
    "# Got help here :-)\n",
    "# After analyzing the operations, found some simplifications on operands\n",
    "# Created conditions for a z3 solver :) "
   ]
  },
  {
   "cell_type": "code",
   "execution_count": 8,
   "id": "0fad7343-caba-4b38-8a1c-c5994cd92d8f",
   "metadata": {},
   "outputs": [],
   "source": [
    "pc = 0\n",
    "output = []\n",
    "symbolic_operations = []\n",
    "while True:\n",
    "    if pc >= len(program):\n",
    "        break\n",
    "    instr, op = program[pc], program[pc + 1]\n",
    "\n",
    "    if instr == 0:\n",
    "        symbolic_operations.append(\"A = A >> 3\")\n",
    "    elif instr == 1:\n",
    "        symbolic_operations.append(f\"B = B ^ {op}\")\n",
    "    elif instr == 2:\n",
    "        symbolic_operations.append(\"B = A % 8\")\n",
    "    elif instr == 3:\n",
    "        break\n",
    "    elif instr == 4:\n",
    "        symbolic_operations.append(\"B = B ^ C\")\n",
    "    elif instr == 7:\n",
    "        symbolic_operations.append(\"C = A >> B\")\n",
    "\n",
    "    pc += 2"
   ]
  },
  {
   "cell_type": "code",
   "execution_count": 9,
   "id": "d026e646-c9af-43bc-83b1-af7371fec22b",
   "metadata": {},
   "outputs": [],
   "source": [
    "S = BitVec(\"A\", 64)  # answer should be at least 48 (3 * len(output))\n",
    "A = S\n",
    "B = 0\n",
    "C = 0\n",
    "\n",
    "solver = Optimize()"
   ]
  },
  {
   "cell_type": "code",
   "execution_count": 10,
   "id": "48616b20-be5a-4f4f-b9c4-9b188e378c16",
   "metadata": {},
   "outputs": [],
   "source": [
    "for value in program:\n",
    "    for op in symbolic_operations:\n",
    "        dest, operation = op.split(\" = \")\n",
    "        if dest == \"A\":\n",
    "            A = eval(operation)\n",
    "        if dest == \"B\":\n",
    "            B = eval(operation)\n",
    "        if dest == \"C\":\n",
    "            C = eval(operation)\n",
    "    solver.add(B % 8 == value)\n",
    "solver.add(A == 0)"
   ]
  },
  {
   "cell_type": "code",
   "execution_count": 11,
   "id": "136eb291-3cae-4867-864e-929549a57f96",
   "metadata": {},
   "outputs": [
    {
     "name": "stdout",
     "output_type": "stream",
     "text": [
      "Answer #2: 164540892147389\n"
     ]
    }
   ],
   "source": [
    "solver.minimize(S)\n",
    "solver.check()\n",
    "part2 = solver.model()[S]\n",
    "print(f\"Answer #2: {part2}\")"
   ]
  }
 ],
 "metadata": {
  "kernelspec": {
   "display_name": "Python 3 (ipykernel)",
   "language": "python",
   "name": "python3"
  },
  "language_info": {
   "codemirror_mode": {
    "name": "ipython",
    "version": 3
   },
   "file_extension": ".py",
   "mimetype": "text/x-python",
   "name": "python",
   "nbconvert_exporter": "python",
   "pygments_lexer": "ipython3",
   "version": "3.9.20"
  }
 },
 "nbformat": 4,
 "nbformat_minor": 5
}
