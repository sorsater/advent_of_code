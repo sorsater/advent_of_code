{
 "cells": [
  {
   "cell_type": "code",
   "execution_count": 1,
   "id": "f395bd2c-ad4f-48b9-9dcc-d1c849b08aaf",
   "metadata": {},
   "outputs": [],
   "source": [
    "data = open(\"input/25\").read()"
   ]
  },
  {
   "cell_type": "code",
   "execution_count": 2,
   "id": "f7048715-4a29-4658-b66e-7dcdce92a233",
   "metadata": {},
   "outputs": [],
   "source": [
    "keys, locks = [], []\n",
    "for entry in data.split(\"\\n\\n\"):\n",
    "    result = [-1] * 5\n",
    "    for row in entry.split(\"\\n\"):\n",
    "        for idx, col in enumerate(row):\n",
    "            if col == \"#\":\n",
    "                result[idx] += 1        \n",
    "    \n",
    "    if entry[0] == \"#\":\n",
    "        locks.append(result)\n",
    "    else:\n",
    "        keys.append(result)\n",
    "        "
   ]
  },
  {
   "cell_type": "code",
   "execution_count": 3,
   "id": "ed525dc4-43c7-4fc5-ac8c-171518bd4543",
   "metadata": {},
   "outputs": [],
   "source": [
    "result = 0\n",
    "for key in keys:\n",
    "    for lock in locks:\n",
    "        for a, b in zip(key, lock):\n",
    "            if a + b > 5:\n",
    "                break\n",
    "        else:\n",
    "            result += 1"
   ]
  },
  {
   "cell_type": "code",
   "execution_count": 4,
   "id": "fa662f1f-fa8f-42ab-b966-1707e17f11e8",
   "metadata": {},
   "outputs": [
    {
     "name": "stdout",
     "output_type": "stream",
     "text": [
      "Answer #1: 3223\n"
     ]
    }
   ],
   "source": [
    "print(f\"Answer #1: {result}\")"
   ]
  }
 ],
 "metadata": {
  "kernelspec": {
   "display_name": "Python 3 (ipykernel)",
   "language": "python",
   "name": "python3"
  },
  "language_info": {
   "codemirror_mode": {
    "name": "ipython",
    "version": 3
   },
   "file_extension": ".py",
   "mimetype": "text/x-python",
   "name": "python",
   "nbconvert_exporter": "python",
   "pygments_lexer": "ipython3",
   "version": "3.9.6"
  }
 },
 "nbformat": 4,
 "nbformat_minor": 5
}
