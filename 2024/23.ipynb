{
 "cells": [
  {
   "cell_type": "code",
   "execution_count": 1,
   "metadata": {},
   "outputs": [],
   "source": [
    "from collections import defaultdict\n",
    "import networkx as nx"
   ]
  },
  {
   "cell_type": "code",
   "execution_count": 2,
   "metadata": {},
   "outputs": [],
   "source": [
    "data = open(\"input/23\").read().splitlines()"
   ]
  },
  {
   "cell_type": "code",
   "execution_count": 3,
   "metadata": {},
   "outputs": [],
   "source": [
    "connections = defaultdict(list)\n",
    "G = nx.Graph()\n",
    "for line in data:\n",
    "    if not line:\n",
    "        continue\n",
    "    a, b = line.split(\"-\")\n",
    "    connections[a].append(b)\n",
    "    connections[b].append(a)\n",
    "    G.add_edge(a, b)"
   ]
  },
  {
   "cell_type": "code",
   "execution_count": 4,
   "metadata": {},
   "outputs": [],
   "source": [
    "def check_one(start):\n",
    "    queue = [[start, [start]]]\n",
    "    result = []\n",
    "    while queue:\n",
    "        node, path = queue.pop()\n",
    "        if len(path) == 4:\n",
    "            if path[0] == path[-1]:\n",
    "                result.append(path[:3])\n",
    "            continue\n",
    "        \n",
    "        for child in connections[node]:\n",
    "            queue.append([child, path + [child]])\n",
    "\n",
    "    return result"
   ]
  },
  {
   "cell_type": "code",
   "execution_count": 5,
   "metadata": {},
   "outputs": [],
   "source": [
    "all_connections = []\n",
    "for key in connections.keys():\n",
    "    all_connections.extend(check_one(key))"
   ]
  },
  {
   "cell_type": "code",
   "execution_count": 6,
   "metadata": {},
   "outputs": [],
   "source": [
    "filtered_connections = set()\n",
    "for conn in all_connections:\n",
    "    filtered_connections.add(tuple(sorted(conn)))\n",
    "filtered_connections = list(filtered_connections)"
   ]
  },
  {
   "cell_type": "code",
   "execution_count": 7,
   "metadata": {},
   "outputs": [],
   "source": [
    "part1 = 0\n",
    "for elem in filtered_connections:\n",
    "    for computer in elem:\n",
    "        if computer[0] == \"t\":\n",
    "            part1 += 1\n",
    "            break"
   ]
  },
  {
   "cell_type": "code",
   "execution_count": 8,
   "metadata": {},
   "outputs": [
    {
     "name": "stdout",
     "output_type": "stream",
     "text": [
      "Answer #1: 1269\n"
     ]
    }
   ],
   "source": [
    "print(f\"Answer #1: {part1}\")"
   ]
  },
  {
   "cell_type": "markdown",
   "metadata": {},
   "source": [
    "# Part 2"
   ]
  },
  {
   "cell_type": "code",
   "execution_count": 9,
   "metadata": {},
   "outputs": [],
   "source": [
    "all_cliques = list(nx.find_cliques(G))\n",
    "biggest = sorted(all_cliques, key=lambda x: len(x))[-1]\n",
    "password = \",\".join(sorted(biggest))"
   ]
  },
  {
   "cell_type": "code",
   "execution_count": 10,
   "metadata": {},
   "outputs": [
    {
     "name": "stdout",
     "output_type": "stream",
     "text": [
      "Answer #2: ad,jw,kt,kz,mt,nc,nr,sb,so,tg,vs,wh,yh\n"
     ]
    }
   ],
   "source": [
    "print(f\"Answer #2: {password}\")"
   ]
  }
 ],
 "metadata": {
  "kernelspec": {
   "display_name": "Python 3 (ipykernel)",
   "language": "python",
   "name": "python3"
  },
  "language_info": {
   "codemirror_mode": {
    "name": "ipython",
    "version": 3
   },
   "file_extension": ".py",
   "mimetype": "text/x-python",
   "name": "python",
   "nbconvert_exporter": "python",
   "pygments_lexer": "ipython3",
   "version": "3.9.6"
  }
 },
 "nbformat": 4,
 "nbformat_minor": 4
}
