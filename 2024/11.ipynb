{
 "cells": [
  {
   "cell_type": "code",
   "execution_count": 1,
   "id": "160e6ad5-6897-41c3-b92d-9b52a4cd5424",
   "metadata": {},
   "outputs": [],
   "source": [
    "from collections import defaultdict\n",
    "from copy import deepcopy"
   ]
  },
  {
   "cell_type": "code",
   "execution_count": 2,
   "id": "27690b55-564c-41a2-831a-79e6a3f876e7",
   "metadata": {},
   "outputs": [],
   "source": [
    "data = list(map(int, open(\"input/11\").read().split()))"
   ]
  },
  {
   "cell_type": "code",
   "execution_count": 3,
   "id": "08e3ac2d-3397-472d-882b-a24af9f218be",
   "metadata": {},
   "outputs": [],
   "source": [
    "stones = defaultdict(int)\n",
    "for stone in data:\n",
    "    stones[stone] = 1"
   ]
  },
  {
   "cell_type": "code",
   "execution_count": 4,
   "id": "d72f754e-55f8-4afd-8953-5ef369ce60ff",
   "metadata": {},
   "outputs": [
    {
     "name": "stdout",
     "output_type": "stream",
     "text": [
      "Answer #1: 213625\n",
      "Answer #2: 252442982856820\n"
     ]
    }
   ],
   "source": [
    "for i in range(75):\n",
    "    new_stones = defaultdict(int)\n",
    "    for stone, count in stones.items():\n",
    "        stone_len = len(str(stone))\n",
    "        if stone == 0:\n",
    "            new_stones[1] += count\n",
    "        elif stone_len % 2 == 0:\n",
    "            new_stones[int(str(stone)[:stone_len // 2])] += count\n",
    "            new_stones[int(str(stone)[stone_len // 2:])] += count\n",
    "        else:\n",
    "            new_stones[stone * 2024] += count\n",
    "    stones = deepcopy(new_stones)\n",
    "    if i == 24:\n",
    "        part1 = sum(stones.values())\n",
    "\n",
    "part2 = sum(stones.values())\n",
    "\n",
    "print(f\"Answer #1: {part1}\")\n",
    "print(f\"Answer #2: {part2}\")"
   ]
  }
 ],
 "metadata": {
  "kernelspec": {
   "display_name": "Python 3 (ipykernel)",
   "language": "python",
   "name": "python3"
  },
  "language_info": {
   "codemirror_mode": {
    "name": "ipython",
    "version": 3
   },
   "file_extension": ".py",
   "mimetype": "text/x-python",
   "name": "python",
   "nbconvert_exporter": "python",
   "pygments_lexer": "ipython3",
   "version": "3.9.20"
  }
 },
 "nbformat": 4,
 "nbformat_minor": 5
}
