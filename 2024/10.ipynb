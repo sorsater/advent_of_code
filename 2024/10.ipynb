{
 "cells": [
  {
   "cell_type": "code",
   "execution_count": 1,
   "id": "85cf06da-beb1-4b58-8ed2-a041f95bd2c1",
   "metadata": {},
   "outputs": [],
   "source": [
    "from collections import deque"
   ]
  },
  {
   "cell_type": "code",
   "execution_count": 2,
   "id": "7c1a4109-9307-4d98-a596-7ead914f8a36",
   "metadata": {},
   "outputs": [],
   "source": [
    "data = open(\"input/10\").read().splitlines()"
   ]
  },
  {
   "cell_type": "code",
   "execution_count": 3,
   "id": "6ac9b08b-cd13-42a6-b4f1-aafa7f18f444",
   "metadata": {},
   "outputs": [],
   "source": [
    "grid = {}\n",
    "zeroes = []\n",
    "for r, row in enumerate(data):\n",
    "    for c, elem in enumerate(row):\n",
    "        grid[(r, c)] = int(elem)\n",
    "\n",
    "        if elem == \"0\":\n",
    "            zeroes.append((r, c))"
   ]
  },
  {
   "cell_type": "code",
   "execution_count": 4,
   "id": "9822106a-f16a-4496-ae04-da1c75c47a6c",
   "metadata": {},
   "outputs": [],
   "source": [
    "def bfs_find_paths(pos):\n",
    "    queue = deque([(pos, [pos])])\n",
    "    num_valid = 0\n",
    "    valid_ends = set()\n",
    "    while queue:\n",
    "        current_pos, path = queue.popleft()\n",
    "        current_value = grid.get(current_pos)\n",
    "        if current_value is None:\n",
    "            continue\n",
    "        if current_value == 9:\n",
    "            num_valid += 1\n",
    "            valid_ends.add(current_pos)\n",
    "            continue\n",
    "        for direction in [(-1, 0), (1, 0), (0, -1), (0, 1)]:\n",
    "            neighbour = (current_pos[0] + direction[0], current_pos[1] + direction[1])\n",
    "            if neighbour not in grid:\n",
    "                continue\n",
    "            if neighbour in path:\n",
    "                continue\n",
    "            if grid[neighbour] == current_value + 1:\n",
    "                queue.append((neighbour, path + [neighbour]))\n",
    "\n",
    "    return len(valid_ends), num_valid"
   ]
  },
  {
   "cell_type": "code",
   "execution_count": 5,
   "id": "b8d8bf9b-b878-48a4-869f-d56f6b6beac5",
   "metadata": {},
   "outputs": [],
   "source": [
    "part1, part2 = 0, 0\n",
    "for zero in zeroes:\n",
    "    p1, p2 = all_paths = bfs_find_paths(zero)\n",
    "    part1 += p1\n",
    "    part2 += p2"
   ]
  },
  {
   "cell_type": "code",
   "execution_count": 6,
   "id": "ec85db1a-2624-4eee-88e5-f642d274fbde",
   "metadata": {},
   "outputs": [
    {
     "name": "stdout",
     "output_type": "stream",
     "text": [
      "Answer #1: 510\n"
     ]
    }
   ],
   "source": [
    "print(f\"Answer #1: {part1}\")"
   ]
  },
  {
   "cell_type": "code",
   "execution_count": 7,
   "id": "ce480ef8-a0a0-4f8a-9b07-d90da90a1564",
   "metadata": {},
   "outputs": [
    {
     "name": "stdout",
     "output_type": "stream",
     "text": [
      "Answer #2: 1058\n"
     ]
    }
   ],
   "source": [
    "print(f\"Answer #2: {part2}\")"
   ]
  }
 ],
 "metadata": {
  "kernelspec": {
   "display_name": "Python 3 (ipykernel)",
   "language": "python",
   "name": "python3"
  },
  "language_info": {
   "codemirror_mode": {
    "name": "ipython",
    "version": 3
   },
   "file_extension": ".py",
   "mimetype": "text/x-python",
   "name": "python",
   "nbconvert_exporter": "python",
   "pygments_lexer": "ipython3",
   "version": "3.9.20"
  }
 },
 "nbformat": 4,
 "nbformat_minor": 5
}
