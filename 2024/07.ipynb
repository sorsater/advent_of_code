{
 "cells": [
  {
   "cell_type": "code",
   "execution_count": 1,
   "id": "2aab5f2f-a401-4cda-ab37-a6bead5c966d",
   "metadata": {},
   "outputs": [],
   "source": [
    "from tqdm.notebook import tqdm"
   ]
  },
  {
   "cell_type": "code",
   "execution_count": 2,
   "id": "276715b3-2890-4573-9569-78b49df3532e",
   "metadata": {},
   "outputs": [],
   "source": [
    "data = open(\"input/07\").read().splitlines()"
   ]
  },
  {
   "cell_type": "code",
   "execution_count": 3,
   "id": "1f8679b2-a0c0-4c77-8330-fbcd825c2127",
   "metadata": {},
   "outputs": [],
   "source": [
    "def parse_line(line):\n",
    "    target, nums = line.split(\": \")\n",
    "    nums = list(map(int, nums.split(\" \")))\n",
    "    return int(target), nums"
   ]
  },
  {
   "cell_type": "code",
   "execution_count": 4,
   "id": "259f9978-f313-4c5b-971a-ded54beacf7b",
   "metadata": {},
   "outputs": [],
   "source": [
    "def run_rec(target, current, nums):\n",
    "    if not nums:\n",
    "        return current == target\n",
    "\n",
    "    add = run_rec(target, current + nums[0], nums[1:])\n",
    "    mul = run_rec(target, current * nums[0], nums[1:])\n",
    "\n",
    "    return add or mul"
   ]
  },
  {
   "cell_type": "code",
   "execution_count": 5,
   "id": "6e5ab99b-7b78-4f4b-a62d-cedf860dc63c",
   "metadata": {},
   "outputs": [],
   "source": [
    "def run_concat(target, current, nums):\n",
    "    if not nums:\n",
    "        return current == target\n",
    "\n",
    "    add = run_concat(target, current + nums[0], nums[1:])\n",
    "    mul = run_concat(target, current * nums[0], nums[1:])\n",
    "    con = run_concat(target, int(str(current) + str(nums[0])), nums[1:])\n",
    "\n",
    "    return add or mul or con"
   ]
  },
  {
   "cell_type": "code",
   "execution_count": 6,
   "id": "4b76a5b9-1e0a-4e31-b514-bf16f39b294d",
   "metadata": {},
   "outputs": [],
   "source": [
    "def run_line(line):\n",
    "    target, nums = parse_line(line)\n",
    "\n",
    "    part1_ok = run_rec(target, nums[0], nums[1:])\n",
    "    if part1_ok:\n",
    "        return target, 0\n",
    "\n",
    "    part2_ok = run_concat(target, nums[0], nums[1:])\n",
    "    if part2_ok:\n",
    "        return 0, target\n",
    "\n",
    "    # Not ok for both ways\n",
    "    return 0, 0\n",
    "    "
   ]
  },
  {
   "cell_type": "code",
   "execution_count": 7,
   "id": "2c67d193-6e45-492c-9314-bbadf6acc8b9",
   "metadata": {},
   "outputs": [
    {
     "data": {
      "application/vnd.jupyter.widget-view+json": {
       "model_id": "be4fc81a479446cd8ce2ae2d13a9649b",
       "version_major": 2,
       "version_minor": 0
      },
      "text/plain": [
       "  0%|          | 0/850 [00:00<?, ?it/s]"
      ]
     },
     "metadata": {},
     "output_type": "display_data"
    }
   ],
   "source": [
    "part1 = 0\n",
    "part2 = 0\n",
    "for l in tqdm(data):\n",
    "    p1, p2 = run_line(l)\n",
    "    part1 += p1\n",
    "    part2 += p2\n",
    "\n",
    "# include all from first run\n",
    "part2 += part1"
   ]
  },
  {
   "cell_type": "code",
   "execution_count": 8,
   "id": "dfe81aed-8c99-49fe-98a8-496d2515957e",
   "metadata": {},
   "outputs": [
    {
     "name": "stdout",
     "output_type": "stream",
     "text": [
      "Answer #1: 3312271365652\n"
     ]
    }
   ],
   "source": [
    "print(f\"Answer #1: {part1}\")"
   ]
  },
  {
   "cell_type": "code",
   "execution_count": 9,
   "id": "94dd7c8a-976f-4af2-95b9-84b062f07b41",
   "metadata": {},
   "outputs": [
    {
     "name": "stdout",
     "output_type": "stream",
     "text": [
      "Answer #1: 509463489296712\n"
     ]
    }
   ],
   "source": [
    "print(f\"Answer #1: {part2}\")"
   ]
  }
 ],
 "metadata": {
  "kernelspec": {
   "display_name": "Python 3 (ipykernel)",
   "language": "python",
   "name": "python3"
  },
  "language_info": {
   "codemirror_mode": {
    "name": "ipython",
    "version": 3
   },
   "file_extension": ".py",
   "mimetype": "text/x-python",
   "name": "python",
   "nbconvert_exporter": "python",
   "pygments_lexer": "ipython3",
   "version": "3.9.6"
  }
 },
 "nbformat": 4,
 "nbformat_minor": 5
}
