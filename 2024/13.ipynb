{
 "cells": [
  {
   "cell_type": "code",
   "execution_count": 1,
   "id": "0bdb8ea6-e767-4f02-a1ed-f7b03093167e",
   "metadata": {},
   "outputs": [],
   "source": [
    "from z3 import Int, Solver"
   ]
  },
  {
   "cell_type": "code",
   "execution_count": 2,
   "id": "ed5bde7e-3810-4506-8164-0a8e66895248",
   "metadata": {},
   "outputs": [],
   "source": [
    "data = open(\"input/13\").read().splitlines()"
   ]
  },
  {
   "cell_type": "code",
   "execution_count": 3,
   "id": "022dadcd-bff7-456c-b47a-b48e078d1622",
   "metadata": {},
   "outputs": [],
   "source": [
    "machines = []\n",
    "\n",
    "temp_machine = []\n",
    "for row in data:\n",
    "    if not row:\n",
    "        machines.append(temp_machine)\n",
    "        temp_machine = []\n",
    "        continue\n",
    "    x = int(row.split(\"X\")[1].split(\",\")[0][1:])\n",
    "    y = int(row.split(\"Y\")[1].split(\",\")[0][1:])\n",
    "    temp_machine.append([x, y])\n",
    "\n",
    "machines.append(temp_machine)    "
   ]
  },
  {
   "cell_type": "code",
   "execution_count": 4,
   "id": "7131ae34-a7d6-4041-9535-d4990476baf1",
   "metadata": {},
   "outputs": [],
   "source": [
    "def find_solution(machine, part2=False):\n",
    "    extra_num = 10000000000000 if part2 else 0\n",
    "    a, b, c = machine\n",
    "    \n",
    "    x = Int('x')\n",
    "    y = Int('y')\n",
    "    \n",
    "    solver = Solver()\n",
    "    solver.add(a[0] * x + b[0] * y == c[0] + extra_num)\n",
    "    solver.add(a[1] * x + b[1] * y == c[1] + extra_num)\n",
    "    \n",
    "    solver.check()\n",
    "    try:\n",
    "        model = solver.model()\n",
    "        x_val = model[x].as_long()\n",
    "        y_val = model[y].as_long()\n",
    "        return x_val * 3 + y_val\n",
    "    except:\n",
    "        return 0"
   ]
  },
  {
   "cell_type": "code",
   "execution_count": 5,
   "id": "425f084e-fa5f-4ea5-bffc-8d28c0d466b9",
   "metadata": {},
   "outputs": [
    {
     "name": "stdout",
     "output_type": "stream",
     "text": [
      "Answer #1: 31552\n"
     ]
    }
   ],
   "source": [
    "part1 = 0\n",
    "for m in machines:\n",
    "    part1 += find_solution(m)\n",
    "print(f\"Answer #1: {part1}\")"
   ]
  },
  {
   "cell_type": "code",
   "execution_count": 6,
   "id": "a6efca0b-db59-4216-8852-82f4909ec8bd",
   "metadata": {},
   "outputs": [
    {
     "name": "stdout",
     "output_type": "stream",
     "text": [
      "Answer #2: 95273925552482\n"
     ]
    }
   ],
   "source": [
    "part2 = 0\n",
    "for m in machines:\n",
    "    part2 += find_solution(m, part2=True)\n",
    "print(f\"Answer #2: {part2}\")"
   ]
  }
 ],
 "metadata": {
  "kernelspec": {
   "display_name": "Python 3 (ipykernel)",
   "language": "python",
   "name": "python3"
  },
  "language_info": {
   "codemirror_mode": {
    "name": "ipython",
    "version": 3
   },
   "file_extension": ".py",
   "mimetype": "text/x-python",
   "name": "python",
   "nbconvert_exporter": "python",
   "pygments_lexer": "ipython3",
   "version": "3.9.20"
  }
 },
 "nbformat": 4,
 "nbformat_minor": 5
}
