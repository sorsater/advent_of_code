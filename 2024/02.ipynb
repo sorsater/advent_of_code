{
 "cells": [
  {
   "cell_type": "code",
   "execution_count": 1,
   "id": "0128f3b4-1fe7-473c-a876-b1d9251d3f40",
   "metadata": {},
   "outputs": [],
   "source": [
    "data = open(\"input/02\").read().splitlines()"
   ]
  },
  {
   "cell_type": "code",
   "execution_count": 2,
   "id": "edc41e20-545b-475c-b0f5-fa87de6ac49f",
   "metadata": {},
   "outputs": [],
   "source": [
    "reports = [] \n",
    "for line in data:\n",
    "    reports.append(list(map(int, line.split(\" \"))))"
   ]
  },
  {
   "cell_type": "code",
   "execution_count": 3,
   "id": "de1e72ae-8d3c-4d23-91ab-56a43ac26d27",
   "metadata": {},
   "outputs": [],
   "source": [
    "def is_increasing(report):\n",
    "    for idx, item in enumerate(report[:-1]):\n",
    "        next_item = report[idx+1]\n",
    "        diff = next_item - item\n",
    "        if diff < 1 or diff > 3:\n",
    "            return False\n",
    "\n",
    "    return True"
   ]
  },
  {
   "cell_type": "code",
   "execution_count": 4,
   "id": "536f31ac-ab5a-4672-a8ef-2eb777950e0c",
   "metadata": {},
   "outputs": [],
   "source": [
    "num_safe = 0\n",
    "for report in reports:\n",
    "    safe1 = is_increasing(report)\n",
    "    safe2 = is_increasing(report[::-1])\n",
    "    if safe1 or safe2:\n",
    "        num_safe += 1"
   ]
  },
  {
   "cell_type": "code",
   "execution_count": 5,
   "id": "f69dcfaf-6172-4b43-9d32-1f518b8ee2f4",
   "metadata": {},
   "outputs": [
    {
     "name": "stdout",
     "output_type": "stream",
     "text": [
      "Answer #1: 359\n"
     ]
    }
   ],
   "source": [
    "print(f\"Answer #1: {num_safe}\")"
   ]
  },
  {
   "cell_type": "markdown",
   "id": "381ba1c2-d2d3-4eda-92d9-121805807d2c",
   "metadata": {},
   "source": [
    "# Part 2"
   ]
  },
  {
   "cell_type": "code",
   "execution_count": 6,
   "id": "b7fc713c-998d-4787-91e7-3bfdb2a300ef",
   "metadata": {},
   "outputs": [],
   "source": [
    "num_safe2 = 0\n",
    "for report in reports:\n",
    "    new_reports = []\n",
    "    for idx in range(len(report)):\n",
    "        new_list = report[:idx] + report[idx+1:]\n",
    "        new_reports.append(new_list)\n",
    "\n",
    "    for report_variation in [report] + new_reports:\n",
    "        safe1 = is_increasing(report_variation)\n",
    "        safe2 = is_increasing(report_variation[::-1])\n",
    "        if safe1 or safe2:\n",
    "            num_safe2 += 1\n",
    "            break"
   ]
  },
  {
   "cell_type": "code",
   "execution_count": 7,
   "id": "73a02c64-5c61-4f0d-8b41-dc21e6770527",
   "metadata": {},
   "outputs": [
    {
     "name": "stdout",
     "output_type": "stream",
     "text": [
      "Answer #2: 418\n"
     ]
    }
   ],
   "source": [
    "print(f\"Answer #2: {num_safe2}\")"
   ]
  }
 ],
 "metadata": {
  "kernelspec": {
   "display_name": "Python 3 (ipykernel)",
   "language": "python",
   "name": "python3"
  },
  "language_info": {
   "codemirror_mode": {
    "name": "ipython",
    "version": 3
   },
   "file_extension": ".py",
   "mimetype": "text/x-python",
   "name": "python",
   "nbconvert_exporter": "python",
   "pygments_lexer": "ipython3",
   "version": "3.9.20"
  }
 },
 "nbformat": 4,
 "nbformat_minor": 5
}
