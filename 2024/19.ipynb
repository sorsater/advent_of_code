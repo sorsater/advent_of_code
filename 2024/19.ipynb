{
 "cells": [
  {
   "cell_type": "code",
   "execution_count": 1,
   "id": "c862dbb8-45bb-41f3-a522-c0cd1627a9a6",
   "metadata": {},
   "outputs": [],
   "source": [
    "from functools import cache\n",
    "from tqdm.notebook import tqdm"
   ]
  },
  {
   "cell_type": "code",
   "execution_count": 2,
   "id": "1bd1adb4-55d0-4c08-a6a3-97d95f0657e6",
   "metadata": {},
   "outputs": [],
   "source": [
    "data = open(\"input/19\").read().splitlines()\n",
    "patterns = data[0].split(\", \")\n",
    "towels = data[2:]"
   ]
  },
  {
   "cell_type": "code",
   "execution_count": 3,
   "id": "4a4f0f5b-ef6e-414a-abb4-364bbc4326b2",
   "metadata": {},
   "outputs": [],
   "source": [
    "@cache\n",
    "def part1(towel):\n",
    "    if len(towel) == 0:\n",
    "        return True\n",
    "    for tow in [towel[len(pat):] for pat in patterns if towel.startswith(pat)]:\n",
    "        if part1(tow):\n",
    "            return True\n",
    "    return False"
   ]
  },
  {
   "cell_type": "code",
   "execution_count": 4,
   "id": "faa8adde-d886-4c28-8499-3b49475150aa",
   "metadata": {},
   "outputs": [
    {
     "name": "stdout",
     "output_type": "stream",
     "text": [
      "Answer #1: 336\n"
     ]
    }
   ],
   "source": [
    "# < 1 second\n",
    "res = sum([part1(t) for t in towels])\n",
    "print(f\"Answer #1: {res}\")"
   ]
  },
  {
   "cell_type": "markdown",
   "id": "93bfea90-44a3-4c61-a943-a95096f2ac07",
   "metadata": {},
   "source": [
    "# Part 2"
   ]
  },
  {
   "cell_type": "code",
   "execution_count": 5,
   "id": "0e45089e-2b72-41b0-9a70-6a05b11dcde2",
   "metadata": {},
   "outputs": [],
   "source": [
    "@cache\n",
    "def both_parts(towel):\n",
    "    hits = 0\n",
    "    for pat in patterns:\n",
    "        if pat == towel:\n",
    "            hits += 1\n",
    "        elif towel.startswith(pat):\n",
    "            hits += both_parts(towel[len(pat):])\n",
    "    return hits"
   ]
  },
  {
   "cell_type": "code",
   "execution_count": 6,
   "id": "41b5709b-3073-4622-b7a9-75d00e098306",
   "metadata": {},
   "outputs": [
    {
     "name": "stdout",
     "output_type": "stream",
     "text": [
      "Answer #1: 336\n",
      "Answer #2: 758890600222015\n"
     ]
    }
   ],
   "source": [
    "# < 3 seconds\n",
    "res = [both_parts(t) for t in towels]\n",
    "part1 = len([e for e in res if e > 0])\n",
    "print(f\"Answer #1: {part1}\")\n",
    "\n",
    "part2 = sum(res)\n",
    "print(f\"Answer #2: {part2}\")"
   ]
  }
 ],
 "metadata": {
  "kernelspec": {
   "display_name": "Python 3 (ipykernel)",
   "language": "python",
   "name": "python3"
  },
  "language_info": {
   "codemirror_mode": {
    "name": "ipython",
    "version": 3
   },
   "file_extension": ".py",
   "mimetype": "text/x-python",
   "name": "python",
   "nbconvert_exporter": "python",
   "pygments_lexer": "ipython3",
   "version": "3.9.6"
  }
 },
 "nbformat": 4,
 "nbformat_minor": 5
}
