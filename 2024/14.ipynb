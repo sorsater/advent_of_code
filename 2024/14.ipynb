{
 "cells": [
  {
   "cell_type": "code",
   "execution_count": 1,
   "id": "2cd97ded-7981-4a66-81b8-8fa9cc35b4b0",
   "metadata": {},
   "outputs": [],
   "source": [
    "import re\n",
    "from dataclasses import dataclass\n",
    "from collections import defaultdict"
   ]
  },
  {
   "cell_type": "code",
   "execution_count": 2,
   "id": "573fec66-4122-4900-8f0b-903439233251",
   "metadata": {},
   "outputs": [],
   "source": [
    "data = open(\"input/14\").read().splitlines()"
   ]
  },
  {
   "cell_type": "code",
   "execution_count": 3,
   "id": "30d01783-05b7-4350-860d-28c8da686ce5",
   "metadata": {},
   "outputs": [],
   "source": [
    "pattern = r\"p=(\\d+),(\\d+) v=(-?\\d+),(-?\\d+)\""
   ]
  },
  {
   "cell_type": "code",
   "execution_count": 4,
   "id": "e22f069a-502a-4b45-9c60-00a62d603b8a",
   "metadata": {},
   "outputs": [],
   "source": [
    "width = 101\n",
    "height = 103"
   ]
  },
  {
   "cell_type": "code",
   "execution_count": 5,
   "id": "c48b2cfc-d673-4a93-b539-43f629e2266a",
   "metadata": {},
   "outputs": [],
   "source": [
    "@dataclass\n",
    "class Robot:\n",
    "    x: int\n",
    "    y: int\n",
    "    vx: int\n",
    "    vy: int\n",
    "\n",
    "    def move(self):\n",
    "        self.x = (self.x + self.vx) % width\n",
    "        self.y = (self.y + self.vy) % height"
   ]
  },
  {
   "cell_type": "code",
   "execution_count": 6,
   "id": "be06dade-165c-434d-a7cb-e1ce7a53a271",
   "metadata": {},
   "outputs": [],
   "source": [
    "robots = []\n",
    "for line in data:\n",
    "    x, y, vx, vy = list(map(int, re.match(pattern, line).groups()))\n",
    "    robots.append(Robot(x, y, vx, vy))"
   ]
  },
  {
   "cell_type": "code",
   "execution_count": 7,
   "id": "0a28ba5f-bfaa-4787-8f1f-b77fc15cf30e",
   "metadata": {},
   "outputs": [],
   "source": [
    "for robot in robots:\n",
    "    for _ in range(100):\n",
    "        robot.move()"
   ]
  },
  {
   "cell_type": "code",
   "execution_count": 8,
   "id": "80d2ecf6-1a65-4e15-b168-2374f705c11a",
   "metadata": {},
   "outputs": [],
   "source": [
    "robot_poses = defaultdict(int)\n",
    "for r in robots:\n",
    "    robot_poses[(r.x, r.y)] += 1"
   ]
  },
  {
   "cell_type": "code",
   "execution_count": 9,
   "id": "612644c7-cb0f-4b42-822b-5adda55cbe24",
   "metadata": {},
   "outputs": [],
   "source": [
    "mid_x = width // 2 \n",
    "mid_y = height // 2"
   ]
  },
  {
   "cell_type": "code",
   "execution_count": 10,
   "id": "1a09aa0a-0f2d-455b-9e0e-55b20be884cb",
   "metadata": {},
   "outputs": [],
   "source": [
    "quadrants = defaultdict(int)\n",
    "for y in range(height):\n",
    "    for x in range(width):\n",
    "        if (x, y) in robot_poses:\n",
    "            if x == mid_x or y == mid_y:\n",
    "                continue\n",
    "            quadrants[(x > mid_x, y > mid_y)] += robot_poses[(x, y)]"
   ]
  },
  {
   "cell_type": "code",
   "execution_count": 11,
   "id": "7f073ab1-c9cb-4c1b-8bab-886fc2ddf73e",
   "metadata": {},
   "outputs": [
    {
     "name": "stdout",
     "output_type": "stream",
     "text": [
      "Answer #1: 230435667\n"
     ]
    }
   ],
   "source": [
    "part1 = 1\n",
    "for elem in quadrants.values():\n",
    "    part1 *= elem\n",
    "print(f\"Answer #1: {part1}\")"
   ]
  },
  {
   "cell_type": "markdown",
   "id": "759a3182-2799-498c-b6bb-7955f0004937",
   "metadata": {},
   "source": [
    "# Part 2"
   ]
  },
  {
   "cell_type": "code",
   "execution_count": 12,
   "id": "6d39d795-d902-4b57-90c4-cffa34059fce",
   "metadata": {},
   "outputs": [],
   "source": [
    "# reset robots\n",
    "robots = []\n",
    "for line in data:\n",
    "    x, y, vx, vy = list(map(int, re.match(pattern, line).groups()))\n",
    "    robots.append(Robot(x, y, vx, vy))"
   ]
  },
  {
   "cell_type": "code",
   "execution_count": 13,
   "id": "21fcc308-e95e-47ba-ae8b-84935a26a243",
   "metadata": {},
   "outputs": [],
   "source": [
    "def show_robots():\n",
    "    robot_poses = defaultdict(int)\n",
    "    for r in robots:\n",
    "        robot_poses[(r.x, r.y)] += 1\n",
    "\n",
    "    for y in range(height):\n",
    "        for x in range(width):\n",
    "            elem = \"#\" if (x, y) in robot_poses else \" \" \n",
    "            print(elem, end=\"\")\n",
    "        print()"
   ]
  },
  {
   "cell_type": "code",
   "execution_count": 14,
   "id": "52500cae-66d5-4aff-9d4d-e5e0373add3f",
   "metadata": {},
   "outputs": [
    {
     "name": "stdout",
     "output_type": "stream",
     "text": [
      "Answer #2: 7709\n"
     ]
    }
   ],
   "source": [
    "print(f\"Answer #2: 7709\")"
   ]
  },
  {
   "cell_type": "code",
   "execution_count": 15,
   "id": "e87fe339-ffe3-4950-8720-cfafc51f0ac6",
   "metadata": {},
   "outputs": [
    {
     "name": "stdout",
     "output_type": "stream",
     "text": [
      "                                      ##                                                             \n",
      "                                                      #                                              \n",
      "                   #                                                                                 \n",
      "                         #            #                                                              \n",
      "                         #  #                                                                        \n",
      "     #                                                                           #                   \n",
      "                                 #                                                       #           \n",
      "                                      #                                                              \n",
      "               #         #                                        #                               #  \n",
      "                       #       #                    #                 #                              \n",
      "                                                  #                                             #    \n",
      "                                                                                  #                  \n",
      "                                                                                                 #   \n",
      "                                          #                                                          \n",
      "                         #                                                   #                       \n",
      "                                                                                                     \n",
      "                                                                                                     \n",
      "                                                                                         #           \n",
      "                                                                  #                 ##  #            \n",
      "                                    #                                                                \n",
      "                                                                                                     \n",
      "         #                                                               #                           \n",
      "                                                                                                     \n",
      "                                             #                                                       \n",
      "                  #  #                                                                        #      \n",
      "                                  #                                            #                     \n",
      "                                                    ##                                               \n",
      "      #                                                                                              \n",
      "                                                                                                     \n",
      "                                                                                                     \n",
      "                                                                          #                          \n",
      "                                          #                       #                                  \n",
      "        #                                                                                            \n",
      "                                                          #                                          \n",
      "    #        #               #           #             #                                             \n",
      "                                                    #                                              # \n",
      "                 #                #                                       #                          \n",
      "                                                                        #                            \n",
      "               #                                                      #                              \n",
      "                                                                         #          #                \n",
      "                           #                                                             #           \n",
      "                                         #                                      #                    \n",
      "                                                                               #                     \n",
      "                                                                                                     \n",
      "                            #                                                                        \n",
      "                                                              #                                  #   \n",
      "                                                                                                     \n",
      "    #                                                   #                          #                 \n",
      "                                                                                                     \n",
      "                                                                                                     \n",
      "                                                                                                     \n",
      "                                                           #                             #         # \n",
      "                 #                                                                                   \n",
      "                               #                                                        #            \n",
      "         #             #                                                                             \n",
      "                                       ############################### #                             \n",
      "                                       #                             #       #                       \n",
      "                                       #                             #   #                           \n",
      "                                       #                             #      #                        \n",
      "                                       #                             #                               \n",
      "                                       #              #              #                               \n",
      "                                       #             ###             #                               \n",
      "                           #           #            #####            #                               \n",
      "              #        #               #           #######           #                      #        \n",
      "          #                        #   #          #########          #      #                        \n",
      "#                  #    #              #            #####            #                      #        \n",
      "                                       #           #######           #       #                       \n",
      "                                       #          #########          #                               \n",
      "                                       #         ###########         #                               \n",
      "   #                         #         #        #############        #                               \n",
      "                          #            #          #########          #         #                 #   \n",
      "               #                       #         ###########         #                       #       \n",
      "                             #         #        #############        #           #                   \n",
      "                                       #       ###############       #      #                        \n",
      "             #                         #      #################      #                               \n",
      "                                       #        #############        #        #           #          \n",
      "                  #                    #       ###############       #           #                   \n",
      "                                       #      #################      #             #                 \n",
      "                      #                #     ###################     #                               \n",
      "  #                    #               #    #####################    #                               \n",
      " #                                     #             ###             #                               \n",
      "                                       #             ###             #           #                   \n",
      "                                       #             ###             #                              #\n",
      "                                       #                             #                               \n",
      "#                                      #                             #     #                         \n",
      "                                       #                             #                  #            \n",
      "                 #        #            #                             #                               \n",
      "                                       ###############################                               \n",
      "                                                                                     #               \n",
      "                                                                                                     \n",
      "                                                                                                     \n",
      "                                          #            #                                #            \n",
      "                                                                                                     \n",
      "                                                                                                     \n",
      "                #                      #                                         #                   \n",
      "      #                       #                                                                      \n",
      "                                                                                                     \n",
      "                                #                                    #                               \n",
      "                                                                                    # #              \n",
      "                         #                                                                      #    \n",
      "                                                                                                     \n",
      "           #                                                                #              #         \n",
      "                                                                            #                   #    \n"
     ]
    }
   ],
   "source": [
    "part2 = 7709\n",
    "for _ in range(part2):\n",
    "    for r in robots:\n",
    "        r.move()\n",
    "\n",
    "show_robots()"
   ]
  },
  {
   "cell_type": "markdown",
   "id": "66ea43d1-c824-44bc-9d49-1fc3f1d762b4",
   "metadata": {},
   "source": [
    "## Below are debug function I used to get the answer"
   ]
  },
  {
   "cell_type": "code",
   "execution_count": null,
   "id": "6b122766-cdc9-41c2-8b1b-3df2705dc639",
   "metadata": {},
   "outputs": [],
   "source": [
    "# Just wrote to file and looked at them\n",
    "# A pattern appeared which stuck out, repeating every 101 times, only printed that in the end\n",
    "def write_robots(c):\n",
    "    robot_poses = defaultdict(int)\n",
    "    for r in robots:\n",
    "        robot_poses[(r.x, r.y)] += 1\n",
    "\n",
    "    with open(\"trees.txt\", \"a+\") as fh:\n",
    "        # Pattern thing mentioned above\n",
    "        if (c - 134) % 101 != 0:\n",
    "            return\n",
    "        \n",
    "        for y in range(height):\n",
    "            for x in range(width):\n",
    "                if (x, y) in robot_poses:\n",
    "                    val = robot_poses[(x, y)]\n",
    "                    print(\"#\", end=\"\", file=fh)\n",
    "                else:\n",
    "                    print(\" \", end=\"\", file=fh)\n",
    "            print(file=fh)\n",
    "        print(c, file=fh)\n",
    "        print(file=fh)"
   ]
  },
  {
   "cell_type": "code",
   "execution_count": null,
   "id": "dd2b326a-8cf2-494c-9bd2-a6924cf4cce5",
   "metadata": {},
   "outputs": [],
   "source": [
    "start_c = 0\n",
    "tmp_c = 0\n",
    "# Ran a 1000 iterations at a time (when I found the repeating pattern)\n",
    "while True:\n",
    "    for robot in robots:\n",
    "        robot.move()\n",
    "    start_c += 1\n",
    "    write_robots(start_c)\n",
    "    tmp_c += 1\n",
    "    if tmp_c > 1000:\n",
    "        break"
   ]
  }
 ],
 "metadata": {
  "kernelspec": {
   "display_name": "Python 3 (ipykernel)",
   "language": "python",
   "name": "python3"
  },
  "language_info": {
   "codemirror_mode": {
    "name": "ipython",
    "version": 3
   },
   "file_extension": ".py",
   "mimetype": "text/x-python",
   "name": "python",
   "nbconvert_exporter": "python",
   "pygments_lexer": "ipython3",
   "version": "3.9.6"
  }
 },
 "nbformat": 4,
 "nbformat_minor": 5
}
