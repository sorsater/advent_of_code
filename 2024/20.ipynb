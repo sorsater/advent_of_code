{
 "cells": [
  {
   "cell_type": "code",
   "execution_count": 1,
   "id": "de0c76d5-e50b-4697-840e-2e597dd35ebd",
   "metadata": {},
   "outputs": [],
   "source": [
    "import heapq\n",
    "from collections import Counter\n",
    "from tqdm.notebook import tqdm\n",
    "from itertools import combinations"
   ]
  },
  {
   "cell_type": "code",
   "execution_count": 2,
   "id": "d8912e52-7e06-4aa6-b079-f0632a2dc858",
   "metadata": {},
   "outputs": [],
   "source": [
    "data = open(\"input/20\").read().splitlines()"
   ]
  },
  {
   "cell_type": "code",
   "execution_count": 3,
   "id": "a9e07186-e71d-4c0d-bc8f-cac4bd958c90",
   "metadata": {},
   "outputs": [],
   "source": [
    "grid = {}\n",
    "start = None\n",
    "end = None\n",
    "for r, row in enumerate(data):\n",
    "    for c, elem in enumerate(row):\n",
    "        grid[(r, c)] = elem\n",
    "        if elem == \"S\":\n",
    "            start = (r, c)\n",
    "        if elem == \"E\":\n",
    "            end = (r, c)"
   ]
  },
  {
   "cell_type": "code",
   "execution_count": 4,
   "id": "08888a55-d264-4345-8994-642f604b46e4",
   "metadata": {},
   "outputs": [],
   "source": [
    "directions = [(-1, 0), (1, 0), (0, -1), (0, 1)]"
   ]
  },
  {
   "cell_type": "code",
   "execution_count": 5,
   "id": "316db9dc-a8b6-4259-8898-e227a3b0831c",
   "metadata": {},
   "outputs": [],
   "source": [
    "def astar_with_path(pos):\n",
    "    q = []\n",
    "    heapq.heappush(q, (0, 0, pos, [pos]))\n",
    "\n",
    "    visited = set()\n",
    "    while q:\n",
    "        h_cost, cost, pos, path = heapq.heappop(q)\n",
    "        for direction in directions:\n",
    "            neighbour = (pos[0] + direction[0], pos[1] + direction[1])\n",
    "            neighbour_elem = grid.get(neighbour)\n",
    "            if not neighbour_elem or neighbour_elem == \"#\" or neighbour in visited:\n",
    "                continue\n",
    "            \n",
    "            visited.add(neighbour)\n",
    "\n",
    "            if neighbour == end:\n",
    "                # +1 for the end node\n",
    "                path = path + [end]\n",
    "                return cost + 1, visited, path\n",
    "                \n",
    "            new_cost = cost + 1\n",
    "            heur = abs(end[0] - neighbour[0]) + abs(end[1] - neighbour[1])\n",
    "            heapq.heappush(q, (heur + new_cost, new_cost, neighbour, path + [neighbour]))\n",
    "    return 0"
   ]
  },
  {
   "cell_type": "code",
   "execution_count": 6,
   "id": "cbd569ed-1f07-4b05-824a-513988a59d6c",
   "metadata": {},
   "outputs": [],
   "source": [
    "best_distance, visited, path = astar_with_path(start)"
   ]
  },
  {
   "cell_type": "code",
   "execution_count": 7,
   "id": "4c5dda92-ecee-412a-802d-b16fc18ef4f6",
   "metadata": {},
   "outputs": [],
   "source": [
    "# Find all neighbours\n",
    "neighbours = []\n",
    "for pos in list(visited):\n",
    "    for direction in directions:\n",
    "        neighbour = (pos[0] + direction[0], pos[1] + direction[1])\n",
    "        if grid.get(neighbour) == \"#\":\n",
    "           neighbours.append(neighbour) \n",
    "\n",
    "candidates = []\n",
    "for pos, count in Counter(neighbours).items():\n",
    "    if count >= 2:\n",
    "        candidates.append(pos)"
   ]
  },
  {
   "cell_type": "code",
   "execution_count": 8,
   "id": "04ccc378-1ae0-4633-b5ba-35e12348ad29",
   "metadata": {},
   "outputs": [],
   "source": [
    "def astar_with_limit(pos, limit):\n",
    "    q = []\n",
    "    heapq.heappush(q, (0, 0, pos))\n",
    "\n",
    "    visited = set()\n",
    "    while q:\n",
    "        h_cost, cost, pos = heapq.heappop(q)\n",
    "        if cost > limit:\n",
    "            return -1\n",
    "        visited.add(pos)\n",
    "        for direction in directions:\n",
    "            neighbour = (pos[0] + direction[0], pos[1] + direction[1])\n",
    "            if neighbour in visited:\n",
    "                continue\n",
    "            neighbour_elem = grid.get(neighbour)\n",
    "            if not neighbour_elem or neighbour_elem == \"#\":\n",
    "                continue\n",
    "            \n",
    "            if neighbour == end:\n",
    "                # +1 for the end node\n",
    "                return cost + 1\n",
    "                \n",
    "            heur = abs(end[0] - neighbour[0]) + abs(end[1] - neighbour[1])\n",
    "            heapq.heappush(q, (heur + cost + 1, cost + 1, neighbour))"
   ]
  },
  {
   "cell_type": "code",
   "execution_count": 9,
   "id": "41514ebf-6ff9-446b-a7e2-926b97e33f51",
   "metadata": {},
   "outputs": [
    {
     "data": {
      "application/vnd.jupyter.widget-view+json": {
       "model_id": "15602dc8780e4e4da9390bcb186bad62",
       "version_major": 2,
       "version_minor": 0
      },
      "text/plain": [
       "  0%|          | 0/7823 [00:00<?, ?it/s]"
      ]
     },
     "metadata": {},
     "output_type": "display_data"
    }
   ],
   "source": [
    "saves = []\n",
    "for cand in tqdm(candidates):\n",
    "    grid[cand] = \".\"\n",
    "    new_distance = astar_with_limit(start, best_distance)\n",
    "    if 0 < new_distance < best_distance:\n",
    "        saves.append(best_distance - new_distance)\n",
    "    grid[cand] = \"#\""
   ]
  },
  {
   "cell_type": "code",
   "execution_count": 10,
   "id": "865374a7-4a76-4b52-932e-648317ecd191",
   "metadata": {},
   "outputs": [
    {
     "name": "stdout",
     "output_type": "stream",
     "text": [
      "Answer #1: 1372\n"
     ]
    }
   ],
   "source": [
    "part1 = 0\n",
    "for a, b in sorted(Counter(saves).items()):\n",
    "    if a >= 100:\n",
    "        part1 += b\n",
    "print(f\"Answer #1: {part1}\")    "
   ]
  },
  {
   "cell_type": "markdown",
   "id": "8335b8ca-6cb7-49b0-aa18-7e4896c82ead",
   "metadata": {},
   "source": [
    "# Part 2"
   ]
  },
  {
   "cell_type": "code",
   "execution_count": 11,
   "id": "dc464604-da00-4e13-b002-8906739a70df",
   "metadata": {},
   "outputs": [],
   "source": [
    "path_dict = {elem: idx for idx, elem in enumerate(path)}"
   ]
  },
  {
   "cell_type": "code",
   "execution_count": 12,
   "id": "9f5f00bd-6094-4402-b441-630f07ddc860",
   "metadata": {},
   "outputs": [],
   "source": [
    "part1_opt = 0\n",
    "part2 = 0\n",
    "for a, b in combinations(path, 2):\n",
    "    manhattan_distance = abs(a[0] - b[0]) + abs(a[1] - b[1])\n",
    "    if manhattan_distance <= 20:\n",
    "        if path_dict[b] - path_dict[a] - manhattan_distance >= 100:\n",
    "            part2 += 1\n",
    "    if manhattan_distance <= 2:\n",
    "        if path_dict[b] - path_dict[a] - manhattan_distance >= 100:\n",
    "            part1_opt += 1"
   ]
  },
  {
   "cell_type": "code",
   "execution_count": 13,
   "id": "a0270ef5-aed4-40ed-ac03-413bae379959",
   "metadata": {},
   "outputs": [
    {
     "name": "stdout",
     "output_type": "stream",
     "text": [
      "Answer #1 opt: 1372\n",
      "Answer #2: 979014\n"
     ]
    }
   ],
   "source": [
    "print(f\"Answer #1 opt: {part1_opt}\")\n",
    "print(f\"Answer #2: {part2}\")"
   ]
  }
 ],
 "metadata": {
  "kernelspec": {
   "display_name": "Python 3 (ipykernel)",
   "language": "python",
   "name": "python3"
  },
  "language_info": {
   "codemirror_mode": {
    "name": "ipython",
    "version": 3
   },
   "file_extension": ".py",
   "mimetype": "text/x-python",
   "name": "python",
   "nbconvert_exporter": "python",
   "pygments_lexer": "ipython3",
   "version": "3.9.6"
  }
 },
 "nbformat": 4,
 "nbformat_minor": 5
}
