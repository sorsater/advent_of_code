{
 "cells": [
  {
   "cell_type": "code",
   "execution_count": 1,
   "id": "bcb6700b-f52d-4836-b987-6235e23a9f8f",
   "metadata": {},
   "outputs": [],
   "source": [
    "import os\n",
    "from collections import defaultdict"
   ]
  },
  {
   "cell_type": "code",
   "execution_count": 2,
   "id": "750ea2dd-34a1-485b-b04b-b5dea257ad0b",
   "metadata": {},
   "outputs": [],
   "source": [
    "done = set()\n",
    "for year in sorted(os.listdir()):\n",
    "    if \"20\" not in year:\n",
    "        continue\n",
    "\n",
    "    for day in sorted(os.listdir(year)):\n",
    "        if not (day.endswith(\"py\") or day.endswith(\"ipynb\")):\n",
    "            continue\n",
    "        file_path = os.path.join(year, day)\n",
    "        data = open(file_path).read().splitlines()\n",
    "        for line in data:\n",
    "            day = day.split(\".\")[0]\n",
    "            if \"Answer #1\" in line:\n",
    "                done.add((int(year), int(day), 1))\n",
    "            if \"Answer #2\" in line:\n",
    "                done.add((int(year), int(day), 2))\n"
   ]
  },
  {
   "cell_type": "code",
   "execution_count": 3,
   "id": "69017658-09d3-45fb-9916-a372c3464653",
   "metadata": {},
   "outputs": [],
   "source": [
    "done_per_year = defaultdict(list)\n",
    "for year, day, part in sorted(list(done)):\n",
    "    done_per_year[year].append([day, part])"
   ]
  },
  {
   "cell_type": "code",
   "execution_count": 4,
   "id": "52c59a59-9772-4928-adb4-ec38c6a5c665",
   "metadata": {},
   "outputs": [],
   "source": [
    "tot_stars = sum([50 if len(s) == 49 else len(s)  for s in done_per_year.values()])"
   ]
  },
  {
   "cell_type": "code",
   "execution_count": 5,
   "id": "c474f531-4334-40b8-acba-8eed988d1f44",
   "metadata": {},
   "outputs": [],
   "source": [
    "with open(\"README.md\", \"w\") as fh:\n",
    "    fh.write(\"# Advent of Code\\n\")\n",
    "    fh.write(\"One repo for all years  \\n\")\n",
    "    fh.write(\"Written in python and jupyter notebooks\\n\\n\")\n",
    "    fh.write(f\"Total stars: {tot_stars}\\n\\n\")\n",
    "    for year, entries in sorted(done_per_year.items(), reverse=True):\n",
    "        if len(entries) == 49:\n",
    "            fh.write(f\"## {year}: {len(entries) + 1} stars\\n\")\n",
    "        else:\n",
    "            fh.write(f\"## {year}: {len(entries)} stars\\n\")\n",
    "        \n",
    "        if len(entries) == 49:\n",
    "            fh.write(\"All done\\n\")\n",
    "        else:\n",
    "            days_done = defaultdict(int)\n",
    "            for day, part in entries:\n",
    "                days_done[day] += 1\n",
    "            for day, stars in days_done.items():\n",
    "                if stars == 2:\n",
    "                    fh.write(f\"Day {day}: :star2:  \\n\")\n",
    "                else:\n",
    "                    fh.write(f\"Day {day}: :star:  \\n\")\n",
    "        fh.write(\"\\n\")"
   ]
  }
 ],
 "metadata": {
  "kernelspec": {
   "display_name": "Python 3 (ipykernel)",
   "language": "python",
   "name": "python3"
  },
  "language_info": {
   "codemirror_mode": {
    "name": "ipython",
    "version": 3
   },
   "file_extension": ".py",
   "mimetype": "text/x-python",
   "name": "python",
   "nbconvert_exporter": "python",
   "pygments_lexer": "ipython3",
   "version": "3.9.6"
  }
 },
 "nbformat": 4,
 "nbformat_minor": 5
}
