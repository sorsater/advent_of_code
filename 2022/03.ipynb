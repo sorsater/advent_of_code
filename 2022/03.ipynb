{
 "cells": [
  {
   "cell_type": "code",
   "execution_count": 1,
   "id": "47401df3-dc11-4d77-92ab-64a88464dc25",
   "metadata": {},
   "outputs": [],
   "source": [
    "data = open(\"input/03\").read().splitlines()"
   ]
  },
  {
   "cell_type": "code",
   "execution_count": 2,
   "id": "68a177bc-a4d8-49ed-acc0-ec3d75537c54",
   "metadata": {},
   "outputs": [],
   "source": [
    "def part1_one(line):\n",
    "    ll = len(line)\n",
    "    part1, part2 = line[:ll//2], line[ll//2:]\n",
    "    intersect = set(part1) & set(part2)\n",
    "    char = list(intersect)[0]\n",
    "    return ord(char) - 38 if char.isupper() else ord(char) - 96"
   ]
  },
  {
   "cell_type": "code",
   "execution_count": 3,
   "id": "235e43de-4020-4ef7-ab88-b1aa47951d31",
   "metadata": {},
   "outputs": [
    {
     "name": "stdout",
     "output_type": "stream",
     "text": [
      "Answer #1: 8233\n"
     ]
    }
   ],
   "source": [
    "res = list(map(part1_one, data))\n",
    "print(f\"Answer #1: {sum(res)}\")"
   ]
  },
  {
   "cell_type": "markdown",
   "id": "d224e176-fc6d-4d3e-8437-322cd5325b10",
   "metadata": {},
   "source": [
    "# Part 2"
   ]
  },
  {
   "cell_type": "code",
   "execution_count": 4,
   "id": "3a5e09c0-3fed-4083-85bf-e9c4ee61cf78",
   "metadata": {},
   "outputs": [],
   "source": [
    "def part2(three_lines):\n",
    "    intersect = set(three_lines[0]) & set(three_lines[1]) & set(three_lines[2])\n",
    "    char = list(intersect)[0]\n",
    "    return ord(char) - 38 if char.isupper() else ord(char) - 96"
   ]
  },
  {
   "cell_type": "code",
   "execution_count": 5,
   "id": "51f0d225-d54a-4a6c-8a2b-12af812d55d8",
   "metadata": {},
   "outputs": [
    {
     "name": "stdout",
     "output_type": "stream",
     "text": [
      "Answer #2: 2821\n"
     ]
    }
   ],
   "source": [
    "\n",
    "start = 0\n",
    "res_part2 = []\n",
    "while True:\n",
    "    res_part2.append(part2(data[start:start + 3]))\n",
    "    start += 3\n",
    "    if start + 3 > len(data):\n",
    "        break\n",
    "\n",
    "print(f\"Answer #2: {sum(res_part2)}\")"
   ]
  }
 ],
 "metadata": {
  "kernelspec": {
   "display_name": "Python 3 (ipykernel)",
   "language": "python",
   "name": "python3"
  },
  "language_info": {
   "codemirror_mode": {
    "name": "ipython",
    "version": 3
   },
   "file_extension": ".py",
   "mimetype": "text/x-python",
   "name": "python",
   "nbconvert_exporter": "python",
   "pygments_lexer": "ipython3",
   "version": "3.9.6"
  }
 },
 "nbformat": 4,
 "nbformat_minor": 5
}
