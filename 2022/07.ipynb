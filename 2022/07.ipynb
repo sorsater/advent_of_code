{
 "cells": [
  {
   "cell_type": "code",
   "execution_count": 1,
   "metadata": {},
   "outputs": [],
   "source": [
    "from collections import defaultdict"
   ]
  },
  {
   "cell_type": "code",
   "execution_count": 2,
   "metadata": {},
   "outputs": [],
   "source": [
    "data = open(\"input/07\").read().splitlines()"
   ]
  },
  {
   "cell_type": "code",
   "execution_count": 3,
   "metadata": {},
   "outputs": [],
   "source": [
    "system = defaultdict(list)\n",
    "cur_path = []\n",
    "for line in data:\n",
    "    if line[:4] == \"$ cd\":\n",
    "        where = line[5:]\n",
    "        if where == \"/\":\n",
    "            cur_path = []\n",
    "        elif where == \"..\":\n",
    "            cur_path.pop()\n",
    "        else:\n",
    "            cur_path.append(where)\n",
    "          \n",
    "    elif line[:4] == \"$ ls\":\n",
    "        pass\n",
    "    else:\n",
    "        if \"dir\" in line:\n",
    "            line = line.replace(\"dir \", \"\")\n",
    "            line = \"/\".join(cur_path) + \"/\" + line\n",
    "            if len(cur_path) > 0:\n",
    "                line = \"/\" + line\n",
    "        else:\n",
    "            size, name = line.split(\" \")\n",
    "            line = int(size)\n",
    "        dir_path = \"/\" + \"/\".join(cur_path)\n",
    "        system[dir_path].append(line)"
   ]
  },
  {
   "cell_type": "code",
   "execution_count": 4,
   "metadata": {},
   "outputs": [],
   "source": [
    "dir_size = {}\n",
    "while True:\n",
    "    if len(dir_size) == len(system):\n",
    "        break\n",
    "    for dir, content in system.items():\n",
    "        if all([isinstance(con, int) for con in content]):\n",
    "            dir_size[dir] = sum(content)\n",
    "\n",
    "    for dir, content in system.items():\n",
    "        for idx, con in enumerate(content):\n",
    "            if isinstance(con, int):\n",
    "                continue\n",
    "            if con in dir_size:\n",
    "                system[dir][idx] = dir_size[con]"
   ]
  },
  {
   "cell_type": "code",
   "execution_count": 5,
   "metadata": {},
   "outputs": [],
   "source": [
    "for dir, content in system.items():\n",
    "    system[dir] = sum(content)"
   ]
  },
  {
   "cell_type": "code",
   "execution_count": 6,
   "metadata": {},
   "outputs": [],
   "source": [
    "required = 70_000_000 - 30_000_000 - system[\"/\"]\n",
    "part1 = 0\n",
    "part2 = float(\"inf\")\n",
    "\n",
    "for val in system.values():\n",
    "    if val < 100000:\n",
    "        part1 += val\n",
    "    if val > abs(required):\n",
    "        part2 = min(part2, val)"
   ]
  },
  {
   "cell_type": "code",
   "execution_count": 7,
   "metadata": {},
   "outputs": [
    {
     "name": "stdout",
     "output_type": "stream",
     "text": [
      "Answer #1: 1513699\n"
     ]
    }
   ],
   "source": [
    "print(f\"Answer #1: {part1}\")"
   ]
  },
  {
   "cell_type": "code",
   "execution_count": 8,
   "metadata": {},
   "outputs": [
    {
     "name": "stdout",
     "output_type": "stream",
     "text": [
      "Answer #2: 7991939\n"
     ]
    }
   ],
   "source": [
    "print(f\"Answer #2: {part2}\")"
   ]
  }
 ],
 "metadata": {
  "kernelspec": {
   "display_name": "Python 3 (ipykernel)",
   "language": "python",
   "name": "python3"
  },
  "language_info": {
   "codemirror_mode": {
    "name": "ipython",
    "version": 3
   },
   "file_extension": ".py",
   "mimetype": "text/x-python",
   "name": "python",
   "nbconvert_exporter": "python",
   "pygments_lexer": "ipython3",
   "version": "3.9.6"
  },
  "widgets": {
   "application/vnd.jupyter.widget-state+json": {
    "state": {},
    "version_major": 2,
    "version_minor": 0
   }
  }
 },
 "nbformat": 4,
 "nbformat_minor": 4
}
