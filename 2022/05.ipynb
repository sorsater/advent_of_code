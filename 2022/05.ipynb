{
 "cells": [
  {
   "cell_type": "code",
   "execution_count": 1,
   "id": "50968ee0",
   "metadata": {},
   "outputs": [],
   "source": [
    "import re\n",
    "from dataclasses import dataclass\n",
    "from collections import defaultdict\n",
    "from copy import deepcopy"
   ]
  },
  {
   "cell_type": "code",
   "execution_count": 2,
   "id": "bfcc266a",
   "metadata": {},
   "outputs": [],
   "source": [
    "data = open(\"input/05\").read().splitlines()"
   ]
  },
  {
   "cell_type": "code",
   "execution_count": 3,
   "id": "1bd0e1ae",
   "metadata": {},
   "outputs": [],
   "source": [
    "re_in = r\"move (\\d+) from (\\d+) to (\\d+)\""
   ]
  },
  {
   "cell_type": "code",
   "execution_count": 4,
   "id": "81570b70",
   "metadata": {},
   "outputs": [],
   "source": [
    "@dataclass\n",
    "class Instruction:\n",
    "    nr: int\n",
    "    from_: int\n",
    "    to: int"
   ]
  },
  {
   "cell_type": "code",
   "execution_count": 5,
   "id": "8fed2bc6",
   "metadata": {},
   "outputs": [],
   "source": [
    "crates, instructions = [], []\n",
    "crates_idx = None\n",
    "crates = defaultdict(list)\n",
    "line_length = None\n",
    "for idx, line in enumerate(data[::-1]):\n",
    "    if \"move\" in line:\n",
    "        match = re.match(re_in, line)\n",
    "        instructions.append(Instruction(*list(map(int, match.groups()))))\n",
    "    elif line == \"\":\n",
    "        crates_idx = idx\n",
    "    elif crates_idx:\n",
    "        crates_idx = None\n",
    "        line_length = len(line)\n",
    "        nrs = line.split(\" \")\n",
    "        for nr in nrs:\n",
    "            if nr:\n",
    "                crates[int(nr)] = []\n",
    "    elif \"[\" in line:\n",
    "        for i in range(0, line_length, 4):\n",
    "            crate = i // 4 + 1\n",
    "            if line[i + 1] != \" \":\n",
    "                crates[crate].append(line[i + 1])\n",
    "\n",
    "# need to flip as reading from bottom up\n",
    "instructions = instructions[::-1]       "
   ]
  },
  {
   "cell_type": "code",
   "execution_count": 6,
   "id": "d75033ac",
   "metadata": {},
   "outputs": [],
   "source": [
    "def move(part1=True):\n",
    "    mod_crates = deepcopy(crates)\n",
    "    for inst in instructions:\n",
    "        items_to_take = mod_crates[inst.from_][-inst.nr:]\n",
    "        items_remaining = mod_crates[inst.from_][:-inst.nr]\n",
    "        mod_crates[inst.from_] = items_remaining\n",
    "\n",
    "        if part1:\n",
    "            items_to_take = items_to_take[::-1]\n",
    "\n",
    "        for crate in items_to_take:\n",
    "            mod_crates[inst.to].append(crate)\n",
    "    res = \"\"\n",
    "    for key, values in sorted(mod_crates.items()):\n",
    "        res += values[-1]\n",
    "    return res"
   ]
  },
  {
   "cell_type": "markdown",
   "id": "5bef3887",
   "metadata": {},
   "source": [
    "# Part1"
   ]
  },
  {
   "cell_type": "code",
   "execution_count": 7,
   "id": "0506f416",
   "metadata": {},
   "outputs": [
    {
     "name": "stdout",
     "output_type": "stream",
     "text": [
      "Answer #1: ZSQVCCJLL\n"
     ]
    }
   ],
   "source": [
    "res = move()\n",
    "print(f\"Answer #1: {res}\")"
   ]
  },
  {
   "cell_type": "markdown",
   "id": "677fcf74",
   "metadata": {},
   "source": [
    "# Part 2"
   ]
  },
  {
   "cell_type": "code",
   "execution_count": 8,
   "id": "d5685ee8",
   "metadata": {},
   "outputs": [
    {
     "name": "stdout",
     "output_type": "stream",
     "text": [
      "Answer #2: QZFJRWHGS\n"
     ]
    }
   ],
   "source": [
    "res = move(part1=False)\n",
    "print(f\"Answer #2: {res}\")"
   ]
  }
 ],
 "metadata": {
  "kernelspec": {
   "display_name": "Python 3 (ipykernel)",
   "language": "python",
   "name": "python3"
  },
  "language_info": {
   "codemirror_mode": {
    "name": "ipython",
    "version": 3
   },
   "file_extension": ".py",
   "mimetype": "text/x-python",
   "name": "python",
   "nbconvert_exporter": "python",
   "pygments_lexer": "ipython3",
   "version": "3.9.6"
  }
 },
 "nbformat": 4,
 "nbformat_minor": 5
}
