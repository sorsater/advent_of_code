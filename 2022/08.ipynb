{
 "cells": [
  {
   "cell_type": "code",
   "execution_count": 1,
   "metadata": {},
   "outputs": [],
   "source": [
    "from functools import reduce"
   ]
  },
  {
   "cell_type": "code",
   "execution_count": 2,
   "metadata": {},
   "outputs": [],
   "source": [
    "data = open(\"input/08\").read().splitlines()"
   ]
  },
  {
   "cell_type": "code",
   "execution_count": 3,
   "metadata": {},
   "outputs": [],
   "source": [
    "grid = {}\n",
    "for r, row in enumerate(data):\n",
    "    for c, elem in enumerate(row):\n",
    "        grid[r + c * 1j] = int(elem)"
   ]
  },
  {
   "cell_type": "code",
   "execution_count": 4,
   "metadata": {},
   "outputs": [],
   "source": [
    "def check_pos(pos):\n",
    "    cur_elem = grid[pos]\n",
    "    for direction in [1, -1, 1j, -1j]:\n",
    "        i = 1\n",
    "        while True:\n",
    "            new_pos = pos + direction * i\n",
    "            if new_pos not in grid:\n",
    "                return True\n",
    "            \n",
    "            if grid[new_pos] >= cur_elem:\n",
    "                break\n",
    "            \n",
    "            i += 1\n",
    "\n",
    "    return False"
   ]
  },
  {
   "cell_type": "code",
   "execution_count": 5,
   "metadata": {},
   "outputs": [
    {
     "name": "stdout",
     "output_type": "stream",
     "text": [
      "Answer #1: 1782\n"
     ]
    }
   ],
   "source": [
    "part1 = 0\n",
    "for key in grid.keys():\n",
    "    if check_pos(key):\n",
    "        part1 += 1\n",
    "print(f\"Answer #1: {part1}\")"
   ]
  },
  {
   "cell_type": "markdown",
   "metadata": {},
   "source": [
    "# Part 2"
   ]
  },
  {
   "cell_type": "code",
   "execution_count": 6,
   "metadata": {},
   "outputs": [],
   "source": [
    "def check_pos2(pos):\n",
    "    cur_elem = grid[pos]\n",
    "    result = [0] * 4\n",
    "    for idx, direction in enumerate([1, -1, 1j, -1j]):\n",
    "        i = 1\n",
    "        while True:\n",
    "            new_pos = pos + direction * i\n",
    "            if new_pos not in grid:\n",
    "                break\n",
    "            result[idx] += 1\n",
    "            if grid[new_pos] >= cur_elem:\n",
    "                break\n",
    "            \n",
    "            i += 1\n",
    "\n",
    "    return reduce(lambda x, y: x * y, result, 1)"
   ]
  },
  {
   "cell_type": "code",
   "execution_count": 7,
   "metadata": {},
   "outputs": [
    {
     "name": "stdout",
     "output_type": "stream",
     "text": [
      "Answer #2: 474606\n"
     ]
    }
   ],
   "source": [
    "part2 = 0\n",
    "for key in grid.keys():\n",
    "    res = check_pos2(key)\n",
    "    part2 = max(part2, res)\n",
    "print(f\"Answer #2: {part2}\")"
   ]
  }
 ],
 "metadata": {
  "kernelspec": {
   "display_name": "Python 3 (ipykernel)",
   "language": "python",
   "name": "python3"
  },
  "language_info": {
   "codemirror_mode": {
    "name": "ipython",
    "version": 3
   },
   "file_extension": ".py",
   "mimetype": "text/x-python",
   "name": "python",
   "nbconvert_exporter": "python",
   "pygments_lexer": "ipython3",
   "version": "3.9.6"
  }
 },
 "nbformat": 4,
 "nbformat_minor": 4
}
