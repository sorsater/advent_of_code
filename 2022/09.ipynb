{
 "cells": [
  {
   "cell_type": "code",
   "execution_count": 1,
   "id": "013314ea-0b9e-4f56-b65d-c82bc5108728",
   "metadata": {},
   "outputs": [],
   "source": [
    "data = open(\"input/09\").read().splitlines()"
   ]
  },
  {
   "cell_type": "code",
   "execution_count": 2,
   "id": "e177a51d-4752-4a75-9ccc-9cba6c87b28c",
   "metadata": {},
   "outputs": [],
   "source": [
    "dir_map = {\n",
    "    \"U\": (0, -1),\n",
    "    \"D\": (0 , 1),\n",
    "    \"R\": (1, 0),\n",
    "    \"L\": (-1, 0),\n",
    "}"
   ]
  },
  {
   "cell_type": "code",
   "execution_count": 3,
   "id": "0cfe8e07-e03f-42f3-8b76-9a0bce8934ea",
   "metadata": {},
   "outputs": [],
   "source": [
    "head_pos = (0, 0)\n",
    "tail_pos = (0, 0)\n",
    "tail_visited = set()\n",
    "tail_visited.add(tail_pos)\n",
    "\n",
    "for line in data:\n",
    "    d, step = line.split(\" \")\n",
    "    for _ in range(int(step)):\n",
    "        x, y = dir_map[d]\n",
    "        head_pos = (head_pos[0] + x, head_pos[1] + y)\n",
    "\n",
    "        diff_x = head_pos[0] - tail_pos[0]\n",
    "        diff_y = head_pos[1] - tail_pos[1]\n",
    "\n",
    "        if abs(diff_x) <= 1 and abs(diff_y) <= 1:\n",
    "            continue\n",
    "\n",
    "        tail_pos = (head_pos[0] + x * -1, head_pos[1] + y * -1)\n",
    "        tail_visited.add(tail_pos)"
   ]
  },
  {
   "cell_type": "code",
   "execution_count": 4,
   "id": "9716f2ee-1eb7-436a-bd01-abed873ab578",
   "metadata": {},
   "outputs": [
    {
     "name": "stdout",
     "output_type": "stream",
     "text": [
      "Answer #1: 6354\n"
     ]
    }
   ],
   "source": [
    "print(f\"Answer #1: {len(tail_visited)}\")"
   ]
  },
  {
   "cell_type": "markdown",
   "id": "9b521cd2-8c79-4748-88a7-ea74ed457d1b",
   "metadata": {},
   "source": [
    "# Part 2"
   ]
  },
  {
   "cell_type": "code",
   "execution_count": 5,
   "id": "1387b718-c543-46f3-88d3-b1c77b441ebe",
   "metadata": {},
   "outputs": [],
   "source": [
    "rope_poses = []\n",
    "for _ in range(10):\n",
    "    rope_poses.append((0, 0))\n",
    "\n",
    "tail_visited = set()\n",
    "tail_visited.add(rope_poses[-1])\n",
    "for line in data:\n",
    "    d, step = line.split(\" \")\n",
    "    for _ in range(int(step)):\n",
    "        x, y = dir_map[d]\n",
    "        rope_poses[0] = (rope_poses[0][0] + x, rope_poses[0][1] + y)\n",
    "        for idx in range(1, len(rope_poses)):\n",
    "            diff_x = rope_poses[idx][0] - rope_poses[idx - 1][0]\n",
    "            diff_y = rope_poses[idx][1] - rope_poses[idx - 1][1]    \n",
    "\n",
    "            if abs(diff_x) <= 1 and abs(diff_y) <= 1:\n",
    "                continue\n",
    "\n",
    "            if diff_x * diff_y == 0:\n",
    "                dirs = [[1, 0], [-1, 0], [0, 1], [0, -1]]\n",
    "            else:\n",
    "                dirs = [[1, 1], [1, -1], [-1, 1], [-1, -1]]\n",
    "\n",
    "            best = float(\"inf\")\n",
    "            new_pos = None\n",
    "            for x, y in dirs:\n",
    "                new_x = rope_poses[idx][0] + x\n",
    "                new_y = rope_poses[idx][1] + y\n",
    "\n",
    "                distance = abs(new_x - rope_poses[idx - 1][0]) + abs(new_y - rope_poses[idx - 1][1])\n",
    "                if distance < best:\n",
    "                    best = distance\n",
    "                    new_pos = (new_x, new_y)\n",
    "                    \n",
    "            rope_poses[idx] = new_pos\n",
    "            \n",
    "        tail_visited.add(rope_poses[-1])"
   ]
  },
  {
   "cell_type": "code",
   "execution_count": 6,
   "id": "d72d93da-d211-43fd-9946-d382b14e45aa",
   "metadata": {},
   "outputs": [
    {
     "name": "stdout",
     "output_type": "stream",
     "text": [
      "Answer #2: 2651\n"
     ]
    }
   ],
   "source": [
    "print(f\"Answer #2: {len(tail_visited)}\")"
   ]
  }
 ],
 "metadata": {
  "kernelspec": {
   "display_name": "Python 3 (ipykernel)",
   "language": "python",
   "name": "python3"
  },
  "language_info": {
   "codemirror_mode": {
    "name": "ipython",
    "version": 3
   },
   "file_extension": ".py",
   "mimetype": "text/x-python",
   "name": "python",
   "nbconvert_exporter": "python",
   "pygments_lexer": "ipython3",
   "version": "3.9.6"
  }
 },
 "nbformat": 4,
 "nbformat_minor": 5
}
