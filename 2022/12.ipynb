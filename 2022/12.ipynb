{
 "cells": [
  {
   "cell_type": "code",
   "execution_count": 1,
   "metadata": {},
   "outputs": [],
   "source": [
    "from collections import deque, defaultdict"
   ]
  },
  {
   "cell_type": "code",
   "execution_count": 2,
   "metadata": {},
   "outputs": [],
   "source": [
    "data = open(\"input/12\").read().splitlines()"
   ]
  },
  {
   "cell_type": "code",
   "execution_count": 3,
   "metadata": {},
   "outputs": [],
   "source": [
    "grid = {}\n",
    "start = None\n",
    "end = None\n",
    "starts_part2 = []\n",
    "for r, row in enumerate(data):\n",
    "    for c, elem in enumerate(row):\n",
    "        if elem == \"S\":\n",
    "            start = (r, c)\n",
    "            elem = \"a\"\n",
    "            \n",
    "        elif elem == \"E\":\n",
    "            end = (r, c)\n",
    "            elem = \"z\"\n",
    "        if elem == \"a\":\n",
    "            starts_part2.append((r, c))\n",
    "        grid[(r, c)] = ord(elem)"
   ]
  },
  {
   "cell_type": "code",
   "execution_count": 4,
   "metadata": {},
   "outputs": [],
   "source": [
    "def find(start, end):\n",
    "    q = deque([start])\n",
    "    lowest_cost = defaultdict(lambda: 1000000)\n",
    "    lowest_cost[start] = 0\n",
    "    while len(q) > 0:\n",
    "        cur = q.popleft()\n",
    "        if cur == end:\n",
    "            return lowest_cost[end]\n",
    "            \n",
    "        for d in [(0, 1), (0, -1), (1, 0), (-1, 0)]:\n",
    "            new_pos = (cur[0] + d[0], cur[1] + d[1])\n",
    "            if new_pos not in grid:\n",
    "                continue\n",
    "            if grid[cur] < grid[new_pos] - 1:\n",
    "                continue\n",
    "                \n",
    "            cur_cost = lowest_cost[cur] + 1\n",
    "            if cur_cost >= lowest_cost[new_pos]:\n",
    "                continue\n",
    "            lowest_cost[new_pos] = cur_cost    \n",
    "            q.append(new_pos)"
   ]
  },
  {
   "cell_type": "code",
   "execution_count": 5,
   "metadata": {},
   "outputs": [
    {
     "name": "stdout",
     "output_type": "stream",
     "text": [
      "Answer #1: 440\n"
     ]
    }
   ],
   "source": [
    "print(f\"Answer #1: {find(start, end)}\")"
   ]
  },
  {
   "cell_type": "code",
   "execution_count": 6,
   "metadata": {},
   "outputs": [],
   "source": [
    "shortest = float(\"inf\")\n",
    "for start in starts_part2:\n",
    "    if (distance := find(start, end)) is not None:\n",
    "        shortest = min(shortest, distance)"
   ]
  },
  {
   "cell_type": "code",
   "execution_count": 7,
   "metadata": {},
   "outputs": [
    {
     "name": "stdout",
     "output_type": "stream",
     "text": [
      "Answer #2: 439\n"
     ]
    }
   ],
   "source": [
    "print(f\"Answer #2: {shortest}\")"
   ]
  }
 ],
 "metadata": {
  "kernelspec": {
   "display_name": "Python 3 (ipykernel)",
   "language": "python",
   "name": "python3"
  },
  "language_info": {
   "codemirror_mode": {
    "name": "ipython",
    "version": 3
   },
   "file_extension": ".py",
   "mimetype": "text/x-python",
   "name": "python",
   "nbconvert_exporter": "python",
   "pygments_lexer": "ipython3",
   "version": "3.9.6"
  },
  "widgets": {
   "application/vnd.jupyter.widget-state+json": {
    "state": {},
    "version_major": 2,
    "version_minor": 0
   }
  }
 },
 "nbformat": 4,
 "nbformat_minor": 4
}
