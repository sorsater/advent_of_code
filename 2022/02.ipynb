{
 "cells": [
  {
   "cell_type": "code",
   "execution_count": 1,
   "id": "310c840d-1c9a-4cc6-9980-be2a1c50a388",
   "metadata": {},
   "outputs": [],
   "source": [
    "data = open(\"input/02\").read().splitlines()"
   ]
  },
  {
   "cell_type": "code",
   "execution_count": 2,
   "id": "20f7d5f6-eb31-4a13-a0e2-f8372c749f6c",
   "metadata": {},
   "outputs": [],
   "source": [
    "score_map = {\n",
    "    \"A X\": 3 + 1,\n",
    "    \"A Y\": 6 + 2,\n",
    "    \"A Z\": 0 + 3, \n",
    "    \"B X\": 0 + 1, \n",
    "    \"B Y\": 3 + 2, \n",
    "    \"B Z\": 6 + 3, \n",
    "    \"C X\": 6 + 1, \n",
    "    \"C Y\": 0 + 2,\n",
    "    \"C Z\": 3 + 3,\n",
    "}"
   ]
  },
  {
   "cell_type": "code",
   "execution_count": 3,
   "id": "d94cdce2-f661-43fc-9106-88246381f429",
   "metadata": {},
   "outputs": [],
   "source": [
    "pick_move_map = {\n",
    "    \"Y\": { # draw\n",
    "        \"A\": \"X\",\n",
    "        \"B\": \"Y\",\n",
    "        \"C\": \"Z\",\n",
    "    },\n",
    "    \"Z\": { # win\n",
    "        \"A\": \"Y\",\n",
    "        \"B\": \"Z\",\n",
    "        \"C\": \"X\",\n",
    "    },\n",
    "    \"X\": { # lose\n",
    "        \"A\": \"Z\",\n",
    "        \"B\": \"X\",\n",
    "        \"C\": \"Y\",\n",
    "    }\n",
    "}"
   ]
  },
  {
   "cell_type": "code",
   "execution_count": 4,
   "id": "451e06f0-c16f-40f6-9f35-ed3a56c5ff1f",
   "metadata": {},
   "outputs": [
    {
     "name": "stdout",
     "output_type": "stream",
     "text": [
      "Answer #1: 8933\n"
     ]
    }
   ],
   "source": [
    "part1 = sum(list(map(lambda x: score_map[x], data)))\n",
    "print(f\"Answer #1: {part1}\")"
   ]
  },
  {
   "cell_type": "code",
   "execution_count": 5,
   "id": "6927892a-ac1e-4c19-be2d-b7747a3417e6",
   "metadata": {},
   "outputs": [],
   "source": [
    "def part2_one(line):\n",
    "    my_move = pick_move_map[line[2]][line[0]]\n",
    "    return score_map[f\"{line[0]} {my_move}\"]"
   ]
  },
  {
   "cell_type": "code",
   "execution_count": 6,
   "id": "dfc2282b-029c-4478-b41d-ff94f225f7cc",
   "metadata": {},
   "outputs": [
    {
     "name": "stdout",
     "output_type": "stream",
     "text": [
      "Answer #2: 11998\n"
     ]
    }
   ],
   "source": [
    "part2 = sum(list(map(lambda x: part2_one(x), data)))\n",
    "print(f\"Answer #2: {part2}\")"
   ]
  }
 ],
 "metadata": {
  "kernelspec": {
   "display_name": "Python 3 (ipykernel)",
   "language": "python",
   "name": "python3"
  },
  "language_info": {
   "codemirror_mode": {
    "name": "ipython",
    "version": 3
   },
   "file_extension": ".py",
   "mimetype": "text/x-python",
   "name": "python",
   "nbconvert_exporter": "python",
   "pygments_lexer": "ipython3",
   "version": "3.9.6"
  }
 },
 "nbformat": 4,
 "nbformat_minor": 5
}
