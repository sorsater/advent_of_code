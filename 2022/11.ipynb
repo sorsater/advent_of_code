{
 "cells": [
  {
   "cell_type": "code",
   "execution_count": 1,
   "metadata": {},
   "outputs": [],
   "source": [
    "from functools import partial\n",
    "from math import lcm\n",
    "from copy import deepcopy"
   ]
  },
  {
   "cell_type": "code",
   "execution_count": 2,
   "metadata": {},
   "outputs": [],
   "source": [
    "data = open(\"input/11\").read()"
   ]
  },
  {
   "cell_type": "code",
   "execution_count": 3,
   "metadata": {},
   "outputs": [],
   "source": [
    "def mul(a, b):\n",
    "    return a * b\n",
    "\n",
    "def add(a, b):\n",
    "    return a + b\n",
    "\n",
    "def pow(b):\n",
    "    return b * b\n",
    "\n",
    "def send_to(monkey_id, elem):\n",
    "    monkeys[monkey_id].recieve(elem)"
   ]
  },
  {
   "cell_type": "code",
   "execution_count": 4,
   "metadata": {},
   "outputs": [],
   "source": [
    "class Monkey:\n",
    "    def __init__(self, numbers, func, div, true, false):\n",
    "        self.numbers = numbers\n",
    "        self.func = func\n",
    "        self.div = div\n",
    "        self.true = true\n",
    "        self.false = false\n",
    "        self.num_inspected = 0\n",
    "        self.lcm = None  # Dummy populated, used for part2\n",
    "        \n",
    "    def handle(self, part2=False):\n",
    "        self.num_inspected += len(self.numbers)\n",
    "        while self.numbers:\n",
    "            elem = self.numbers.pop(0)\n",
    "            after_op = self.func(b=elem)\n",
    "            if part2:\n",
    "                next_num = after_op % self.lcm\n",
    "            else:\n",
    "                next_num = after_op // 3\n",
    "            if next_num % self.div == 0:\n",
    "                send_to(self.true, next_num)\n",
    "            else:\n",
    "                send_to(self.false, next_num)\n",
    "\n",
    "    def recieve(self, elem):\n",
    "        self.numbers.append(elem)"
   ]
  },
  {
   "cell_type": "code",
   "execution_count": 5,
   "metadata": {},
   "outputs": [],
   "source": [
    "monkeys = []\n",
    "for monkey in data.split(\"\\n\\n\"):\n",
    "    lines = monkey.split(\"\\n\")\n",
    "    items = list(map(int, lines[1].split(\": \")[1].split(\",\")))\n",
    "    operation = lines[2].split(\"= old \")[1]\n",
    "    if \"old\" in operation:\n",
    "        op = pow\n",
    "    else:\n",
    "        type_, val = operation.split(\" \")\n",
    "        val = int(val)\n",
    "        if type_ == \"+\":\n",
    "            op = partial(add, a=val)\n",
    "        else:\n",
    "            op = partial(mul, a=val)\n",
    "\n",
    "    div = int(lines[3].split(\" \")[-1])\n",
    "    true = int(lines[4].split(\" \")[-1])\n",
    "    false = int(lines[5].split(\" \")[-1])\n",
    "    \n",
    "    monkeys.append(Monkey(items, op, div, true, false))"
   ]
  },
  {
   "cell_type": "code",
   "execution_count": 6,
   "metadata": {},
   "outputs": [],
   "source": [
    "monkey_copy = deepcopy(monkeys)"
   ]
  },
  {
   "cell_type": "markdown",
   "metadata": {},
   "source": [
    "# Part 1"
   ]
  },
  {
   "cell_type": "code",
   "execution_count": 7,
   "metadata": {},
   "outputs": [],
   "source": [
    "for _ in range(20):\n",
    "    for m in monkeys:\n",
    "        m.handle()"
   ]
  },
  {
   "cell_type": "code",
   "execution_count": 8,
   "metadata": {},
   "outputs": [],
   "source": [
    "nums = []\n",
    "for m in monkeys:\n",
    "    nums.append(m.num_inspected)\n",
    "nums.sort()\n",
    "part1 = nums[-2] * nums[-1]"
   ]
  },
  {
   "cell_type": "code",
   "execution_count": 9,
   "metadata": {},
   "outputs": [
    {
     "name": "stdout",
     "output_type": "stream",
     "text": [
      "Answer #1: 119715\n"
     ]
    }
   ],
   "source": [
    "print(f\"Answer #1: {part1}\")"
   ]
  },
  {
   "cell_type": "markdown",
   "metadata": {},
   "source": [
    "# Part 2\n",
    "Need to find LCM and modulo with that to avoid numbers to explode"
   ]
  },
  {
   "cell_type": "code",
   "execution_count": 10,
   "metadata": {},
   "outputs": [],
   "source": [
    "# Restore monkeys\n",
    "monkeys = monkey_copy"
   ]
  },
  {
   "cell_type": "code",
   "execution_count": 11,
   "metadata": {},
   "outputs": [],
   "source": [
    "divisors = []\n",
    "for m in monkeys:\n",
    "    divisors.append(m.div)\n",
    "\n",
    "lcm_val = lcm(*divisors)\n",
    "for m in monkeys:\n",
    "    m.lcm = lcm_val"
   ]
  },
  {
   "cell_type": "code",
   "execution_count": 12,
   "metadata": {},
   "outputs": [],
   "source": [
    "for _ in range(10_000):\n",
    "    for m in monkeys:\n",
    "        m.handle(part2=True)"
   ]
  },
  {
   "cell_type": "code",
   "execution_count": 13,
   "metadata": {},
   "outputs": [],
   "source": [
    "nums = []\n",
    "for m in monkeys:\n",
    "    nums.append(m.num_inspected)\n",
    "nums.sort()\n",
    "part2 = nums[-2] * nums[-1]"
   ]
  },
  {
   "cell_type": "code",
   "execution_count": 14,
   "metadata": {},
   "outputs": [
    {
     "name": "stdout",
     "output_type": "stream",
     "text": [
      "Answer #2: 18085004878\n"
     ]
    }
   ],
   "source": [
    "print(f\"Answer #2: {part2}\")"
   ]
  }
 ],
 "metadata": {
  "kernelspec": {
   "display_name": "Python 3 (ipykernel)",
   "language": "python",
   "name": "python3"
  },
  "language_info": {
   "codemirror_mode": {
    "name": "ipython",
    "version": 3
   },
   "file_extension": ".py",
   "mimetype": "text/x-python",
   "name": "python",
   "nbconvert_exporter": "python",
   "pygments_lexer": "ipython3",
   "version": "3.9.6"
  },
  "widgets": {
   "application/vnd.jupyter.widget-state+json": {
    "state": {},
    "version_major": 2,
    "version_minor": 0
   }
  }
 },
 "nbformat": 4,
 "nbformat_minor": 4
}
