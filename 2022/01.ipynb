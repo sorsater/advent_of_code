{
 "cells": [
  {
   "cell_type": "code",
   "execution_count": 1,
   "id": "463f06bd-c664-43ca-ad24-ede6755105ab",
   "metadata": {},
   "outputs": [],
   "source": [
    "data = open(\"input/01\").read().splitlines()"
   ]
  },
  {
   "cell_type": "code",
   "execution_count": 2,
   "id": "f9f6e071-4b2f-4b49-9557-49b9b1083564",
   "metadata": {},
   "outputs": [],
   "source": [
    "elves = []\n",
    "tmp_sum = 0\n",
    "for line in data:\n",
    "    if not line:\n",
    "        elves.append(tmp_sum)\n",
    "        tmp_sum = 0\n",
    "        continue\n",
    "    tmp_sum += int(line)"
   ]
  },
  {
   "cell_type": "code",
   "execution_count": 3,
   "id": "1ec0d548-e44f-4f17-bbff-6b927032008c",
   "metadata": {},
   "outputs": [
    {
     "name": "stdout",
     "output_type": "stream",
     "text": [
      "Answer #1: 66186\n"
     ]
    }
   ],
   "source": [
    "print(f\"Answer #1: {max(elves)}\")"
   ]
  },
  {
   "cell_type": "code",
   "execution_count": 4,
   "id": "ba242514-6312-4d2c-96d8-7df044ee2d97",
   "metadata": {},
   "outputs": [
    {
     "name": "stdout",
     "output_type": "stream",
     "text": [
      "Answer #2: 196804\n"
     ]
    }
   ],
   "source": [
    "print(f\"Answer #2: {sum(sorted(elves)[-3:])}\")"
   ]
  }
 ],
 "metadata": {
  "kernelspec": {
   "display_name": "Python 3 (ipykernel)",
   "language": "python",
   "name": "python3"
  },
  "language_info": {
   "codemirror_mode": {
    "name": "ipython",
    "version": 3
   },
   "file_extension": ".py",
   "mimetype": "text/x-python",
   "name": "python",
   "nbconvert_exporter": "python",
   "pygments_lexer": "ipython3",
   "version": "3.9.6"
  }
 },
 "nbformat": 4,
 "nbformat_minor": 5
}
