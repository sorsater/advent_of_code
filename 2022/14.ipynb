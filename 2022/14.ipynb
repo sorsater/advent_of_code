{
 "cells": [
  {
   "cell_type": "code",
   "execution_count": 1,
   "id": "aaa68367-c262-4216-b861-c06b3ecf394b",
   "metadata": {},
   "outputs": [],
   "source": [
    "data = open(\"input/14\").read().splitlines()"
   ]
  },
  {
   "cell_type": "code",
   "execution_count": 2,
   "id": "518ddb18-47c1-4beb-92c5-76a16d177100",
   "metadata": {},
   "outputs": [],
   "source": [
    "grid = {}\n",
    "for line in data:\n",
    "    poses = line.split(\" -> \")\n",
    "    coords = []\n",
    "    for pos in poses:\n",
    "        x, y = pos.split(\",\")\n",
    "        coords.append([int(x), int(y)])\n",
    "\n",
    "    for idx, elem in enumerate(coords[:-1]):\n",
    "        start = elem\n",
    "        stop = coords[idx + 1]\n",
    "        if start[0] == stop[0]: # down\n",
    "            parts = [start[1], stop[1]]\n",
    "            for y in range(min(parts), max(parts) + 1):\n",
    "                grid[tuple((start[0], y))] = \"#\"\n",
    "        else:\n",
    "            parts = [start[0], stop[0]]\n",
    "            for x in range(min(parts), max(parts) + 1):\n",
    "                grid[tuple((x, start[1]))] = \"#\""
   ]
  },
  {
   "cell_type": "code",
   "execution_count": 3,
   "id": "a42633a7-9681-4225-a896-a5f02cdb8875",
   "metadata": {},
   "outputs": [],
   "source": [
    "max_y = 0\n",
    "for _, y in grid.keys():\n",
    "    max_y = max(max_y, y)"
   ]
  },
  {
   "cell_type": "code",
   "execution_count": 4,
   "id": "ce3a7f58-3686-47a4-a40a-d62034c6e1ca",
   "metadata": {},
   "outputs": [],
   "source": [
    "# Keeping this as this was used for debugging\n",
    "def visualize():\n",
    "    xs, ys = [], []\n",
    "    for x, y in grid.keys():\n",
    "        xs.append(x)\n",
    "        ys.append(y)\n",
    "    min_x = min(xs)\n",
    "    max_x = max(xs)\n",
    "    max_y = max(ys)\n",
    "    for y in range(-2, max_y + 5):\n",
    "        for x in range(min_x - 1, max_x + 2):\n",
    "            if (x, y) in grid:\n",
    "                print(grid[tuple((x, y))], end=\"\")\n",
    "            else:\n",
    "                print(\".\", end=\"\")"
   ]
  },
  {
   "cell_type": "code",
   "execution_count": 5,
   "id": "1d1635a6-c5fa-4bad-ba29-34a3329d9be9",
   "metadata": {},
   "outputs": [],
   "source": [
    "def can_move_helper(new_pos):\n",
    "    if new_pos[1] >= max_y + 2:\n",
    "        return False, new_pos\n",
    "    \n",
    "    return grid.get(new_pos) is None, new_pos\n",
    "    \n",
    "def can_move_down(pos):\n",
    "    return can_move_helper((pos[0], pos[1] + 1))\n",
    "  \n",
    "def can_move_down_left(pos):\n",
    "    return can_move_helper((pos[0] - 1, pos[1] + 1))\n",
    "\n",
    "def can_move_down_right(pos):\n",
    "    return can_move_helper((pos[0] + 1, pos[1] + 1) )"
   ]
  },
  {
   "cell_type": "code",
   "execution_count": 6,
   "id": "b5b6bfbd-8ffb-45c2-a490-7a7371651307",
   "metadata": {},
   "outputs": [],
   "source": [
    "def sand_fall():\n",
    "    sand_pos = (500, 0)\n",
    "    while True:\n",
    "        valid, new_pos = can_move_down(sand_pos)\n",
    "        if valid:\n",
    "            sand_pos = new_pos\n",
    "            continue\n",
    "        \n",
    "        valid, new_pos = can_move_down_left(sand_pos)\n",
    "        if valid:\n",
    "            sand_pos = new_pos\n",
    "            continue\n",
    "\n",
    "        valid, new_pos = can_move_down_right(sand_pos)\n",
    "        if valid:\n",
    "            sand_pos = new_pos\n",
    "            continue\n",
    "\n",
    "        if sand_pos == (500, 0):\n",
    "            return True, sand_pos[1]\n",
    "\n",
    "        grid[sand_pos] = \"O\"\n",
    "        return False, sand_pos[1]"
   ]
  },
  {
   "cell_type": "code",
   "execution_count": 7,
   "id": "c413ef6f-08d7-41ce-b795-fefa3c6e2374",
   "metadata": {},
   "outputs": [],
   "source": [
    "sand = 1\n",
    "part1 = None\n",
    "while True:\n",
    "    done, y_pos = sand_fall()\n",
    "    if done:\n",
    "        break\n",
    "    else:\n",
    "        if part1 is None and y_pos > max_y:\n",
    "            part1 = sand - 1\n",
    "    sand += 1"
   ]
  },
  {
   "cell_type": "code",
   "execution_count": 8,
   "id": "b6f7b747-b35b-41fa-807c-4b8d82c23a1c",
   "metadata": {},
   "outputs": [
    {
     "name": "stdout",
     "output_type": "stream",
     "text": [
      "Answer #1: 715\n"
     ]
    }
   ],
   "source": [
    "print(f\"Answer #1: {part1}\")"
   ]
  },
  {
   "cell_type": "code",
   "execution_count": 9,
   "id": "4c86ad90-f0ee-4cc6-9207-ed1dc7fb2385",
   "metadata": {},
   "outputs": [
    {
     "name": "stdout",
     "output_type": "stream",
     "text": [
      "Answer #2: 25248\n"
     ]
    }
   ],
   "source": [
    "print(f\"Answer #2: {sand}\")"
   ]
  }
 ],
 "metadata": {
  "kernelspec": {
   "display_name": "Python 3 (ipykernel)",
   "language": "python",
   "name": "python3"
  },
  "language_info": {
   "codemirror_mode": {
    "name": "ipython",
    "version": 3
   },
   "file_extension": ".py",
   "mimetype": "text/x-python",
   "name": "python",
   "nbconvert_exporter": "python",
   "pygments_lexer": "ipython3",
   "version": "3.9.20"
  }
 },
 "nbformat": 4,
 "nbformat_minor": 5
}
