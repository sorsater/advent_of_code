{
 "cells": [
  {
   "cell_type": "code",
   "execution_count": 1,
   "id": "e39c6c6a",
   "metadata": {},
   "outputs": [],
   "source": [
    "data = open(\"input/04\").read().splitlines()"
   ]
  },
  {
   "cell_type": "code",
   "execution_count": 2,
   "id": "f29eeaad",
   "metadata": {},
   "outputs": [],
   "source": [
    "def check_line(line):\n",
    "    elf1, elf2 = line.split(\",\")\n",
    "    elf1 = list(map(int, elf1.split(\"-\")))\n",
    "    elf2 = list(map(int, elf2.split(\"-\")))\n",
    "    \n",
    "    elf1 = set(range(elf1[0], elf1[1] + 1))\n",
    "    elf2 = set(range(elf2[0], elf2[1] + 1)) \n",
    "    \n",
    "    intersection = elf1.intersection(elf2)\n",
    "    \n",
    "    part1 = len(intersection) == min(len(elf1), len(elf2))\n",
    "    part2 = len(intersection) > 0\n",
    "    \n",
    "    return part1, part2"
   ]
  },
  {
   "cell_type": "code",
   "execution_count": 3,
   "id": "eb4a6a1e",
   "metadata": {},
   "outputs": [],
   "source": [
    "part1, part2 = [], []\n",
    "for p1, p2 in [check_line(line) for line in data]:\n",
    "    part1.append(p1)\n",
    "    part2.append(p2)"
   ]
  },
  {
   "cell_type": "markdown",
   "id": "e2b32237",
   "metadata": {},
   "source": [
    "# Part 1"
   ]
  },
  {
   "cell_type": "code",
   "execution_count": 4,
   "id": "c6c4da0f",
   "metadata": {},
   "outputs": [
    {
     "name": "stdout",
     "output_type": "stream",
     "text": [
      "Answer #1: 599\n"
     ]
    }
   ],
   "source": [
    "print(f\"Answer #1: {sum(part1)}\")"
   ]
  },
  {
   "cell_type": "markdown",
   "id": "7d1a94e8",
   "metadata": {},
   "source": [
    "# Part 2"
   ]
  },
  {
   "cell_type": "code",
   "execution_count": 5,
   "id": "ade1889f",
   "metadata": {},
   "outputs": [
    {
     "name": "stdout",
     "output_type": "stream",
     "text": [
      "Answer #2: 928\n"
     ]
    }
   ],
   "source": [
    "print(f\"Answer #2: {sum(part2)}\")"
   ]
  }
 ],
 "metadata": {
  "kernelspec": {
   "display_name": "Python 3 (ipykernel)",
   "language": "python",
   "name": "python3"
  },
  "language_info": {
   "codemirror_mode": {
    "name": "ipython",
    "version": 3
   },
   "file_extension": ".py",
   "mimetype": "text/x-python",
   "name": "python",
   "nbconvert_exporter": "python",
   "pygments_lexer": "ipython3",
   "version": "3.9.6"
  }
 },
 "nbformat": 4,
 "nbformat_minor": 5
}
