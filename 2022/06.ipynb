{
 "cells": [
  {
   "cell_type": "code",
   "execution_count": 1,
   "id": "2e6258f7",
   "metadata": {},
   "outputs": [],
   "source": [
    "data = open(\"input/06\").read()"
   ]
  },
  {
   "cell_type": "code",
   "execution_count": 2,
   "id": "b3631456",
   "metadata": {},
   "outputs": [],
   "source": [
    "def run(num_to_check: int):\n",
    "    for idx in range(len(data)):\n",
    "        subset = data[idx:idx+num_to_check]\n",
    "        if len(set(subset)) == num_to_check:\n",
    "            return idx + num_to_check"
   ]
  },
  {
   "cell_type": "markdown",
   "id": "8b8dadd2",
   "metadata": {},
   "source": [
    "# Part 1"
   ]
  },
  {
   "cell_type": "code",
   "execution_count": 3,
   "id": "973486ce",
   "metadata": {},
   "outputs": [
    {
     "data": {
      "text/plain": [
       "1707"
      ]
     },
     "execution_count": 3,
     "metadata": {},
     "output_type": "execute_result"
    }
   ],
   "source": [
    "run(4)"
   ]
  },
  {
   "cell_type": "markdown",
   "id": "0ca826d2",
   "metadata": {},
   "source": [
    "# Part 2"
   ]
  },
  {
   "cell_type": "code",
   "execution_count": 4,
   "id": "00c9ce27",
   "metadata": {},
   "outputs": [
    {
     "data": {
      "text/plain": [
       "3697"
      ]
     },
     "execution_count": 4,
     "metadata": {},
     "output_type": "execute_result"
    }
   ],
   "source": [
    "run(14)"
   ]
  }
 ],
 "metadata": {
  "kernelspec": {
   "display_name": "Python 3 (ipykernel)",
   "language": "python",
   "name": "python3"
  },
  "language_info": {
   "codemirror_mode": {
    "name": "ipython",
    "version": 3
   },
   "file_extension": ".py",
   "mimetype": "text/x-python",
   "name": "python",
   "nbconvert_exporter": "python",
   "pygments_lexer": "ipython3",
   "version": "3.8.10"
  }
 },
 "nbformat": 4,
 "nbformat_minor": 5
}
