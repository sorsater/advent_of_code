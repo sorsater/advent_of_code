{
 "cells": [
  {
   "cell_type": "code",
   "execution_count": 1,
   "id": "ae2ec6f3",
   "metadata": {},
   "outputs": [],
   "source": [
    "import math"
   ]
  },
  {
   "cell_type": "code",
   "execution_count": 2,
   "id": "4361ac5b",
   "metadata": {},
   "outputs": [],
   "source": [
    "data = open(\"input/02\").read().splitlines()"
   ]
  },
  {
   "cell_type": "code",
   "execution_count": 3,
   "id": "4d39ac90",
   "metadata": {},
   "outputs": [],
   "source": [
    "def parse_line(line):\n",
    "    id_, games = line.split(\":\")\n",
    "    id_ = int(id_.replace(\"Game\", \"\").strip())    \n",
    "    rounds = []\n",
    "    for game_round in games.split(\";\"):\n",
    "        draws = []\n",
    "        for part in [item.strip() for item in game_round.split(\",\")]:\n",
    "            count, color = part.split(\" \")\n",
    "            draws.append([int(count), color])\n",
    "        rounds.append(draws)\n",
    "    return id_, rounds"
   ]
  },
  {
   "cell_type": "markdown",
   "id": "c42522d8",
   "metadata": {},
   "source": [
    "# Part 1"
   ]
  },
  {
   "cell_type": "code",
   "execution_count": 4,
   "id": "b2de5c08",
   "metadata": {},
   "outputs": [],
   "source": [
    "part1_limits = {\n",
    "    \"red\": 12, \"green\": 13, \"blue\": 14\n",
    "}"
   ]
  },
  {
   "cell_type": "code",
   "execution_count": 5,
   "id": "24cf9220",
   "metadata": {},
   "outputs": [],
   "source": [
    "def part1(line):\n",
    "    id_, rounds = parse_line(line)\n",
    "    for round_ in rounds:\n",
    "        for count, color in round_:\n",
    "            if int(count) > part1_limits[color]:\n",
    "                return 0\n",
    "    return id_"
   ]
  },
  {
   "cell_type": "code",
   "execution_count": 6,
   "id": "ed87913e",
   "metadata": {},
   "outputs": [
    {
     "name": "stdout",
     "output_type": "stream",
     "text": [
      "Answer #1: 2207\n"
     ]
    }
   ],
   "source": [
    "total_sum = sum([part1(line) for line in data])\n",
    "print(f\"Answer #1: {total_sum}\")"
   ]
  },
  {
   "cell_type": "markdown",
   "id": "d0c517de",
   "metadata": {},
   "source": [
    "# Part 2"
   ]
  },
  {
   "cell_type": "code",
   "execution_count": 7,
   "id": "47c949f7",
   "metadata": {},
   "outputs": [],
   "source": [
    "def part2(line):\n",
    "    id_, rounds = parse_line(line)\n",
    "    valid_limits = {}\n",
    "    for round_ in rounds:\n",
    "        for count, color in round_:\n",
    "            valid_limits[color] = max(valid_limits.get(color, 0), count)\n",
    "    return math.prod(valid_limits.values())"
   ]
  },
  {
   "cell_type": "code",
   "execution_count": 8,
   "id": "d187557a",
   "metadata": {},
   "outputs": [
    {
     "name": "stdout",
     "output_type": "stream",
     "text": [
      "Answer #1: 62241\n"
     ]
    }
   ],
   "source": [
    "total_sum = sum([part2(line) for line in data])\n",
    "\n",
    "print(f\"Answer #1: {total_sum}\")"
   ]
  }
 ],
 "metadata": {
  "kernelspec": {
   "display_name": "Python 3 (ipykernel)",
   "language": "python",
   "name": "python3"
  },
  "language_info": {
   "codemirror_mode": {
    "name": "ipython",
    "version": 3
   },
   "file_extension": ".py",
   "mimetype": "text/x-python",
   "name": "python",
   "nbconvert_exporter": "python",
   "pygments_lexer": "ipython3",
   "version": "3.8.10"
  }
 },
 "nbformat": 4,
 "nbformat_minor": 5
}
