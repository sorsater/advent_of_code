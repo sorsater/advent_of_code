{
 "cells": [
  {
   "cell_type": "code",
   "execution_count": 1,
   "id": "fdf7696c",
   "metadata": {},
   "outputs": [],
   "source": [
    "from copy import deepcopy"
   ]
  },
  {
   "cell_type": "code",
   "execution_count": 2,
   "id": "8f30ddf9",
   "metadata": {},
   "outputs": [],
   "source": [
    "data = open(\"input/13\").read().splitlines()"
   ]
  },
  {
   "cell_type": "markdown",
   "id": "94a83e0f",
   "metadata": {},
   "source": [
    "## Unpack the data"
   ]
  },
  {
   "cell_type": "code",
   "execution_count": 3,
   "id": "b131362d",
   "metadata": {},
   "outputs": [],
   "source": [
    "patterns = []\n",
    "tmp_pattern = []\n",
    "for line in data:\n",
    "    if len(line) == 0:\n",
    "        patterns.append(tmp_pattern)\n",
    "        tmp_pattern = []\n",
    "    else:\n",
    "        tmp_pattern.append(line)\n",
    "patterns.append(tmp_pattern)"
   ]
  },
  {
   "cell_type": "code",
   "execution_count": 4,
   "id": "4bf18942",
   "metadata": {},
   "outputs": [],
   "source": [
    "# If found, return the index where the reflection line lies\n",
    "# If idx_to_skip is provided, ignore that as we had split there before\n",
    "def check_pattern(pattern, idx_to_skip):\n",
    "    \n",
    "    for row_idx in range(len(pattern) - 1):\n",
    "        if row_idx + 1 == idx_to_skip:\n",
    "            continue\n",
    "\n",
    "        matching = True\n",
    "        for i in range(len(pattern)):\n",
    "            next_idx = row_idx + i\n",
    "            prev_idx = row_idx - i + 1\n",
    "            \n",
    "            if next_idx > len(pattern) - 1:\n",
    "                break\n",
    "            if prev_idx < 0:\n",
    "                break\n",
    "            if prev_idx > len(pattern) - 1:\n",
    "                break\n",
    "\n",
    "            if pattern[next_idx] != pattern[prev_idx]:\n",
    "                matching = False\n",
    "                break\n",
    "\n",
    "        if matching:\n",
    "            return row_idx + 1\n",
    "\n",
    "    return -1"
   ]
  },
  {
   "cell_type": "markdown",
   "id": "ff16ee8b",
   "metadata": {},
   "source": [
    "# Part 1"
   ]
  },
  {
   "cell_type": "code",
   "execution_count": 5,
   "id": "b9411005",
   "metadata": {},
   "outputs": [],
   "source": [
    "res_map = {}\n",
    "part1 = 0\n",
    "for idx, pattern in enumerate(patterns):\n",
    "    # Check row by row\n",
    "    if (split_row := check_pattern(pattern, -1)) > 0:\n",
    "        part1 += split_row * 100\n",
    "    \n",
    "    # Check col by col by transposing matrix\n",
    "    if (split_col := check_pattern(list(zip(*pattern)), -1)) > 0:\n",
    "        part1 += split_col\n",
    "    \n",
    "    res_map[idx] = [split_row, split_col]"
   ]
  },
  {
   "cell_type": "code",
   "execution_count": 6,
   "id": "a9ef3683",
   "metadata": {},
   "outputs": [
    {
     "name": "stdout",
     "output_type": "stream",
     "text": [
      "Answer #1: 30535\n"
     ]
    }
   ],
   "source": [
    "print(\"Answer #1:\", part1)"
   ]
  },
  {
   "cell_type": "markdown",
   "id": "c08512d7",
   "metadata": {},
   "source": [
    "# Part 2"
   ]
  },
  {
   "cell_type": "code",
   "execution_count": 7,
   "id": "4229b1d2",
   "metadata": {},
   "outputs": [],
   "source": [
    "part2 = 0\n",
    "for idx, pattern in enumerate(patterns):\n",
    "    pattern = list(map(list, pattern))    \n",
    "    prev_mirror = res_map[idx]\n",
    "    prev_split_row, prev_split_col = prev_mirror\n",
    "    \n",
    "    # Loop over each char and replace\n",
    "    for i in range(len(pattern) * len(pattern[0])):\n",
    "        new_pattern = deepcopy(pattern)\n",
    "        \n",
    "        cur_val = new_pattern[i // len(pattern[0])][i % len(pattern[0])]\n",
    "        new_val = \"#\" if cur_val == \".\" else \".\"\n",
    "        new_pattern[i // len(pattern[0])][i % len(pattern[0])] = new_val\n",
    "        \n",
    "        if (split_row := check_pattern(new_pattern, prev_split_row)) > 0:\n",
    "            if prev_split_row != split_row:\n",
    "                part2 += split_row * 100\n",
    "                break\n",
    "    \n",
    "        if (split_col := check_pattern(list(zip(*new_pattern)), prev_split_col)) > 0:\n",
    "            if prev_split_col != split_col:\n",
    "                part2 += split_col\n",
    "                break\n"
   ]
  },
  {
   "cell_type": "code",
   "execution_count": 8,
   "id": "2e9829d2",
   "metadata": {},
   "outputs": [
    {
     "name": "stdout",
     "output_type": "stream",
     "text": [
      "Answer #2: 30844\n"
     ]
    }
   ],
   "source": [
    "print(\"Answer #2:\", part2)"
   ]
  }
 ],
 "metadata": {
  "kernelspec": {
   "display_name": "Python 3 (ipykernel)",
   "language": "python",
   "name": "python3"
  },
  "language_info": {
   "codemirror_mode": {
    "name": "ipython",
    "version": 3
   },
   "file_extension": ".py",
   "mimetype": "text/x-python",
   "name": "python",
   "nbconvert_exporter": "python",
   "pygments_lexer": "ipython3",
   "version": "3.8.10"
  }
 },
 "nbformat": 4,
 "nbformat_minor": 5
}
