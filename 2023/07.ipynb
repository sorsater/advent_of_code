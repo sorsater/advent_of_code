{
 "cells": [
  {
   "cell_type": "code",
   "execution_count": 1,
   "id": "a6cac8df",
   "metadata": {},
   "outputs": [],
   "source": [
    "from collections import Counter"
   ]
  },
  {
   "cell_type": "code",
   "execution_count": 2,
   "id": "8b3f44ce",
   "metadata": {},
   "outputs": [],
   "source": [
    "data = open(\"input/07\").read().splitlines()"
   ]
  },
  {
   "cell_type": "code",
   "execution_count": 3,
   "id": "5de85016",
   "metadata": {},
   "outputs": [],
   "source": [
    "hand_map = {}\n",
    "for line in data:\n",
    "    hand, score = line.split(\" \")\n",
    "    hand_map[hand] = int(score)"
   ]
  },
  {
   "cell_type": "code",
   "execution_count": 4,
   "id": "8f65a612",
   "metadata": {},
   "outputs": [],
   "source": [
    "def parse_j_hand(hand):\n",
    "    c_hand = Counter(hand)\n",
    "    num_j = c_hand[\"J\"]\n",
    "    if num_j in [4, 5]:\n",
    "        types[\"five\"].append(hand) \n",
    "    \n",
    "    elif num_j == 3:\n",
    "        if len(c_hand.keys()) == 2:\n",
    "            types[\"five\"].append(hand)\n",
    "        else:\n",
    "            types[\"four\"].append(hand)\n",
    "             \n",
    "    elif num_j == 2:\n",
    "        if len(c_hand.keys()) == 2:\n",
    "            types[\"five\"].append(hand)\n",
    "        elif len(c_hand.keys()) == 3:\n",
    "            types[\"four\"].append(hand)\n",
    "        elif len(c_hand.keys()) == 4:\n",
    "            types[\"three\"].append(hand)\n",
    "            \n",
    "    elif num_j == 1:\n",
    "        if len(c_hand.keys()) == 2:\n",
    "            types[\"five\"].append(hand)\n",
    "        elif len(c_hand.keys()) == 3:\n",
    "            if list(c_hand.values()).count(2) == 2:\n",
    "                types[\"full_house\"].append(hand)\n",
    "            elif 3 in c_hand.values():\n",
    "                types[\"four\"].append(hand)\n",
    "        elif len(c_hand.keys()) == 5:\n",
    "            types[\"one_pair\"].append(hand)\n",
    "        elif len(c_hand.keys()) == 4:\n",
    "            types[\"three\"].append(hand)\n",
    "        "
   ]
  },
  {
   "cell_type": "code",
   "execution_count": 5,
   "id": "0b1c13d3",
   "metadata": {},
   "outputs": [],
   "source": [
    "def sort_hands(part2=False):\n",
    "    for hand in hand_map.keys():\n",
    "        if part2 and \"J\" in hand:\n",
    "            parse_j_hand(hand)\n",
    "            continue\n",
    "        \n",
    "        c_hand = Counter(hand)\n",
    "        if 5 in c_hand.values():\n",
    "            types[\"five\"].append(hand)\n",
    "        elif 4 in c_hand.values():\n",
    "            types[\"four\"].append(hand)\n",
    "        elif 3 in c_hand.values():\n",
    "            if 2 in c_hand.values():\n",
    "                types[\"full_house\"].append(hand)\n",
    "            else:\n",
    "                types[\"three\"].append(hand)\n",
    "        elif 2 in c_hand.values():\n",
    "            if list(c_hand.values()).count(2) == 2:\n",
    "                types[\"two_pair\"].append(hand)\n",
    "            else:\n",
    "                types[\"one_pair\"].append(hand)\n",
    "        else:\n",
    "            types[\"high_card\"].append(hand)"
   ]
  },
  {
   "cell_type": "code",
   "execution_count": 6,
   "id": "43d6ccd0",
   "metadata": {},
   "outputs": [],
   "source": [
    "def sort_internal_order(part2=False):\n",
    "    card_order = \"AKQT98765432J\" if part2 else \"AKQJT98765432\"\n",
    "   \n",
    "    for type_, hands in types.items():\n",
    "        score_repr = []\n",
    "        for hand in hands:\n",
    "            score = [card_order.index(card) for card in hand]\n",
    "            score.append(hand_map[hand])\n",
    "            score_repr.append(score)\n",
    "        types[type_] = sorted(score_repr)"
   ]
  },
  {
   "cell_type": "code",
   "execution_count": 7,
   "id": "c90db8b8",
   "metadata": {},
   "outputs": [],
   "source": [
    "def count_score():\n",
    "    rank = len(data)\n",
    "    tot_score = 0\n",
    "    for type_, hands in types.items():\n",
    "        for hand in hands:\n",
    "            tot_score += hand[-1] * rank\n",
    "            rank -= 1\n",
    "    return tot_score"
   ]
  },
  {
   "cell_type": "markdown",
   "id": "187d0cd1",
   "metadata": {},
   "source": [
    "# Part 1"
   ]
  },
  {
   "cell_type": "code",
   "execution_count": 8,
   "id": "b65403af",
   "metadata": {},
   "outputs": [
    {
     "name": "stdout",
     "output_type": "stream",
     "text": [
      "Answer #1: 246409899\n"
     ]
    }
   ],
   "source": [
    "types = {\n",
    "    \"five\": [],\n",
    "    \"four\": [],\n",
    "    \"full_house\": [],\n",
    "    \"three\": [],\n",
    "    \"two_pair\": [],\n",
    "    \"one_pair\": [],\n",
    "    \"high_card\": [],\n",
    "}\n",
    "\n",
    "sort_hands()\n",
    "sort_internal_order()\n",
    "part1 = count_score()\n",
    "\n",
    "print(\"Answer #1:\", part1)"
   ]
  },
  {
   "cell_type": "markdown",
   "id": "26861dab",
   "metadata": {},
   "source": [
    "## Part 2"
   ]
  },
  {
   "cell_type": "code",
   "execution_count": 9,
   "id": "69463cde",
   "metadata": {},
   "outputs": [
    {
     "name": "stdout",
     "output_type": "stream",
     "text": [
      "Answer #2: 244848487\n"
     ]
    }
   ],
   "source": [
    "types = {\n",
    "    \"five\": [],\n",
    "    \"four\": [],\n",
    "    \"full_house\": [],\n",
    "    \"three\": [],\n",
    "    \"two_pair\": [],\n",
    "    \"one_pair\": [],\n",
    "    \"high_card\": [],\n",
    "}\n",
    "\n",
    "sort_hands(part2=True)\n",
    "sort_internal_order(part2=True)\n",
    "part1 = count_score()\n",
    "\n",
    "print(\"Answer #2:\", part1)"
   ]
  }
 ],
 "metadata": {
  "kernelspec": {
   "display_name": "Python 3 (ipykernel)",
   "language": "python",
   "name": "python3"
  },
  "language_info": {
   "codemirror_mode": {
    "name": "ipython",
    "version": 3
   },
   "file_extension": ".py",
   "mimetype": "text/x-python",
   "name": "python",
   "nbconvert_exporter": "python",
   "pygments_lexer": "ipython3",
   "version": "3.8.10"
  }
 },
 "nbformat": 4,
 "nbformat_minor": 5
}
