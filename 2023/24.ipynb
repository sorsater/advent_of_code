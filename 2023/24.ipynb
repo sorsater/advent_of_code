{
 "cells": [
  {
   "cell_type": "code",
   "execution_count": 1,
   "id": "675cf044",
   "metadata": {},
   "outputs": [],
   "source": [
    "import re\n",
    "from itertools import combinations\n",
    "from dataclasses import dataclass\n",
    "import sympy"
   ]
  },
  {
   "cell_type": "code",
   "execution_count": 2,
   "id": "90d8b6ae",
   "metadata": {},
   "outputs": [],
   "source": [
    "pattern = r\"(.*), (.*), (.*) @ (.*), (.*), (.*)\""
   ]
  },
  {
   "cell_type": "code",
   "execution_count": 3,
   "id": "5827f58c",
   "metadata": {},
   "outputs": [],
   "source": [
    "data = open(\"input/24\").read().splitlines()"
   ]
  },
  {
   "cell_type": "code",
   "execution_count": 4,
   "id": "de9dacaa",
   "metadata": {},
   "outputs": [],
   "source": [
    "@dataclass\n",
    "class Line:\n",
    "    slope: float\n",
    "    const: float"
   ]
  },
  {
   "cell_type": "code",
   "execution_count": 5,
   "id": "76baa9ed",
   "metadata": {},
   "outputs": [],
   "source": [
    "lines = []\n",
    "for line in data:\n",
    "    m = re.match(pattern, line)\n",
    "    lines.append(list(map(int, m.groups())))"
   ]
  },
  {
   "cell_type": "code",
   "execution_count": 6,
   "id": "bba29412",
   "metadata": {},
   "outputs": [],
   "source": [
    "min_val, max_val = 200000000000000, 400000000000000"
   ]
  },
  {
   "cell_type": "code",
   "execution_count": 7,
   "id": "c8662488",
   "metadata": {},
   "outputs": [],
   "source": [
    "def get_ymxc(e):\n",
    "    x, y = e[0], e[1]\n",
    "    a, b = e[3], e[4]\n",
    "    m = b / a\n",
    "    c = y - m * x\n",
    "    return Line(m, c)"
   ]
  },
  {
   "cell_type": "code",
   "execution_count": 8,
   "id": "9b22a803",
   "metadata": {},
   "outputs": [],
   "source": [
    "def check_intersection(a, b):\n",
    "    l1 = get_ymxc(a)\n",
    "    l2 = get_ymxc(b)\n",
    "    \n",
    "    if l2.slope == l1.slope:\n",
    "        return False\n",
    "    \n",
    "    x = (l1.const - l2.const) / (l2.slope - l1.slope)\n",
    "    y = l1.slope * x + l1.const\n",
    "    \n",
    "    if not (min_val < x < max_val and min_val < y < max_val):\n",
    "        return False\n",
    "    \n",
    "    if x < a[0] and a[3] > 0:\n",
    "        return False\n",
    "    if x > a[0] and a[3] < 0:\n",
    "        return False\n",
    "    if x < b[0] and b[3] > 0:\n",
    "        return False\n",
    "    if x > b[0] and b[3] < 0:\n",
    "        return False\n",
    "\n",
    "    \n",
    "    return True"
   ]
  },
  {
   "cell_type": "code",
   "execution_count": 9,
   "id": "e9ba86b5",
   "metadata": {},
   "outputs": [],
   "source": [
    "valid = []\n",
    "for a, b in combinations(lines, 2):\n",
    "    valid.append(check_intersection(a, b))"
   ]
  },
  {
   "cell_type": "code",
   "execution_count": 10,
   "id": "def907d3",
   "metadata": {},
   "outputs": [
    {
     "name": "stdout",
     "output_type": "stream",
     "text": [
      "Answer #1: 16172\n"
     ]
    }
   ],
   "source": [
    "print(\"Answer #1:\", sum(valid))"
   ]
  },
  {
   "cell_type": "markdown",
   "id": "62b31a2e",
   "metadata": {},
   "source": [
    "# Part 2\n",
    "Quite tricky part2, used reddit for help on how to use sympy."
   ]
  },
  {
   "cell_type": "code",
   "execution_count": 11,
   "id": "25dd1be7",
   "metadata": {},
   "outputs": [],
   "source": [
    "# Define sympy symbols\n",
    "pos = sympy.symbols(f'p(:3)') \n",
    "vel = sympy.symbols(f'v(:3)') \n",
    "time = sympy.symbols(f't(:3)') "
   ]
  },
  {
   "cell_type": "code",
   "execution_count": 12,
   "id": "8a6d948d",
   "metadata": {},
   "outputs": [],
   "source": [
    "equations = []\n",
    "# Read out the first 3 only\n",
    "for h_idx, hailstone in enumerate(lines[:3]):\n",
    "    # One for every x, y, z\n",
    "    for idx in range(3):\n",
    "        equations.append(\n",
    "            hailstone[idx] + time[h_idx] * hailstone[3 + idx] - pos[idx] - vel[idx] * time[h_idx]\n",
    "        )"
   ]
  },
  {
   "cell_type": "code",
   "execution_count": 13,
   "id": "acfbde37",
   "metadata": {},
   "outputs": [
    {
     "name": "stdout",
     "output_type": "stream",
     "text": [
      "Answer #2: 600352360036779\n"
     ]
    }
   ],
   "source": [
    "answer = sum(sympy.solve(equations, (*pos, *vel, *time))[0][:3])\n",
    "print(\"Answer #2:\", answer)"
   ]
  }
 ],
 "metadata": {
  "kernelspec": {
   "display_name": "Python 3 (ipykernel)",
   "language": "python",
   "name": "python3"
  },
  "language_info": {
   "codemirror_mode": {
    "name": "ipython",
    "version": 3
   },
   "file_extension": ".py",
   "mimetype": "text/x-python",
   "name": "python",
   "nbconvert_exporter": "python",
   "pygments_lexer": "ipython3",
   "version": "3.8.10"
  }
 },
 "nbformat": 4,
 "nbformat_minor": 5
}
