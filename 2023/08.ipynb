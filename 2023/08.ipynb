{
 "cells": [
  {
   "cell_type": "code",
   "execution_count": 1,
   "id": "76ad0ab4",
   "metadata": {},
   "outputs": [],
   "source": [
    "import re\n",
    "from itertools import cycle\n",
    "from math import gcd"
   ]
  },
  {
   "cell_type": "code",
   "execution_count": 2,
   "id": "0ecb4215",
   "metadata": {},
   "outputs": [],
   "source": [
    "data = open(\"input/08\").read().splitlines()"
   ]
  },
  {
   "cell_type": "code",
   "execution_count": 3,
   "id": "1ef95baa",
   "metadata": {},
   "outputs": [],
   "source": [
    "instructions = data[0]"
   ]
  },
  {
   "cell_type": "code",
   "execution_count": 4,
   "id": "25ad4d8f",
   "metadata": {},
   "outputs": [],
   "source": [
    "pattern = r\"(\\w+) = \\((\\w+), (\\w+)\\)\""
   ]
  },
  {
   "cell_type": "code",
   "execution_count": 5,
   "id": "410b1fa7",
   "metadata": {},
   "outputs": [],
   "source": [
    "instr_map = {}\n",
    "for line in data[2:]:\n",
    "    start, left, right = re.match(pattern, line).groups()    \n",
    "    instr_map[start] = {\"L\": left, \"R\": right}"
   ]
  },
  {
   "cell_type": "code",
   "execution_count": 6,
   "id": "39d93eb1",
   "metadata": {},
   "outputs": [],
   "source": [
    "def check_one(cur, part2=False):\n",
    "    c = 0\n",
    "    for instr in cycle(instructions):\n",
    "        cur = instr_map[cur][instr]\n",
    "        c += 1\n",
    "        if part2 and cur[2] == \"Z\":\n",
    "            break\n",
    "        if not part2 and cur == \"ZZZ\":\n",
    "            break\n",
    "    return c"
   ]
  },
  {
   "cell_type": "markdown",
   "id": "22415ff6",
   "metadata": {},
   "source": [
    "# Part 1"
   ]
  },
  {
   "cell_type": "code",
   "execution_count": 7,
   "id": "66c9e0ec",
   "metadata": {},
   "outputs": [
    {
     "name": "stdout",
     "output_type": "stream",
     "text": [
      "Answer #1: 13939\n"
     ]
    }
   ],
   "source": [
    "print(\"Answer #1:\", check_one(\"AAA\"))"
   ]
  },
  {
   "cell_type": "markdown",
   "id": "bb79f0ad",
   "metadata": {},
   "source": [
    "# Part 2"
   ]
  },
  {
   "cell_type": "code",
   "execution_count": 8,
   "id": "cfe54f3d",
   "metadata": {},
   "outputs": [],
   "source": [
    "start_points = []\n",
    "for key in instr_map.keys():\n",
    "    if key[2] == \"A\":\n",
    "        start_points.append(key)"
   ]
  },
  {
   "cell_type": "code",
   "execution_count": 9,
   "id": "60eb5acb",
   "metadata": {},
   "outputs": [
    {
     "name": "stdout",
     "output_type": "stream",
     "text": [
      "Answer #2: 8906539031197\n"
     ]
    }
   ],
   "source": [
    "lcm = 1\n",
    "for i in [check_one(start, part2=True) for start in start_points]:\n",
    "    lcm = lcm*i//gcd(lcm, i)\n",
    "print(\"Answer #2:\", lcm)"
   ]
  }
 ],
 "metadata": {
  "kernelspec": {
   "display_name": "Python 3 (ipykernel)",
   "language": "python",
   "name": "python3"
  },
  "language_info": {
   "codemirror_mode": {
    "name": "ipython",
    "version": 3
   },
   "file_extension": ".py",
   "mimetype": "text/x-python",
   "name": "python",
   "nbconvert_exporter": "python",
   "pygments_lexer": "ipython3",
   "version": "3.8.10"
  }
 },
 "nbformat": 4,
 "nbformat_minor": 5
}
