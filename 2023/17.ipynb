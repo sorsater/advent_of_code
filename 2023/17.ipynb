{
 "cells": [
  {
   "cell_type": "code",
   "execution_count": 1,
   "id": "03f71170",
   "metadata": {},
   "outputs": [],
   "source": [
    "from queue import PriorityQueue"
   ]
  },
  {
   "cell_type": "code",
   "execution_count": 2,
   "id": "5d026762",
   "metadata": {},
   "outputs": [],
   "source": [
    "data = open(\"input/17\").read().splitlines()"
   ]
  },
  {
   "cell_type": "code",
   "execution_count": 3,
   "id": "7843a918",
   "metadata": {},
   "outputs": [],
   "source": [
    "grid = []\n",
    "valid = set()\n",
    "for r, line in enumerate(data):\n",
    "    row = []\n",
    "    for c, num in enumerate(line):\n",
    "        row.append(int(num))\n",
    "    grid.append(row)\n",
    "    row = []\n"
   ]
  },
  {
   "cell_type": "code",
   "execution_count": 4,
   "id": "72ffb2b0",
   "metadata": {},
   "outputs": [],
   "source": [
    "end = (len(data) - 1, len(data[0]) - 1)"
   ]
  },
  {
   "cell_type": "code",
   "execution_count": 5,
   "id": "28bf30af",
   "metadata": {},
   "outputs": [],
   "source": [
    "def get_neighbours(current, direction, direction_length):\n",
    "    row, col = current\n",
    "    neighbours = []\n",
    "    dir_lengths = {\"up\": 1, \"down\": 1, \"left\": 1, \"right\": 1}\n",
    "    dir_lengths[direction] = direction_length + 1\n",
    "        \n",
    "    if direction != \"down\":\n",
    "        neighbours.append([(row - 1, col), \"up\", dir_lengths[\"up\"]])\n",
    "\n",
    "    if direction != \"up\":\n",
    "        neighbours.append([(row + 1, col), \"down\", dir_lengths[\"down\"]])\n",
    "    \n",
    "    if direction != \"right\":\n",
    "        neighbours.append([(row, col - 1), \"left\", dir_lengths[\"left\"]])\n",
    "\n",
    "    if direction != \"left\":\n",
    "        neighbours.append([(row, col + 1), \"right\", dir_lengths[\"right\"]])\n",
    "    \n",
    "    return neighbours"
   ]
  },
  {
   "cell_type": "code",
   "execution_count": 6,
   "id": "aa591907",
   "metadata": {},
   "outputs": [],
   "source": [
    "def is_valid(position):\n",
    "    row, col = position\n",
    "    if row < 0 or col < 0:\n",
    "        return False\n",
    "    if row >= len(data) or col >= len(data[0]):\n",
    "        return False\n",
    "    return True"
   ]
  },
  {
   "cell_type": "code",
   "execution_count": 7,
   "id": "2ae09d14",
   "metadata": {},
   "outputs": [],
   "source": [
    "def run_me(part2=False):\n",
    "    q = PriorityQueue()\n",
    "    # weight, current_position, direction, direction_count\n",
    "    q.put((0, (0, 0), \"right\", 1))\n",
    "    best_to_pos = set()\n",
    "    while not q.empty():\n",
    "        weight, current, direction, direction_length = q.get()\n",
    "\n",
    "        if (current, direction, direction_length) in best_to_pos:\n",
    "            continue\n",
    "        best_to_pos.add((current, direction, direction_length))\n",
    "        \n",
    "        if (part2 and direction_length > 10) or (not part2 and direction_length > 3):\n",
    "            continue\n",
    "        if current == end:\n",
    "            if part2 and direction_length >= 4:\n",
    "                return weight\n",
    "            if not part2:\n",
    "                return weight\n",
    "\n",
    "        neighbours = get_neighbours(current, direction, direction_length)\n",
    "        for position, direction_, direction_length_ in neighbours:\n",
    "            if is_valid(position):\n",
    "                cur_weight = grid[position[0]][position[1]]\n",
    "                if part2:\n",
    "                    if direction == direction_ or direction_length >= 4:\n",
    "                        q.put((weight + cur_weight, position, direction_, direction_length_))\n",
    "                else:\n",
    "                    q.put((weight + cur_weight, position, direction_, direction_length_))"
   ]
  },
  {
   "cell_type": "code",
   "execution_count": 8,
   "id": "91f1281a",
   "metadata": {},
   "outputs": [
    {
     "name": "stdout",
     "output_type": "stream",
     "text": [
      "Answer #1: 942\n"
     ]
    }
   ],
   "source": [
    "print(\"Answer #1:\", run_me(False))"
   ]
  },
  {
   "cell_type": "code",
   "execution_count": 9,
   "id": "0ef4073d",
   "metadata": {},
   "outputs": [
    {
     "name": "stdout",
     "output_type": "stream",
     "text": [
      "Answer #2: 1082\n"
     ]
    }
   ],
   "source": [
    "print(\"Answer #2:\", run_me(True))"
   ]
  }
 ],
 "metadata": {
  "kernelspec": {
   "display_name": "Python 3 (ipykernel)",
   "language": "python",
   "name": "python3"
  },
  "language_info": {
   "codemirror_mode": {
    "name": "ipython",
    "version": 3
   },
   "file_extension": ".py",
   "mimetype": "text/x-python",
   "name": "python",
   "nbconvert_exporter": "python",
   "pygments_lexer": "ipython3",
   "version": "3.8.10"
  }
 },
 "nbformat": 4,
 "nbformat_minor": 5
}
