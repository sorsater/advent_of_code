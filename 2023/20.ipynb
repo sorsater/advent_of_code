{
 "cells": [
  {
   "cell_type": "code",
   "execution_count": 1,
   "id": "0eb77c51",
   "metadata": {},
   "outputs": [],
   "source": [
    "from collections import defaultdict\n",
    "from copy import deepcopy\n",
    "from math import gcd"
   ]
  },
  {
   "cell_type": "code",
   "execution_count": 2,
   "id": "6d3efcce",
   "metadata": {},
   "outputs": [],
   "source": [
    "data = open(\"input/20\").read().splitlines()"
   ]
  },
  {
   "cell_type": "code",
   "execution_count": 3,
   "id": "a9302e26",
   "metadata": {},
   "outputs": [],
   "source": [
    "# low = False\n",
    "# high = True"
   ]
  },
  {
   "cell_type": "markdown",
   "id": "90f0813b",
   "metadata": {},
   "source": [
    "## Note\n",
    "\n",
    "Assumption that the node pointing to rx is an conjunction, so reading out that and finding all nodes that point to that one"
   ]
  },
  {
   "cell_type": "code",
   "execution_count": 4,
   "id": "d26e61fb",
   "metadata": {},
   "outputs": [],
   "source": [
    "raw_nodes = {}\n",
    "raw_mapping = defaultdict(list)\n",
    "conjunctions = []\n",
    "part2_conjunction = None\n",
    "for line in data:   \n",
    "    sender, reciever = line.split(\" -> \")\n",
    "    \n",
    "    node_type = \"flipflop\" if \"%\" in sender else \"conjunction\"\n",
    "    if sender != \"broadcaster\":\n",
    "        if node_type == \"flipflop\":\n",
    "            raw_nodes[sender[1:]] = [node_type, False, None]\n",
    "        else:\n",
    "            conjunctions.append(sender[1:])\n",
    "            raw_nodes[sender[1:]] = [node_type, True, defaultdict(str)]\n",
    "    \n",
    "    for entry in reciever.split(\",\"):\n",
    "        raw_mapping[sender[1:]].append(entry.strip())\n",
    "        \n",
    "        if entry.strip() == \"rx\":\n",
    "            part2_conjunction = sender[1:]"
   ]
  },
  {
   "cell_type": "markdown",
   "id": "2a519495",
   "metadata": {},
   "source": [
    "# Map up the conjunctions"
   ]
  },
  {
   "cell_type": "code",
   "execution_count": 5,
   "id": "3f9e06e4",
   "metadata": {},
   "outputs": [],
   "source": [
    "part2_targets = []\n",
    "for node, values in raw_mapping.items():\n",
    "    for conjunction in values:\n",
    "        if conjunction in conjunctions:\n",
    "            if conjunction == part2_conjunction:\n",
    "                part2_targets.append(node)\n",
    "            raw_nodes[conjunction][2][node] = False"
   ]
  },
  {
   "cell_type": "code",
   "execution_count": 6,
   "id": "682878e6",
   "metadata": {},
   "outputs": [],
   "source": [
    "nodes = deepcopy(raw_nodes)\n",
    "mapping = deepcopy(raw_mapping)\n",
    "\n",
    "part2_map = {key: None for key in part2_targets}\n",
    "\n",
    "def button(count):\n",
    "    to_handle = []\n",
    "    # removing first char in key so that's why it's missing b in broadcaster\n",
    "    for key in mapping[\"roadcaster\"]:\n",
    "        to_handle.append([\n",
    "            \"broadcaster\", False, key\n",
    "        ])\n",
    "    targets = []\n",
    "    high_pulses = 0\n",
    "    low_pulses = 1\n",
    "    while True:\n",
    "        if len(to_handle) == 0:\n",
    "            return False, [high_pulses, low_pulses]\n",
    "        new_to_handle = []\n",
    "        for source, pulse, destination in to_handle:\n",
    "            # To debug\n",
    "            #print(f\"\\t{source} -{pulse}-> {destination}\")\n",
    "            \n",
    "            if destination == part2_conjunction and pulse:\n",
    "                if not part2_map[source]:\n",
    "                    part2_map[source] = count\n",
    "                if None not in part2_map.values():\n",
    "                    return True, part2_map\n",
    "\n",
    "            if pulse == True:\n",
    "                high_pulses += 1\n",
    "            else:\n",
    "                low_pulses += 1\n",
    "            \n",
    "            # end node\n",
    "            if destination not in nodes:\n",
    "                continue\n",
    "            \n",
    "            type_, state, memory = nodes[destination]\n",
    "            \n",
    "            if type_ == \"flipflop\":\n",
    "                if pulse == False:\n",
    "                    if state == False:\n",
    "                        nodes[destination][1] = True\n",
    "                        pulse = True\n",
    "                    else:\n",
    "                        nodes[destination][1] = False\n",
    "                        pulse = False\n",
    "                else:\n",
    "                    pulse = None\n",
    "                    \n",
    "            if type_ == \"conjunction\":\n",
    "                nodes[destination][2][source] = pulse            \n",
    "                all_vals = nodes[destination][2].values()         \n",
    "                pulse = False in nodes[destination][2].values()\n",
    "                      \n",
    "            targets = mapping[destination]\n",
    "            for target in targets:\n",
    "                if pulse is not None:\n",
    "                    new_to_handle.append([destination, pulse, target])\n",
    "        to_handle = deepcopy(new_to_handle)"
   ]
  },
  {
   "cell_type": "markdown",
   "id": "6004c809",
   "metadata": {},
   "source": [
    "## Part 2\n",
    "For part two get out all values that point to the conjunction before rx\n",
    "\n",
    "Then find where they get \"high\" (True in my implementation).\n",
    "\n",
    "Store and do LCM over them (the LCM in this case is unnessary as all my values are prime, but generalizes more)"
   ]
  },
  {
   "cell_type": "code",
   "execution_count": 7,
   "id": "4e8e2eb9",
   "metadata": {},
   "outputs": [],
   "source": [
    "def get_lcm(nums):\n",
    "    lcm = 1\n",
    "    for i in nums:\n",
    "        lcm = lcm*i//gcd(lcm, i)\n",
    "    return lcm"
   ]
  },
  {
   "cell_type": "code",
   "execution_count": 8,
   "id": "d0253547",
   "metadata": {},
   "outputs": [
    {
     "name": "stdout",
     "output_type": "stream",
     "text": [
      "Answer #1: 832957356\n",
      "Answer #2: 240162699605221\n"
     ]
    }
   ],
   "source": [
    "c = 1\n",
    "num_high, num_low = 0, 0\n",
    "\n",
    "while True:\n",
    "    part2, res = button(c)\n",
    "    \n",
    "    # Starting at 1 so off by 1\n",
    "    if not part2 and c < 1001:\n",
    "        num_high += res[0]\n",
    "        num_low += res[1]\n",
    "    \n",
    "    if part2:\n",
    "        lcm = get_lcm(list(res.values()))\n",
    "        break\n",
    "        \n",
    "    c += 1\n",
    "    \n",
    "print(\"Answer #1:\", num_high * num_low)\n",
    "print(\"Answer #2:\", lcm)"
   ]
  }
 ],
 "metadata": {
  "kernelspec": {
   "display_name": "Python 3 (ipykernel)",
   "language": "python",
   "name": "python3"
  },
  "language_info": {
   "codemirror_mode": {
    "name": "ipython",
    "version": 3
   },
   "file_extension": ".py",
   "mimetype": "text/x-python",
   "name": "python",
   "nbconvert_exporter": "python",
   "pygments_lexer": "ipython3",
   "version": "3.8.10"
  }
 },
 "nbformat": 4,
 "nbformat_minor": 5
}
