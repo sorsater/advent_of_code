{
 "cells": [
  {
   "cell_type": "code",
   "execution_count": 1,
   "id": "2c55dac9",
   "metadata": {},
   "outputs": [],
   "source": [
    "import math"
   ]
  },
  {
   "cell_type": "code",
   "execution_count": 2,
   "id": "2dcb7971",
   "metadata": {},
   "outputs": [],
   "source": [
    "data = open(\"input/04\").read().splitlines()"
   ]
  },
  {
   "cell_type": "code",
   "execution_count": 3,
   "id": "5e5108dc",
   "metadata": {},
   "outputs": [],
   "source": [
    "def check_line(line):\n",
    "    card, content = line.split(\":\")\n",
    "    card = int(card.replace(\"Card \", \"\"))\n",
    "    \n",
    "    winning, mine = content.split(\"|\")\n",
    "    winning = set(map(int, [elem for elem in winning.split(\" \") if elem]))\n",
    "    mine = set(map(int, [elem for elem in mine.split(\" \") if elem]))   \n",
    "    \n",
    "    overlap = winning.intersection(mine)\n",
    "    \n",
    "    part1 = int(math.pow(2, len(overlap) - 1))\n",
    "    part2 = [card + i + 1 for i in range(len(overlap))]\n",
    "    \n",
    "    return card, part1, part2"
   ]
  },
  {
   "cell_type": "code",
   "execution_count": 4,
   "id": "08429c67",
   "metadata": {},
   "outputs": [],
   "source": [
    "part1_points = []\n",
    "win_dict = {}\n",
    "for line in data:\n",
    "    card, part1, part2 = check_line(line)\n",
    "    part1_points.append(part1)\n",
    "    \n",
    "    win_dict[card] = part2"
   ]
  },
  {
   "cell_type": "code",
   "execution_count": 5,
   "id": "e5c340dd",
   "metadata": {},
   "outputs": [
    {
     "name": "stdout",
     "output_type": "stream",
     "text": [
      "Answer #1: 23750\n"
     ]
    }
   ],
   "source": [
    "print(\"Answer #1:\", sum(part1_points))"
   ]
  },
  {
   "cell_type": "markdown",
   "id": "21448f98",
   "metadata": {},
   "source": [
    "# Part 2"
   ]
  },
  {
   "cell_type": "code",
   "execution_count": 6,
   "id": "12b226a1",
   "metadata": {},
   "outputs": [],
   "source": [
    "# Already have one copy of each ticket\n",
    "nr_tickets = {key: 1 for key in win_dict.keys()}"
   ]
  },
  {
   "cell_type": "code",
   "execution_count": 7,
   "id": "4ddc0706",
   "metadata": {},
   "outputs": [],
   "source": [
    "for original, wins in sorted(win_dict.items()):\n",
    "    for elem in wins:\n",
    "        nr_tickets[elem] += nr_tickets[original]"
   ]
  },
  {
   "cell_type": "code",
   "execution_count": 8,
   "id": "bf34fcbb",
   "metadata": {},
   "outputs": [
    {
     "name": "stdout",
     "output_type": "stream",
     "text": [
      "Answer #2: 13261850\n"
     ]
    }
   ],
   "source": [
    "print(\"Answer #2:\", sum(nr_tickets.values()))"
   ]
  }
 ],
 "metadata": {
  "kernelspec": {
   "display_name": "Python 3 (ipykernel)",
   "language": "python",
   "name": "python3"
  },
  "language_info": {
   "codemirror_mode": {
    "name": "ipython",
    "version": 3
   },
   "file_extension": ".py",
   "mimetype": "text/x-python",
   "name": "python",
   "nbconvert_exporter": "python",
   "pygments_lexer": "ipython3",
   "version": "3.8.10"
  }
 },
 "nbformat": 4,
 "nbformat_minor": 5
}
