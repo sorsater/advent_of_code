{
 "cells": [
  {
   "cell_type": "code",
   "execution_count": 1,
   "id": "52d84fb1",
   "metadata": {},
   "outputs": [],
   "source": [
    "data = open(\"input/01\").read().splitlines()"
   ]
  },
  {
   "cell_type": "code",
   "execution_count": 2,
   "id": "12158b5c",
   "metadata": {},
   "outputs": [],
   "source": [
    "def get_the_ints(line: str) -> int:\n",
    "    ints = []\n",
    "    for char in line:\n",
    "        if char.isdigit():\n",
    "            ints.append(char)\n",
    "    return int(ints[0] + ints[-1])"
   ]
  },
  {
   "cell_type": "markdown",
   "id": "a8ab012c",
   "metadata": {},
   "source": [
    "# Part 1"
   ]
  },
  {
   "cell_type": "code",
   "execution_count": 3,
   "id": "c572559c",
   "metadata": {},
   "outputs": [
    {
     "name": "stdout",
     "output_type": "stream",
     "text": [
      "Answer #1: 54390\n"
     ]
    }
   ],
   "source": [
    "total_sum = 0\n",
    "for line in data:\n",
    "    total_sum += get_the_ints(line)\n",
    "print(\"Answer #1:\", total_sum)"
   ]
  },
  {
   "cell_type": "markdown",
   "id": "71b18b80",
   "metadata": {},
   "source": [
    "# Part 2"
   ]
  },
  {
   "cell_type": "code",
   "execution_count": 4,
   "id": "955f91b4",
   "metadata": {},
   "outputs": [],
   "source": [
    "int_map = {\n",
    "    \"one\": 1, \"two\": 2, \"three\": 3, \"four\": 4, \"five\": 5, \"six\": 6, \"seven\": 7, \"eight\": 8, \"nine\": 9\n",
    "}"
   ]
  },
  {
   "cell_type": "code",
   "execution_count": 5,
   "id": "bbcd912c",
   "metadata": {},
   "outputs": [
    {
     "name": "stdout",
     "output_type": "stream",
     "text": [
      "Answer #2: 54277\n"
     ]
    }
   ],
   "source": [
    "total_sum = 0\n",
    "for line in data:\n",
    "    for key, value in int_map.items():\n",
    "        line = line.replace(key, key + str(value) + key)\n",
    "    total_sum += get_the_ints(line)\n",
    "    \n",
    "print(\"Answer #2:\", total_sum)"
   ]
  }
 ],
 "metadata": {
  "kernelspec": {
   "display_name": "Python 3 (ipykernel)",
   "language": "python",
   "name": "python3"
  },
  "language_info": {
   "codemirror_mode": {
    "name": "ipython",
    "version": 3
   },
   "file_extension": ".py",
   "mimetype": "text/x-python",
   "name": "python",
   "nbconvert_exporter": "python",
   "pygments_lexer": "ipython3",
   "version": "3.8.10"
  }
 },
 "nbformat": 4,
 "nbformat_minor": 5
}
