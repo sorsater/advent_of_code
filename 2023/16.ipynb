{
 "cells": [
  {
   "cell_type": "code",
   "execution_count": 1,
   "id": "2a7f0701",
   "metadata": {},
   "outputs": [],
   "source": [
    "from copy import deepcopy\n",
    "from tqdm.notebook import tqdm\n",
    "from enum import Enum\n"
   ]
  },
  {
   "cell_type": "code",
   "execution_count": 2,
   "id": "b487e858",
   "metadata": {},
   "outputs": [],
   "source": [
    "RIGHT = 0\n",
    "LEFT = 1\n",
    "UP = 2\n",
    "DOWN = 3"
   ]
  },
  {
   "cell_type": "code",
   "execution_count": 3,
   "id": "6c85f768",
   "metadata": {},
   "outputs": [],
   "source": [
    "data = open(\"input/16\").read().splitlines()"
   ]
  },
  {
   "cell_type": "code",
   "execution_count": 4,
   "id": "9bc3d0d1",
   "metadata": {},
   "outputs": [],
   "source": [
    "grid = {}\n",
    "valid = set()\n",
    "for r, line in enumerate(data):\n",
    "    for c, char in enumerate(line):\n",
    "        valid.add((r, c))\n",
    "        if char == \".\":\n",
    "            continue\n",
    "        grid[(r, c)] = char"
   ]
  },
  {
   "cell_type": "code",
   "execution_count": 5,
   "id": "626e990a",
   "metadata": {},
   "outputs": [],
   "source": [
    "def run_one(start_pos, direction):\n",
    "    positions = [[start_pos, direction]]\n",
    "    visited = set()\n",
    "    while True:\n",
    "        if len(positions) == 0:\n",
    "            break\n",
    "        new_positions = []\n",
    "        for position, direction in positions:\n",
    "            \n",
    "            if position not in valid:\n",
    "                continue\n",
    "\n",
    "            if (position, direction) in visited:\n",
    "                continue\n",
    "            visited.add((position, direction))\n",
    "            obj = grid.get((position))\n",
    "            x, y = position\n",
    "            \n",
    "            right = (x, y + 1)\n",
    "            left = (x, y - 1)\n",
    "            up = (x - 1, y)\n",
    "            down = (x + 1, y)\n",
    "            if not obj:\n",
    "                if direction == LEFT:\n",
    "                    next_pos = left\n",
    "                elif direction == RIGHT:\n",
    "                    next_pos = right\n",
    "                elif direction == UP:\n",
    "                    next_pos = up\n",
    "                elif direction == DOWN:\n",
    "                    next_pos = down\n",
    "                \n",
    "                new_positions.append((next_pos, direction))\n",
    "                continue\n",
    "\n",
    "            if obj == \"|\":\n",
    "                if direction in [LEFT, RIGHT]:\n",
    "                    new_positions.append([up, UP])\n",
    "                    new_positions.append([down, DOWN])\n",
    "                elif direction == UP:\n",
    "                    new_positions.append([up, UP])\n",
    "                elif direction == DOWN:\n",
    "                    new_positions.append([down, DOWN])\n",
    "                    \n",
    "            elif obj == \"-\":\n",
    "                if direction in [UP, DOWN]:\n",
    "                    new_positions.append([left, LEFT])\n",
    "                    new_positions.append([right, RIGHT])\n",
    "                elif direction == LEFT:\n",
    "                    new_positions.append([left, LEFT])\n",
    "                elif direction == RIGHT:\n",
    "                    new_positions.append([right, RIGHT])\n",
    "                    \n",
    "                    \n",
    "            elif obj == \"/\":\n",
    "                if direction == RIGHT:\n",
    "                    new_positions.append([up, UP])\n",
    "                elif direction == LEFT:\n",
    "                    new_positions.append([down, DOWN])\n",
    "                elif direction == UP:\n",
    "                    new_positions.append([right, RIGHT])\n",
    "                elif direction == DOWN:\n",
    "                    new_positions.append([left, LEFT])\n",
    "\n",
    "            elif obj == \"\\\\\":\n",
    "                if direction == RIGHT:\n",
    "                    new_positions.append([down, DOWN])\n",
    "                elif direction == LEFT:\n",
    "                    new_positions.append([up, UP])\n",
    "                elif direction == UP:\n",
    "                    new_positions.append([left, LEFT])\n",
    "                elif direction == DOWN:\n",
    "                    new_positions.append([right, RIGHT])\n",
    "\n",
    "        positions = deepcopy(new_positions)\n",
    "\n",
    "    poses = set()\n",
    "    for position, dir_ in visited:\n",
    "        poses.add(position)\n",
    "    return len(poses)"
   ]
  },
  {
   "cell_type": "markdown",
   "id": "cf8da87d",
   "metadata": {},
   "source": [
    "# Part 1"
   ]
  },
  {
   "cell_type": "code",
   "execution_count": 6,
   "id": "94eb81c4",
   "metadata": {},
   "outputs": [
    {
     "name": "stdout",
     "output_type": "stream",
     "text": [
      "Answer #1: 7415\n"
     ]
    }
   ],
   "source": [
    "print(\"Answer #1:\", run_one((0, 0), RIGHT))"
   ]
  },
  {
   "cell_type": "code",
   "execution_count": 7,
   "id": "e7bd60d1",
   "metadata": {},
   "outputs": [],
   "source": [
    "max_size = len(data)"
   ]
  },
  {
   "cell_type": "code",
   "execution_count": 8,
   "id": "1335f6f9",
   "metadata": {},
   "outputs": [],
   "source": [
    "start_poses = []\n",
    "for i in range(max_size):\n",
    "    start_poses.append([(0, i), DOWN])\n",
    "    start_poses.append([(i, 0), RIGHT])\n",
    "    start_poses.append([(len(data) - 1, i), UP])\n",
    "    start_poses.append([(i, len(data) - 1), LEFT])"
   ]
  },
  {
   "cell_type": "code",
   "execution_count": 9,
   "id": "8b54d339",
   "metadata": {},
   "outputs": [
    {
     "data": {
      "application/vnd.jupyter.widget-view+json": {
       "model_id": "c4738f38dc154bafa0bd77ea6902963f",
       "version_major": 2,
       "version_minor": 0
      },
      "text/plain": [
       "  0%|          | 0/440 [00:00<?, ?it/s]"
      ]
     },
     "metadata": {},
     "output_type": "display_data"
    }
   ],
   "source": [
    "energized = []\n",
    "for pos, dir_ in tqdm(start_poses):\n",
    "    energized.append(run_one(pos, dir_))"
   ]
  },
  {
   "cell_type": "code",
   "execution_count": 10,
   "id": "470368dd",
   "metadata": {},
   "outputs": [
    {
     "name": "stdout",
     "output_type": "stream",
     "text": [
      "Answer #2: 7943\n"
     ]
    }
   ],
   "source": [
    "print(\"Answer #2:\", max(energized))"
   ]
  }
 ],
 "metadata": {
  "kernelspec": {
   "display_name": "Python 3 (ipykernel)",
   "language": "python",
   "name": "python3"
  },
  "language_info": {
   "codemirror_mode": {
    "name": "ipython",
    "version": 3
   },
   "file_extension": ".py",
   "mimetype": "text/x-python",
   "name": "python",
   "nbconvert_exporter": "python",
   "pygments_lexer": "ipython3",
   "version": "3.9.6"
  }
 },
 "nbformat": 4,
 "nbformat_minor": 5
}
