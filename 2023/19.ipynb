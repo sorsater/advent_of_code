{
 "cells": [
  {
   "cell_type": "code",
   "execution_count": 1,
   "id": "fc3956db",
   "metadata": {},
   "outputs": [],
   "source": [
    "import re\n",
    "from copy import deepcopy"
   ]
  },
  {
   "cell_type": "code",
   "execution_count": 2,
   "id": "7a7ffc9f",
   "metadata": {},
   "outputs": [],
   "source": [
    "data = open(\"input/19\").read().splitlines()"
   ]
  },
  {
   "cell_type": "code",
   "execution_count": 3,
   "id": "bebf3862",
   "metadata": {},
   "outputs": [],
   "source": [
    "part_pattern = r\"{x=(\\d+),m=(\\d+),a=(\\d+),s=(\\d+)}\""
   ]
  },
  {
   "cell_type": "code",
   "execution_count": 4,
   "id": "66758da5",
   "metadata": {},
   "outputs": [],
   "source": [
    "workflows = {}\n",
    "parts = []\n",
    "\n",
    "for line in data:\n",
    "    if \"=\" in line:\n",
    "        match = re.match(part_pattern, line)\n",
    "        nums = list(map(int, match.groups()))\n",
    "        parts.append({k: nums[idx] for idx, k in enumerate(\"xmas\")})\n",
    "    elif not line:\n",
    "        continue\n",
    "    else:\n",
    "        name, other = line.split(\"{\")\n",
    "        workflows[name] = other[:-1]"
   ]
  },
  {
   "cell_type": "code",
   "execution_count": 5,
   "id": "ec622a0d",
   "metadata": {},
   "outputs": [],
   "source": [
    "def greater_than(a, b, equal=True):\n",
    "    if equal:\n",
    "        return a >= b\n",
    "    return a > b\n",
    "def less_than(a, b, equal=True):\n",
    "    if equal:\n",
    "        return a <= b\n",
    "    return a < b"
   ]
  },
  {
   "cell_type": "markdown",
   "id": "3886682e",
   "metadata": {},
   "source": [
    "# Part 1"
   ]
  },
  {
   "cell_type": "code",
   "execution_count": 6,
   "id": "b09ca0ea",
   "metadata": {},
   "outputs": [],
   "source": [
    "def check_condition(part, condition):\n",
    "    condition, destination = condition.split(\":\")\n",
    "    if \"<\" in condition:\n",
    "        func = less_than\n",
    "        split_char = \"<\"\n",
    "    else:\n",
    "        func = greater_than\n",
    "        split_char = \">\"\n",
    "    \n",
    "    variable, value = condition.split(split_char)\n",
    "    if func(part[variable], int(value), equal=False):\n",
    "        return destination\n",
    "\n",
    "    return None"
   ]
  },
  {
   "cell_type": "code",
   "execution_count": 7,
   "id": "7afdecbc",
   "metadata": {},
   "outputs": [],
   "source": [
    "def check_part(part, current=\"in\"):\n",
    "    if current in [\"R\", \"A\"]:\n",
    "        return current\n",
    "    cur_workflow = workflows[current]\n",
    "    valid_conditions = []\n",
    "    for condition in cur_workflow.split(\",\"):\n",
    "        if \":\" not in condition:\n",
    "            continue\n",
    "        if (res := check_condition(part, condition)):\n",
    "            return check_part(part, current=res)\n",
    "\n",
    "    default = cur_workflow.split(\",\")[-1]#[\"default\"]\n",
    "    if default in [\"R\", \"A\"]:\n",
    "        return default\n",
    "    else:\n",
    "        return check_part(part, current=default)"
   ]
  },
  {
   "cell_type": "code",
   "execution_count": 8,
   "id": "b747f9cf",
   "metadata": {},
   "outputs": [
    {
     "name": "stdout",
     "output_type": "stream",
     "text": [
      "Answer #1: 402185\n"
     ]
    }
   ],
   "source": [
    "part1 = 0\n",
    "for part in parts:\n",
    "    if check_part(part) == \"A\":\n",
    "        part1 += sum(part.values())\n",
    "print(\"Answer #1:\", part1)"
   ]
  },
  {
   "cell_type": "markdown",
   "id": "e288aaf7",
   "metadata": {},
   "source": [
    "# Part 2\n",
    "Got a lot of help from reddit on how to approach part 2"
   ]
  },
  {
   "cell_type": "code",
   "execution_count": 9,
   "id": "46513702",
   "metadata": {},
   "outputs": [],
   "source": [
    "paths =  [[\"in\", {'x': [0,4001], 'm':[0,4001], 'a':[0,4001], 's':[0,4001]}]]\n",
    "\n",
    "valid_workflows = []\n",
    "while paths:\n",
    "    path = paths.pop()\n",
    "    name, ranges = path\n",
    "    if name == \"R\":\n",
    "        continue\n",
    "    if name == \"A\":\n",
    "        valid_workflows.append(path)\n",
    "        continue\n",
    "\n",
    "    for entry in workflows[name].split(\",\"):\n",
    "        # Not new condition, add the default\n",
    "        if \":\" not in entry:\n",
    "            paths.append([entry, deepcopy(ranges)])\n",
    "            continue\n",
    "        \n",
    "        condition, destination = entry.split(\":\")\n",
    "        if \"<\" in condition:\n",
    "            func = less_than\n",
    "            split_char = \"<\"\n",
    "            range_idx = [1, 0]\n",
    "            add_num = -1\n",
    "        else:\n",
    "            func = greater_than\n",
    "            split_char = \">\"\n",
    "            range_idx = [0, 1]\n",
    "            add_num = 1\n",
    "            \n",
    "        variable, value = condition.split(split_char)\n",
    "        value = int(value)\n",
    "        cur_range = ranges[variable]\n",
    "        new_ranges = deepcopy(ranges)\n",
    "        \n",
    "        # Update current range with new value\n",
    "        new_ranges[variable][range_idx[0]] = value\n",
    "        \n",
    "        # If valid condition\n",
    "        if func(new_ranges[variable][range_idx[1]], value, equal=False):\n",
    "            paths.append([destination, new_ranges])\n",
    "            \n",
    "        # Update range\n",
    "        if new_ranges[variable][range_idx[1]] is not None:\n",
    "            ranges[variable][range_idx[1]] = min(ranges[variable][1], value + add_num)"
   ]
  },
  {
   "cell_type": "code",
   "execution_count": 10,
   "id": "9113db71",
   "metadata": {},
   "outputs": [
    {
     "name": "stdout",
     "output_type": "stream",
     "text": [
      "Answer #2: 130291480568730\n"
     ]
    }
   ],
   "source": [
    "part2 = 0\n",
    "for x, bounds in valid_workflows:\n",
    "    num_ways = 1\n",
    "    for key, bound in bounds.items():\n",
    "        num_ways *= bound[1] - bound[0] - 1\n",
    "    part2 += num_ways\n",
    "print(\"Answer #2:\", part2)"
   ]
  }
 ],
 "metadata": {
  "kernelspec": {
   "display_name": "Python 3 (ipykernel)",
   "language": "python",
   "name": "python3"
  },
  "language_info": {
   "codemirror_mode": {
    "name": "ipython",
    "version": 3
   },
   "file_extension": ".py",
   "mimetype": "text/x-python",
   "name": "python",
   "nbconvert_exporter": "python",
   "pygments_lexer": "ipython3",
   "version": "3.8.10"
  }
 },
 "nbformat": 4,
 "nbformat_minor": 5
}
