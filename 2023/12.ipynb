{
 "cells": [
  {
   "cell_type": "code",
   "execution_count": 1,
   "id": "223eb121",
   "metadata": {},
   "outputs": [],
   "source": [
    "from functools import lru_cache"
   ]
  },
  {
   "cell_type": "code",
   "execution_count": 2,
   "id": "e7195fc4",
   "metadata": {},
   "outputs": [],
   "source": [
    "data = open(\"input/12\").read().splitlines()"
   ]
  },
  {
   "cell_type": "code",
   "execution_count": 3,
   "id": "53fdf419",
   "metadata": {},
   "outputs": [],
   "source": [
    "@lru_cache\n",
    "def recurse(chars, numbers_left, current_seq_len=0):\n",
    "    # Numbers left but current seq has started\n",
    "    if not numbers_left and current_seq_len > 0:\n",
    "        return 0\n",
    "    \n",
    "    # We have group numbers but cur size is too big\n",
    "    if numbers_left and current_seq_len > numbers_left[0]:\n",
    "        return 0\n",
    "    \n",
    "    if len(chars) == 0:\n",
    "        # No more numbers to process -> valid\n",
    "        if not numbers_left and current_seq_len == 0:\n",
    "            return 1\n",
    "        \n",
    "        # One more number which matches what we have left\n",
    "        elif len(numbers_left) == 1 and current_seq_len == numbers_left[0]:\n",
    "            return 1\n",
    "        else:\n",
    "            return 0\n",
    "    \n",
    "    num_valid = 0\n",
    "    next_elem = chars[0]\n",
    "    if next_elem == \"#\" or next_elem == \"?\":\n",
    "        num_valid += recurse(chars[1:], numbers_left, current_seq_len + 1)\n",
    "    \n",
    "    if next_elem == \".\" or next_elem == \"?\":\n",
    "        # Done with the group, start a new\n",
    "        if len(numbers_left) > 0 and current_seq_len == numbers_left[0]:\n",
    "            num_valid += recurse(chars[1:], numbers_left[1:], 0)\n",
    "        elif current_seq_len == 0:\n",
    "            num_valid += recurse(chars[1:], numbers_left, 0)\n",
    "        \n",
    "    return num_valid"
   ]
  },
  {
   "cell_type": "markdown",
   "id": "7f8a1f99",
   "metadata": {},
   "source": [
    "# Part 1"
   ]
  },
  {
   "cell_type": "code",
   "execution_count": 4,
   "id": "76f5d652",
   "metadata": {},
   "outputs": [
    {
     "name": "stdout",
     "output_type": "stream",
     "text": [
      "Answer #1: 7857\n"
     ]
    }
   ],
   "source": [
    "tot_sum = 0\n",
    "for line in data:\n",
    "    chars, numbers = line.split(\" \")\n",
    "    numbers = tuple(map(int, numbers.split(\",\")))\n",
    "    tot_sum += recurse(chars, numbers)\n",
    "\n",
    "print(\"Answer #1:\", tot_sum)"
   ]
  },
  {
   "cell_type": "markdown",
   "id": "5078b5d6",
   "metadata": {},
   "source": [
    "# Part 2"
   ]
  },
  {
   "cell_type": "code",
   "execution_count": 5,
   "id": "f4c9c01f",
   "metadata": {},
   "outputs": [
    {
     "name": "stdout",
     "output_type": "stream",
     "text": [
      "Answer #2: 28606137449920\n"
     ]
    }
   ],
   "source": [
    "tot_sum = 0\n",
    "for line in data:\n",
    "    chars, numbers = line.split(\" \")\n",
    "    chars = ((chars + \"?\") * 5)[:-1]\n",
    "    numbers = ((numbers + \",\") * 5)[:-1]\n",
    "    numbers = tuple(map(int, numbers.split(\",\")))\n",
    "\n",
    "    tot_sum += recurse(chars, numbers)\n",
    "    \n",
    "print(\"Answer #2:\", tot_sum)"
   ]
  }
 ],
 "metadata": {
  "kernelspec": {
   "display_name": "Python 3 (ipykernel)",
   "language": "python",
   "name": "python3"
  },
  "language_info": {
   "codemirror_mode": {
    "name": "ipython",
    "version": 3
   },
   "file_extension": ".py",
   "mimetype": "text/x-python",
   "name": "python",
   "nbconvert_exporter": "python",
   "pygments_lexer": "ipython3",
   "version": "3.8.10"
  }
 },
 "nbformat": 4,
 "nbformat_minor": 5
}
