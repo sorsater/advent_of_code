{
 "cells": [
  {
   "cell_type": "code",
   "execution_count": 1,
   "id": "c37c4244",
   "metadata": {},
   "outputs": [],
   "source": [
    "import math"
   ]
  },
  {
   "cell_type": "code",
   "execution_count": 2,
   "id": "873e1061",
   "metadata": {},
   "outputs": [],
   "source": [
    "data = open(\"input/06\").read().splitlines()"
   ]
  },
  {
   "cell_type": "code",
   "execution_count": 3,
   "id": "80af82f8",
   "metadata": {},
   "outputs": [],
   "source": [
    "time = list(map(int, [e for e in data[0].split(\":\")[1].split(\" \") if e]))"
   ]
  },
  {
   "cell_type": "code",
   "execution_count": 4,
   "id": "7e49bc88",
   "metadata": {},
   "outputs": [],
   "source": [
    "distance = list(map(int, [e for e in data[1].split(\":\")[1].split(\" \") if e]))"
   ]
  },
  {
   "cell_type": "code",
   "execution_count": 5,
   "id": "bb228859",
   "metadata": {},
   "outputs": [],
   "source": [
    "pairs = list(zip(time, distance))"
   ]
  },
  {
   "cell_type": "code",
   "execution_count": 6,
   "id": "371d192d",
   "metadata": {},
   "outputs": [],
   "source": [
    "def count_pair(time, distance):\n",
    "    num_valid = 0\n",
    "    for i in range(time):\n",
    "        if i * (time - i) > distance:\n",
    "            num_valid += 1\n",
    "            \n",
    "    return num_valid"
   ]
  },
  {
   "cell_type": "markdown",
   "id": "8b276f50",
   "metadata": {},
   "source": [
    "# Part 1"
   ]
  },
  {
   "cell_type": "code",
   "execution_count": 7,
   "id": "57b1a770",
   "metadata": {},
   "outputs": [
    {
     "name": "stdout",
     "output_type": "stream",
     "text": [
      "Answer #1: 1159152\n"
     ]
    }
   ],
   "source": [
    "print(\"Answer #1:\", math.prod([count_pair(t, d) for t, d in pairs]))"
   ]
  },
  {
   "cell_type": "markdown",
   "id": "eaafd0f9",
   "metadata": {},
   "source": [
    "# Part 2"
   ]
  },
  {
   "cell_type": "code",
   "execution_count": 8,
   "id": "80e258eb",
   "metadata": {},
   "outputs": [
    {
     "name": "stdout",
     "output_type": "stream",
     "text": [
      "Answer #2: 41513103\n"
     ]
    }
   ],
   "source": [
    "time, distance = \"\", \"\"\n",
    "for t, d in pairs:\n",
    "    time += str(t)\n",
    "    distance += str(d)\n",
    "\n",
    "print(\"Answer #2:\", count_pair(int(time), int(distance)))"
   ]
  }
 ],
 "metadata": {
  "kernelspec": {
   "display_name": "Python 3 (ipykernel)",
   "language": "python",
   "name": "python3"
  },
  "language_info": {
   "codemirror_mode": {
    "name": "ipython",
    "version": 3
   },
   "file_extension": ".py",
   "mimetype": "text/x-python",
   "name": "python",
   "nbconvert_exporter": "python",
   "pygments_lexer": "ipython3",
   "version": "3.8.10"
  }
 },
 "nbformat": 4,
 "nbformat_minor": 5
}
