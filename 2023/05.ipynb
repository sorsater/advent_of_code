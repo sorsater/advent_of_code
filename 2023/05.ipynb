{
 "cells": [
  {
   "cell_type": "code",
   "execution_count": 1,
   "id": "d91da02b",
   "metadata": {},
   "outputs": [],
   "source": [
    "import re\n",
    "from dataclasses import dataclass\n",
    "from collections import defaultdict\n",
    "from tqdm.notebook import tqdm"
   ]
  },
  {
   "cell_type": "code",
   "execution_count": 2,
   "id": "13503096",
   "metadata": {},
   "outputs": [],
   "source": [
    "pattern = r\"(\\w+)-to-(\\w+) map:\""
   ]
  },
  {
   "cell_type": "code",
   "execution_count": 3,
   "id": "4feab5b0",
   "metadata": {},
   "outputs": [],
   "source": [
    "@dataclass\n",
    "class Range:\n",
    "    destination_start: int\n",
    "    source_start: int\n",
    "    length: int"
   ]
  },
  {
   "cell_type": "code",
   "execution_count": 4,
   "id": "49cd6343",
   "metadata": {},
   "outputs": [],
   "source": [
    "data = open(\"input/05\").read().splitlines()"
   ]
  },
  {
   "cell_type": "code",
   "execution_count": 5,
   "id": "f5ad00c0",
   "metadata": {},
   "outputs": [],
   "source": [
    "seeds = list(map(int, data[0].split(\"seeds: \")[1].split(\" \")))"
   ]
  },
  {
   "cell_type": "code",
   "execution_count": 6,
   "id": "0f0011d6",
   "metadata": {},
   "outputs": [],
   "source": [
    "maps = defaultdict(list)\n",
    "cur_map = None\n",
    "keys = []\n",
    "for line in data[2:]:\n",
    "    match = re.match(pattern, line)\n",
    "    if match:\n",
    "        from_, to = match.groups()\n",
    "        keys.append((from_, to))\n",
    "    else:\n",
    "        if not line:\n",
    "            continue\n",
    "        nums = list(map(int, line.split(\" \")))\n",
    "        maps[(from_, to)].append(Range(*nums))"
   ]
  },
  {
   "cell_type": "code",
   "execution_count": 7,
   "id": "c00f854b",
   "metadata": {},
   "outputs": [],
   "source": [
    "def check_seed(seed):\n",
    "    cur_location = seed\n",
    "    for key in keys:   \n",
    "        for entry in maps[key]:        \n",
    "            if cur_location >= entry.source_start and cur_location <= (entry.source_start + entry.length - 1):\n",
    "                cur_location = cur_location - (entry.source_start - entry.destination_start)\n",
    "                break\n",
    "    \n",
    "    return cur_location"
   ]
  },
  {
   "cell_type": "markdown",
   "id": "d1edcb0c",
   "metadata": {},
   "source": [
    "# Part 1"
   ]
  },
  {
   "cell_type": "code",
   "execution_count": 8,
   "id": "ebb7d636",
   "metadata": {},
   "outputs": [],
   "source": [
    "part1_seeds = seeds"
   ]
  },
  {
   "cell_type": "code",
   "execution_count": 9,
   "id": "e2047dd0",
   "metadata": {},
   "outputs": [
    {
     "name": "stdout",
     "output_type": "stream",
     "text": [
      "Answer #1: 806029445\n"
     ]
    }
   ],
   "source": [
    "best_location = None\n",
    "for seed in part1_seeds:\n",
    "    cp = check_seed(seed)\n",
    "    if not best_location:\n",
    "        best_location = cp\n",
    "    else:\n",
    "        best_location = min(best_location, cp)\n",
    "\n",
    "print(\"Answer #1:\", best_location)"
   ]
  },
  {
   "cell_type": "markdown",
   "id": "f832fb95",
   "metadata": {},
   "source": [
    "# Part 2"
   ]
  },
  {
   "cell_type": "code",
   "execution_count": 10,
   "id": "c9db5c88",
   "metadata": {},
   "outputs": [],
   "source": [
    "def check_reverse_seed(goal):\n",
    "    cur_location = goal\n",
    "    for key in keys[::-1]:\n",
    "        for entry in maps[key]:            \n",
    "            if cur_location >= entry.destination_start and cur_location <= (entry.destination_start + entry.length - 1):                \n",
    "                cur_location = cur_location - (entry.destination_start - entry.source_start)\n",
    "                break\n",
    "    return cur_location"
   ]
  },
  {
   "cell_type": "code",
   "execution_count": 11,
   "id": "ef6daaa3",
   "metadata": {},
   "outputs": [],
   "source": [
    "ranges = []\n",
    "for i in range(0, len(seeds), 2):\n",
    "    start_seed = seeds[i]\n",
    "    range_seed = seeds[i + 1]\n",
    "    ranges.append([start_seed, start_seed + range_seed - 1])"
   ]
  },
  {
   "cell_type": "markdown",
   "id": "4b52808d",
   "metadata": {},
   "source": [
    "## Quicker solution, not optimal"
   ]
  },
  {
   "cell_type": "code",
   "execution_count": 12,
   "id": "2926be47",
   "metadata": {},
   "outputs": [
    {
     "name": "stdout",
     "output_type": "stream",
     "text": [
      "Answer #2: 59370572\n",
      "\n",
      "CPU times: user 7min 44s, sys: 1.89 s, total: 7min 46s\n",
      "Wall time: 7min 46s\n"
     ]
    }
   ],
   "source": [
    "%%time\n",
    "i = 1\n",
    "while True:\n",
    "    found = False\n",
    "    seed = check_reverse_seed(i)\n",
    "    for start, end in ranges:\n",
    "        if seed >= start and seed <= end:\n",
    "            found = True\n",
    "            break\n",
    "    if found:\n",
    "        break\n",
    "    i += 1\n",
    "        \n",
    "print(\"Answer #2:\", i)\n",
    "print()"
   ]
  },
  {
   "cell_type": "markdown",
   "id": "25ce7835",
   "metadata": {},
   "source": [
    "## Brute force solution, around 4 hours"
   ]
  },
  {
   "cell_type": "code",
   "execution_count": 13,
   "id": "81f10b6f",
   "metadata": {},
   "outputs": [
    {
     "data": {
      "application/vnd.jupyter.widget-view+json": {
       "model_id": "d0c72d91558a46c0a5684820a5d6ddc6",
       "version_major": 2,
       "version_minor": 0
      },
      "text/plain": [
       "  0%|          | 0/10 [00:00<?, ?it/s]"
      ]
     },
     "metadata": {},
     "output_type": "display_data"
    },
    {
     "name": "stdout",
     "output_type": "stream",
     "text": [
      "Answer #2: 59370572\n",
      "\n",
      "CPU times: user 3h 43min 31s, sys: 53.4 s, total: 3h 44min 24s\n",
      "Wall time: 3h 44min 44s\n"
     ]
    }
   ],
   "source": [
    "%%time\n",
    "best_location = None\n",
    "for i in tqdm(range(0, len(seeds), 2)):\n",
    "    start_seed = seeds[i]\n",
    "    range_seed = seeds[i + 1]    \n",
    "    for i in range(range_seed):\n",
    "        cp = check_seed(start_seed + i)\n",
    "        if not best_location:\n",
    "            best_location = cp\n",
    "        else:\n",
    "            best_location = min(best_location, cp)\n",
    "\n",
    "print(\"Answer #2:\", best_location)\n",
    "print()"
   ]
  }
 ],
 "metadata": {
  "kernelspec": {
   "display_name": "Python 3 (ipykernel)",
   "language": "python",
   "name": "python3"
  },
  "language_info": {
   "codemirror_mode": {
    "name": "ipython",
    "version": 3
   },
   "file_extension": ".py",
   "mimetype": "text/x-python",
   "name": "python",
   "nbconvert_exporter": "python",
   "pygments_lexer": "ipython3",
   "version": "3.8.10"
  }
 },
 "nbformat": 4,
 "nbformat_minor": 5
}
