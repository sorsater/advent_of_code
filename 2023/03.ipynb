{
 "cells": [
  {
   "cell_type": "code",
   "execution_count": 1,
   "id": "5db10c6c",
   "metadata": {},
   "outputs": [],
   "source": [
    "from collections import defaultdict"
   ]
  },
  {
   "cell_type": "code",
   "execution_count": 2,
   "id": "efb97d3d",
   "metadata": {},
   "outputs": [],
   "source": [
    "data = open(\"input/03\").read().splitlines()"
   ]
  },
  {
   "cell_type": "code",
   "execution_count": 3,
   "id": "c037ca1d",
   "metadata": {},
   "outputs": [],
   "source": [
    "symbol_dict = {}\n",
    "parts = {}"
   ]
  },
  {
   "cell_type": "code",
   "execution_count": 4,
   "id": "8c7b207c",
   "metadata": {},
   "outputs": [],
   "source": [
    "def check_and_add_part(curr_part, row, col):\n",
    "    if curr_part:\n",
    "        parts[(row, col - len(curr_part), col - 1)] = curr_part"
   ]
  },
  {
   "cell_type": "code",
   "execution_count": 5,
   "id": "8df67793",
   "metadata": {},
   "outputs": [],
   "source": [
    "for row, line in enumerate(data):\n",
    "    curr_part = \"\"\n",
    "    for col, char in enumerate(line):\n",
    "        if char == \".\":\n",
    "            check_and_add_part(curr_part, row, col)\n",
    "            curr_part = \"\"\n",
    "        elif char.isdigit():\n",
    "            curr_part += char\n",
    "        else:\n",
    "            check_and_add_part(curr_part, row, col)\n",
    "            curr_part = \"\"\n",
    "            symbol_dict[(row, col)] = char\n",
    "    check_and_add_part(curr_part, row, col)"
   ]
  },
  {
   "cell_type": "code",
   "execution_count": 6,
   "id": "e266a9d7",
   "metadata": {},
   "outputs": [],
   "source": [
    "neighbors = []\n",
    "for i in range(-1, 2, 1):\n",
    "    for j in range(-1, 2, 1):\n",
    "        if i == 0 and j == 0:\n",
    "            continue\n",
    "        neighbors.append([i, j])"
   ]
  },
  {
   "cell_type": "code",
   "execution_count": 7,
   "id": "00af6852",
   "metadata": {},
   "outputs": [],
   "source": [
    "valid_parts = []\n",
    "potential_gears = defaultdict(list)\n",
    "for location, part in parts.items():\n",
    "    row, start, end = location\n",
    "    part_number, gear_found = False, False\n",
    "    for i in range(start, end + 1):\n",
    "        for x, y in neighbors:\n",
    "            xx = x + row\n",
    "            yy = y + i\n",
    "            symbol = symbol_dict.get((xx, yy))\n",
    "            if symbol:\n",
    "                part_number = True\n",
    "                if symbol == \"*\" and not gear_found:\n",
    "                    potential_gears[(xx, yy)].append(part)\n",
    "                    gear_found = True\n",
    "    if part_number:\n",
    "        valid_parts.append(int(part))"
   ]
  },
  {
   "cell_type": "markdown",
   "id": "d75797d2",
   "metadata": {},
   "source": [
    "# Part 1"
   ]
  },
  {
   "cell_type": "code",
   "execution_count": 8,
   "id": "44241305",
   "metadata": {},
   "outputs": [
    {
     "name": "stdout",
     "output_type": "stream",
     "text": [
      "Answer #2: 539433\n"
     ]
    }
   ],
   "source": [
    "print(\"Answer #2:\", sum(valid_parts))"
   ]
  },
  {
   "cell_type": "markdown",
   "id": "4a61f429",
   "metadata": {},
   "source": [
    "# Part 2"
   ]
  },
  {
   "cell_type": "code",
   "execution_count": 9,
   "id": "755f28c9",
   "metadata": {},
   "outputs": [
    {
     "name": "stdout",
     "output_type": "stream",
     "text": [
      "Answer #2: 75847567\n"
     ]
    }
   ],
   "source": [
    "tot_sum = 0\n",
    "for key, value in potential_gears.items():\n",
    "    if len(value) == 2:\n",
    "        tot_sum += int(value[0]) * int(value[1])\n",
    "        \n",
    "print(\"Answer #2:\", tot_sum)"
   ]
  }
 ],
 "metadata": {
  "kernelspec": {
   "display_name": "Python 3 (ipykernel)",
   "language": "python",
   "name": "python3"
  },
  "language_info": {
   "codemirror_mode": {
    "name": "ipython",
    "version": 3
   },
   "file_extension": ".py",
   "mimetype": "text/x-python",
   "name": "python",
   "nbconvert_exporter": "python",
   "pygments_lexer": "ipython3",
   "version": "3.8.10"
  }
 },
 "nbformat": 4,
 "nbformat_minor": 5
}
