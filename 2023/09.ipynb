{
 "cells": [
  {
   "cell_type": "code",
   "execution_count": 1,
   "id": "aacaf5a2-a877-49b4-8b19-318b3f9c7086",
   "metadata": {},
   "outputs": [],
   "source": [
    "data = open(\"09\").read().splitlines()"
   ]
  },
  {
   "cell_type": "code",
   "execution_count": 2,
   "id": "e84ae0cf-b6f1-430a-8b02-ae53f84aee7f",
   "metadata": {},
   "outputs": [],
   "source": [
    "data = [list(map(int, line.split(\" \"))) for line in data]"
   ]
  },
  {
   "cell_type": "code",
   "execution_count": 3,
   "id": "73112a83-7ba4-4969-a005-4dd31026f511",
   "metadata": {},
   "outputs": [],
   "source": [
    "def generate_seqs(line):\n",
    "    all_seqs = [line]\n",
    "    while True:\n",
    "        cur = all_seqs[-1]\n",
    "        new_list = [cur[idx+1] - elem for idx, elem in enumerate(cur[:-1])]\n",
    "        all_seqs.append(new_list)\n",
    "        if all([elem == 0 for elem in new_list]):\n",
    "            break\n",
    "   \n",
    "    return all_seqs"
   ]
  },
  {
   "cell_type": "code",
   "execution_count": 4,
   "id": "e6a85221-6caa-4c02-984b-155f40f27e2a",
   "metadata": {},
   "outputs": [],
   "source": [
    "def interpolate(entries):\n",
    "    part1, part2 = 0, 0\n",
    "    for entry in entries[::-1]:\n",
    "        part1 += entry[-1]\n",
    "        part2 = entry[0] - part2\n",
    "        \n",
    "    return part1, part2"
   ]
  },
  {
   "cell_type": "code",
   "execution_count": 5,
   "id": "6fa26647-9520-4320-93ff-8a695b317f30",
   "metadata": {},
   "outputs": [],
   "source": [
    "part1, part2 = 0, 0\n",
    "for line in data:\n",
    "    seqs = generate_seqs(line)\n",
    "    pt1, pt2 = interpolate(seqs)\n",
    "    part1 += pt1\n",
    "    part2 += pt2"
   ]
  },
  {
   "cell_type": "code",
   "execution_count": 6,
   "id": "fff698f6-327a-446d-923f-d928838a19fc",
   "metadata": {},
   "outputs": [
    {
     "name": "stdout",
     "output_type": "stream",
     "text": [
      "Answer #1: 1637452029\n",
      "Answer #2: 908\n"
     ]
    }
   ],
   "source": [
    "print(\"Answer #1:\", part1)\n",
    "print(\"Answer #2:\", part2)"
   ]
  }
 ],
 "metadata": {
  "kernelspec": {
   "display_name": "Python 3 (ipykernel)",
   "language": "python",
   "name": "python3"
  },
  "language_info": {
   "codemirror_mode": {
    "name": "ipython",
    "version": 3
   },
   "file_extension": ".py",
   "mimetype": "text/x-python",
   "name": "python",
   "nbconvert_exporter": "python",
   "pygments_lexer": "ipython3",
   "version": "3.9.6"
  }
 },
 "nbformat": 4,
 "nbformat_minor": 5
}
