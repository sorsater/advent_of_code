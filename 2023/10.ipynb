{
 "cells": [
  {
   "cell_type": "code",
   "execution_count": 1,
   "id": "37962a42",
   "metadata": {},
   "outputs": [],
   "source": [
    "from collections import defaultdict\n",
    "from tqdm.notebook import tqdm"
   ]
  },
  {
   "cell_type": "code",
   "execution_count": 2,
   "id": "5bf2b81a",
   "metadata": {},
   "outputs": [],
   "source": [
    "data = open(\"input/10\").read().splitlines()"
   ]
  },
  {
   "cell_type": "code",
   "execution_count": 3,
   "id": "98163f01",
   "metadata": {},
   "outputs": [],
   "source": [
    "pipes = {\n",
    "    \"-\": [[0, 1], [0, -1]],\n",
    "    \"|\": [[1, 0], [-1, 0]],\n",
    "    \"F\": [[0, 1], [1, 0]],\n",
    "    \"7\": [[1, 0], [0, -1]],\n",
    "    \"L\": [[-1, 0], [0, 1]],\n",
    "    \"J\": [[-1, 0], [0, -1]],\n",
    "    \"S\": [[0, 1], [0, -1], [1, 0], [-1, 0]],\n",
    "}"
   ]
  },
  {
   "cell_type": "markdown",
   "id": "0aaed3f0",
   "metadata": {},
   "source": [
    "## Map up the pipe"
   ]
  },
  {
   "cell_type": "code",
   "execution_count": 4,
   "id": "7252987c",
   "metadata": {},
   "outputs": [],
   "source": [
    "pipe_map = defaultdict(list)\n",
    "all_locations = set()\n",
    "S_LOC = None\n",
    "for r, line in enumerate(data):\n",
    "    for c, char in enumerate(line):\n",
    "        all_locations.add((r, c))\n",
    "        if char == \".\":\n",
    "            continue\n",
    "        if char == \"S\":\n",
    "            S_LOC = (r, c)\n",
    "        \n",
    "        for rr, cc in pipes[char]:\n",
    "            pipe_map[(r, c)].append((r + rr, c + cc))    "
   ]
  },
  {
   "cell_type": "markdown",
   "id": "b17bb135",
   "metadata": {},
   "source": [
    "## Remove S's broken neighbours"
   ]
  },
  {
   "cell_type": "code",
   "execution_count": 5,
   "id": "43e80fb8",
   "metadata": {},
   "outputs": [],
   "source": [
    "pipe_map[S_LOC] = [node for node in pipe_map[S_LOC] if S_LOC in pipe_map[node]]"
   ]
  },
  {
   "cell_type": "markdown",
   "id": "364cdceb",
   "metadata": {},
   "source": [
    "## Walk in pipe"
   ]
  },
  {
   "cell_type": "code",
   "execution_count": 6,
   "id": "d39c428d",
   "metadata": {},
   "outputs": [],
   "source": [
    "loop = [S_LOC, pipe_map[S_LOC][0]]\n",
    "cur = loop[-1]\n",
    "while cur != S_LOC:    \n",
    "    n1, n2 = pipe_map[cur]\n",
    "    cur = n2 if n1 == loop[-2] else n1\n",
    "    loop.append(cur)"
   ]
  },
  {
   "cell_type": "code",
   "execution_count": 7,
   "id": "45490592",
   "metadata": {},
   "outputs": [
    {
     "name": "stdout",
     "output_type": "stream",
     "text": [
      "Answer #1: 6931\n"
     ]
    }
   ],
   "source": [
    "print(\"Answer #1:\", len(loop) // 2)"
   ]
  },
  {
   "cell_type": "markdown",
   "id": "00638296",
   "metadata": {},
   "source": [
    "# Part 2"
   ]
  },
  {
   "cell_type": "markdown",
   "id": "a6aee8c9",
   "metadata": {},
   "source": [
    "## Idea is to generate a finer grid with positions in between all others\n",
    "* Then from all nodes to DFS until I get outside of the grid\n",
    "* Need to first extend my original loop with the in between steps\n",
    "* Then iterate over all nodes that are not in the loop to see if I can get out"
   ]
  },
  {
   "cell_type": "markdown",
   "id": "99714c89",
   "metadata": {},
   "source": [
    "## Generate the more detail loop with positions in between"
   ]
  },
  {
   "cell_type": "code",
   "execution_count": 8,
   "id": "4f300d0c",
   "metadata": {},
   "outputs": [],
   "source": [
    "loop_fine = set()\n",
    "for idx, elem in enumerate(loop[:-1]):\n",
    "    loop_fine.add(elem)\n",
    "        \n",
    "    x1, y1 = elem\n",
    "    x2, y2 = loop[idx + 1]\n",
    "    newx, newy = x1, y1\n",
    "    \n",
    "    if x1 == x2:\n",
    "        newy = y1 - 0.5 if y1 > y2 else y1 + 0.5\n",
    "    else:\n",
    "        newx = x1 - 0.5 if x1 > x2 else x1 + 0.5\n",
    "\n",
    "    loop_fine.add((newx, newy))"
   ]
  },
  {
   "cell_type": "markdown",
   "id": "5335112c",
   "metadata": {},
   "source": [
    "## Find all neighbours that are not in the loop"
   ]
  },
  {
   "cell_type": "code",
   "execution_count": 9,
   "id": "94d3ea40",
   "metadata": {},
   "outputs": [],
   "source": [
    "def find_neighbours(node):\n",
    "    neighbours = []\n",
    "    for row, col in [[0, 0.5], [0, -0.5], [0.5, 0], [-0.5, 0]]:\n",
    "        pair = (node[0] + row, node[1] + col)\n",
    "        if pair not in loop_fine:\n",
    "            neighbours.append(pair)\n",
    "    return neighbours"
   ]
  },
  {
   "cell_type": "markdown",
   "id": "68db6ccb",
   "metadata": {},
   "source": [
    "## Code to see if we are outside of the original grid"
   ]
  },
  {
   "cell_type": "code",
   "execution_count": 10,
   "id": "cc9c0d62",
   "metadata": {},
   "outputs": [],
   "source": [
    "min_row, min_col = 0, 0\n",
    "max_row, max_col = len(data) - 1, len(data[1]) -1\n",
    "\n",
    "def invalid_range(cur):\n",
    "    row, col = cur\n",
    "    if row < min_row or row > max_row:\n",
    "        return True\n",
    "    if col < min_col or col > max_col:\n",
    "        return True\n",
    "    return False"
   ]
  },
  {
   "cell_type": "code",
   "execution_count": 11,
   "id": "7651e09c",
   "metadata": {},
   "outputs": [],
   "source": [
    "verified_non_isolated = set()"
   ]
  },
  {
   "cell_type": "code",
   "execution_count": 12,
   "id": "2e4dae59",
   "metadata": {},
   "outputs": [],
   "source": [
    "def walk_node(node):\n",
    "    visited = set(node)\n",
    "    queue = find_neighbours(node)\n",
    "    isolated_node = True\n",
    "    \n",
    "    while len(queue) > 0:\n",
    "        cur = queue.pop()\n",
    "        \n",
    "        if cur in verified_non_isolated or invalid_range(cur):\n",
    "            isolated_node = False\n",
    "            break\n",
    "            \n",
    "        visited.add(cur)\n",
    "\n",
    "        for neighbour in find_neighbours(cur):\n",
    "            if neighbour not in visited:\n",
    "                queue.append(neighbour)\n",
    "                \n",
    "    # Populate the global set to speed up future searches\n",
    "    if not isolated_node:\n",
    "        for node in visited:\n",
    "            verified_non_isolated.add(node)\n",
    "    \n",
    "    return isolated_node\n"
   ]
  },
  {
   "cell_type": "code",
   "execution_count": 13,
   "id": "a725248d",
   "metadata": {},
   "outputs": [
    {
     "data": {
      "application/vnd.jupyter.widget-view+json": {
       "model_id": "e1a680edb9dc438fb8b986c5036ab4e1",
       "version_major": 2,
       "version_minor": 0
      },
      "text/plain": [
       "  0%|          | 0/19600 [00:00<?, ?it/s]"
      ]
     },
     "metadata": {},
     "output_type": "display_data"
    },
    {
     "name": "stdout",
     "output_type": "stream",
     "text": [
      "Answer #2: 357\n"
     ]
    }
   ],
   "source": [
    "res = []\n",
    "for node in tqdm(all_locations):\n",
    "    if node not in loop_fine:\n",
    "        res.append(walk_node(node))\n",
    "    \n",
    "print(\"Answer #2:\", sum(res))"
   ]
  }
 ],
 "metadata": {
  "kernelspec": {
   "display_name": "Python 3 (ipykernel)",
   "language": "python",
   "name": "python3"
  },
  "language_info": {
   "codemirror_mode": {
    "name": "ipython",
    "version": 3
   },
   "file_extension": ".py",
   "mimetype": "text/x-python",
   "name": "python",
   "nbconvert_exporter": "python",
   "pygments_lexer": "ipython3",
   "version": "3.8.10"
  }
 },
 "nbformat": 4,
 "nbformat_minor": 5
}
