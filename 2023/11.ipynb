{
 "cells": [
  {
   "cell_type": "code",
   "execution_count": 1,
   "id": "dd6dde33",
   "metadata": {},
   "outputs": [],
   "source": [
    "from itertools import combinations"
   ]
  },
  {
   "cell_type": "code",
   "execution_count": 2,
   "id": "873c3cc2",
   "metadata": {},
   "outputs": [],
   "source": [
    "data = open(\"input/11\").read().splitlines()"
   ]
  },
  {
   "cell_type": "code",
   "execution_count": 3,
   "id": "91e4ad17",
   "metadata": {},
   "outputs": [],
   "source": [
    "galaxies = []\n",
    "for r, line in enumerate(data):\n",
    "    for c, char in enumerate(line):\n",
    "        if char == \"#\":\n",
    "            galaxies.append((r, c))"
   ]
  },
  {
   "cell_type": "markdown",
   "id": "34e69f9c",
   "metadata": {},
   "source": [
    "## Mark the empty rows and columns"
   ]
  },
  {
   "cell_type": "code",
   "execution_count": 4,
   "id": "f6ddc373",
   "metadata": {},
   "outputs": [],
   "source": [
    "empty_rows = {key: True for key in range(len(data))}\n",
    "empty_cols = {key: True for key in range(len(data[0]))}\n",
    "\n",
    "for r, c in galaxies:\n",
    "    empty_rows[r] = False\n",
    "    empty_cols[c] = False"
   ]
  },
  {
   "cell_type": "markdown",
   "id": "23a5b773",
   "metadata": {},
   "source": [
    "## Add the number of empty rows and columns to the original list"
   ]
  },
  {
   "cell_type": "code",
   "execution_count": 5,
   "id": "d0993d16",
   "metadata": {},
   "outputs": [],
   "source": [
    "part1, part2 = [], []\n",
    "for r, c in galaxies:\n",
    "    num_empty_rows = sum([value for key, value in empty_rows.items() if key < r])\n",
    "    num_empty_cols = sum([value for key, value in empty_cols.items() if key < c])\n",
    "   \n",
    "    part1.append([\n",
    "        r + num_empty_rows,\n",
    "        c + num_empty_cols,\n",
    "    ])\n",
    "    \n",
    "    part2.append([\n",
    "        r + num_empty_rows * (1_000_000 - 1),\n",
    "        c + num_empty_cols * (1_000_000 - 1)\n",
    "    ])\n"
   ]
  },
  {
   "cell_type": "code",
   "execution_count": 6,
   "id": "be348d58",
   "metadata": {},
   "outputs": [],
   "source": [
    "def count(galaxies):\n",
    "    return sum(\n",
    "        [\n",
    "            abs(p1[0] - p2[0]) + abs(p1[1] - p2[1])\n",
    "            for p1, p2 in list(combinations(galaxies, 2))\n",
    "        ]\n",
    "    )"
   ]
  },
  {
   "cell_type": "code",
   "execution_count": 7,
   "id": "63d8cc5d",
   "metadata": {},
   "outputs": [
    {
     "name": "stdout",
     "output_type": "stream",
     "text": [
      "Answer #1: 9684228\n"
     ]
    }
   ],
   "source": [
    "print(\"Answer #1:\", count(part1))"
   ]
  },
  {
   "cell_type": "code",
   "execution_count": 8,
   "id": "cd5208df",
   "metadata": {},
   "outputs": [
    {
     "name": "stdout",
     "output_type": "stream",
     "text": [
      "Answer #2: 483844716556\n"
     ]
    }
   ],
   "source": [
    "print(\"Answer #2:\", count(part2))"
   ]
  }
 ],
 "metadata": {
  "kernelspec": {
   "display_name": "Python 3 (ipykernel)",
   "language": "python",
   "name": "python3"
  },
  "language_info": {
   "codemirror_mode": {
    "name": "ipython",
    "version": 3
   },
   "file_extension": ".py",
   "mimetype": "text/x-python",
   "name": "python",
   "nbconvert_exporter": "python",
   "pygments_lexer": "ipython3",
   "version": "3.8.10"
  }
 },
 "nbformat": 4,
 "nbformat_minor": 5
}
