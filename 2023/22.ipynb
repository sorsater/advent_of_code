{
 "cells": [
  {
   "cell_type": "code",
   "execution_count": 1,
   "id": "36ffb8b6",
   "metadata": {},
   "outputs": [],
   "source": [
    "import re\n",
    "from collections import Counter\n",
    "from collections import defaultdict\n",
    "from copy import deepcopy\n",
    "from tqdm.notebook import tqdm"
   ]
  },
  {
   "cell_type": "code",
   "execution_count": 2,
   "id": "0880bbb7",
   "metadata": {},
   "outputs": [],
   "source": [
    "pattern = r\"(\\d+),(\\d+),(\\d+)~(\\d+),(\\d+),(\\d+)\""
   ]
  },
  {
   "cell_type": "code",
   "execution_count": 3,
   "id": "42e45861",
   "metadata": {},
   "outputs": [],
   "source": [
    "data = open(\"input/22\").read().splitlines()"
   ]
  },
  {
   "cell_type": "code",
   "execution_count": 4,
   "id": "35cde748",
   "metadata": {},
   "outputs": [],
   "source": [
    "class Brick:\n",
    "    def __init__(self, poses, name):\n",
    "        self.x1 = poses[0]\n",
    "        self.y1 = poses[1]\n",
    "        self.z1 = poses[2]\n",
    "        self.x2 = poses[3]\n",
    "        self.y2 = poses[4]\n",
    "        self.z2 = poses[5]\n",
    "        \n",
    "        self.blocks = set()\n",
    "        self.min_z = None\n",
    "        self.name = name        \n",
    "        self.extract_blocks()\n",
    "        \n",
    "    def __repr__(self):\n",
    "        return str(self.name) + str(self.blocks)\n",
    "        \n",
    "    def extract_blocks(self):\n",
    "        self.min_z = min(self.z1, self.z2)\n",
    "        self.blocks = set()\n",
    "        for x in range(self.x1, self.x2 + 1):\n",
    "            for y in range(self.y1, self.y2 + 1):\n",
    "                for z in range(self.z1, self.z2 + 1):\n",
    "                    self.blocks.add((x, y, z))\n",
    "    \n",
    "    def move_down(self):\n",
    "        self.z1 -= 1\n",
    "        self.z2 -= 1\n",
    "        self.extract_blocks()\n",
    "        return True\n",
    "            "
   ]
  },
  {
   "cell_type": "code",
   "execution_count": 5,
   "id": "a458c08c",
   "metadata": {},
   "outputs": [],
   "source": [
    "raw_bricks = []\n",
    "for idx, line in enumerate(data):\n",
    "    m = re.match(pattern, line)\n",
    "    raw_bricks.append(Brick(list(map(int, m.groups())), idx))\n",
    "    \n",
    "brick_map = {}\n",
    "for b in raw_bricks:\n",
    "    brick_map[b.name] = b"
   ]
  },
  {
   "cell_type": "code",
   "execution_count": 6,
   "id": "9b68bb9f",
   "metadata": {},
   "outputs": [],
   "source": [
    "def sort_bricks(bricks):\n",
    "    z_values = []\n",
    "    for brick in bricks:\n",
    "        z_values.append([brick.min_z, brick.name, brick])\n",
    "    z_values.sort()\n",
    "    return [c for a, b, c in z_values]"
   ]
  },
  {
   "cell_type": "code",
   "execution_count": 7,
   "id": "1cc21e43",
   "metadata": {},
   "outputs": [],
   "source": [
    "bricks = sort_bricks(raw_bricks)"
   ]
  },
  {
   "cell_type": "code",
   "execution_count": 8,
   "id": "298a0518",
   "metadata": {},
   "outputs": [],
   "source": [
    "brick_order = []\n",
    "for b in bricks:\n",
    "    brick_order.append(b.name)"
   ]
  },
  {
   "cell_type": "code",
   "execution_count": 9,
   "id": "86a38cd1",
   "metadata": {},
   "outputs": [],
   "source": [
    "def drop_brick(brick):\n",
    "    brick_name = brick.name\n",
    "    candidates = brick_order[:brick_order.index(brick_name)]\n",
    "    move_down = True\n",
    "    blocked_by_candidates = set()\n",
    "    for can in candidates:\n",
    "        for block in brick_map[can].blocks:\n",
    "            blocked_by_candidates.add((block[0], block[1], block[2] + 1))\n",
    "    \n",
    "    for pos in brick.blocks:\n",
    "        if pos[2] == 1:\n",
    "            return False\n",
    "        \n",
    "        if pos in blocked_by_candidates:\n",
    "            return False\n",
    "      \n",
    "    if move_down:\n",
    "        brick.move_down()\n",
    "        return True\n",
    "    return False"
   ]
  },
  {
   "cell_type": "code",
   "execution_count": 10,
   "id": "6f7899bd",
   "metadata": {},
   "outputs": [
    {
     "name": "stdout",
     "output_type": "stream",
     "text": [
      "Stable: 1210 / 1210"
     ]
    }
   ],
   "source": [
    "stable_set = set()\n",
    "while True:\n",
    "    stuff_happened = False\n",
    "    for b in bricks:\n",
    "        if b.name in stable_set:\n",
    "            continue\n",
    "        result = drop_brick(b)\n",
    "        if result:\n",
    "            stuff_happened = True\n",
    "        else:\n",
    "            stable_set.add(b.name)\n",
    "        \n",
    "    print(f\"\\rStable: {len(stable_set)} / {len(bricks)}\", end=\"\")\n",
    "    if not stuff_happened:\n",
    "        break"
   ]
  },
  {
   "cell_type": "markdown",
   "id": "a269070a",
   "metadata": {},
   "source": [
    "## Some helper dictionaries"
   ]
  },
  {
   "cell_type": "code",
   "execution_count": 11,
   "id": "4be87ed1",
   "metadata": {},
   "outputs": [],
   "source": [
    "# Store all positions\n",
    "all_poses = defaultdict(int)\n",
    "for b in bricks:\n",
    "    for pos in b.blocks:\n",
    "        all_poses[pos] = b.name"
   ]
  },
  {
   "cell_type": "code",
   "execution_count": 12,
   "id": "cc8215b8",
   "metadata": {},
   "outputs": [],
   "source": [
    "# Calculate who supports every brick\n",
    "supported_by = defaultdict(set)\n",
    "for b in bricks:\n",
    "    for pos in b.blocks:\n",
    "        below = (pos[0], pos[1], pos[2] - 1)\n",
    "        if below in all_poses:\n",
    "            if all_poses[below] == b.name:\n",
    "                continue\n",
    "            supported_by[b.name].add(all_poses[below])"
   ]
  },
  {
   "cell_type": "code",
   "execution_count": 13,
   "id": "a146cb9b",
   "metadata": {},
   "outputs": [],
   "source": [
    "# Flipped of above\n",
    "flipped = defaultdict(list)\n",
    "for k, v in supported_by.items():\n",
    "    for vv in v:\n",
    "        flipped[vv].append(k)"
   ]
  },
  {
   "cell_type": "code",
   "execution_count": 14,
   "id": "8459f67d",
   "metadata": {},
   "outputs": [],
   "source": [
    "def remove_x(brick):\n",
    "    if brick.name not in flipped.keys():\n",
    "        return True\n",
    "    \n",
    "    supports = flipped[brick.name]    \n",
    "    found = set()\n",
    "    for sup in supports:\n",
    "        for key, val in flipped.items():\n",
    "            if key == brick.name:\n",
    "                continue\n",
    "            if sup in val:\n",
    "                found.add(sup)\n",
    "    return len(supports) == len(found)"
   ]
  },
  {
   "cell_type": "code",
   "execution_count": 15,
   "id": "bbfac1e9",
   "metadata": {
    "scrolled": false
   },
   "outputs": [],
   "source": [
    "part1, part2 = [], []\n",
    "for b in bricks:\n",
    "    res = remove_x(b)\n",
    "    part1.append(res)\n",
    "    if not res:\n",
    "        part2.append(b.name)"
   ]
  },
  {
   "cell_type": "code",
   "execution_count": 16,
   "id": "ffc59965",
   "metadata": {},
   "outputs": [
    {
     "name": "stdout",
     "output_type": "stream",
     "text": [
      "Answer #1: 393\n"
     ]
    }
   ],
   "source": [
    "print(\"Answer #1:\", sum(part1))"
   ]
  },
  {
   "cell_type": "markdown",
   "id": "24463c45",
   "metadata": {},
   "source": [
    "# Part 2"
   ]
  },
  {
   "cell_type": "code",
   "execution_count": 17,
   "id": "486692f6",
   "metadata": {},
   "outputs": [],
   "source": [
    "def remove(brick_name):\n",
    "    to_remove_list = [brick_name]\n",
    "    removed = set()\n",
    "    while True:\n",
    "        if len(to_remove_list) == 0:\n",
    "            break\n",
    "        to_remove = to_remove_list.pop()\n",
    "        removed.add(to_remove)\n",
    "        cur = flipped[to_remove]\n",
    "        for elem in cur:\n",
    "            for brick in supported_by[elem]:\n",
    "                if brick in removed:\n",
    "                    continue\n",
    "                elif brick in to_remove_list:\n",
    "                    continue\n",
    "                else:\n",
    "                    break\n",
    "            else:   \n",
    "                to_remove_list.append(elem)\n",
    "        \n",
    "    return len(removed) - 1"
   ]
  },
  {
   "cell_type": "code",
   "execution_count": 18,
   "id": "4a6256f5",
   "metadata": {},
   "outputs": [],
   "source": [
    "res = []\n",
    "for elem in part2:\n",
    "    res.append(remove(elem))"
   ]
  },
  {
   "cell_type": "code",
   "execution_count": 19,
   "id": "5f65d4a0",
   "metadata": {},
   "outputs": [
    {
     "data": {
      "text/plain": [
       "58440"
      ]
     },
     "execution_count": 19,
     "metadata": {},
     "output_type": "execute_result"
    }
   ],
   "source": [
    "sum(res)"
   ]
  }
 ],
 "metadata": {
  "kernelspec": {
   "display_name": "Python 3 (ipykernel)",
   "language": "python",
   "name": "python3"
  },
  "language_info": {
   "codemirror_mode": {
    "name": "ipython",
    "version": 3
   },
   "file_extension": ".py",
   "mimetype": "text/x-python",
   "name": "python",
   "nbconvert_exporter": "python",
   "pygments_lexer": "ipython3",
   "version": "3.8.10"
  }
 },
 "nbformat": 4,
 "nbformat_minor": 5
}
