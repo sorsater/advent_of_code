{
 "cells": [
  {
   "cell_type": "code",
   "execution_count": 1,
   "id": "9b7dc1d6",
   "metadata": {},
   "outputs": [],
   "source": [
    "from collections import defaultdict"
   ]
  },
  {
   "cell_type": "code",
   "execution_count": 2,
   "id": "4e6c90fa",
   "metadata": {},
   "outputs": [],
   "source": [
    "data = open(\"input/15\").read()"
   ]
  },
  {
   "cell_type": "code",
   "execution_count": 3,
   "id": "69adfcbe",
   "metadata": {},
   "outputs": [],
   "source": [
    "def parse_seq(seq):\n",
    "    cur = 0\n",
    "    for char in seq:\n",
    "        cur += ord(char)\n",
    "        cur *= 17\n",
    "        cur = cur % 256\n",
    "    return cur"
   ]
  },
  {
   "cell_type": "markdown",
   "id": "31613a92",
   "metadata": {},
   "source": [
    "# Part 1"
   ]
  },
  {
   "cell_type": "code",
   "execution_count": 4,
   "id": "ffce6ad9",
   "metadata": {},
   "outputs": [
    {
     "name": "stdout",
     "output_type": "stream",
     "text": [
      "Answer #1: 507666\n"
     ]
    }
   ],
   "source": [
    "part1 = sum([parse_seq(group) for group in data.split(\",\")])\n",
    "print(\"Answer #1:\", part1)"
   ]
  },
  {
   "cell_type": "markdown",
   "id": "483939ae",
   "metadata": {},
   "source": [
    "# Part 2"
   ]
  },
  {
   "cell_type": "code",
   "execution_count": 5,
   "id": "13859b22",
   "metadata": {},
   "outputs": [],
   "source": [
    "state = defaultdict(list)\n",
    "\n",
    "for line in data.split(\",\"):\n",
    "    focal_length = None\n",
    "    if \"-\" in line:\n",
    "        label = line[:-1]\n",
    "    else:\n",
    "        label, focal_length = line.split(\"=\")\n",
    "        \n",
    "    value = parse_seq(label)\n",
    "    \n",
    "    if focal_length:\n",
    "        current = state[value]\n",
    "        for idx, (old_label, _) in enumerate(current):\n",
    "            if old_label == label:\n",
    "                current[idx] = [label, int(focal_length)]\n",
    "                state[value] = current\n",
    "                break\n",
    "        else:\n",
    "            state[value].append([label, int(focal_length)])\n",
    "        \n",
    "    else:\n",
    "        cur = state[value]\n",
    "        for idx, (old_label, focal_length) in enumerate(cur):\n",
    "            if old_label == label:\n",
    "                del cur[idx]\n",
    "                state[value] = cur\n",
    "                break\n"
   ]
  },
  {
   "cell_type": "code",
   "execution_count": 6,
   "id": "080f3dc1",
   "metadata": {},
   "outputs": [],
   "source": [
    "part2 = 0\n",
    "for key, values in state.items():\n",
    "    for idx, (_label, focal_length) in enumerate(values):\n",
    "        part2 += (key + 1) * (idx + 1) * focal_length"
   ]
  },
  {
   "cell_type": "code",
   "execution_count": 7,
   "id": "f71fc529",
   "metadata": {},
   "outputs": [
    {
     "name": "stdout",
     "output_type": "stream",
     "text": [
      "Answer #2: 233537\n"
     ]
    }
   ],
   "source": [
    "print(\"Answer #2:\", part2)"
   ]
  }
 ],
 "metadata": {
  "kernelspec": {
   "display_name": "Python 3 (ipykernel)",
   "language": "python",
   "name": "python3"
  },
  "language_info": {
   "codemirror_mode": {
    "name": "ipython",
    "version": 3
   },
   "file_extension": ".py",
   "mimetype": "text/x-python",
   "name": "python",
   "nbconvert_exporter": "python",
   "pygments_lexer": "ipython3",
   "version": "3.8.10"
  }
 },
 "nbformat": 4,
 "nbformat_minor": 5
}
