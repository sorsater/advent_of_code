{
 "cells": [
  {
   "cell_type": "code",
   "execution_count": 1,
   "id": "c0bb4c2f",
   "metadata": {},
   "outputs": [],
   "source": [
    "from collections import Counter\n",
    "from tqdm.notebook import tqdm"
   ]
  },
  {
   "cell_type": "code",
   "execution_count": 2,
   "id": "20103147",
   "metadata": {},
   "outputs": [],
   "source": [
    "data = open(\"input/14\").read().splitlines()"
   ]
  },
  {
   "cell_type": "code",
   "execution_count": 3,
   "id": "12615cac",
   "metadata": {},
   "outputs": [],
   "source": [
    "num_iterations = 1_000_000_000"
   ]
  },
  {
   "cell_type": "code",
   "execution_count": 4,
   "id": "11f1bb81",
   "metadata": {},
   "outputs": [],
   "source": [
    "rocks = {}\n",
    "\n",
    "# Same width as height\n",
    "grid_size = len(data)\n",
    "\n",
    "for r, row in enumerate(data):\n",
    "    for c, rock in enumerate(row):\n",
    "        if rock != \".\":\n",
    "            rocks[(r, c)] = rock"
   ]
  },
  {
   "cell_type": "code",
   "execution_count": 5,
   "id": "efa9d39b",
   "metadata": {},
   "outputs": [],
   "source": [
    "def tilt(direction: str):\n",
    "    for idx in range(grid_size):\n",
    "        loc_idx = 1 if direction in [\"north\", \"south\"] else 0\n",
    "        \n",
    "        current_elements = []\n",
    "        for location, rock in rocks.items():\n",
    "            if location[loc_idx] == idx:\n",
    "                current_elements.append([location, rock])\n",
    "        \n",
    "        if direction in [\"north\", \"west\"]:\n",
    "            current_elements.sort()\n",
    "            prev_anchor = -1\n",
    "        else:\n",
    "            current_elements.sort(reverse=True)\n",
    "            prev_anchor = grid_size\n",
    "            \n",
    "        new_poses = []\n",
    "        num_in_group = 0\n",
    "        for location, rock in current_elements:\n",
    "            if rock == \"O\":\n",
    "                if direction == \"north\":\n",
    "                    new_location = (prev_anchor + num_in_group + 1, location[1])\n",
    "                elif direction == \"west\":\n",
    "                    new_location = (location[0], prev_anchor + num_in_group + 1)\n",
    "                elif direction == \"east\":\n",
    "                    new_location = (location[0], prev_anchor - num_in_group - 1)\n",
    "                else:\n",
    "                    new_location = (prev_anchor - num_in_group - 1, location[1])\n",
    "                \n",
    "                new_poses.append([location, new_location, rock])\n",
    "                num_in_group += 1\n",
    "            else:\n",
    "                if direction in [\"south\", \"north\"]:\n",
    "                    prev_anchor = location[0]\n",
    "                else:\n",
    "                    prev_anchor = location[1]\n",
    "                num_in_group = 0\n",
    "        for old_location, new_location, value in new_poses:                \n",
    "            del rocks[old_location]\n",
    "            rocks[new_location] = value\n",
    "        "
   ]
  },
  {
   "cell_type": "markdown",
   "id": "6244c6e1",
   "metadata": {},
   "source": [
    "# Count against north beam"
   ]
  },
  {
   "cell_type": "code",
   "execution_count": 6,
   "id": "575a4f8f",
   "metadata": {},
   "outputs": [],
   "source": [
    "def count_load():\n",
    "    return sum([grid_size - location[0] for location, rock in rocks.items() if rock != \"#\"])"
   ]
  },
  {
   "cell_type": "markdown",
   "id": "70c73cb4",
   "metadata": {},
   "source": [
    "# Part 1"
   ]
  },
  {
   "cell_type": "code",
   "execution_count": 7,
   "id": "b7ce878e",
   "metadata": {},
   "outputs": [
    {
     "name": "stdout",
     "output_type": "stream",
     "text": [
      "Answer #1: 106517\n"
     ]
    }
   ],
   "source": [
    "tilt(\"north\")\n",
    "\n",
    "print(\"Answer #1:\", count_load())"
   ]
  },
  {
   "cell_type": "markdown",
   "id": "43db6323",
   "metadata": {},
   "source": [
    "# Part 2"
   ]
  },
  {
   "cell_type": "code",
   "execution_count": 8,
   "id": "c2f27192",
   "metadata": {},
   "outputs": [],
   "source": [
    "def one_iteration():\n",
    "    tilt(\"north\")\n",
    "    tilt(\"west\")\n",
    "    tilt(\"south\")\n",
    "    tilt(\"east\")"
   ]
  },
  {
   "cell_type": "code",
   "execution_count": 9,
   "id": "6b931c5c",
   "metadata": {},
   "outputs": [],
   "source": [
    "# Assuming 1000 is enough for the sequence to repeat it self\n",
    "num_to_run = 1000"
   ]
  },
  {
   "cell_type": "code",
   "execution_count": 10,
   "id": "e6c59d9f",
   "metadata": {},
   "outputs": [
    {
     "data": {
      "application/vnd.jupyter.widget-view+json": {
       "model_id": "af9e473ff7b0426999deddb31a86994e",
       "version_major": 2,
       "version_minor": 0
      },
      "text/plain": [
       "  0%|          | 0/1000 [00:00<?, ?it/s]"
      ]
     },
     "metadata": {},
     "output_type": "display_data"
    }
   ],
   "source": [
    "loads = []\n",
    "for i in tqdm(range(num_to_run)):\n",
    "    one_iteration()\n",
    "    loads.append(count_load())"
   ]
  },
  {
   "cell_type": "code",
   "execution_count": 11,
   "id": "2a0943fa",
   "metadata": {},
   "outputs": [],
   "source": [
    "def guess_seq_len(seq):\n",
    "    seq = seq[::-1]\n",
    "    guess = 1\n",
    "    max_len = int(len(seq) / 2)\n",
    "    for x in range(2, max_len):\n",
    "        if seq[0:x] == seq[x:2*x]:\n",
    "            return x\n",
    "\n",
    "    return guess"
   ]
  },
  {
   "cell_type": "code",
   "execution_count": 12,
   "id": "5c2963a2",
   "metadata": {},
   "outputs": [],
   "source": [
    "repeating_seq = loads[-guess_seq_len(loads[-100:]):]"
   ]
  },
  {
   "cell_type": "code",
   "execution_count": 13,
   "id": "290d38ba",
   "metadata": {},
   "outputs": [],
   "source": [
    "idx_of_correct = (num_iterations - num_to_run) % len(repeating_seq)"
   ]
  },
  {
   "cell_type": "code",
   "execution_count": 14,
   "id": "6b60c3d4",
   "metadata": {},
   "outputs": [
    {
     "name": "stdout",
     "output_type": "stream",
     "text": [
      "Answer #2: 79723\n"
     ]
    }
   ],
   "source": [
    "print(\"Answer #2:\", repeating_seq[idx_of_correct - 1])"
   ]
  }
 ],
 "metadata": {
  "kernelspec": {
   "display_name": "Python 3 (ipykernel)",
   "language": "python",
   "name": "python3"
  },
  "language_info": {
   "codemirror_mode": {
    "name": "ipython",
    "version": 3
   },
   "file_extension": ".py",
   "mimetype": "text/x-python",
   "name": "python",
   "nbconvert_exporter": "python",
   "pygments_lexer": "ipython3",
   "version": "3.8.10"
  }
 },
 "nbformat": 4,
 "nbformat_minor": 5
}
