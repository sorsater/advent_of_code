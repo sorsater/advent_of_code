{
 "cells": [
  {
   "cell_type": "code",
   "execution_count": 1,
   "id": "98763b7a",
   "metadata": {},
   "outputs": [],
   "source": [
    "from queue import PriorityQueue\n",
    "import numpy as np"
   ]
  },
  {
   "cell_type": "code",
   "execution_count": 2,
   "id": "a52d6e40",
   "metadata": {},
   "outputs": [],
   "source": [
    "data = open(\"input/21\").read().splitlines()\n",
    "\n",
    "# Same width and height\n",
    "grid_size = len(data)\n",
    "\n",
    "dirs = [\n",
    "    [0, 1], [0, -1], [1, 0], [-1, 0] \n",
    "]"
   ]
  },
  {
   "cell_type": "code",
   "execution_count": 3,
   "id": "3c225b82",
   "metadata": {},
   "outputs": [],
   "source": [
    "grid = set()\n",
    "s_pos = None\n",
    "\n",
    "for r, line in enumerate(data):\n",
    "    for c, char in enumerate(line):\n",
    "        if char == \"#\":\n",
    "            continue\n",
    "        if char == \"S\":\n",
    "            s_pos = (r, c)\n",
    "        grid.add((r, c))"
   ]
  },
  {
   "cell_type": "code",
   "execution_count": 4,
   "id": "94708227",
   "metadata": {},
   "outputs": [],
   "source": [
    "# Running multiple values at once to avoid starting over when doing next value\n",
    "def run(targets):\n",
    "    q = PriorityQueue()\n",
    "    q.put((0, (s_pos)))\n",
    "    visited_in_step = set()\n",
    "    cur_step = 0\n",
    "    \n",
    "    # To keep track of the intermediate steps\n",
    "    result = []\n",
    "    not_added = True\n",
    "    tot_len = targets[-1]\n",
    "    while True:\n",
    "        step, pos = q.get()\n",
    "        if step > cur_step:\n",
    "            print(f\"\\rProgress: {step}/{tot_len}\", end=\"\")\n",
    "            not_added = True\n",
    "            cur_step += 1\n",
    "            visited_in_step = set()\n",
    "            \n",
    "        # If reaching intermediate step, add that and return if all saved\n",
    "        if step in targets and not_added:\n",
    "            result.append(q.qsize() + 1)\n",
    "            not_added = False\n",
    "            if len(result) == len(targets):\n",
    "                return result\n",
    "        x, y = pos\n",
    "        for d in dirs:\n",
    "            new_pos_mod = ((x + d[0]) % grid_size, (y + d[1]) % grid_size)\n",
    "            new_pos = ((x + d[0]), (y + d[1]))\n",
    "            if new_pos_mod in grid:\n",
    "                if new_pos in visited_in_step:\n",
    "                    continue\n",
    "                visited_in_step.add(new_pos)\n",
    "                q.put((step + 1, new_pos))"
   ]
  },
  {
   "cell_type": "code",
   "execution_count": 5,
   "id": "ee65fb02",
   "metadata": {},
   "outputs": [
    {
     "name": "stdout",
     "output_type": "stream",
     "text": [
      "Progress: 327/327"
     ]
    }
   ],
   "source": [
    "result = run([64, 65, 65 + 131, 65 + 131 * 2])"
   ]
  },
  {
   "cell_type": "code",
   "execution_count": 6,
   "id": "07be0f85",
   "metadata": {},
   "outputs": [
    {
     "name": "stdout",
     "output_type": "stream",
     "text": [
      "Answer #1: 3762\n"
     ]
    }
   ],
   "source": [
    "part1 = result[0]\n",
    "print(\"Answer #1:\", part1)"
   ]
  },
  {
   "cell_type": "markdown",
   "id": "d59c85b3",
   "metadata": {},
   "source": [
    "# Part 2\n",
    "Got help from reddit on inputting the values for:\n",
    "\n",
    "1. Center (65)\n",
    "2. One grid out (65 + 131)\n",
    "3. Two grids outs (65 + 131 + 131) \n",
    "\n",
    "where 65 is the center of the S and 131 is the size (both width and height) of the grid.\n",
    "\n",
    "Then getting the coefficients of the polynomial and inputting the value 202300 = (26501365 - 65) / 131 to see which y-value that maps to.\n",
    "\n",
    "I'm to dumb to figure that out myself."
   ]
  },
  {
   "cell_type": "code",
   "execution_count": 7,
   "id": "78cbba76",
   "metadata": {},
   "outputs": [],
   "source": [
    "x_val = (26501365 - 65) / 131"
   ]
  },
  {
   "cell_type": "code",
   "execution_count": 8,
   "id": "cba65537",
   "metadata": {},
   "outputs": [
    {
     "name": "stdout",
     "output_type": "stream",
     "text": [
      "Answer #2: 621944727930768\n"
     ]
    }
   ],
   "source": [
    "poly_coefs = np.polyfit([0, 1, 2], result[1:], 2)\n",
    "result = np.polyval(poly_coefs, x_val)\n",
    "part2 = round(result)\n",
    "print(\"Answer #2:\", part2)"
   ]
  }
 ],
 "metadata": {
  "kernelspec": {
   "display_name": "Python 3 (ipykernel)",
   "language": "python",
   "name": "python3"
  },
  "language_info": {
   "codemirror_mode": {
    "name": "ipython",
    "version": 3
   },
   "file_extension": ".py",
   "mimetype": "text/x-python",
   "name": "python",
   "nbconvert_exporter": "python",
   "pygments_lexer": "ipython3",
   "version": "3.8.10"
  }
 },
 "nbformat": 4,
 "nbformat_minor": 5
}
