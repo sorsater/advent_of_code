{
 "cells": [
  {
   "cell_type": "code",
   "execution_count": 1,
   "id": "fe029c29-f3ca-497c-af2a-0ec0c52313e8",
   "metadata": {},
   "outputs": [],
   "source": [
    "import re\n",
    "from dataclasses import dataclass"
   ]
  },
  {
   "cell_type": "code",
   "execution_count": 2,
   "id": "f8c0cfc0-ad23-433e-9c7d-d50cdf3a95ba",
   "metadata": {},
   "outputs": [],
   "source": [
    "data = open(\"input/10\").read().splitlines()"
   ]
  },
  {
   "cell_type": "code",
   "execution_count": 3,
   "id": "7dc4bf96-f7f2-40b2-aa89-8dd722811221",
   "metadata": {},
   "outputs": [],
   "source": [
    "@dataclass\n",
    "class Point:\n",
    "    x: int\n",
    "    y: int\n",
    "    vx: int\n",
    "    vy: int"
   ]
  },
  {
   "cell_type": "code",
   "execution_count": 4,
   "id": "80109c78-552c-4817-b2db-b6cec41587b5",
   "metadata": {},
   "outputs": [],
   "source": [
    "pattern = r\"-?\\d+\""
   ]
  },
  {
   "cell_type": "code",
   "execution_count": 5,
   "id": "3f2c534f-1c85-47c2-8d72-e1c84594cd82",
   "metadata": {},
   "outputs": [],
   "source": [
    "points = []\n",
    "for line in data:\n",
    "    match = list(map(int, re.findall(pattern, line)))\n",
    "    points.append(Point(*match))"
   ]
  },
  {
   "cell_type": "code",
   "execution_count": 6,
   "id": "a4fd11f5-dba5-458e-aab0-1cf54e3604b1",
   "metadata": {},
   "outputs": [],
   "source": [
    "def show_grid():\n",
    "    minx, miny = float(\"inf\"), float(\"inf\")\n",
    "    maxx, maxy = -float(\"inf\"), -float(\"inf\")\n",
    "    for p in points:\n",
    "        minx = min(p.x, minx)\n",
    "        miny = min(p.y, miny)\n",
    "        maxx = max(maxx, p.x)\n",
    "        maxy = max(maxy, p.y)\n",
    "\n",
    "    coords = {}\n",
    "    for p in points:\n",
    "        coords[(p.x, p.y)] = \"#\"\n",
    "    for x in range(miny, maxy + 1):\n",
    "        for y in range(minx, maxx + 1):\n",
    "            print(coords.get((y, x), \".\"), end=\"\")\n",
    "        print()\n",
    "        "
   ]
  },
  {
   "cell_type": "code",
   "execution_count": 7,
   "id": "1284e493-4c65-4d4d-9051-7dcaa87c0e34",
   "metadata": {},
   "outputs": [],
   "source": [
    "def iterate():\n",
    "    for p in points:\n",
    "        p.x += p.vx\n",
    "        p.y += p.vy"
   ]
  },
  {
   "cell_type": "code",
   "execution_count": 8,
   "id": "11506059-b7bb-4111-9859-1849349d3501",
   "metadata": {},
   "outputs": [],
   "source": [
    "ns = []\n",
    "for x in [-1, 0, 1]:\n",
    "    for y in [-1, 0, 1]:\n",
    "        if x == 0 and y == 0:\n",
    "            continue\n",
    "        ns.append((x, y))"
   ]
  },
  {
   "cell_type": "code",
   "execution_count": 9,
   "id": "a2a8b568-6d92-48f1-bbe8-2d0757334d06",
   "metadata": {},
   "outputs": [],
   "source": [
    "def count_neighbours():\n",
    "    all_cords = set()\n",
    "    for p in points:\n",
    "        all_cords.add((p.x, p.y))\n",
    "    num_neighbours = []\n",
    "    for c in all_cords:\n",
    "        n = 0\n",
    "        for d in ns:\n",
    "            if (c[0] + d[0], c[1] + d[1]) in all_cords:\n",
    "                n += 1\n",
    "        num_neighbours.append(n)\n",
    "    return sum(num_neighbours) / len(num_neighbours)"
   ]
  },
  {
   "cell_type": "code",
   "execution_count": 10,
   "id": "bc1aeedf-a86c-4ef5-91f6-081993e6c55e",
   "metadata": {},
   "outputs": [
    {
     "name": "stdout",
     "output_type": "stream",
     "text": [
      "######..#####...#####...#####...#####...#####...######....##..\n",
      "#.......#....#..#....#..#....#..#....#..#....#.......#...#..#.\n",
      "#.......#....#..#....#..#....#..#....#..#....#.......#..#....#\n",
      "#.......#....#..#....#..#....#..#....#..#....#......#...#....#\n",
      "#####...#####...#####...#####...#####...#####......#....#....#\n",
      "#.......#.......#..#....#....#..#..#....#..#......#.....######\n",
      "#.......#.......#...#...#....#..#...#...#...#....#......#....#\n",
      "#.......#.......#...#...#....#..#...#...#...#...#.......#....#\n",
      "#.......#.......#....#..#....#..#....#..#....#..#.......#....#\n",
      "#.......#.......#....#..#####...#....#..#....#..######..#....#\n"
     ]
    }
   ],
   "source": [
    "c = 0\n",
    "while True:\n",
    "    iterate()\n",
    "    c += 1\n",
    "    neighs = count_neighbours()\n",
    "    if neighs > 2.2: # This number was found with trial and error. Though >= 1.5 was enough but found earlier match so increased until text found\n",
    "        show_grid()\n",
    "        break"
   ]
  },
  {
   "cell_type": "code",
   "execution_count": 11,
   "id": "076af4df-5e23-43b6-8fae-72605faeb715",
   "metadata": {},
   "outputs": [
    {
     "name": "stdout",
     "output_type": "stream",
     "text": [
      "Answer #1: FPRBRRZA\n"
     ]
    }
   ],
   "source": [
    "print(\"Answer #1: FPRBRRZA\")"
   ]
  },
  {
   "cell_type": "code",
   "execution_count": 12,
   "id": "064858c7-f1a2-4570-867f-dbd9081d62e5",
   "metadata": {},
   "outputs": [
    {
     "name": "stdout",
     "output_type": "stream",
     "text": [
      "Answer #2: 10027\n"
     ]
    }
   ],
   "source": [
    "print(f\"Answer #2: {c}\")"
   ]
  }
 ],
 "metadata": {
  "kernelspec": {
   "display_name": "Python 3 (ipykernel)",
   "language": "python",
   "name": "python3"
  },
  "language_info": {
   "codemirror_mode": {
    "name": "ipython",
    "version": 3
   },
   "file_extension": ".py",
   "mimetype": "text/x-python",
   "name": "python",
   "nbconvert_exporter": "python",
   "pygments_lexer": "ipython3",
   "version": "3.9.6"
  }
 },
 "nbformat": 4,
 "nbformat_minor": 5
}
