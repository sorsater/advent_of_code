{
 "cells": [
  {
   "cell_type": "code",
   "execution_count": 1,
   "id": "4fe736b7",
   "metadata": {},
   "outputs": [],
   "source": [
    "from collections import defaultdict, Counter"
   ]
  },
  {
   "cell_type": "code",
   "execution_count": 2,
   "id": "3ff49b65",
   "metadata": {},
   "outputs": [],
   "source": [
    "data = open(\"input/06\").read().splitlines()"
   ]
  },
  {
   "cell_type": "code",
   "execution_count": 3,
   "id": "181394e5",
   "metadata": {},
   "outputs": [],
   "source": [
    "coords = []\n",
    "for line in data:\n",
    "    coords.append(list(map(int, line.split(\",\"))))"
   ]
  },
  {
   "cell_type": "code",
   "execution_count": 4,
   "id": "83154856-8c0a-49d9-8751-3909577f031a",
   "metadata": {},
   "outputs": [],
   "source": [
    "x_min = 0\n",
    "y_min = 0"
   ]
  },
  {
   "cell_type": "code",
   "execution_count": 5,
   "id": "f55a33f5-976e-41a2-980c-0183a931ab9c",
   "metadata": {},
   "outputs": [],
   "source": [
    "x_max = 1\n",
    "y_max = 1\n",
    "for y, x in coords:\n",
    "    x_max = max(x_max, x)\n",
    "    y_max = max(y_max, y)\n",
    "x_max += 2\n",
    "y_max += 2"
   ]
  },
  {
   "cell_type": "code",
   "execution_count": 6,
   "id": "1015e341-1d26-4a91-b3c1-cebd78189f4b",
   "metadata": {},
   "outputs": [],
   "source": [
    "grid = {}\n",
    "for x in range(x_max + 1):\n",
    "    for y in range(y_max + 1):\n",
    "        grid[(x, y)] = \"#\""
   ]
  },
  {
   "cell_type": "code",
   "execution_count": 7,
   "id": "9ae510d5-1b49-4019-9a78-6ed118474bd8",
   "metadata": {},
   "outputs": [],
   "source": [
    "for idx, (x, y) in enumerate(coords):\n",
    "    grid[(x, y)] = idx"
   ]
  },
  {
   "cell_type": "code",
   "execution_count": 8,
   "id": "9a8c01c1-8dfd-4595-88a2-6a21321a36f5",
   "metadata": {},
   "outputs": [],
   "source": [
    "outer_points = []\n",
    "for x in range(x_max + 1):\n",
    "    outer_points.append([x, 0])\n",
    "    outer_points.append([x, y_max])\n",
    "for y in range(y_max + 1):\n",
    "    outer_points.append([0, y])\n",
    "    outer_points.append([x_max, y])\n"
   ]
  },
  {
   "cell_type": "code",
   "execution_count": 9,
   "id": "5068b61a",
   "metadata": {},
   "outputs": [],
   "source": [
    "def euc(a, b):\n",
    "    return abs(a[0] - b[0]) + abs(a[1] - b[1])"
   ]
  },
  {
   "cell_type": "code",
   "execution_count": 10,
   "id": "3a91ba48-28b5-4de0-ac78-2a1bac843e3b",
   "metadata": {},
   "outputs": [],
   "source": [
    "for x, y in grid.keys():\n",
    "    value = grid[(x, y)]\n",
    "    if value != \"#\":\n",
    "        continue\n",
    "    grid_coord = [x, y]\n",
    "    distances = []\n",
    "    for coord_idx, coord in enumerate(coords):\n",
    "        distances.append([euc(coord, grid_coord), coord_idx])\n",
    "    distances.sort()\n",
    "\n",
    "    more_than_one_closest = distances[0][0] == distances[1][0]\n",
    "    if more_than_one_closest:\n",
    "        grid[(x, y)] = \".\"\n",
    "        continue\n",
    "\n",
    "    grid[(x, y)] = distances[0][1]"
   ]
  },
  {
   "cell_type": "markdown",
   "id": "397cc9f8-5751-47f5-bcc9-b22f9c361bd6",
   "metadata": {},
   "source": [
    "## Find infinite"
   ]
  },
  {
   "cell_type": "code",
   "execution_count": 11,
   "id": "fafa32fb",
   "metadata": {},
   "outputs": [],
   "source": [
    "outer = set()\n",
    "for point in outer_points:\n",
    "    outer.add(grid[(point[0], point[1])])"
   ]
  },
  {
   "cell_type": "markdown",
   "id": "b3c42131-6872-4f04-b02a-aedc8fb59d38",
   "metadata": {},
   "source": [
    "# Part 1"
   ]
  },
  {
   "cell_type": "code",
   "execution_count": 12,
   "id": "979e7d94-2fdb-431f-b028-c03a9ea462fd",
   "metadata": {},
   "outputs": [
    {
     "name": "stdout",
     "output_type": "stream",
     "text": [
      "Answer #1: 3890\n"
     ]
    }
   ],
   "source": [
    "for key, value in sorted(Counter(grid.values()).items(), key=lambda x: x[1], reverse=True):\n",
    "    if key in outer:\n",
    "        continue\n",
    "    print(f\"Answer #1: {value}\")\n",
    "    break"
   ]
  },
  {
   "cell_type": "markdown",
   "id": "76110a66-5ac9-491b-aa4f-8ddf6f328fed",
   "metadata": {},
   "source": [
    "# Part 2"
   ]
  },
  {
   "cell_type": "code",
   "execution_count": 13,
   "id": "e3918831-a733-43f3-b016-5a82331d4fd5",
   "metadata": {},
   "outputs": [],
   "source": [
    "distance_limit = 10000\n",
    "valid = 0\n",
    "for pos in grid.keys():\n",
    "    distance = 0\n",
    "    for coord in coords:\n",
    "        distance += euc(coord, pos)\n",
    "    if distance < distance_limit:\n",
    "        valid += 1"
   ]
  },
  {
   "cell_type": "code",
   "execution_count": 14,
   "id": "151dcd67-fa81-4302-bebe-bc43fb33ab15",
   "metadata": {},
   "outputs": [
    {
     "name": "stdout",
     "output_type": "stream",
     "text": [
      "Answer #2: 40284\n"
     ]
    }
   ],
   "source": [
    "print(f\"Answer #2: {valid}\")"
   ]
  }
 ],
 "metadata": {
  "kernelspec": {
   "display_name": "Python 3 (ipykernel)",
   "language": "python",
   "name": "python3"
  },
  "language_info": {
   "codemirror_mode": {
    "name": "ipython",
    "version": 3
   },
   "file_extension": ".py",
   "mimetype": "text/x-python",
   "name": "python",
   "nbconvert_exporter": "python",
   "pygments_lexer": "ipython3",
   "version": "3.9.20"
  }
 },
 "nbformat": 4,
 "nbformat_minor": 5
}
