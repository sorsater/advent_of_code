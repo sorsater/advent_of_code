{
 "cells": [
  {
   "cell_type": "code",
   "execution_count": 1,
   "metadata": {},
   "outputs": [],
   "source": [
    "# I'm just brute forcing..."
   ]
  },
  {
   "cell_type": "code",
   "execution_count": 2,
   "metadata": {},
   "outputs": [],
   "source": [
    "data = 360781"
   ]
  },
  {
   "cell_type": "code",
   "execution_count": 3,
   "metadata": {},
   "outputs": [],
   "source": [
    "list_data = list(map(int, str(data)))"
   ]
  },
  {
   "cell_type": "code",
   "execution_count": 4,
   "metadata": {},
   "outputs": [],
   "source": [
    "recipies = [3, 7]"
   ]
  },
  {
   "cell_type": "code",
   "execution_count": 5,
   "metadata": {},
   "outputs": [],
   "source": [
    "elf1 = 0\n",
    "elf2 = 1"
   ]
  },
  {
   "cell_type": "code",
   "execution_count": 6,
   "metadata": {},
   "outputs": [],
   "source": [
    "while True:\n",
    "    cur1 = recipies[elf1]\n",
    "    cur2 = recipies[elf2]\n",
    "    new = cur1 + cur2\n",
    "    if new >= 10:\n",
    "        recipies.append(1)\n",
    "        recipies.append(new - 10)\n",
    "    else:\n",
    "        recipies.append(new)\n",
    "    elf1 += 1 + cur1\n",
    "    elf2 += 1 + cur2\n",
    "    elf1 %= len(recipies)\n",
    "    elf2 %= len(recipies)\n",
    "\n",
    "    # Take out the last n elements and check if they are the target\n",
    "    if recipies[-len(list_data):] == list_data:\n",
    "        part2 = len(recipies) - len(list_data)\n",
    "        break\n",
    "\n",
    "    # The same, but account for some recipies creates two elements (so off by 1)\n",
    "    if recipies[-len(list_data) - 1:-1] == list_data:\n",
    "        part2 = len(recipies) - len(list_data) - 1\n",
    "        break"
   ]
  },
  {
   "cell_type": "code",
   "execution_count": 7,
   "metadata": {},
   "outputs": [
    {
     "name": "stdout",
     "output_type": "stream",
     "text": [
      "Answer #1: 6521571010\n"
     ]
    }
   ],
   "source": [
    "slice = recipies[data:data + 10]\n",
    "\n",
    "part1 = \"\".join([str(e) for e in slice])\n",
    "print(f\"Answer #1: {part1}\")"
   ]
  },
  {
   "cell_type": "code",
   "execution_count": 8,
   "metadata": {},
   "outputs": [
    {
     "name": "stdout",
     "output_type": "stream",
     "text": [
      "Answer #2: 20262967\n"
     ]
    }
   ],
   "source": [
    "print(f\"Answer #2: {part2}\")"
   ]
  }
 ],
 "metadata": {
  "kernelspec": {
   "display_name": "Python 3 (ipykernel)",
   "language": "python",
   "name": "python3"
  },
  "language_info": {
   "codemirror_mode": {
    "name": "ipython",
    "version": 3
   },
   "file_extension": ".py",
   "mimetype": "text/x-python",
   "name": "python",
   "nbconvert_exporter": "python",
   "pygments_lexer": "ipython3",
   "version": "3.9.6"
  },
  "widgets": {
   "application/vnd.jupyter.widget-state+json": {
    "state": {},
    "version_major": 2,
    "version_minor": 0
   }
  }
 },
 "nbformat": 4,
 "nbformat_minor": 4
}
