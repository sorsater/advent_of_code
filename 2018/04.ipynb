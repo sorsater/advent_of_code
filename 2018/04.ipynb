{
 "cells": [
  {
   "cell_type": "code",
   "execution_count": 1,
   "id": "76174eaa",
   "metadata": {},
   "outputs": [],
   "source": [
    "from collections import defaultdict, Counter"
   ]
  },
  {
   "cell_type": "code",
   "execution_count": 2,
   "id": "234f51d2",
   "metadata": {},
   "outputs": [],
   "source": [
    "data = sorted(open(\"input/04\").read().splitlines())"
   ]
  },
  {
   "cell_type": "code",
   "execution_count": 3,
   "id": "2dfb92cd",
   "metadata": {},
   "outputs": [],
   "source": [
    "guard_info = defaultdict(list)\n",
    "\n",
    "guard = None\n",
    "start_time = None\n",
    "\n",
    "for line in data:\n",
    "    date, info = line.split(\"]\")\n",
    "    time = date.split(\" \")[1]\n",
    "    minute = int(time.split(\":\")[1])\n",
    "    \n",
    "    if \"Guard\" in info:\n",
    "        guard = int(info.split(\"#\")[1].split(\" \")[0])\n",
    "    \n",
    "    elif \"falls\" in info:\n",
    "        start_time = minute\n",
    "    \n",
    "    elif \"wakes\" in info:\n",
    "        for m in range(start_time, minute):\n",
    "            guard_info[guard].append(m)"
   ]
  },
  {
   "cell_type": "markdown",
   "id": "3dfa4b4f",
   "metadata": {},
   "source": [
    "## Find the guard that sleeps the most"
   ]
  },
  {
   "cell_type": "code",
   "execution_count": 4,
   "id": "99cfbfb0",
   "metadata": {},
   "outputs": [],
   "source": [
    "most_asleep_guard = [None, -1]\n",
    "for guard, minutes in guard_info.items():\n",
    "    if len(minutes) > most_asleep_guard[1]:\n",
    "        most_asleep_guard = [guard, len(minutes)]\n",
    "        \n",
    "target_guard = most_asleep_guard[0]"
   ]
  },
  {
   "cell_type": "code",
   "execution_count": 5,
   "id": "7449ddd3",
   "metadata": {},
   "outputs": [],
   "source": [
    "best_minute = [-1, -1]\n",
    "for a, b in Counter(guard_info[target_guard]).items():\n",
    "    if b > best_minute[1]:\n",
    "        best_minute = [a, b]"
   ]
  },
  {
   "cell_type": "code",
   "execution_count": 6,
   "id": "666891c4",
   "metadata": {},
   "outputs": [
    {
     "name": "stdout",
     "output_type": "stream",
     "text": [
      "Answer #1: 8950\n"
     ]
    }
   ],
   "source": [
    "print(\"Answer #1:\", best_minute[0] * target_guard)"
   ]
  },
  {
   "cell_type": "markdown",
   "id": "c9b0ef1a",
   "metadata": {},
   "source": [
    "# Part 2"
   ]
  },
  {
   "cell_type": "code",
   "execution_count": 7,
   "id": "813f0a91",
   "metadata": {},
   "outputs": [],
   "source": [
    "worst_guard = [-1, -1, -1]\n",
    "for guard, minutes in guard_info.items():\n",
    "    for a, b in Counter(minutes).items():\n",
    "        if b > worst_guard[1]:\n",
    "            worst_guard = [guard, b, a]\n"
   ]
  },
  {
   "cell_type": "code",
   "execution_count": 8,
   "id": "4c7687f9",
   "metadata": {},
   "outputs": [
    {
     "name": "stdout",
     "output_type": "stream",
     "text": [
      "Answer #2: 78452\n"
     ]
    }
   ],
   "source": [
    "print(\"Answer #2:\", worst_guard[0] * worst_guard[2])"
   ]
  }
 ],
 "metadata": {
  "kernelspec": {
   "display_name": "Python 3 (ipykernel)",
   "language": "python",
   "name": "python3"
  },
  "language_info": {
   "codemirror_mode": {
    "name": "ipython",
    "version": 3
   },
   "file_extension": ".py",
   "mimetype": "text/x-python",
   "name": "python",
   "nbconvert_exporter": "python",
   "pygments_lexer": "ipython3",
   "version": "3.8.10"
  }
 },
 "nbformat": 4,
 "nbformat_minor": 5
}
