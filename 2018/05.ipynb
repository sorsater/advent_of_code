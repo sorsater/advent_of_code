{
 "cells": [
  {
   "cell_type": "code",
   "execution_count": 1,
   "id": "7e671578",
   "metadata": {},
   "outputs": [],
   "source": [
    "from copy import deepcopy\n",
    "from tqdm.notebook import tqdm"
   ]
  },
  {
   "cell_type": "code",
   "execution_count": 2,
   "id": "4199a2e2",
   "metadata": {},
   "outputs": [],
   "source": [
    "data = list(open(\"input/05\").read())"
   ]
  },
  {
   "cell_type": "code",
   "execution_count": 3,
   "id": "bd63c6ba",
   "metadata": {},
   "outputs": [],
   "source": [
    "def iterate_once2(sublist):\n",
    "    remove_idxs = []\n",
    "    num_removed = 0\n",
    "    skip = False\n",
    "    for idx, elem in enumerate(sublist[:-1]):\n",
    "        next_elem = sublist[idx + 1]\n",
    "        if skip:\n",
    "            skip = False\n",
    "            continue\n",
    "        if elem.lower() == next_elem.lower():\n",
    "            if elem != next_elem:\n",
    "                remove_idxs.append(idx - num_removed)\n",
    "                \n",
    "                skip = True\n",
    "                num_removed += 2\n",
    "                \n",
    "    return remove_idxs"
   ]
  },
  {
   "cell_type": "code",
   "execution_count": 4,
   "id": "ee9c137e",
   "metadata": {},
   "outputs": [],
   "source": [
    "def run_me(list_of_chars):\n",
    "    while True:\n",
    "        idx_to_remove = iterate_once2(list_of_chars)\n",
    "        if not idx_to_remove:\n",
    "            break\n",
    "                        \n",
    "        for idx, to_remove in enumerate(idx_to_remove):\n",
    "            del list_of_chars[to_remove:to_remove + 2]\n",
    "            \n",
    "    return len(list_of_chars)"
   ]
  },
  {
   "cell_type": "code",
   "execution_count": 5,
   "id": "3eceedde",
   "metadata": {},
   "outputs": [
    {
     "name": "stdout",
     "output_type": "stream",
     "text": [
      "Answer #1: 10762\n"
     ]
    }
   ],
   "source": [
    "print(\"Answer #1:\", run_me(deepcopy(data)))"
   ]
  },
  {
   "cell_type": "markdown",
   "id": "fb0c925d",
   "metadata": {},
   "source": [
    "# Part 2"
   ]
  },
  {
   "cell_type": "code",
   "execution_count": 6,
   "id": "dd4c6bd9",
   "metadata": {},
   "outputs": [],
   "source": [
    "all_values = set()\n",
    "for char in data:\n",
    "    all_values.add(char.lower())"
   ]
  },
  {
   "cell_type": "code",
   "execution_count": 7,
   "id": "19050e8f",
   "metadata": {},
   "outputs": [
    {
     "data": {
      "application/vnd.jupyter.widget-view+json": {
       "model_id": "79deed4a875b44d8960bddb75609fde0",
       "version_major": 2,
       "version_minor": 0
      },
      "text/plain": [
       "  0%|          | 0/26 [00:00<?, ?it/s]"
      ]
     },
     "metadata": {},
     "output_type": "display_data"
    }
   ],
   "source": [
    "res = []\n",
    "for char in tqdm(all_values):\n",
    "    sublist = list(filter((char).__ne__, list(deepcopy(data))))\n",
    "    sublist = list(filter((char.upper()).__ne__, sublist))\n",
    "    res.append(run_me(sublist))"
   ]
  },
  {
   "cell_type": "code",
   "execution_count": 8,
   "id": "8481d778",
   "metadata": {},
   "outputs": [
    {
     "name": "stdout",
     "output_type": "stream",
     "text": [
      "Answer #2: 6946\n"
     ]
    }
   ],
   "source": [
    "print(\"Answer #2:\", min(res))"
   ]
  }
 ],
 "metadata": {
  "kernelspec": {
   "display_name": "Python 3 (ipykernel)",
   "language": "python",
   "name": "python3"
  },
  "language_info": {
   "codemirror_mode": {
    "name": "ipython",
    "version": 3
   },
   "file_extension": ".py",
   "mimetype": "text/x-python",
   "name": "python",
   "nbconvert_exporter": "python",
   "pygments_lexer": "ipython3",
   "version": "3.8.10"
  }
 },
 "nbformat": 4,
 "nbformat_minor": 5
}
