{
 "cells": [
  {
   "cell_type": "code",
   "execution_count": 1,
   "id": "63b15a55",
   "metadata": {},
   "outputs": [],
   "source": [
    "import re\n",
    "from dataclasses import dataclass\n",
    "from collections import defaultdict"
   ]
  },
  {
   "cell_type": "code",
   "execution_count": 2,
   "id": "ab94310d",
   "metadata": {},
   "outputs": [],
   "source": [
    "data = open(\"input/03\").read().splitlines()"
   ]
  },
  {
   "cell_type": "code",
   "execution_count": 3,
   "id": "bbf94b9c",
   "metadata": {},
   "outputs": [],
   "source": [
    "pattern = r\"#(\\d+) @ (\\d+),(\\d+): (\\d+)x(\\d+)\""
   ]
  },
  {
   "cell_type": "code",
   "execution_count": 4,
   "id": "b6d47051",
   "metadata": {},
   "outputs": [],
   "source": [
    "@dataclass\n",
    "class Piece:\n",
    "    id: int\n",
    "    left: int\n",
    "    top: int\n",
    "    width: int\n",
    "    height: int"
   ]
  },
  {
   "cell_type": "code",
   "execution_count": 5,
   "id": "17c4852d",
   "metadata": {},
   "outputs": [],
   "source": [
    "pieces = [\n",
    "    Piece(*list(map(int, re.match(pattern, line).groups())))\n",
    "    for line in data\n",
    "]"
   ]
  },
  {
   "cell_type": "code",
   "execution_count": 6,
   "id": "95c76836",
   "metadata": {},
   "outputs": [],
   "source": [
    "grid = defaultdict(list)\n",
    "\n",
    "for piece in pieces:\n",
    "    for r in range(piece.width):\n",
    "        for c in range(piece.height):\n",
    "            grid[(piece.left + r, piece.top + c)].append(piece.id)"
   ]
  },
  {
   "cell_type": "code",
   "execution_count": 7,
   "id": "d72b34d1",
   "metadata": {},
   "outputs": [],
   "source": [
    "overlap = {piece.id: False for piece in pieces}"
   ]
  },
  {
   "cell_type": "code",
   "execution_count": 8,
   "id": "db3c1d77",
   "metadata": {},
   "outputs": [],
   "source": [
    "part1 = 0\n",
    "for key, values in grid.items():\n",
    "    if len(values) > 1:\n",
    "        part1 += 1\n",
    "        for value in values:\n",
    "            overlap[value] = True"
   ]
  },
  {
   "cell_type": "code",
   "execution_count": 9,
   "id": "e0467369",
   "metadata": {},
   "outputs": [
    {
     "name": "stdout",
     "output_type": "stream",
     "text": [
      "Answer #1: 104241\n"
     ]
    }
   ],
   "source": [
    "print(\"Answer #1:\", part1)"
   ]
  },
  {
   "cell_type": "code",
   "execution_count": 10,
   "id": "9b23052d",
   "metadata": {},
   "outputs": [
    {
     "name": "stdout",
     "output_type": "stream",
     "text": [
      "Answer #2: 806\n"
     ]
    }
   ],
   "source": [
    "for key, val in overlap.items():\n",
    "    if val == False:\n",
    "        print(\"Answer #2:\", key)"
   ]
  }
 ],
 "metadata": {
  "kernelspec": {
   "display_name": "Python 3 (ipykernel)",
   "language": "python",
   "name": "python3"
  },
  "language_info": {
   "codemirror_mode": {
    "name": "ipython",
    "version": 3
   },
   "file_extension": ".py",
   "mimetype": "text/x-python",
   "name": "python",
   "nbconvert_exporter": "python",
   "pygments_lexer": "ipython3",
   "version": "3.8.10"
  }
 },
 "nbformat": 4,
 "nbformat_minor": 5
}
