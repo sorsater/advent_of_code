{
 "cells": [
  {
   "cell_type": "code",
   "execution_count": 26,
   "id": "dd7eba33-c623-4df6-93a0-2983e33ba357",
   "metadata": {},
   "outputs": [],
   "source": [
    "data = list(map(int, open(\"input/08\").read().split()))"
   ]
  },
  {
   "cell_type": "code",
   "execution_count": 2,
   "id": "ec0e6c4c-8a25-4761-8cd9-b4b8e27e89eb",
   "metadata": {},
   "outputs": [],
   "source": [
    "def part1(index):\n",
    "    num_children, num_metadata = data[index:index + 2]\n",
    "    index += 2\n",
    "    metadata_sum = 0\n",
    "    for _ in range(num_children):\n",
    "        child_sum, index = part1(index)\n",
    "        metadata_sum += child_sum\n",
    "\n",
    "    metadata_sum += sum(data[index:index + num_metadata])\n",
    "    index += num_metadata\n",
    "    \n",
    "    return metadata_sum, index"
   ]
  },
  {
   "cell_type": "code",
   "execution_count": 27,
   "id": "02aeb5c5-8636-49e2-8a96-8043720b760f",
   "metadata": {},
   "outputs": [
    {
     "name": "stdout",
     "output_type": "stream",
     "text": [
      "Answer #1: 49180\n"
     ]
    }
   ],
   "source": [
    "res, _ = part1(0)\n",
    "print(f\"Answer #1: {res}\")"
   ]
  },
  {
   "cell_type": "code",
   "execution_count": 30,
   "id": "92b39b0b-1fec-4d72-95ff-c5966e4f9376",
   "metadata": {},
   "outputs": [],
   "source": [
    "def part2(index):\n",
    "    num_children, num_metadata = data[index:index + 2]    \n",
    "    index += 2\n",
    "    \n",
    "    child_values = []\n",
    "    for _ in range(num_children):\n",
    "        child_value, index = part2(index)\n",
    "        child_values.append(child_value)\n",
    "\n",
    "    metadata = data[index:index + num_metadata]\n",
    "    index += num_metadata\n",
    "\n",
    "    if num_children == 0:\n",
    "        node_sum = sum(metadata)\n",
    "    else:\n",
    "        node_sum = sum([child_values[c_idx - 1] for c_idx in metadata if c_idx <= len(child_values)])\n",
    "\n",
    "    return node_sum, index"
   ]
  },
  {
   "cell_type": "code",
   "execution_count": 31,
   "id": "a31515b9-426d-49cd-a078-073ceb750c4f",
   "metadata": {},
   "outputs": [
    {
     "name": "stdout",
     "output_type": "stream",
     "text": [
      "Answer #2: 20611\n"
     ]
    }
   ],
   "source": [
    "res, _ = part2(0)\n",
    "print(f\"Answer #2: {res}\")"
   ]
  }
 ],
 "metadata": {
  "kernelspec": {
   "display_name": "Python 3 (ipykernel)",
   "language": "python",
   "name": "python3"
  },
  "language_info": {
   "codemirror_mode": {
    "name": "ipython",
    "version": 3
   },
   "file_extension": ".py",
   "mimetype": "text/x-python",
   "name": "python",
   "nbconvert_exporter": "python",
   "pygments_lexer": "ipython3",
   "version": "3.9.6"
  }
 },
 "nbformat": 4,
 "nbformat_minor": 5
}
