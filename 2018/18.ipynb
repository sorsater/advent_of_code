{
 "cells": [
  {
   "cell_type": "code",
   "execution_count": 1,
   "id": "1363c37b-5401-4ff6-868b-04e3e8f19b44",
   "metadata": {},
   "outputs": [],
   "source": [
    "from tqdm.notebook import tqdm\n",
    "from collections import defaultdict"
   ]
  },
  {
   "cell_type": "code",
   "execution_count": 2,
   "id": "44c63b19-e72d-4906-8f41-ab475ffe9557",
   "metadata": {},
   "outputs": [],
   "source": [
    "data = open(\"input/18\").read().splitlines()"
   ]
  },
  {
   "cell_type": "code",
   "execution_count": 3,
   "id": "9df497c7-bc81-4654-884b-a9c366d05e42",
   "metadata": {},
   "outputs": [],
   "source": [
    "grid = {}\n",
    "for r, line in enumerate(data):\n",
    "    for c, elem in enumerate(line):\n",
    "        grid[tuple((r, c))] = elem"
   ]
  },
  {
   "cell_type": "code",
   "execution_count": 4,
   "id": "07202a5c-3cd7-40e9-a5eb-456de7ce29b2",
   "metadata": {},
   "outputs": [],
   "source": [
    "neighs = []\n",
    "for x in range(-1, 2):\n",
    "    for y in range(-1, 2):\n",
    "        if x == 0 and y == 0:\n",
    "            continue\n",
    "        neighs.append([x, y])"
   ]
  },
  {
   "cell_type": "code",
   "execution_count": 5,
   "id": "d9cf98c5-f339-4189-814d-ea28d59dc13b",
   "metadata": {},
   "outputs": [],
   "source": [
    "def next_open(pos):\n",
    "    adjacent = 0\n",
    "    for x, y in neighs:\n",
    "        elem = grid.get(tuple((pos[0] + x, pos[1] + y)))\n",
    "        if elem == \"|\":\n",
    "            adjacent += 1\n",
    "    \n",
    "    return \"|\" if adjacent >= 3 else \".\""
   ]
  },
  {
   "cell_type": "code",
   "execution_count": 6,
   "id": "5a168157-8bd1-4ade-b10f-a1bad523fc98",
   "metadata": {},
   "outputs": [],
   "source": [
    "def next_tree(pos):\n",
    "    adjacent = 0\n",
    "    for x, y in neighs:\n",
    "        elem = grid.get(tuple((pos[0] + x, pos[1] + y)))\n",
    "        if elem == \"#\":\n",
    "            adjacent += 1\n",
    "    \n",
    "    return \"#\" if adjacent >= 3 else \"|\""
   ]
  },
  {
   "cell_type": "code",
   "execution_count": 7,
   "id": "93c4e7c3-46a6-4eb9-82b3-885acccc699c",
   "metadata": {},
   "outputs": [],
   "source": [
    "def next_lumberyard(pos):\n",
    "    adj_lumberyard = False\n",
    "    adj_tree = False\n",
    "    for x, y in neighs:\n",
    "        elem = grid.get(tuple((pos[0] + x, pos[1] + y)))\n",
    "        if elem == \"#\":\n",
    "            adj_lumberyard = True\n",
    "        elif elem == \"|\":\n",
    "            adj_tree = True\n",
    "\n",
    "    return \"#\" if adj_lumberyard and adj_tree else \".\""
   ]
  },
  {
   "cell_type": "code",
   "execution_count": 8,
   "id": "f0258181-3ab2-4023-9ae7-cce5bb1f7733",
   "metadata": {},
   "outputs": [],
   "source": [
    "def iterate():\n",
    "    new_grid = {}\n",
    "    for pos, elem in grid.items():\n",
    "        if elem == \".\":\n",
    "            new_grid[pos] = next_open(pos)\n",
    "        elif elem == \"|\":\n",
    "            new_grid[pos] = next_tree(pos)#elem\n",
    "        else:\n",
    "            new_grid[pos] = next_lumberyard(pos)#elem\n",
    "    return new_grid"
   ]
  },
  {
   "cell_type": "code",
   "execution_count": 9,
   "id": "d5591102-eb77-43c8-b221-152bbd94905e",
   "metadata": {},
   "outputs": [],
   "source": [
    "def get_string_of_grid():\n",
    "    out = \"\"\n",
    "    for elem in grid.values():\n",
    "        out += elem\n",
    "    return out"
   ]
  },
  {
   "cell_type": "code",
   "execution_count": 10,
   "id": "de74b979-e0be-4637-916a-846a3e579bb0",
   "metadata": {},
   "outputs": [],
   "source": [
    "def get_score(hhh):\n",
    "    num_trees = 0\n",
    "    num_lumberyards = 0\n",
    "    for elem in hhh:\n",
    "        if elem == \"|\":\n",
    "            num_trees += 1\n",
    "        elif elem == \"#\":\n",
    "            num_lumberyards += 1\n",
    "    return num_trees * num_lumberyards"
   ]
  },
  {
   "cell_type": "markdown",
   "id": "e6a2784a-f19b-4657-9112-b920fc832b06",
   "metadata": {},
   "source": [
    "# Part 2\n",
    "Took a guess that the pattern is repeating itself (classical game of life behaviour).\n",
    "\n",
    "Looped for 1000 times and it stabilized. In my case, all of them repeat after 28 iterations. Just calculate when the target is reached \n",
    "\n",
    "Baked in part1 in the same solution for clarity"
   ]
  },
  {
   "cell_type": "code",
   "execution_count": 11,
   "id": "35234a15-e0c5-40b5-9ac6-c3932a100c6b",
   "metadata": {},
   "outputs": [],
   "source": [
    "# Trial and error to get this number\n",
    "num_initial_iterations = 1000\n",
    "target = 1000000000"
   ]
  },
  {
   "cell_type": "code",
   "execution_count": 12,
   "id": "1a4d99b3-d7b0-4c55-96a9-d7c5749d5c58",
   "metadata": {},
   "outputs": [
    {
     "data": {
      "application/vnd.jupyter.widget-view+json": {
       "model_id": "1033b1a238a043e59baa448ed40a7105",
       "version_major": 2,
       "version_minor": 0
      },
      "text/plain": [
       "  0%|          | 0/1000 [00:00<?, ?it/s]"
      ]
     },
     "metadata": {},
     "output_type": "display_data"
    }
   ],
   "source": [
    "state_dict = defaultdict(list)\n",
    "for i in tqdm(range(num_initial_iterations)):\n",
    "    grid = iterate()\n",
    "    state = get_string_of_grid()\n",
    "    state_dict[state].append(i + 1)\n",
    "    if i == 9:\n",
    "        part1 = get_score(state)"
   ]
  },
  {
   "cell_type": "code",
   "execution_count": 13,
   "id": "ee96bff0-3fbd-4006-9992-7d1cb174e43a",
   "metadata": {},
   "outputs": [],
   "source": [
    "iter_to_score = {}\n",
    "for key, val in state_dict.items():\n",
    "    if len(val) == 1:\n",
    "        continue\n",
    "    # All of them rotate at the same\n",
    "    rotates = val[-2] - val[-1]\n",
    "    iter_to_score[val[-2]] = get_score(key)"
   ]
  },
  {
   "cell_type": "code",
   "execution_count": 14,
   "id": "d3871b61-4fd7-41e2-8f59-32efc13c7141",
   "metadata": {},
   "outputs": [],
   "source": [
    "for key, value in iter_to_score.items():\n",
    "    if (target - key) % rotates == 0:        \n",
    "        part2 = value\n",
    "        break"
   ]
  },
  {
   "cell_type": "code",
   "execution_count": 15,
   "id": "52dc7212-39f9-475f-b7af-80e42424005d",
   "metadata": {},
   "outputs": [
    {
     "name": "stdout",
     "output_type": "stream",
     "text": [
      "Answer #1: 394420\n",
      "Answer #2: 174420\n"
     ]
    }
   ],
   "source": [
    "print(f\"Answer #1: {part1}\")\n",
    "print(f\"Answer #2: {part2}\")"
   ]
  }
 ],
 "metadata": {
  "kernelspec": {
   "display_name": "Python 3 (ipykernel)",
   "language": "python",
   "name": "python3"
  },
  "language_info": {
   "codemirror_mode": {
    "name": "ipython",
    "version": 3
   },
   "file_extension": ".py",
   "mimetype": "text/x-python",
   "name": "python",
   "nbconvert_exporter": "python",
   "pygments_lexer": "ipython3",
   "version": "3.9.20"
  }
 },
 "nbformat": 4,
 "nbformat_minor": 5
}
