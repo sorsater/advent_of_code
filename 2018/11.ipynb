{
 "cells": [
  {
   "cell_type": "code",
   "execution_count": 1,
   "metadata": {},
   "outputs": [],
   "source": [
    "# Needed some research understanding that partial sums is needed"
   ]
  },
  {
   "cell_type": "code",
   "execution_count": 2,
   "metadata": {},
   "outputs": [],
   "source": [
    "serial = 6878 # Puzzle input"
   ]
  },
  {
   "cell_type": "code",
   "execution_count": 3,
   "metadata": {},
   "outputs": [],
   "source": [
    "from tqdm.notebook import tqdm"
   ]
  },
  {
   "cell_type": "code",
   "execution_count": 4,
   "metadata": {},
   "outputs": [],
   "source": [
    "def power(pos, serial):\n",
    "    rack_id = pos[0] + 10\n",
    "    power = rack_id * pos[1]\n",
    "    power += serial\n",
    "    power *= rack_id\n",
    "    power = power % 1000 // 100\n",
    "    return power - 5"
   ]
  },
  {
   "cell_type": "code",
   "execution_count": 5,
   "metadata": {},
   "outputs": [],
   "source": [
    "grid = {}\n",
    "for r in range(300):\n",
    "    for c in range(300):\n",
    "        pos = (r,c)\n",
    "        grid[pos] = power(pos, serial)"
   ]
  },
  {
   "cell_type": "code",
   "execution_count": 6,
   "metadata": {},
   "outputs": [],
   "source": [
    "partial = [[0] * 300 for _ in range(300)]\n",
    "partial = {}\n",
    "for i in range(300):\n",
    "    for j in range(300):\n",
    "        partial[(i, j)] = grid[(i, j)]\n",
    "        if i > 0:\n",
    "            partial[(i, j)] += partial[(i - 1, j)]\n",
    "        if j > 0:\n",
    "            partial[(i, j)] += partial[(i, j-1)]\n",
    "        if i > 0 and j > 0:\n",
    "            partial[(i, j)] -= partial[(i-1, j-1)]"
   ]
  },
  {
   "cell_type": "code",
   "execution_count": 7,
   "metadata": {},
   "outputs": [],
   "source": [
    "def get_partial_sum(r1, c1, r2, c2):\n",
    "    result = partial[(r2, c2)]\n",
    "    if r1 > 0:\n",
    "        result -= partial[(r1-1, c2)]\n",
    "    if c1 > 0:\n",
    "        result -= partial[(r2, c1-1)]\n",
    "    if r1 > 0 and c1 > 0:\n",
    "        result += partial[(r1-1,c1-1)]\n",
    "    return result"
   ]
  },
  {
   "cell_type": "code",
   "execution_count": 8,
   "metadata": {},
   "outputs": [],
   "source": [
    "def get_nums(pos, num):\n",
    "    if (pos[0] + num - 1, pos[1] + num - 1) not in grid:\n",
    "        return False, 0\n",
    "    return True, get_partial_sum(pos[0], pos[1], pos[0] + num - 1, pos[1] + num -1)"
   ]
  },
  {
   "cell_type": "markdown",
   "metadata": {},
   "source": [
    "# Part 1"
   ]
  },
  {
   "cell_type": "code",
   "execution_count": 9,
   "metadata": {},
   "outputs": [],
   "source": [
    "best = -1\n",
    "best_vals = None\n",
    "for pos in grid:\n",
    "    valid, sum = get_nums(pos, 3)\n",
    "    if sum > best:\n",
    "        best = sum\n",
    "        best_vals = [pos, 3]   "
   ]
  },
  {
   "cell_type": "code",
   "execution_count": 10,
   "metadata": {},
   "outputs": [
    {
     "name": "stdout",
     "output_type": "stream",
     "text": [
      "Answer #1: 20,34\n"
     ]
    }
   ],
   "source": [
    "pos, _ = best_vals\n",
    "print(f\"Answer #1: {pos[0]},{pos[1]}\")"
   ]
  },
  {
   "cell_type": "markdown",
   "metadata": {},
   "source": [
    "# Part 2"
   ]
  },
  {
   "cell_type": "code",
   "execution_count": 11,
   "metadata": {},
   "outputs": [
    {
     "data": {
      "application/vnd.jupyter.widget-view+json": {
       "model_id": "2416d7388379440ca8ef08bdb306a678",
       "version_major": 2,
       "version_minor": 0
      },
      "text/plain": [
       "  0%|          | 0/90000 [00:00<?, ?it/s]"
      ]
     },
     "metadata": {},
     "output_type": "display_data"
    }
   ],
   "source": [
    "best = -1\n",
    "best_vals = None\n",
    "for pos in tqdm(grid):\n",
    "    for num in range(1, 300):\n",
    "        valid, sum = get_nums(pos, num)\n",
    "        if not valid:\n",
    "            break\n",
    "        if sum > best:\n",
    "            best = sum\n",
    "            best_vals = [pos, num]\n",
    "       "
   ]
  },
  {
   "cell_type": "code",
   "execution_count": 12,
   "metadata": {},
   "outputs": [
    {
     "name": "stdout",
     "output_type": "stream",
     "text": [
      "Answer #2: 90,57,15\n"
     ]
    }
   ],
   "source": [
    "pos, size = best_vals\n",
    "print(f\"Answer #2: {pos[0]},{pos[1]},{size}\")"
   ]
  }
 ],
 "metadata": {
  "kernelspec": {
   "display_name": "Python 3 (ipykernel)",
   "language": "python",
   "name": "python3"
  },
  "language_info": {
   "codemirror_mode": {
    "name": "ipython",
    "version": 3
   },
   "file_extension": ".py",
   "mimetype": "text/x-python",
   "name": "python",
   "nbconvert_exporter": "python",
   "pygments_lexer": "ipython3",
   "version": "3.9.6"
  },
  "widgets": {
   "application/vnd.jupyter.widget-state+json": {
    "state": {
     "150a21f5b60a48eda3675bee05aff5e8": {
      "model_module": "@jupyter-widgets/controls",
      "model_module_version": "2.0.0",
      "model_name": "FloatProgressModel",
      "state": {
       "layout": "IPY_MODEL_8411e7315b684a25b9406e92bb4d491b",
       "max": 90000,
       "style": "IPY_MODEL_fa1cbfc5ab864c98afa8c173d7744f2b",
       "value": 12
      }
     },
     "217c3880be5348d98076516e33cf0907": {
      "model_module": "@jupyter-widgets/controls",
      "model_module_version": "2.0.0",
      "model_name": "HTMLModel",
      "state": {
       "layout": "IPY_MODEL_e59554dd39174044a857001c73f7d6d5",
       "style": "IPY_MODEL_c6867b50382848b8a619f12a5277ea7f",
       "value": "  0%"
      }
     },
     "66e0995de54a46398035ec797bbbec82": {
      "model_module": "@jupyter-widgets/base",
      "model_module_version": "2.0.0",
      "model_name": "LayoutModel",
      "state": {}
     },
     "8411e7315b684a25b9406e92bb4d491b": {
      "model_module": "@jupyter-widgets/base",
      "model_module_version": "2.0.0",
      "model_name": "LayoutModel",
      "state": {}
     },
     "ad6dfdc9323141c080ec03e880791879": {
      "model_module": "@jupyter-widgets/controls",
      "model_module_version": "2.0.0",
      "model_name": "HTMLModel",
      "state": {
       "layout": "IPY_MODEL_66e0995de54a46398035ec797bbbec82",
       "style": "IPY_MODEL_fc883adac7a441d6ab945b41783c98be",
       "value": " 12/90000 [01:04&lt;128:11:50,  5.13s/it]"
      }
     },
     "c6867b50382848b8a619f12a5277ea7f": {
      "model_module": "@jupyter-widgets/controls",
      "model_module_version": "2.0.0",
      "model_name": "HTMLStyleModel",
      "state": {
       "description_width": "",
       "font_size": null,
       "text_color": null
      }
     },
     "c6cf9cdad0404bf28022f29203a64367": {
      "model_module": "@jupyter-widgets/controls",
      "model_module_version": "2.0.0",
      "model_name": "HBoxModel",
      "state": {
       "children": [
        "IPY_MODEL_217c3880be5348d98076516e33cf0907",
        "IPY_MODEL_150a21f5b60a48eda3675bee05aff5e8",
        "IPY_MODEL_ad6dfdc9323141c080ec03e880791879"
       ],
       "layout": "IPY_MODEL_fbc703ea9c9f43e790f3de7c88ef2d47"
      }
     },
     "e59554dd39174044a857001c73f7d6d5": {
      "model_module": "@jupyter-widgets/base",
      "model_module_version": "2.0.0",
      "model_name": "LayoutModel",
      "state": {}
     },
     "fa1cbfc5ab864c98afa8c173d7744f2b": {
      "model_module": "@jupyter-widgets/controls",
      "model_module_version": "2.0.0",
      "model_name": "ProgressStyleModel",
      "state": {
       "description_width": ""
      }
     },
     "fbc703ea9c9f43e790f3de7c88ef2d47": {
      "model_module": "@jupyter-widgets/base",
      "model_module_version": "2.0.0",
      "model_name": "LayoutModel",
      "state": {}
     },
     "fc883adac7a441d6ab945b41783c98be": {
      "model_module": "@jupyter-widgets/controls",
      "model_module_version": "2.0.0",
      "model_name": "HTMLStyleModel",
      "state": {
       "description_width": "",
       "font_size": null,
       "text_color": null
      }
     }
    },
    "version_major": 2,
    "version_minor": 0
   }
  }
 },
 "nbformat": 4,
 "nbformat_minor": 4
}
