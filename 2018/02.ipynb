{
 "cells": [
  {
   "cell_type": "code",
   "execution_count": 1,
   "metadata": {},
   "outputs": [],
   "source": [
    "from collections import Counter, defaultdict\n",
    "from itertools import combinations\n",
    "\n",
    "data = open('02.input').read().splitlines()"
   ]
  },
  {
   "cell_type": "markdown",
   "metadata": {},
   "source": [
    "# Part 1"
   ]
  },
  {
   "cell_type": "code",
   "execution_count": 2,
   "metadata": {},
   "outputs": [
    {
     "name": "stdout",
     "output_type": "stream",
     "text": [
      "Answer #1: 7192\n"
     ]
    }
   ],
   "source": [
    "c_2, c_3 = 0, 0\n",
    "for a in data:\n",
    "    tmp = defaultdict(list)\n",
    "    for key, val in Counter(a).items():\n",
    "        tmp[val].append(key)\n",
    "    \n",
    "    c_2 += 1 if 2 in tmp else 0\n",
    "    c_3 += 1 if 3 in tmp else 0\n",
    "\n",
    "print('Answer #1:', c_2 * c_3)"
   ]
  },
  {
   "cell_type": "markdown",
   "metadata": {},
   "source": [
    "# Part 2"
   ]
  },
  {
   "cell_type": "code",
   "execution_count": 3,
   "metadata": {},
   "outputs": [
    {
     "name": "stdout",
     "output_type": "stream",
     "text": [
      "Answer #2: mbruvapghxlzycbhmfqjonsie\n"
     ]
    }
   ],
   "source": [
    "for first, second in combinations(data, 2):\n",
    "    common = [char for idx, char in enumerate(first) if char == second[idx]]\n",
    "    if len(common) == len(first) - 1:\n",
    "        print('Answer #2:', ''.join(common))"
   ]
  }
 ],
 "metadata": {
  "kernelspec": {
   "display_name": "Python 3",
   "language": "python",
   "name": "python3"
  },
  "language_info": {
   "codemirror_mode": {
    "name": "ipython",
    "version": 3
   },
   "file_extension": ".py",
   "mimetype": "text/x-python",
   "name": "python",
   "nbconvert_exporter": "python",
   "pygments_lexer": "ipython3",
   "version": "3.6.5"
  }
 },
 "nbformat": 4,
 "nbformat_minor": 2
}
