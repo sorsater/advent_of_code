{
 "cells": [
  {
   "cell_type": "code",
   "execution_count": 1,
   "id": "05a4d0ca-e28e-4851-ac47-6460814ab5ce",
   "metadata": {},
   "outputs": [],
   "source": [
    "from copy import deepcopy"
   ]
  },
  {
   "cell_type": "code",
   "execution_count": 2,
   "id": "ba258c22-bdbe-4c78-a953-08f2f38b2b65",
   "metadata": {},
   "outputs": [],
   "source": [
    "data = open(\"input/12\").read()"
   ]
  },
  {
   "cell_type": "code",
   "execution_count": 3,
   "id": "6fa5db47-2082-4d6d-ae22-3f0db0b85af0",
   "metadata": {},
   "outputs": [],
   "source": [
    "raw_initial, raw_rules = data.split(\"\\n\\n\")"
   ]
  },
  {
   "cell_type": "code",
   "execution_count": 4,
   "id": "3b8986ef-3aba-4fbf-b4e7-6ea13ee22158",
   "metadata": {},
   "outputs": [],
   "source": [
    "plants = list(raw_initial.split(\": \")[1])"
   ]
  },
  {
   "cell_type": "code",
   "execution_count": 5,
   "id": "bbc15d22-76a6-472d-bd85-005bfdeafe1f",
   "metadata": {},
   "outputs": [],
   "source": [
    "def fix_edges(plants):\n",
    "    # Add two\n",
    "    plants = [\".\", \".\", \".\", \".\", \".\"] + plants + [\".\", \".\", \".\", \".\", \".\"]\n",
    "\n",
    "    # Remove from left\n",
    "    num_added = 5\n",
    "    while True:\n",
    "        if plants[5] == \"#\":\n",
    "            break\n",
    "        plants = plants[1:]\n",
    "        num_added -= 1\n",
    "\n",
    "    # Remove from right\n",
    "    while True:\n",
    "        if plants[-6] == \"#\":\n",
    "            break\n",
    "        plants = plants[:-1]\n",
    "    return plants, num_added"
   ]
  },
  {
   "cell_type": "code",
   "execution_count": 6,
   "id": "ece1f2ca-df99-4d9f-87b4-51b1efd3c86b",
   "metadata": {},
   "outputs": [],
   "source": [
    "rules = {}\n",
    "for rule in raw_rules.split(\"\\n\"):\n",
    "    input, output = rule.split(\" => \")\n",
    "    rules[input] = output"
   ]
  },
  {
   "cell_type": "code",
   "execution_count": 7,
   "id": "64ac42c7-bd99-4b80-9552-29b82f24f231",
   "metadata": {},
   "outputs": [],
   "source": [
    "def iterate(plants):\n",
    "    new_plants = deepcopy(plants)\n",
    "    for idx in range(2, len(plants) - 2):\n",
    "        slice = plants[idx - 2:idx + 3]\n",
    "        rule = rules.get(\"\".join(slice), \".\")\n",
    "        new_plants[idx] = rule\n",
    "    \n",
    "    return new_plants"
   ]
  },
  {
   "cell_type": "code",
   "execution_count": 8,
   "id": "4030fa08-4a50-40cc-b636-d2c182b8c4b6",
   "metadata": {},
   "outputs": [],
   "source": [
    "def get_plant_sum(plants, diff_val):\n",
    "    # Diff-val is the sum of the numbers of added/removed \".\"\n",
    "    res = 0\n",
    "    for idx, elem in enumerate(plants):\n",
    "        if elem == \"#\":\n",
    "            res += idx - diff_val\n",
    "    return res"
   ]
  },
  {
   "cell_type": "code",
   "execution_count": 9,
   "id": "c0c4f943-9e71-4a75-874c-ae1c2d57ccc2",
   "metadata": {},
   "outputs": [],
   "source": [
    "diff_val = 0\n",
    "for i in range(20):\n",
    "    plants, num_added = fix_edges(plants)\n",
    "    diff_val += num_added\n",
    "    plants = iterate(plants)"
   ]
  },
  {
   "cell_type": "code",
   "execution_count": 10,
   "id": "29f2dc00-61aa-465d-b010-b0fdad1fb0c7",
   "metadata": {},
   "outputs": [
    {
     "name": "stdout",
     "output_type": "stream",
     "text": [
      "Answer #1: 3793\n"
     ]
    }
   ],
   "source": [
    "plant_sum = get_plant_sum(plants, diff_val)\n",
    "print(f\"Answer #1: {plant_sum}\")"
   ]
  },
  {
   "cell_type": "markdown",
   "id": "97f03407-3c90-43aa-911b-181b6d22e946",
   "metadata": {},
   "source": [
    "# Part 2\n",
    "Too big to generate...  \n",
    "A linear pattern appears after 158 iterations  \n",
    "Run for 200 and then take that sum add iterpolate"
   ]
  },
  {
   "cell_type": "code",
   "execution_count": 11,
   "id": "da6370e8-59f8-4a85-bc30-85b3d0cd9006",
   "metadata": {},
   "outputs": [],
   "source": [
    "prev = -1\n",
    "for i in range(180):  # 200 (20 before)\n",
    "    plants, num_added = fix_edges(plants)\n",
    "    diff_val += num_added\n",
    "    plants = iterate(plants)\n",
    "    plant_sum = get_plant_sum(plants, diff_val)\n",
    "    # print(i, plant_sum - prev)  # How I found the repeating num\n",
    "    prev = plant_sum"
   ]
  },
  {
   "cell_type": "code",
   "execution_count": 12,
   "id": "7ee13b22-3664-420a-88fd-0e9006f3a325",
   "metadata": {},
   "outputs": [],
   "source": [
    "part2 = plant_sum + (50000000000 - 200) * 86"
   ]
  },
  {
   "cell_type": "code",
   "execution_count": 13,
   "id": "2efe9201-916d-43d0-b8d6-2db5fdf10951",
   "metadata": {},
   "outputs": [
    {
     "name": "stdout",
     "output_type": "stream",
     "text": [
      "Answer #2: 4300000002414\n"
     ]
    }
   ],
   "source": [
    "print(f\"Answer #2: {part2}\")"
   ]
  }
 ],
 "metadata": {
  "kernelspec": {
   "display_name": "Python 3 (ipykernel)",
   "language": "python",
   "name": "python3"
  },
  "language_info": {
   "codemirror_mode": {
    "name": "ipython",
    "version": 3
   },
   "file_extension": ".py",
   "mimetype": "text/x-python",
   "name": "python",
   "nbconvert_exporter": "python",
   "pygments_lexer": "ipython3",
   "version": "3.9.6"
  }
 },
 "nbformat": 4,
 "nbformat_minor": 5
}
