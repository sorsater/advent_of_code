{
 "cells": [
  {
   "cell_type": "code",
   "execution_count": 1,
   "id": "754d8c70-5654-4bcb-9d91-0ef51bcf9d65",
   "metadata": {},
   "outputs": [],
   "source": [
    "import re\n",
    "from collections import defaultdict"
   ]
  },
  {
   "cell_type": "code",
   "execution_count": 2,
   "id": "7091c99a-b51c-409e-a8d0-7233848d8645",
   "metadata": {},
   "outputs": [],
   "source": [
    "data = open(\"input/07\").read().splitlines()"
   ]
  },
  {
   "cell_type": "code",
   "execution_count": 3,
   "id": "4ed579ce-7546-4f96-bf91-f5bc8c53f306",
   "metadata": {},
   "outputs": [],
   "source": [
    "pattern = r\"Step (\\w+) must be finished before step (\\w+) can begin.\""
   ]
  },
  {
   "cell_type": "code",
   "execution_count": 4,
   "id": "a854d742-8ca1-4075-b47f-1c7590e14492",
   "metadata": {},
   "outputs": [],
   "source": [
    "pairs = []\n",
    "for line in data:\n",
    "    groups = re.match(pattern, line).groups()\n",
    "    pairs.append(groups)"
   ]
  },
  {
   "cell_type": "code",
   "execution_count": 5,
   "id": "0dc4fa46-71ef-4f96-a57f-68e34c6f5132",
   "metadata": {},
   "outputs": [],
   "source": [
    "grid = defaultdict(list)\n",
    "prerequisite = defaultdict(list)\n",
    "all_nodes = set()\n",
    "all_start = set()\n",
    "all_end = set()\n",
    "for start, end in pairs:\n",
    "    grid[start].append(end)\n",
    "    all_start.add(start)\n",
    "    all_end.add(end)\n",
    "    prerequisite[end].append(start)\n",
    "    all_nodes.add(start)\n",
    "    all_nodes.add(end)"
   ]
  },
  {
   "cell_type": "markdown",
   "id": "1ac31996-e32f-4e8e-bb81-47cfd541e9dc",
   "metadata": {},
   "source": [
    "# Part 1"
   ]
  },
  {
   "cell_type": "code",
   "execution_count": 6,
   "id": "10b19736-ed14-485d-a646-8114f544e411",
   "metadata": {},
   "outputs": [],
   "source": [
    "current_pool = list(all_start - all_end)\n",
    "my_path = \"\"\n",
    "while all_nodes:\n",
    "    current = sorted(current_pool)[0]\n",
    "    my_path += current\n",
    "    all_nodes.remove(current)\n",
    "    current_pool.remove(current)\n",
    "    children = grid[current]\n",
    "    for child in children:\n",
    "        prereqs = prerequisite[child]\n",
    "        for elem in prereqs:\n",
    "            if elem not in my_path:\n",
    "                break\n",
    "        else:\n",
    "            current_pool.append(child)"
   ]
  },
  {
   "cell_type": "code",
   "execution_count": 7,
   "id": "3968637c-f7eb-4157-abc3-3f9575d7a938",
   "metadata": {},
   "outputs": [
    {
     "name": "stdout",
     "output_type": "stream",
     "text": [
      "Answer #1 MNOUBYITKXZFHQRJDASGCPEVWL\n"
     ]
    }
   ],
   "source": [
    "print(f\"Answer #1 {my_path}\")"
   ]
  },
  {
   "cell_type": "markdown",
   "id": "efa1233d-984e-4e3c-9be6-7655e90a700b",
   "metadata": {},
   "source": [
    "# Part 2"
   ]
  },
  {
   "cell_type": "code",
   "execution_count": null,
   "id": "b15cb3d8-9de7-447a-9f0c-56d49d2c12ca",
   "metadata": {},
   "outputs": [],
   "source": [
    "def get_time(char):\n",
    "    return ord(char) - 64"
   ]
  },
  {
   "cell_type": "code",
   "execution_count": 14,
   "id": "49d5b263-8d98-4d27-889b-af9b4490d00a",
   "metadata": {},
   "outputs": [
    {
     "data": {
      "text/plain": [
       "26"
      ]
     },
     "execution_count": 14,
     "metadata": {},
     "output_type": "execute_result"
    }
   ],
   "source": [
    "get_time(\"Z\")"
   ]
  },
  {
   "cell_type": "code",
   "execution_count": 15,
   "id": "ec398385-3029-4360-bc48-819ae255c5b8",
   "metadata": {},
   "outputs": [],
   "source": [
    "num_workers = 2"
   ]
  },
  {
   "cell_type": "code",
   "execution_count": 16,
   "id": "59eed052-de42-4e8c-a60f-e7f1173b2785",
   "metadata": {},
   "outputs": [],
   "source": [
    "def worker_available():\n",
    "    available = []\n",
    "    for idx, worker in enumerate(workers):\n",
    "        if worker is None:\n",
    "            available.append(idx)\n",
    "    return available"
   ]
  },
  {
   "cell_type": "code",
   "execution_count": 17,
   "id": "20a20963-f071-4e9b-b66e-4ad1e0bb8ba7",
   "metadata": {},
   "outputs": [
    {
     "name": "stdout",
     "output_type": "stream",
     "text": [
      "WORKER START [None, None]\n",
      "WORKERS END [None, None]\n",
      "[[3, 'C']]\n",
      "[[3, 'C']]\n",
      "[0, 1]\n",
      "WORKERS [[3, 'C'], None]\n",
      "WORKER START [[3, 'C'], None]\n",
      "WORKERS END [[2, 'C'], None]\n",
      "[[3, 'C']]\n",
      "[[3, 'C']]\n",
      "[1]\n",
      "WORKERS [[2, 'C'], [3, 'C']]\n",
      "WORKER START [[2, 'C'], [3, 'C']]\n",
      "WORKERS END [[1, 'C'], [2, 'C']]\n",
      "[[3, 'C']]\n",
      "[[3, 'C']]\n",
      "WORKERS [[1, 'C'], [2, 'C']]\n",
      "WORKER START [[1, 'C'], [2, 'C']]\n",
      "WORKERS END [None, [1, 'C']]\n",
      "[[3, 'C']]\n",
      "[[3, 'C']]\n",
      "[0]\n",
      "WORKERS [[3, 'C'], [1, 'C']]\n",
      "WORKER START [[3, 'C'], [1, 'C']]\n",
      "WORKERS END [[2, 'C'], None]\n",
      "[[3, 'C']]\n",
      "[[3, 'C']]\n",
      "[1]\n",
      "WORKERS [[2, 'C'], [3, 'C']]\n",
      "WORKER START [[2, 'C'], [3, 'C']]\n",
      "WORKERS END [[1, 'C'], [2, 'C']]\n",
      "[[3, 'C']]\n",
      "[[3, 'C']]\n",
      "WORKERS [[1, 'C'], [2, 'C']]\n",
      "WORKER START [[1, 'C'], [2, 'C']]\n",
      "WORKERS END [None, [1, 'C']]\n",
      "[[3, 'C']]\n",
      "[[3, 'C']]\n",
      "[0]\n",
      "WORKERS [[3, 'C'], [1, 'C']]\n",
      "WORKER START [[3, 'C'], [1, 'C']]\n",
      "WORKERS END [[2, 'C'], None]\n",
      "[[3, 'C']]\n",
      "[[3, 'C']]\n",
      "[1]\n",
      "WORKERS [[2, 'C'], [3, 'C']]\n",
      "WORKER START [[2, 'C'], [3, 'C']]\n",
      "WORKERS END [[1, 'C'], [2, 'C']]\n",
      "[[3, 'C']]\n",
      "[[3, 'C']]\n",
      "WORKERS [[1, 'C'], [2, 'C']]\n",
      "WORKER START [[1, 'C'], [2, 'C']]\n",
      "WORKERS END [None, [1, 'C']]\n",
      "[[3, 'C']]\n",
      "[[3, 'C']]\n",
      "[0]\n",
      "WORKERS [[3, 'C'], [1, 'C']]\n",
      "WORKER START [[3, 'C'], [1, 'C']]\n",
      "WORKERS END [[2, 'C'], None]\n",
      "[[3, 'C']]\n",
      "[[3, 'C']]\n",
      "[1]\n",
      "WORKERS [[2, 'C'], [3, 'C']]\n"
     ]
    }
   ],
   "source": [
    "current_pool = list(all_start - all_end)\n",
    "my_path = \"\"\n",
    "\n",
    "seconds = 0\n",
    "workers = [None] * num_workers\n",
    "while all_nodes:\n",
    "    print(\"WORKER START\", workers)\n",
    "    for worker_idx, worker in enumerate(workers):\n",
    "        if not worker:\n",
    "            continue\n",
    "        time = worker[0]\n",
    "        if time == 1:\n",
    "            workers[worker_idx] = None\n",
    "        else:\n",
    "            workers[worker_idx][0] -= 1\n",
    "\n",
    "    print(\"WORKERS END\", workers)\n",
    "    current = sorted(current_pool)\n",
    "\n",
    "    current_with_time = [[get_time(elem), elem] for elem in current]\n",
    "    print(current_with_time)\n",
    "\n",
    "    current_with_time.sort()\n",
    "\n",
    "    print(current_with_time)\n",
    "\n",
    "    if available := worker_available():\n",
    "        print(available)\n",
    "        for ava in available:\n",
    "            if len(current_with_time) > 0:\n",
    "                workers[ava] = current_with_time[0]\n",
    "                current_with_time = current_with_time[1:]\n",
    "    print(\"WORKERS\", workers)\n",
    "    \n",
    "  #  print(current)\n",
    "  #  my_path += current\n",
    "  #  all_nodes.remove(current)\n",
    "  #  current_pool.remove(current)\n",
    "  #  children = grid[current]\n",
    "  #  for child in children:\n",
    "  #      prereqs = prerequisite[child]\n",
    "  #      for elem in prereqs:\n",
    "  #          if elem not in my_path:\n",
    "  #              break\n",
    "  #      else:\n",
    "  #          current_pool.append(child)\n",
    "    \n",
    "    seconds += 1\n",
    "\n",
    "    if seconds > 10:\n",
    "        break\n",
    "   # break"
   ]
  },
  {
   "cell_type": "code",
   "execution_count": 28,
   "id": "e38d0054-0ff8-46e9-ae52-0328fdbca027",
   "metadata": {},
   "outputs": [
    {
     "data": {
      "text/plain": [
       "[None, None]"
      ]
     },
     "execution_count": 28,
     "metadata": {},
     "output_type": "execute_result"
    }
   ],
   "source": [
    "workers"
   ]
  }
 ],
 "metadata": {
  "kernelspec": {
   "display_name": "Python 3 (ipykernel)",
   "language": "python",
   "name": "python3"
  },
  "language_info": {
   "codemirror_mode": {
    "name": "ipython",
    "version": 3
   },
   "file_extension": ".py",
   "mimetype": "text/x-python",
   "name": "python",
   "nbconvert_exporter": "python",
   "pygments_lexer": "ipython3",
   "version": "3.9.20"
  }
 },
 "nbformat": 4,
 "nbformat_minor": 5
}
