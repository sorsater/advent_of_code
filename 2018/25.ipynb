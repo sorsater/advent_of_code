{
 "cells": [
  {
   "cell_type": "code",
   "execution_count": 1,
   "id": "0d20af82-522f-4564-93cd-b1c6a7dd436a",
   "metadata": {},
   "outputs": [],
   "source": [
    "from dataclasses import dataclass\n",
    "from functools import cache"
   ]
  },
  {
   "cell_type": "code",
   "execution_count": 2,
   "id": "96babcb1-7b3b-4cbe-9519-e1f9d4c1ccdb",
   "metadata": {},
   "outputs": [],
   "source": [
    "data = open(\"input/25\").read().splitlines()"
   ]
  },
  {
   "cell_type": "code",
   "execution_count": 3,
   "id": "3930aba0-0bf6-455b-9be6-a3d045b87c23",
   "metadata": {},
   "outputs": [],
   "source": [
    "@dataclass(frozen=True)\n",
    "class Point:\n",
    "    a: int\n",
    "    b: int\n",
    "    c: int\n",
    "    d: int"
   ]
  },
  {
   "cell_type": "code",
   "execution_count": 4,
   "id": "f699fb22-0c84-415c-a9a3-6c74207d14a8",
   "metadata": {},
   "outputs": [],
   "source": [
    "points = [Point(*list(map(int, row.split(\",\")))) for row in data]"
   ]
  },
  {
   "cell_type": "code",
   "execution_count": 5,
   "id": "59b2d170-f039-4de0-9dbd-1347f4a2732e",
   "metadata": {},
   "outputs": [],
   "source": [
    "constellations = {}\n",
    "constellations[0] = [points[0]]"
   ]
  },
  {
   "cell_type": "code",
   "execution_count": 6,
   "id": "f7248c72-93da-4612-a7f4-d9bb3caf0d2f",
   "metadata": {},
   "outputs": [],
   "source": [
    "@cache\n",
    "def manhattan(p1, p2):\n",
    "     return abs(p1.a - p2.a) + abs(p1.b - p2.b) + abs(p1.c - p2.c) + abs(p1.d - p2.d)"
   ]
  },
  {
   "cell_type": "code",
   "execution_count": 7,
   "id": "8aaf2e9e-d1f8-4376-aea7-5db14673d5c9",
   "metadata": {},
   "outputs": [],
   "source": [
    "def maybe_add_point(p):\n",
    "    for key, values in constellations.items():\n",
    "        for v in values:\n",
    "            if manhattan(p, v) <= 3:\n",
    "                constellations[key].append(p)\n",
    "                return True\n",
    "    return False"
   ]
  },
  {
   "cell_type": "code",
   "execution_count": 8,
   "id": "a141b6ff-663c-4e71-b3b4-cebf5163891d",
   "metadata": {},
   "outputs": [],
   "source": [
    "c_idx = 1\n",
    "for p in points[1:]:\n",
    "    point_added = maybe_add_point(p)\n",
    "    if point_added:\n",
    "        continue\n",
    "    # New constellation\n",
    "    constellations[c_idx] = [p]\n",
    "    c_idx += 1"
   ]
  },
  {
   "cell_type": "code",
   "execution_count": 9,
   "id": "ccb6bd6a-b099-4814-b84c-5abbc6544b9d",
   "metadata": {},
   "outputs": [],
   "source": [
    "def try_merging(lowest_valid):\n",
    "    for k_1, values_1 in sorted(constellations.items()):\n",
    "        if k_1 < lowest_valid:\n",
    "            continue\n",
    "        for k_2, values_2 in sorted(constellations.items()):\n",
    "            if k_1 == k_2:\n",
    "                continue\n",
    "            for p1 in values_1:\n",
    "                for p2 in values_2:\n",
    "                    if manhattan(p1, p2) <= 3:\n",
    "                        constellations[k_1].extend(constellations[k_2])\n",
    "                        del constellations[k_2]\n",
    "                        return True, k_1\n",
    "    return False, None"
   ]
  },
  {
   "cell_type": "code",
   "execution_count": 10,
   "id": "127564b2-7c6f-47cc-b0ef-ccaf36635881",
   "metadata": {},
   "outputs": [],
   "source": [
    "# Reduce the constellations\n",
    "\n",
    "# Lowest valid to speed up the deletions (no need to iterate through already processed keys)\n",
    "lowest_valid = -1\n",
    "while True:\n",
    "    updated, k_val = try_merging(lowest_valid)\n",
    "    if not updated:\n",
    "        break\n",
    "    lowest_valid = k_val"
   ]
  },
  {
   "cell_type": "code",
   "execution_count": 11,
   "id": "abe5bfc4-c82e-42bb-a709-4f5bf64f731f",
   "metadata": {},
   "outputs": [
    {
     "name": "stdout",
     "output_type": "stream",
     "text": [
      "Answer #1: 381\n"
     ]
    }
   ],
   "source": [
    "print(f\"Answer #1: {len(constellations)}\")"
   ]
  }
 ],
 "metadata": {
  "kernelspec": {
   "display_name": "Python 3 (ipykernel)",
   "language": "python",
   "name": "python3"
  },
  "language_info": {
   "codemirror_mode": {
    "name": "ipython",
    "version": 3
   },
   "file_extension": ".py",
   "mimetype": "text/x-python",
   "name": "python",
   "nbconvert_exporter": "python",
   "pygments_lexer": "ipython3",
   "version": "3.9.6"
  }
 },
 "nbformat": 4,
 "nbformat_minor": 5
}
