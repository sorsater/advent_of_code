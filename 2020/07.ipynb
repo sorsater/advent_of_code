{
 "cells": [
  {
   "cell_type": "code",
   "execution_count": 1,
   "id": "a96929e9-e2f3-449e-8dd6-31a51b9857f4",
   "metadata": {},
   "outputs": [],
   "source": [
    "from dataclasses import dataclass"
   ]
  },
  {
   "cell_type": "code",
   "execution_count": 2,
   "id": "b9303d1a-6e48-4716-9e32-e14a1ef85ba6",
   "metadata": {},
   "outputs": [],
   "source": [
    "data = open(\"input/07\").read().splitlines()"
   ]
  },
  {
   "cell_type": "code",
   "execution_count": 3,
   "id": "5f9aa85a-a039-426d-a460-16167917431f",
   "metadata": {},
   "outputs": [],
   "source": [
    "@dataclass\n",
    "class Bag:\n",
    "    name: str\n",
    "    contains: list"
   ]
  },
  {
   "cell_type": "code",
   "execution_count": 4,
   "id": "1186be9d-dca3-4768-be37-0d1dda2e029e",
   "metadata": {},
   "outputs": [],
   "source": [
    "bags = []\n",
    "for line in data:\n",
    "    bag_name, content = line.split(\"bags contain \")\n",
    "    bag_name = bag_name.strip()\n",
    "    if \"no other bags\" in content:\n",
    "        bags.append(Bag(bag_name, []))\n",
    "        continue\n",
    "    parts = content.split(\",\")\n",
    "    contains = []\n",
    "    for part in parts:\n",
    "        part = part.split(\"bag\")[0].strip()\n",
    "        count, name = part.split(\" \", 1)\n",
    "        count = int(count)\n",
    "        contains.append([count, name])\n",
    "    bags.append(Bag(bag_name, contains))"
   ]
  },
  {
   "cell_type": "code",
   "execution_count": 5,
   "id": "5dde0e42-6ed1-4c37-89bc-8a8515e6e74e",
   "metadata": {},
   "outputs": [],
   "source": [
    "def search_bags():\n",
    "    target = \"shiny gold\"\n",
    "    queue = [target]\n",
    "    found = {target}\n",
    "    while queue:\n",
    "        current = queue.pop(0)\n",
    "        for bag in bags:\n",
    "            for _, bag_name in bag.contains:\n",
    "                if bag_name not in found:\n",
    "                    continue\n",
    "                if bag.name not in found:\n",
    "                    queue.append(bag.name)\n",
    "                found.add(bag.name)\n",
    "\n",
    "    return len(found) - 1"
   ]
  },
  {
   "cell_type": "code",
   "execution_count": 6,
   "id": "9cad2df9-671a-4834-800c-4303f09b2a51",
   "metadata": {},
   "outputs": [
    {
     "name": "stdout",
     "output_type": "stream",
     "text": [
      "Answer #1: 287\n"
     ]
    }
   ],
   "source": [
    "print(f\"Answer #1: {search_bags()}\")"
   ]
  },
  {
   "cell_type": "markdown",
   "id": "d08af0a2-bf8d-45e5-a948-30fc45b29794",
   "metadata": {},
   "source": [
    "# Part 2"
   ]
  },
  {
   "cell_type": "code",
   "execution_count": 7,
   "id": "4d170820-9545-49f4-99f3-1c6ee62db3ea",
   "metadata": {},
   "outputs": [],
   "source": [
    "def search_bags_part2():\n",
    "    target = \"shiny gold\"\n",
    "    queue = [(target, 1)]\n",
    "    total_bags = 0\n",
    "    while queue:\n",
    "        current_bag, current_count = queue.pop(0)\n",
    "        for bag in bags:\n",
    "            if bag.name != current_bag:\n",
    "                continue\n",
    "            for count, bag_name in bag.contains:\n",
    "                num_bags = current_count * count\n",
    "                total_bags += num_bags\n",
    "                queue.append((bag_name, num_bags))\n",
    "\n",
    "    return total_bags"
   ]
  },
  {
   "cell_type": "code",
   "execution_count": 8,
   "id": "1692eeda-7438-4044-9bd3-5fe8e13ec84b",
   "metadata": {},
   "outputs": [
    {
     "name": "stdout",
     "output_type": "stream",
     "text": [
      "Answer #2: 48160\n"
     ]
    }
   ],
   "source": [
    "print(f\"Answer #2: {search_bags_part2()}\")"
   ]
  }
 ],
 "metadata": {
  "kernelspec": {
   "display_name": "Python 3 (ipykernel)",
   "language": "python",
   "name": "python3"
  },
  "language_info": {
   "codemirror_mode": {
    "name": "ipython",
    "version": 3
   },
   "file_extension": ".py",
   "mimetype": "text/x-python",
   "name": "python",
   "nbconvert_exporter": "python",
   "pygments_lexer": "ipython3",
   "version": "3.9.6"
  }
 },
 "nbformat": 4,
 "nbformat_minor": 5
}
