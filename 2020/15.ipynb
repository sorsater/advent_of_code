{
 "cells": [
  {
   "cell_type": "code",
   "execution_count": 1,
   "metadata": {},
   "outputs": [],
   "source": [
    "from collections import defaultdict\n",
    "from dataclasses import dataclass\n",
    "from tqdm.notebook import tqdm"
   ]
  },
  {
   "cell_type": "code",
   "execution_count": 2,
   "metadata": {},
   "outputs": [],
   "source": [
    "data = open(\"input/15\").read()\n",
    "nums = list(map(int, data.split(\",\")))"
   ]
  },
  {
   "cell_type": "code",
   "execution_count": 3,
   "metadata": {},
   "outputs": [],
   "source": [
    "@dataclass\n",
    "class Spoken:\n",
    "    first: int = None\n",
    "    second: int = None"
   ]
  },
  {
   "cell_type": "code",
   "execution_count": 4,
   "metadata": {},
   "outputs": [],
   "source": [
    "def run(num_iter):\n",
    "    spoken = defaultdict(list)\n",
    "    for idx, num in enumerate(nums):\n",
    "        spoken[num] = Spoken(first=idx + 1)\n",
    "    \n",
    "    last_spoken = nums[-1]\n",
    "    \n",
    "    for i in tqdm(range(len(nums) + 1, num_iter + 1)):\n",
    "        if spoken[last_spoken].second is None:\n",
    "            last_spoken = 0\n",
    "        else:\n",
    "            elem = spoken[last_spoken]\n",
    "            last_spoken = elem.second - elem.first\n",
    "    \n",
    "        if last_spoken not in spoken:\n",
    "            spoken[last_spoken] = Spoken(first=i)\n",
    "        else:\n",
    "            if spoken[last_spoken].second is None:\n",
    "                spoken[last_spoken].second = i\n",
    "            else:\n",
    "                spoken[last_spoken].first = spoken[last_spoken].second\n",
    "                spoken[last_spoken].second = i        \n",
    "    \n",
    "    return last_spoken\n",
    "    \n",
    "        "
   ]
  },
  {
   "cell_type": "code",
   "execution_count": 5,
   "metadata": {},
   "outputs": [
    {
     "data": {
      "application/vnd.jupyter.widget-view+json": {
       "model_id": "d804914964ae43b0a75e2fd0852963dc",
       "version_major": 2,
       "version_minor": 0
      },
      "text/plain": [
       "  0%|          | 0/2014 [00:00<?, ?it/s]"
      ]
     },
     "metadata": {},
     "output_type": "display_data"
    },
    {
     "name": "stdout",
     "output_type": "stream",
     "text": [
      "Answer #1: 371\n"
     ]
    }
   ],
   "source": [
    "part1 = run(2020)\n",
    "print(f\"Answer #1: {part1}\")"
   ]
  },
  {
   "cell_type": "code",
   "execution_count": 6,
   "metadata": {},
   "outputs": [
    {
     "data": {
      "application/vnd.jupyter.widget-view+json": {
       "model_id": "1eb54556f752400296d4a49a24e59e36",
       "version_major": 2,
       "version_minor": 0
      },
      "text/plain": [
       "  0%|          | 0/29999994 [00:00<?, ?it/s]"
      ]
     },
     "metadata": {},
     "output_type": "display_data"
    },
    {
     "name": "stdout",
     "output_type": "stream",
     "text": [
      "Answer #2: 352\n"
     ]
    }
   ],
   "source": [
    "part2 = run(30_000_000)\n",
    "print(f\"Answer #2: {part2}\")"
   ]
  }
 ],
 "metadata": {
  "kernelspec": {
   "display_name": "Python 3 (ipykernel)",
   "language": "python",
   "name": "python3"
  },
  "language_info": {
   "codemirror_mode": {
    "name": "ipython",
    "version": 3
   },
   "file_extension": ".py",
   "mimetype": "text/x-python",
   "name": "python",
   "nbconvert_exporter": "python",
   "pygments_lexer": "ipython3",
   "version": "3.9.6"
  },
  "widgets": {
   "application/vnd.jupyter.widget-state+json": {
    "state": {},
    "version_major": 2,
    "version_minor": 0
   }
  }
 },
 "nbformat": 4,
 "nbformat_minor": 4
}
