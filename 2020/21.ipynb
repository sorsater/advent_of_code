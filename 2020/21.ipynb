{
 "cells": [
  {
   "cell_type": "code",
   "execution_count": 1,
   "id": "d8ee3327-ee53-418e-90a3-8dbeabe93ec2",
   "metadata": {},
   "outputs": [],
   "source": [
    "from collections import defaultdict"
   ]
  },
  {
   "cell_type": "code",
   "execution_count": 2,
   "id": "b9dbeadb-0b29-4371-ba77-3ac1f315f98e",
   "metadata": {},
   "outputs": [],
   "source": [
    "data = open(\"input/21\").read().splitlines()"
   ]
  },
  {
   "cell_type": "code",
   "execution_count": 3,
   "id": "155bc3f9-df8a-4e90-9b76-6bb3b33a141b",
   "metadata": {},
   "outputs": [],
   "source": [
    "allergen_count = defaultdict(int)\n",
    "ingredients_count = defaultdict(dict)\n",
    "all_ingredients = defaultdict(int)"
   ]
  },
  {
   "cell_type": "code",
   "execution_count": 4,
   "id": "6718daac-e38f-4c69-9017-987b1a1a4847",
   "metadata": {},
   "outputs": [],
   "source": [
    "for line in data:\n",
    "    ingredients, allergens = line.split(\" (contains \")\n",
    "    ingredients = ingredients.split(\" \")\n",
    "    allergens = allergens[:-1].split(\", \")\n",
    "\n",
    "    for i in ingredients:\n",
    "        all_ingredients[i] += 1\n",
    "        for a in allergens:\n",
    "            if a not in ingredients_count[i]:\n",
    "                ingredients_count[i][a] = 0\n",
    "            ingredients_count[i][a] += 1\n",
    "    for a in allergens:\n",
    "        allergen_count[a] += 1"
   ]
  },
  {
   "cell_type": "code",
   "execution_count": 5,
   "id": "11822436-51d9-4f46-a113-733c75fbb3b0",
   "metadata": {},
   "outputs": [],
   "source": [
    "unsafe_ingredients = set()\n",
    "for_part2 = []\n",
    "for ing, allergens in ingredients_count.items():\n",
    "    for all, count in allergens.items():\n",
    "        if count == allergen_count[all]:\n",
    "            unsafe_ingredients.add(ing)\n",
    "            for_part2.append([ing, all])"
   ]
  },
  {
   "cell_type": "code",
   "execution_count": 6,
   "id": "3f24df18-234c-4bcb-889b-8cfae20964d0",
   "metadata": {},
   "outputs": [],
   "source": [
    "part1 = 0\n",
    "for ing, count in all_ingredients.items():\n",
    "    if ing not in unsafe_ingredients:\n",
    "        part1 += count"
   ]
  },
  {
   "cell_type": "code",
   "execution_count": 7,
   "id": "ad93f79d-8d4d-42f1-835c-a6eb795b9140",
   "metadata": {},
   "outputs": [
    {
     "name": "stdout",
     "output_type": "stream",
     "text": [
      "Answer #1: 1815\n"
     ]
    }
   ],
   "source": [
    "print(f\"Answer #1: {part1}\")"
   ]
  },
  {
   "cell_type": "markdown",
   "id": "13faa830-c029-4aed-b7c3-85fa1aee3a84",
   "metadata": {},
   "source": [
    "# Part 2"
   ]
  },
  {
   "cell_type": "code",
   "execution_count": 8,
   "id": "4bc54758-9d29-45df-a5e4-72f8ab319843",
   "metadata": {},
   "outputs": [],
   "source": [
    "dict_part2 = defaultdict(list)\n",
    "for ing, all in for_part2:\n",
    "    dict_part2[ing].append(all)"
   ]
  },
  {
   "cell_type": "code",
   "execution_count": 9,
   "id": "dfcca862-a4b3-4a65-b9bd-70a047df72d9",
   "metadata": {},
   "outputs": [],
   "source": [
    "to_remove = set()\n",
    "while len(allergen_count) > len(to_remove):\n",
    "    for ing, all in dict_part2.items():\n",
    "        if len(all) == 1:\n",
    "            to_remove.add(all[0])\n",
    "            \n",
    "    for ing, all in dict_part2.items():\n",
    "        if len(all) == 1:\n",
    "            continue\n",
    "        for a in to_remove:\n",
    "            if a in all:\n",
    "                all.remove(a)"
   ]
  },
  {
   "cell_type": "code",
   "execution_count": 10,
   "id": "4b962362-5ccc-4998-8eb1-c91fede803df",
   "metadata": {},
   "outputs": [],
   "source": [
    "restructured = []\n",
    "for ing, all in dict_part2.items():\n",
    "    restructured.append([all[0], ing])\n",
    "restructured.sort()"
   ]
  },
  {
   "cell_type": "code",
   "execution_count": 11,
   "id": "53548dae-ceb8-4349-b763-25d43b6d03ff",
   "metadata": {},
   "outputs": [
    {
     "name": "stdout",
     "output_type": "stream",
     "text": [
      "Answer #2: kllgt,jrnqx,ljvx,zxstb,gnbxs,mhtc,hfdxb,hbfnkq\n"
     ]
    }
   ],
   "source": [
    "part2 = [b for a, b in restructured]\n",
    "print(f\"Answer #2: {','.join(part2)}\")"
   ]
  }
 ],
 "metadata": {
  "kernelspec": {
   "display_name": "Python 3 (ipykernel)",
   "language": "python",
   "name": "python3"
  },
  "language_info": {
   "codemirror_mode": {
    "name": "ipython",
    "version": 3
   },
   "file_extension": ".py",
   "mimetype": "text/x-python",
   "name": "python",
   "nbconvert_exporter": "python",
   "pygments_lexer": "ipython3",
   "version": "3.9.6"
  }
 },
 "nbformat": 4,
 "nbformat_minor": 5
}
