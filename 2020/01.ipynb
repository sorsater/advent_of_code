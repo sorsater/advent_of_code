{
 "cells": [
  {
   "cell_type": "code",
   "execution_count": 1,
   "id": "6a915d35-026f-4f82-88e9-7a3cc810c74a",
   "metadata": {},
   "outputs": [],
   "source": [
    "data = open(\"input/01\").read().splitlines()"
   ]
  },
  {
   "cell_type": "code",
   "execution_count": 2,
   "id": "4d96a119-c32c-481f-8414-bb1f6eb0082b",
   "metadata": {},
   "outputs": [],
   "source": [
    "nums = list(map(int, data))"
   ]
  },
  {
   "cell_type": "code",
   "execution_count": 3,
   "id": "37f7cfc8-26c3-4cac-88ed-0d94a8bff3f3",
   "metadata": {},
   "outputs": [],
   "source": [
    "def part1():\n",
    "    for a in nums:\n",
    "        for b in nums:\n",
    "            if a + b == 2020:\n",
    "                return a * b"
   ]
  },
  {
   "cell_type": "code",
   "execution_count": 4,
   "id": "73c92d83-c159-445d-b2cc-1f3ddf9f78cb",
   "metadata": {},
   "outputs": [
    {
     "name": "stdout",
     "output_type": "stream",
     "text": [
      "Answer #1: 913824\n"
     ]
    }
   ],
   "source": [
    "print(f\"Answer #1: {part1()}\")"
   ]
  },
  {
   "cell_type": "code",
   "execution_count": 5,
   "id": "9419a24d-e3f9-481d-8c02-f9f7eefb4413",
   "metadata": {},
   "outputs": [],
   "source": [
    "def part2():\n",
    "    for a in nums:\n",
    "        for b in nums:\n",
    "            for c in nums:\n",
    "                if a + b + c == 2020:\n",
    "                    return a * b * c"
   ]
  },
  {
   "cell_type": "code",
   "execution_count": 6,
   "id": "18f36a35-c3bd-4bd8-be51-2868acb5fd24",
   "metadata": {},
   "outputs": [
    {
     "name": "stdout",
     "output_type": "stream",
     "text": [
      "Answer #2: 240889536\n"
     ]
    }
   ],
   "source": [
    "print(f\"Answer #2: {part2()}\")"
   ]
  }
 ],
 "metadata": {
  "kernelspec": {
   "display_name": "Python 3 (ipykernel)",
   "language": "python",
   "name": "python3"
  },
  "language_info": {
   "codemirror_mode": {
    "name": "ipython",
    "version": 3
   },
   "file_extension": ".py",
   "mimetype": "text/x-python",
   "name": "python",
   "nbconvert_exporter": "python",
   "pygments_lexer": "ipython3",
   "version": "3.9.6"
  }
 },
 "nbformat": 4,
 "nbformat_minor": 5
}
