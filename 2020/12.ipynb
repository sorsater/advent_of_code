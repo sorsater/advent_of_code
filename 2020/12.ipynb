{
 "cells": [
  {
   "cell_type": "code",
   "execution_count": 1,
   "id": "6584f6a5-83c2-4899-9936-b89aef661e5e",
   "metadata": {},
   "outputs": [],
   "source": [
    "data = open(\"input/12\").read().splitlines()"
   ]
  },
  {
   "cell_type": "code",
   "execution_count": 2,
   "id": "3c80e9ac-cf27-400f-954a-893dd5de0122",
   "metadata": {},
   "outputs": [],
   "source": [
    "left_turn = {\n",
    "    \"east\": \"north\",\n",
    "    \"north\": \"west\",\n",
    "    \"west\": \"south\",\n",
    "    \"south\": \"east\",\n",
    "}\n",
    "right_turn = {v: k for k, v in left_turn.items()}\n",
    "opposite = {\n",
    "    \"east\": \"west\",\n",
    "    \"west\": \"east\",\n",
    "    \"north\": \"south\",\n",
    "    \"south\": \"north\",\n",
    "}\n"
   ]
  },
  {
   "cell_type": "code",
   "execution_count": 3,
   "id": "375fa226-6095-438c-a932-b8b0a9bea4b9",
   "metadata": {},
   "outputs": [],
   "source": [
    "direction = \"east\"\n",
    "pos = [0, 0]\n",
    "for line in data:\n",
    "    command, number = line[0], line[1:]\n",
    "    number = int(number)\n",
    "    if command == \"N\":\n",
    "        pos[0] += number\n",
    "    elif command == \"S\":\n",
    "        pos[0] -= number\n",
    "    elif command == \"E\":\n",
    "        pos[1] += number\n",
    "    elif command == \"W\":\n",
    "        pos[1] -= number\n",
    "    elif command == \"L\":\n",
    "        for _ in range(number // 90):\n",
    "            direction = left_turn[direction]\n",
    "    elif command == \"R\":\n",
    "        for _ in range(number // 90):\n",
    "            direction = right_turn[direction]\n",
    "    elif command == \"F\":\n",
    "        if direction == \"east\":\n",
    "            pos[1] += number\n",
    "        elif direction == \"west\":\n",
    "            pos[1] -= number\n",
    "        elif direction == \"north\":\n",
    "            pos[0] += number\n",
    "        elif direction == \"south\":\n",
    "            pos[0] -= number"
   ]
  },
  {
   "cell_type": "code",
   "execution_count": 4,
   "id": "ec97689e-e1e7-47c2-8a47-069aa63d1d6b",
   "metadata": {},
   "outputs": [
    {
     "name": "stdout",
     "output_type": "stream",
     "text": [
      "Answer #1: 1148\n"
     ]
    }
   ],
   "source": [
    "print(f\"Answer #1: {abs(pos[0]) + abs(pos[1])}\")"
   ]
  },
  {
   "cell_type": "markdown",
   "id": "2537dbe9-f6f2-4fa4-b95f-3931a310bf58",
   "metadata": {},
   "source": [
    "# Part 2"
   ]
  },
  {
   "cell_type": "code",
   "execution_count": 5,
   "id": "89d4ff1b-55e6-49de-bcd0-fa8ba0dd04ee",
   "metadata": {},
   "outputs": [],
   "source": [
    "pos = [0, 0]\n",
    "waypoint = [1, 10] # North-east\n",
    "for line in data:\n",
    "    command, number = line[0], line[1:]\n",
    "    number = int(number)\n",
    "    if command == \"N\":\n",
    "        waypoint[0] += number\n",
    "    elif command == \"S\":\n",
    "        waypoint[0] -= number\n",
    "    elif command == \"E\":\n",
    "        waypoint[1] += number\n",
    "    elif command == \"W\":\n",
    "        waypoint[1] -= number\n",
    "    elif command == \"L\":\n",
    "        for _ in range(number // 90):\n",
    "            waypoint = [waypoint[1], -waypoint[0]] \n",
    "    elif command == \"R\":\n",
    "        for _ in range(number // 90):\n",
    "            waypoint = [-waypoint[1], waypoint[0]]\n",
    "    elif command == \"F\":\n",
    "        pos[0] += waypoint[0] * number\n",
    "        pos[1] += waypoint[1] * number"
   ]
  },
  {
   "cell_type": "code",
   "execution_count": 6,
   "id": "d07c758d-c9ca-4394-8c25-e3b3dd184a3a",
   "metadata": {},
   "outputs": [
    {
     "name": "stdout",
     "output_type": "stream",
     "text": [
      "Answer #2: 52203\n"
     ]
    }
   ],
   "source": [
    "print(f\"Answer #2: {abs(pos[0]) + abs(pos[1])}\")"
   ]
  }
 ],
 "metadata": {
  "kernelspec": {
   "display_name": "Python 3 (ipykernel)",
   "language": "python",
   "name": "python3"
  },
  "language_info": {
   "codemirror_mode": {
    "name": "ipython",
    "version": 3
   },
   "file_extension": ".py",
   "mimetype": "text/x-python",
   "name": "python",
   "nbconvert_exporter": "python",
   "pygments_lexer": "ipython3",
   "version": "3.9.6"
  }
 },
 "nbformat": 4,
 "nbformat_minor": 5
}
