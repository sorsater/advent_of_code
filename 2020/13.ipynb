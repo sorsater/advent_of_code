{
 "cells": [
  {
   "cell_type": "code",
   "execution_count": 1,
   "id": "5cc1a1b2-fdbd-4054-a2a9-6a875deacfae",
   "metadata": {},
   "outputs": [],
   "source": [
    "data = open(\"input/13\").read().splitlines()"
   ]
  },
  {
   "cell_type": "code",
   "execution_count": 2,
   "id": "1425a582-6271-492d-8a0e-05def3d6674a",
   "metadata": {},
   "outputs": [],
   "source": [
    "goal_num = int(data[0])\n",
    "bus_numbers = []\n",
    "for num in data[1].split(\",\"):\n",
    "    if num == \"x\":\n",
    "        continue\n",
    "    bus_numbers.append(int(num))"
   ]
  },
  {
   "cell_type": "code",
   "execution_count": 3,
   "id": "b81eea95-ac01-45cc-a923-8e7f6a705fea",
   "metadata": {},
   "outputs": [],
   "source": [
    "closest = float(\"inf\")\n",
    "part1 = None\n",
    "for bus in bus_numbers:\n",
    "    next_after_goal = goal_num // bus * bus + bus\n",
    "    if next_after_goal < closest:\n",
    "        closest = next_after_goal\n",
    "        part1 = (closest - goal_num) * bus"
   ]
  },
  {
   "cell_type": "code",
   "execution_count": 4,
   "id": "5be9d83e-c73a-48a8-9550-b59b52970978",
   "metadata": {},
   "outputs": [
    {
     "name": "stdout",
     "output_type": "stream",
     "text": [
      "Answer #1: 4135\n"
     ]
    }
   ],
   "source": [
    "print(f\"Answer #1: {part1}\")"
   ]
  },
  {
   "cell_type": "markdown",
   "id": "1f60d9b4-9ea4-4c83-a30c-e27a9897b2ca",
   "metadata": {},
   "source": [
    "# Part 2\n",
    "Needed some help understanding this is the Chinese Remainder Theorem and got some help on the way"
   ]
  },
  {
   "cell_type": "code",
   "execution_count": 5,
   "id": "c67137d8-753c-42ef-996f-4f580bd6a38d",
   "metadata": {},
   "outputs": [],
   "source": [
    "departures = []\n",
    "counter = -1\n",
    "for num in data[1].split(\",\"):\n",
    "    counter += 1\n",
    "    if num == \"x\":\n",
    "        continue\n",
    "    departures.append([int(num), counter])"
   ]
  },
  {
   "cell_type": "code",
   "execution_count": 6,
   "id": "726b18a5-ea42-4041-8aa9-694d9585e3cc",
   "metadata": {},
   "outputs": [],
   "source": [
    "jump = departures[0][0]\n",
    "timestamp = 0\n",
    "for bus_id, offset in departures[1:]:\n",
    "    # Increase the timestamp by jump until we find a valid time\n",
    "    while (timestamp + offset) % bus_id != 0:\n",
    "        timestamp += jump\n",
    "    # When that is reached, increase jump with that number\n",
    "    jump *= bus_id\n"
   ]
  },
  {
   "cell_type": "code",
   "execution_count": 7,
   "id": "e34beb4e-4f9f-46c3-b60e-893aced1f980",
   "metadata": {},
   "outputs": [
    {
     "name": "stdout",
     "output_type": "stream",
     "text": [
      "Answer #2: 640856202464541\n"
     ]
    }
   ],
   "source": [
    "print(f\"Answer #2: {timestamp}\")"
   ]
  }
 ],
 "metadata": {
  "kernelspec": {
   "display_name": "Python 3 (ipykernel)",
   "language": "python",
   "name": "python3"
  },
  "language_info": {
   "codemirror_mode": {
    "name": "ipython",
    "version": 3
   },
   "file_extension": ".py",
   "mimetype": "text/x-python",
   "name": "python",
   "nbconvert_exporter": "python",
   "pygments_lexer": "ipython3",
   "version": "3.9.6"
  }
 },
 "nbformat": 4,
 "nbformat_minor": 5
}
