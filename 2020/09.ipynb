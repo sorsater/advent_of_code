{
 "cells": [
  {
   "cell_type": "code",
   "execution_count": 1,
   "id": "75758fa6-c48c-4bba-bc82-d879904ca011",
   "metadata": {},
   "outputs": [],
   "source": [
    "from itertools import combinations"
   ]
  },
  {
   "cell_type": "code",
   "execution_count": 2,
   "id": "5e5eb8ba-fcbe-4f7d-80f7-2aca9cf1ae25",
   "metadata": {},
   "outputs": [],
   "source": [
    "data = open(\"input/09\").read().splitlines()\n",
    "data = list(map(int, data))"
   ]
  },
  {
   "cell_type": "code",
   "execution_count": 3,
   "id": "8672433a-13fc-432b-aaff-7f7323aed846",
   "metadata": {},
   "outputs": [],
   "source": [
    "preamble = 25"
   ]
  },
  {
   "cell_type": "code",
   "execution_count": 4,
   "id": "ad10e28a-ebc7-40ef-a9d2-f14a2f3a7651",
   "metadata": {},
   "outputs": [],
   "source": [
    "for idx, target in enumerate(data):\n",
    "    last_nums = data[idx-preamble:idx]\n",
    "    if len(last_nums) != preamble:\n",
    "        continue\n",
    "    for a, b in combinations(last_nums, 2):\n",
    "        if a + b == target:\n",
    "            break\n",
    "    else:\n",
    "        part1 = target\n",
    "        break"
   ]
  },
  {
   "cell_type": "code",
   "execution_count": 5,
   "id": "ea5e19b1-a861-4019-a45b-c2421b258f0c",
   "metadata": {},
   "outputs": [
    {
     "name": "stdout",
     "output_type": "stream",
     "text": [
      "Answer #1: 133015568\n"
     ]
    }
   ],
   "source": [
    "print(f\"Answer #1: {part1}\")"
   ]
  },
  {
   "cell_type": "markdown",
   "id": "d1007fa3-dce2-407b-8943-8dcb014c3c9b",
   "metadata": {},
   "source": [
    "# Part 2"
   ]
  },
  {
   "cell_type": "code",
   "execution_count": 6,
   "id": "c0913070-8aed-4f73-af3f-0bc7fb6072e6",
   "metadata": {},
   "outputs": [],
   "source": [
    "def part2():\n",
    "    for idx1, num1 in enumerate(data):\n",
    "        for idx2, num2 in enumerate(data):\n",
    "            slice = data[idx1:idx2]\n",
    "            if sum(slice) == part1:\n",
    "                return min(slice) + max(slice)\n",
    "            if sum(slice) > part1:\n",
    "                break"
   ]
  },
  {
   "cell_type": "code",
   "execution_count": 7,
   "id": "b3977aa5-25a5-4629-ad66-aa209d03ff7e",
   "metadata": {},
   "outputs": [
    {
     "name": "stdout",
     "output_type": "stream",
     "text": [
      "Answer #2: 16107959\n"
     ]
    }
   ],
   "source": [
    "print(f\"Answer #2: {part2()}\")"
   ]
  }
 ],
 "metadata": {
  "kernelspec": {
   "display_name": "Python 3 (ipykernel)",
   "language": "python",
   "name": "python3"
  },
  "language_info": {
   "codemirror_mode": {
    "name": "ipython",
    "version": 3
   },
   "file_extension": ".py",
   "mimetype": "text/x-python",
   "name": "python",
   "nbconvert_exporter": "python",
   "pygments_lexer": "ipython3",
   "version": "3.9.6"
  }
 },
 "nbformat": 4,
 "nbformat_minor": 5
}
