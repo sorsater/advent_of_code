{
 "cells": [
  {
   "cell_type": "code",
   "execution_count": 1,
   "id": "165778e2-d0e6-4c66-9a8a-872561862227",
   "metadata": {},
   "outputs": [],
   "source": [
    "from functools import reduce"
   ]
  },
  {
   "cell_type": "code",
   "execution_count": 2,
   "id": "ba991844-3866-46c3-82da-1c9b3f590c01",
   "metadata": {},
   "outputs": [],
   "source": [
    "data = open(\"input/03\").read().splitlines()"
   ]
  },
  {
   "cell_type": "code",
   "execution_count": 3,
   "id": "b65150aa-e97d-428a-88f9-c54553d529b8",
   "metadata": {},
   "outputs": [],
   "source": [
    "grid = {}\n",
    "grid_width = len(data[0])\n",
    "for r, row in enumerate(data):\n",
    "    for c, elem in enumerate(row):\n",
    "        grid[(r, c)] = elem"
   ]
  },
  {
   "cell_type": "code",
   "execution_count": 4,
   "id": "933f4dbd-69d2-4c8f-bb98-dc6e39521126",
   "metadata": {},
   "outputs": [],
   "source": [
    "def check_slope(x, y):\n",
    "    pos = (0, 0)\n",
    "    res = 0\n",
    "    for i in range(len(data) - 1):\n",
    "        pos = (pos[0] + x, (pos[1] + y) % grid_width)\n",
    "        if pos not in grid:\n",
    "            break\n",
    "        res += grid[pos] == \"#\"\n",
    "    return res"
   ]
  },
  {
   "cell_type": "code",
   "execution_count": 5,
   "id": "67022b4c-b78d-4b85-b0cf-08400d324c5a",
   "metadata": {},
   "outputs": [
    {
     "name": "stdout",
     "output_type": "stream",
     "text": [
      "Answer #1: 176\n"
     ]
    }
   ],
   "source": [
    "print(f\"Answer #1: {check_slope(1, 3)}\")"
   ]
  },
  {
   "cell_type": "code",
   "execution_count": 6,
   "id": "6e0a33f3-71ab-4501-8693-117cc86a3d05",
   "metadata": {},
   "outputs": [],
   "source": [
    "slopes = [\n",
    "    [1, 1],\n",
    "    [1, 3],\n",
    "    [1, 5],\n",
    "    [1, 7],\n",
    "    [2, 1],\n",
    "]"
   ]
  },
  {
   "cell_type": "code",
   "execution_count": 7,
   "id": "edff7ca8-6212-4881-b22b-1b388ffb9a8e",
   "metadata": {},
   "outputs": [
    {
     "name": "stdout",
     "output_type": "stream",
     "text": [
      "Answer #2: 5872458240\n"
     ]
    }
   ],
   "source": [
    "parts = []\n",
    "for x, y in slopes:\n",
    "    parts.append(check_slope(x, y))\n",
    "part2 = reduce(lambda a, b: a * b, parts, 1)\n",
    "print(f\"Answer #2: {part2}\")"
   ]
  }
 ],
 "metadata": {
  "kernelspec": {
   "display_name": "Python 3 (ipykernel)",
   "language": "python",
   "name": "python3"
  },
  "language_info": {
   "codemirror_mode": {
    "name": "ipython",
    "version": 3
   },
   "file_extension": ".py",
   "mimetype": "text/x-python",
   "name": "python",
   "nbconvert_exporter": "python",
   "pygments_lexer": "ipython3",
   "version": "3.9.6"
  }
 },
 "nbformat": 4,
 "nbformat_minor": 5
}
