{
 "cells": [
  {
   "cell_type": "code",
   "execution_count": 1,
   "id": "a334dbad-782d-4f2c-9c82-a38b0bf2d16c",
   "metadata": {},
   "outputs": [],
   "source": [
    "data = open(\"input/02\").read().splitlines()"
   ]
  },
  {
   "cell_type": "code",
   "execution_count": 2,
   "id": "3b010d59-c650-454e-851a-5ab09b3e9421",
   "metadata": {},
   "outputs": [],
   "source": [
    "passwords = []\n",
    "for line in data:\n",
    "    first, password = line.split(\": \")\n",
    "    occurence, char = first.split(\" \")\n",
    "    lower_value, upper_value = list(map(int, occurence.split(\"-\")))\n",
    "    passwords.append([lower_value, upper_value, char, password])"
   ]
  },
  {
   "cell_type": "code",
   "execution_count": 3,
   "id": "fe1a54f2-f64a-47ea-a2d1-e9d752ffcb74",
   "metadata": {},
   "outputs": [],
   "source": [
    "def valid_password(entry):\n",
    "    lower_value, upper_value, char, password = entry\n",
    "    return lower_value <= password.count(char) <= upper_value"
   ]
  },
  {
   "cell_type": "code",
   "execution_count": 4,
   "id": "3d6a0957-9de0-424c-a196-c411100ec01d",
   "metadata": {},
   "outputs": [
    {
     "name": "stdout",
     "output_type": "stream",
     "text": [
      "Answer #1: 660\n"
     ]
    }
   ],
   "source": [
    "part1 = 0\n",
    "for e in passwords:\n",
    "    if valid_password(e):\n",
    "        part1 += 1\n",
    "print(f\"Answer #1: {part1}\")"
   ]
  },
  {
   "cell_type": "markdown",
   "id": "a8039e56-35c2-41bb-9852-d2c92e842bd9",
   "metadata": {},
   "source": [
    "# Part 2"
   ]
  },
  {
   "cell_type": "code",
   "execution_count": 5,
   "id": "058f1669-f6db-4060-8783-16ec85ce75d1",
   "metadata": {},
   "outputs": [],
   "source": [
    "def valid_password2(entry):\n",
    "    lower_value, upper_value, char, password = entry\n",
    "    first = password[lower_value - 1] == char\n",
    "    second = password[upper_value - 1] == char\n",
    "    return first != second"
   ]
  },
  {
   "cell_type": "code",
   "execution_count": 6,
   "id": "c915613e-b86e-4d90-8450-f64d7e559bf4",
   "metadata": {},
   "outputs": [
    {
     "name": "stdout",
     "output_type": "stream",
     "text": [
      "Answer #2: 530\n"
     ]
    }
   ],
   "source": [
    "part2 = 0\n",
    "for e in passwords:\n",
    "    if valid_password2(e):\n",
    "        part2 += 1\n",
    "print(f\"Answer #2: {part2}\")"
   ]
  }
 ],
 "metadata": {
  "kernelspec": {
   "display_name": "Python 3 (ipykernel)",
   "language": "python",
   "name": "python3"
  },
  "language_info": {
   "codemirror_mode": {
    "name": "ipython",
    "version": 3
   },
   "file_extension": ".py",
   "mimetype": "text/x-python",
   "name": "python",
   "nbconvert_exporter": "python",
   "pygments_lexer": "ipython3",
   "version": "3.9.6"
  }
 },
 "nbformat": 4,
 "nbformat_minor": 5
}
