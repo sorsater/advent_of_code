{
 "cells": [
  {
   "cell_type": "code",
   "execution_count": 1,
   "metadata": {},
   "outputs": [],
   "source": [
    "from functools import cache"
   ]
  },
  {
   "cell_type": "code",
   "execution_count": 2,
   "metadata": {},
   "outputs": [],
   "source": [
    "data = open(\"input/17\").read().splitlines()"
   ]
  },
  {
   "cell_type": "code",
   "execution_count": 3,
   "metadata": {},
   "outputs": [],
   "source": [
    "grid1 = {}\n",
    "grid2 = {}\n",
    "for r, row in enumerate(data):\n",
    "    for c, elem in enumerate(row):\n",
    "        grid1[(r, c, 0)] = elem == \"#\"\n",
    "        grid2[(r, c, 0, 0)] = elem == \"#\""
   ]
  },
  {
   "cell_type": "code",
   "execution_count": 4,
   "metadata": {},
   "outputs": [],
   "source": [
    "@cache\n",
    "def get_neighbours(part2=False):\n",
    "    neighbours = []\n",
    "    for x in [-1, 0, 1]:\n",
    "        for y in [-1, 0, 1]:\n",
    "            for z in [-1, 0, 1]:\n",
    "                if not part2:\n",
    "                    if x == y == z == 0:\n",
    "                        continue\n",
    "                    neighbours.append((x, y, z))\n",
    "                else:\n",
    "                    for w in [-1, 0, 1]:\n",
    "                        if x == y == z == w == 0:\n",
    "                            continue\n",
    "                        neighbours.append((x, y, z, w))\n",
    "    return neighbours"
   ]
  },
  {
   "cell_type": "code",
   "execution_count": 5,
   "metadata": {},
   "outputs": [],
   "source": [
    "def get_candidates(part2=False):\n",
    "    nodes = set()\n",
    "    grid = grid2 if part2 else grid1\n",
    "    \n",
    "    for key in grid.keys():\n",
    "        nodes.add(key)\n",
    "        for vals in get_neighbours(part2):\n",
    "            nodes.add(tuple([a + b for a, b in zip(key, vals)]))\n",
    "\n",
    "    return nodes"
   ]
  },
  {
   "cell_type": "code",
   "execution_count": 6,
   "metadata": {},
   "outputs": [],
   "source": [
    "def run(part2=False):\n",
    "    if part2:\n",
    "        grid = grid2\n",
    "    else:\n",
    "        grid = grid1\n",
    "    for _ in range(6):\n",
    "        cands = get_candidates(part2)\n",
    "        updates = []\n",
    "        for cand in cands:\n",
    "            active = 0\n",
    "            for neigh in get_neighbours(part2):\n",
    "                new_c = tuple([a + b for a, b in zip(cand, neigh)])\n",
    "                if grid.get(new_c, False):\n",
    "                    active += 1\n",
    "            if grid.get(cand, False):\n",
    "                if active not in [2, 3]:\n",
    "                    updates.append([cand, False])\n",
    "            else:\n",
    "                if active == 3:\n",
    "                    updates.append([cand, True])\n",
    "    \n",
    "        for pos, val in updates:\n",
    "            grid[pos] = val\n",
    "            \n",
    "    return sum(grid.values())"
   ]
  },
  {
   "cell_type": "code",
   "execution_count": 7,
   "metadata": {},
   "outputs": [
    {
     "name": "stdout",
     "output_type": "stream",
     "text": [
      "Answer #1: 388\n"
     ]
    }
   ],
   "source": [
    "print(f\"Answer #1: {run()}\")"
   ]
  },
  {
   "cell_type": "code",
   "execution_count": 8,
   "metadata": {},
   "outputs": [
    {
     "name": "stdout",
     "output_type": "stream",
     "text": [
      "Answer #2: 2280\n"
     ]
    }
   ],
   "source": [
    "print(f\"Answer #2: {run(True)}\")"
   ]
  }
 ],
 "metadata": {
  "kernelspec": {
   "display_name": "Python 3 (ipykernel)",
   "language": "python",
   "name": "python3"
  },
  "language_info": {
   "codemirror_mode": {
    "name": "ipython",
    "version": 3
   },
   "file_extension": ".py",
   "mimetype": "text/x-python",
   "name": "python",
   "nbconvert_exporter": "python",
   "pygments_lexer": "ipython3",
   "version": "3.9.6"
  },
  "widgets": {
   "application/vnd.jupyter.widget-state+json": {
    "state": {},
    "version_major": 2,
    "version_minor": 0
   }
  }
 },
 "nbformat": 4,
 "nbformat_minor": 4
}
