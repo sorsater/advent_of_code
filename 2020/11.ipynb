{
 "cells": [
  {
   "cell_type": "code",
   "execution_count": 1,
   "id": "6ed36d81-caf4-41a1-bb39-24e5681799ba",
   "metadata": {},
   "outputs": [],
   "source": [
    "from copy import deepcopy"
   ]
  },
  {
   "cell_type": "code",
   "execution_count": 2,
   "id": "513ba78e-8980-46e4-a824-35e18ead72c8",
   "metadata": {},
   "outputs": [],
   "source": [
    "data = open(\"input/11\").read().splitlines()"
   ]
  },
  {
   "cell_type": "code",
   "execution_count": 3,
   "id": "be521f49-4362-4de7-b308-439faf667f65",
   "metadata": {},
   "outputs": [],
   "source": [
    "grid = {}\n",
    "for r, row in enumerate(data):\n",
    "    for c, elem in enumerate(row):\n",
    "        grid[(r, c)] = elem\n",
    "grid_copy = deepcopy(grid)"
   ]
  },
  {
   "cell_type": "code",
   "execution_count": 4,
   "id": "f0aa43cb-22c3-4434-bbda-d500db92ff41",
   "metadata": {},
   "outputs": [],
   "source": [
    "directions = []\n",
    "for i in range(-1, 2):\n",
    "    for j in range(-1, 2):\n",
    "        if i == 0 and j == 0:\n",
    "            continue\n",
    "        directions.append([i, j])"
   ]
  },
  {
   "cell_type": "code",
   "execution_count": 5,
   "id": "a0401f2a-035b-4f06-a968-e6c113b4f925",
   "metadata": {},
   "outputs": [],
   "source": [
    "def iteration(part2=False):\n",
    "    updates = []\n",
    "    for pos, value in grid.items():\n",
    "        if value == \".\":\n",
    "            continue\n",
    "        occupied_count = 0\n",
    "        for d in directions:\n",
    "            i = 1\n",
    "            while True:\n",
    "                new_pos = (pos[0] + d[0] * i, pos[1] + d[1] * i)\n",
    "                if new_pos not in grid:\n",
    "                    break\n",
    "                if grid[new_pos] == \"#\":\n",
    "                    occupied_count += 1\n",
    "                    break\n",
    "                elif grid[new_pos] == \"L\":\n",
    "                    break\n",
    "                if not part2:\n",
    "                    break\n",
    "                i += 1\n",
    "        if value == \"L\":\n",
    "            if occupied_count == 0:\n",
    "                updates.append([pos, \"#\"])\n",
    "        if value == \"#\":\n",
    "            occupied_limit = 5 if part2 else 4\n",
    "            if occupied_count >= occupied_limit:\n",
    "                updates.append([pos, \"L\"])\n",
    "    if len(updates) == 0:\n",
    "        return False\n",
    "    for pos, new_val in updates:\n",
    "        grid[pos] = new_val\n",
    "    return True\n"
   ]
  },
  {
   "cell_type": "code",
   "execution_count": 6,
   "id": "d62df513-8f0b-4edc-a4f0-57e7b712d86a",
   "metadata": {},
   "outputs": [],
   "source": [
    "while True:\n",
    "    res = iteration()\n",
    "    if not res:\n",
    "        break"
   ]
  },
  {
   "cell_type": "code",
   "execution_count": 7,
   "id": "ced434d7-6fc2-42ad-9899-ec22bf926927",
   "metadata": {},
   "outputs": [
    {
     "name": "stdout",
     "output_type": "stream",
     "text": [
      "Answer #1: 2178\n"
     ]
    }
   ],
   "source": [
    "part1 = 0\n",
    "for val in grid.values():\n",
    "    if val == \"#\":\n",
    "        part1 += 1\n",
    "print(f\"Answer #1: {part1}\")"
   ]
  },
  {
   "cell_type": "markdown",
   "id": "bd4fb0bd-a01d-47d2-bc78-ec908bd8b6d5",
   "metadata": {},
   "source": [
    "# Part 2"
   ]
  },
  {
   "cell_type": "code",
   "execution_count": 8,
   "id": "df6de964-990e-433f-8ffe-b0bf9b305838",
   "metadata": {},
   "outputs": [],
   "source": [
    "grid = deepcopy(grid_copy)"
   ]
  },
  {
   "cell_type": "code",
   "execution_count": 9,
   "id": "d8e08737-dfbe-4b66-950e-7333a70f5c11",
   "metadata": {},
   "outputs": [],
   "source": [
    "while True:\n",
    "    res = iteration(part2=True)\n",
    "    if not res:\n",
    "        break"
   ]
  },
  {
   "cell_type": "code",
   "execution_count": 10,
   "id": "75966f6a-20a2-443e-b59f-a8fb801abd7d",
   "metadata": {},
   "outputs": [
    {
     "name": "stdout",
     "output_type": "stream",
     "text": [
      "Answer #2: 1978\n"
     ]
    }
   ],
   "source": [
    "part2 = 0\n",
    "for val in grid.values():\n",
    "    if val == \"#\":\n",
    "        part2 += 1\n",
    "print(f\"Answer #2: {part2}\")"
   ]
  }
 ],
 "metadata": {
  "kernelspec": {
   "display_name": "Python 3 (ipykernel)",
   "language": "python",
   "name": "python3"
  },
  "language_info": {
   "codemirror_mode": {
    "name": "ipython",
    "version": 3
   },
   "file_extension": ".py",
   "mimetype": "text/x-python",
   "name": "python",
   "nbconvert_exporter": "python",
   "pygments_lexer": "ipython3",
   "version": "3.9.6"
  }
 },
 "nbformat": 4,
 "nbformat_minor": 5
}
