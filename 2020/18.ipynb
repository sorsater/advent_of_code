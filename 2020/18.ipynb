{
 "cells": [
  {
   "cell_type": "code",
   "execution_count": 1,
   "metadata": {},
   "outputs": [],
   "source": [
    "data = open(\"input/18\").read().splitlines()"
   ]
  },
  {
   "cell_type": "code",
   "execution_count": 2,
   "metadata": {},
   "outputs": [],
   "source": [
    "def run_chunk(chunk):\n",
    "    parts = chunk.split(\" \")\n",
    "    x = len(parts) // 2\n",
    "    for _ in range(x):\n",
    "        left, op, right = parts[:3]\n",
    "        left = int(left)\n",
    "        right = int(right)\n",
    "        if op == \"+\":\n",
    "            res = left + right\n",
    "        else:\n",
    "            res = left * right\n",
    "        parts = [res] + parts[3:]\n",
    "    return res"
   ]
  },
  {
   "cell_type": "code",
   "execution_count": 3,
   "metadata": {},
   "outputs": [],
   "source": [
    "def run_chunk_part2(chunk):\n",
    "    parts = chunk.split(\" \")\n",
    "    while True:\n",
    "        if \"+\" not in parts:\n",
    "            break\n",
    "        plus_idx = parts.index(\"+\")\n",
    "        slice = parts[plus_idx - 1:plus_idx + 2]\n",
    "        res = int(parts[plus_idx-1]) + int(parts[plus_idx + 1])\n",
    "        parts = parts[:plus_idx - 1] + [res] + parts[plus_idx + 2:]\n",
    "    x = len(parts) // 2\n",
    "    for _ in range(x):\n",
    "        left, _, right = parts[:3]\n",
    "        res = int(left) * int(right)\n",
    "        parts = [res] + parts[3:]\n",
    "    return res\n"
   ]
  },
  {
   "cell_type": "code",
   "execution_count": 4,
   "metadata": {},
   "outputs": [],
   "source": [
    "def run(line, part2=False):\n",
    "    if part2:\n",
    "        func = run_chunk_part2\n",
    "    else:\n",
    "        func = run_chunk\n",
    "\n",
    "    while True:\n",
    "        if \"(\" not in line:\n",
    "            break\n",
    "        for idx, char in enumerate(line):\n",
    "            if char == \"(\":\n",
    "                start_idx = idx\n",
    "            if char == \")\":\n",
    "                slice = line[start_idx:idx + 1]\n",
    "                reduced = func(slice[1:-1])  # Strip \"(\" and \")\"              \n",
    "                break\n",
    "        line = line.replace(slice, str(reduced))\n",
    "\n",
    "    return func(line)"
   ]
  },
  {
   "cell_type": "code",
   "execution_count": 5,
   "metadata": {},
   "outputs": [],
   "source": [
    "part1 = 0\n",
    "part2 = 0\n",
    "for line in data:\n",
    "    part1 += run(line)\n",
    "    part2 += run(line, part2=True)"
   ]
  },
  {
   "cell_type": "code",
   "execution_count": 6,
   "metadata": {},
   "outputs": [
    {
     "name": "stdout",
     "output_type": "stream",
     "text": [
      "Answer #1: 654686398176\n"
     ]
    }
   ],
   "source": [
    "print(f\"Answer #1: {part1}\")"
   ]
  },
  {
   "cell_type": "code",
   "execution_count": 7,
   "metadata": {},
   "outputs": [
    {
     "name": "stdout",
     "output_type": "stream",
     "text": [
      "Answer #2: 8952864356993\n"
     ]
    }
   ],
   "source": [
    "print(f\"Answer #2: {part2}\")"
   ]
  }
 ],
 "metadata": {
  "kernelspec": {
   "display_name": "Python 3 (ipykernel)",
   "language": "python",
   "name": "python3"
  },
  "language_info": {
   "codemirror_mode": {
    "name": "ipython",
    "version": 3
   },
   "file_extension": ".py",
   "mimetype": "text/x-python",
   "name": "python",
   "nbconvert_exporter": "python",
   "pygments_lexer": "ipython3",
   "version": "3.9.6"
  },
  "widgets": {
   "application/vnd.jupyter.widget-state+json": {
    "state": {},
    "version_major": 2,
    "version_minor": 0
   }
  }
 },
 "nbformat": 4,
 "nbformat_minor": 4
}
