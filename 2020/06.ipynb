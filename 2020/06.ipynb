{
 "cells": [
  {
   "cell_type": "code",
   "execution_count": 1,
   "metadata": {},
   "outputs": [],
   "source": [
    "from collections import defaultdict"
   ]
  },
  {
   "cell_type": "code",
   "execution_count": 2,
   "metadata": {},
   "outputs": [],
   "source": [
    "data = open(\"input/06\").read()"
   ]
  },
  {
   "cell_type": "code",
   "execution_count": 3,
   "metadata": {},
   "outputs": [
    {
     "name": "stdout",
     "output_type": "stream",
     "text": [
      "Answer #1: 6170\n",
      "Answer #2: 2947\n"
     ]
    }
   ],
   "source": [
    "part1, part2 = 0, 0\n",
    "for group in data.split(\"\\n\\n\"):\n",
    "    unique = set()\n",
    "    all = defaultdict(int)\n",
    "    expected = 0\n",
    "    for person in group.split(\"\\n\"):\n",
    "        expected += 1\n",
    "        for char in person:\n",
    "            unique.add(char)\n",
    "            all[char] += 1\n",
    "\n",
    "    part1 += len(unique)\n",
    "    part2 += len([a for a in all.values() if a == expected])\n",
    "   \n",
    "print(f\"Answer #1: {part1}\")\n",
    "print(f\"Answer #2: {part2}\")"
   ]
  }
 ],
 "metadata": {
  "kernelspec": {
   "display_name": "Python 3 (ipykernel)",
   "language": "python",
   "name": "python3"
  },
  "language_info": {
   "codemirror_mode": {
    "name": "ipython",
    "version": 3
   },
   "file_extension": ".py",
   "mimetype": "text/x-python",
   "name": "python",
   "nbconvert_exporter": "python",
   "pygments_lexer": "ipython3",
   "version": "3.9.6"
  },
  "widgets": {
   "application/vnd.jupyter.widget-state+json": {
    "state": {},
    "version_major": 2,
    "version_minor": 0
   }
  }
 },
 "nbformat": 4,
 "nbformat_minor": 4
}
