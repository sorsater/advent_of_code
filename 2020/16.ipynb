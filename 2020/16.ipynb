{
 "cells": [
  {
   "cell_type": "code",
   "execution_count": 1,
   "metadata": {},
   "outputs": [],
   "source": [
    "from collections import defaultdict, Counter"
   ]
  },
  {
   "cell_type": "code",
   "execution_count": 2,
   "metadata": {},
   "outputs": [],
   "source": [
    "data = open(\"input/16\").read()"
   ]
  },
  {
   "cell_type": "code",
   "execution_count": 3,
   "metadata": {},
   "outputs": [],
   "source": [
    "ranges, my, nearby = data.split(\"\\n\\n\")"
   ]
  },
  {
   "cell_type": "code",
   "execution_count": 4,
   "metadata": {},
   "outputs": [],
   "source": [
    "my = list(map(int, my.split(\"\\n\")[1].split(\",\")))"
   ]
  },
  {
   "cell_type": "code",
   "execution_count": 5,
   "metadata": {},
   "outputs": [],
   "source": [
    "valid_nums = set()\n",
    "fields = defaultdict(list)\n",
    "for line in ranges.split(\"\\n\"):\n",
    "    name, r = line.split(\": \")\n",
    "    first, second = r.split(\" or \")\n",
    "    f1, f2 = first.split(\"-\")\n",
    "    s1, s2 = second.split(\"-\")\n",
    "    for i in range(int(f1), int(f2) + 1):\n",
    "        valid_nums.add(i)\n",
    "        fields[name].append(i)\n",
    "    for i in range(int(s1), int(s2) + 1):\n",
    "        valid_nums.add(i)\n",
    "        fields[name].append(i)"
   ]
  },
  {
   "cell_type": "code",
   "execution_count": 6,
   "metadata": {},
   "outputs": [],
   "source": [
    "part1 = 0\n",
    "valid_tickets = []\n",
    "for line in nearby.split(\"\\n\")[1:]:\n",
    "    valid_ticket = True\n",
    "    nums = list(map(int, line.split(\",\")))\n",
    "    for n in nums:\n",
    "        if n not in valid_nums:\n",
    "            valid_ticket = False\n",
    "            part1 += n\n",
    "    if valid_ticket:\n",
    "        valid_tickets.append(nums)"
   ]
  },
  {
   "cell_type": "code",
   "execution_count": 7,
   "metadata": {},
   "outputs": [
    {
     "name": "stdout",
     "output_type": "stream",
     "text": [
      "Answer #1: 25961\n"
     ]
    }
   ],
   "source": [
    "print(f\"Answer #1: {part1}\")"
   ]
  },
  {
   "cell_type": "markdown",
   "metadata": {},
   "source": [
    "# Part 2"
   ]
  },
  {
   "cell_type": "code",
   "execution_count": 8,
   "metadata": {},
   "outputs": [],
   "source": [
    "field_candidates = defaultdict(list)\n",
    "for ticket in valid_tickets:\n",
    "    for idx, elem in enumerate(ticket):\n",
    "        for key, values in fields.items():\n",
    "            if elem in values:\n",
    "                field_candidates[key].append(idx)"
   ]
  },
  {
   "cell_type": "code",
   "execution_count": 9,
   "metadata": {},
   "outputs": [],
   "source": [
    "num_valid_tickets = len(valid_tickets)"
   ]
  },
  {
   "cell_type": "code",
   "execution_count": 10,
   "metadata": {},
   "outputs": [],
   "source": [
    "field_map = defaultdict(list)\n",
    "for field, values in field_candidates.items():\n",
    "    for a, b in Counter(values).items():\n",
    "        if b == num_valid_tickets:\n",
    "            field_map[field].append(a)"
   ]
  },
  {
   "cell_type": "code",
   "execution_count": 11,
   "metadata": {},
   "outputs": [],
   "source": [
    "processed = set()\n",
    "while True:\n",
    "    should_stop = True\n",
    "    remove = []\n",
    "    for name, values in field_map.items():\n",
    "        if len(values) == 1:\n",
    "            remove.append(values[0])\n",
    "        else:\n",
    "            should_stop = False\n",
    "    for name, values in field_map.items():\n",
    "        if len(values) == 1:\n",
    "            continue\n",
    "        for rem in remove:\n",
    "            if rem in values:\n",
    "                values.remove(rem)\n",
    "    if should_stop:\n",
    "        break\n"
   ]
  },
  {
   "cell_type": "code",
   "execution_count": 12,
   "metadata": {},
   "outputs": [],
   "source": [
    "part2 = 1\n",
    "for name, position in field_map.items():\n",
    "    if \"departure\" not in name:\n",
    "        continue\n",
    "    part2 *= my[position[0]]"
   ]
  },
  {
   "cell_type": "code",
   "execution_count": 13,
   "metadata": {},
   "outputs": [
    {
     "name": "stdout",
     "output_type": "stream",
     "text": [
      "Answer #2: 603409823791\n"
     ]
    }
   ],
   "source": [
    "print(f\"Answer #2: {part2}\")"
   ]
  }
 ],
 "metadata": {
  "kernelspec": {
   "display_name": "Python 3 (ipykernel)",
   "language": "python",
   "name": "python3"
  },
  "language_info": {
   "codemirror_mode": {
    "name": "ipython",
    "version": 3
   },
   "file_extension": ".py",
   "mimetype": "text/x-python",
   "name": "python",
   "nbconvert_exporter": "python",
   "pygments_lexer": "ipython3",
   "version": "3.9.6"
  },
  "widgets": {
   "application/vnd.jupyter.widget-state+json": {
    "state": {},
    "version_major": 2,
    "version_minor": 0
   }
  }
 },
 "nbformat": 4,
 "nbformat_minor": 4
}
