{
 "cells": [
  {
   "cell_type": "code",
   "execution_count": 1,
   "metadata": {},
   "outputs": [],
   "source": [
    "from copy import deepcopy"
   ]
  },
  {
   "cell_type": "code",
   "execution_count": 2,
   "metadata": {},
   "outputs": [],
   "source": [
    "data = open(\"input/08\").read().splitlines()"
   ]
  },
  {
   "cell_type": "code",
   "execution_count": 3,
   "metadata": {},
   "outputs": [],
   "source": [
    "instructions = []\n",
    "for line in data:\n",
    "    instr, num = line.split(\" \")\n",
    "    instructions.append([instr, int(num)])"
   ]
  },
  {
   "cell_type": "code",
   "execution_count": 4,
   "metadata": {},
   "outputs": [],
   "source": [
    "def run(instructions, part2=False):\n",
    "    acc = 0\n",
    "    pc = 0\n",
    "    seen_idx = set()\n",
    "    while True:\n",
    "        if pc >= len(instructions):\n",
    "            return acc\n",
    "        instr, num = instructions[pc]\n",
    "        if pc in seen_idx:\n",
    "            break\n",
    "        seen_idx.add(pc)\n",
    "        if instr == \"nop\":\n",
    "            pc += 1\n",
    "        elif instr == \"acc\":\n",
    "            acc += num\n",
    "            pc += 1\n",
    "        elif instr == \"jmp\":\n",
    "           pc += num\n",
    "\n",
    "    if part2:\n",
    "        return False\n",
    "    return acc"
   ]
  },
  {
   "cell_type": "code",
   "execution_count": 5,
   "metadata": {},
   "outputs": [
    {
     "name": "stdout",
     "output_type": "stream",
     "text": [
      "Answer #1: 1684\n"
     ]
    }
   ],
   "source": [
    "part1 = run(instructions)\n",
    "print(f\"Answer #1: {part1}\")"
   ]
  },
  {
   "cell_type": "code",
   "execution_count": 6,
   "metadata": {},
   "outputs": [],
   "source": [
    "for idx, instr in enumerate(instructions):\n",
    "    if instr[0] == \"acc\":\n",
    "        continue\n",
    "    \n",
    "    new_instr = deepcopy(instructions)\n",
    "    if instr[0] == \"nop\":\n",
    "        new_instr[idx][0] = \"jmp\"\n",
    "    else:\n",
    "        new_instr[idx][0] = \"nop\"\n",
    "    answer = run(new_instr, True)\n",
    "    if answer is not False:\n",
    "        break"
   ]
  },
  {
   "cell_type": "code",
   "execution_count": 7,
   "metadata": {},
   "outputs": [
    {
     "name": "stdout",
     "output_type": "stream",
     "text": [
      "Answer #2: 2188\n"
     ]
    }
   ],
   "source": [
    "print(f\"Answer #2: {answer}\")"
   ]
  }
 ],
 "metadata": {
  "kernelspec": {
   "display_name": "Python 3 (ipykernel)",
   "language": "python",
   "name": "python3"
  },
  "language_info": {
   "codemirror_mode": {
    "name": "ipython",
    "version": 3
   },
   "file_extension": ".py",
   "mimetype": "text/x-python",
   "name": "python",
   "nbconvert_exporter": "python",
   "pygments_lexer": "ipython3",
   "version": "3.9.6"
  },
  "widgets": {
   "application/vnd.jupyter.widget-state+json": {
    "state": {},
    "version_major": 2,
    "version_minor": 0
   }
  }
 },
 "nbformat": 4,
 "nbformat_minor": 4
}
