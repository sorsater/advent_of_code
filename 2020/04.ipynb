{
 "cells": [
  {
   "cell_type": "code",
   "execution_count": 1,
   "id": "92f306e5-6afb-4b1a-bbdd-c3d31578ef9a",
   "metadata": {},
   "outputs": [],
   "source": [
    "data = open(\"input/04\").read()"
   ]
  },
  {
   "cell_type": "code",
   "execution_count": 2,
   "id": "aef5e66b-e5ba-4f30-80d7-47f98243bccf",
   "metadata": {},
   "outputs": [],
   "source": [
    "passports = data.split(\"\\n\\n\")\n",
    "passports = [p.replace(\"\\n\", \" \") for p in passports]"
   ]
  },
  {
   "cell_type": "code",
   "execution_count": 3,
   "id": "b416af73-4fe8-458f-9f43-9b0ea669abf8",
   "metadata": {},
   "outputs": [],
   "source": [
    "required_fiels = sorted([\"byr\", \"iyr\", \"eyr\", \"hgt\", \"hcl\", \"ecl\", \"pid\"])"
   ]
  },
  {
   "cell_type": "code",
   "execution_count": 4,
   "id": "9159d2c3-a7a1-453b-9872-4408284d2fe8",
   "metadata": {},
   "outputs": [],
   "source": [
    "def check_passport(passport):\n",
    "    parts = passport.split(\" \")\n",
    "    fields = [a.split(\":\")[0] for a in parts]\n",
    "    if \"cid\" in fields:\n",
    "        fields.remove(\"cid\")\n",
    "    return sorted(fields) == required_fiels"
   ]
  },
  {
   "cell_type": "code",
   "execution_count": 5,
   "id": "f309ba54-3547-444e-96ab-b5b3ea61e651",
   "metadata": {},
   "outputs": [
    {
     "name": "stdout",
     "output_type": "stream",
     "text": [
      "Answer #1: 256\n"
     ]
    }
   ],
   "source": [
    "part1_valid = []\n",
    "for passport in passports:\n",
    "    if check_passport(passport):\n",
    "        part1_valid.append(passport)\n",
    "print(f\"Answer #1: {len(part1_valid)}\")"
   ]
  },
  {
   "cell_type": "markdown",
   "id": "b2e06d20-908c-4831-b84e-bffdb8ab421a",
   "metadata": {},
   "source": [
    "# Part 2"
   ]
  },
  {
   "cell_type": "code",
   "execution_count": 6,
   "id": "a1689f9f-2f19-4f75-b8bd-09d26261fb31",
   "metadata": {},
   "outputs": [],
   "source": [
    "def valid2(passport):\n",
    "    parts = passport.split(\" \")\n",
    "    for part in parts:\n",
    "        key, value = part.split(\":\")\n",
    "        if key == \"byr\":\n",
    "            if not 1920 <= int(value) <= 2002:\n",
    "                return False\n",
    "        if key == \"iyr\":\n",
    "            if not 2010 <= int(value) <= 2020:\n",
    "                return False\n",
    "        if key == \"eyr\":\n",
    "            if not 2020 <= int(value) <= 2030:\n",
    "                return False\n",
    "        if key == \"hgt\":\n",
    "            if \"cm\" in value:\n",
    "                if not 150 <= int(value[:-2]) <= 193:\n",
    "                    return False\n",
    "            elif \"in\" in value:\n",
    "                if not 59 <= int(value[:-2]) <= 76:\n",
    "                    return False\n",
    "            else:\n",
    "                return False\n",
    "        if key == \"hcl\":\n",
    "            if value[0] != \"#\":\n",
    "                return False\n",
    "            if len(value) != 7:\n",
    "                return False\n",
    "            valid_chars = \"0123456789abcdef\"\n",
    "            for char in value[1:]:\n",
    "                if char not in valid_chars:\n",
    "                    return False\n",
    "        if key == \"ecl\":\n",
    "            if value not in [\"amb\", \"blu\", \"brn\", \"gry\", \"grn\", \"hzl\", \"oth\"]:\n",
    "                return False\n",
    "        if key == \"pid\":\n",
    "            if len(value) != 9:\n",
    "                return False\n",
    "            try:\n",
    "                int(value)\n",
    "            except:\n",
    "                return False\n",
    "    return True"
   ]
  },
  {
   "cell_type": "code",
   "execution_count": 7,
   "id": "dade0310-9625-4a77-86d0-c7db87409331",
   "metadata": {},
   "outputs": [
    {
     "name": "stdout",
     "output_type": "stream",
     "text": [
      "Answer #2: 198\n"
     ]
    }
   ],
   "source": [
    "part2 = 0\n",
    "for passport in part1_valid:\n",
    "    if valid2(passport):\n",
    "        part2 += 1\n",
    "print(f\"Answer #2: {part2}\")"
   ]
  }
 ],
 "metadata": {
  "kernelspec": {
   "display_name": "Python 3 (ipykernel)",
   "language": "python",
   "name": "python3"
  },
  "language_info": {
   "codemirror_mode": {
    "name": "ipython",
    "version": 3
   },
   "file_extension": ".py",
   "mimetype": "text/x-python",
   "name": "python",
   "nbconvert_exporter": "python",
   "pygments_lexer": "ipython3",
   "version": "3.9.6"
  }
 },
 "nbformat": 4,
 "nbformat_minor": 5
}
