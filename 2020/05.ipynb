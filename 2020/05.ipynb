{
 "cells": [
  {
   "cell_type": "code",
   "execution_count": 1,
   "id": "4050b35f-eddc-4121-a13a-eeac70e5cd8b",
   "metadata": {},
   "outputs": [],
   "source": [
    "data = open(\"input/05\").read().splitlines()"
   ]
  },
  {
   "cell_type": "code",
   "execution_count": 2,
   "id": "cece7a25-f928-4087-9535-0494a91e6754",
   "metadata": {},
   "outputs": [],
   "source": [
    "def get_row(entry):\n",
    "    entry = entry[:7]\n",
    "    row = [n for n in range(128)]\n",
    "    for char in entry:\n",
    "        if char == \"F\":\n",
    "            row = row[:len(row) // 2]\n",
    "        else:\n",
    "            row = row[len(row) // 2:]\n",
    "    return row[0]"
   ]
  },
  {
   "cell_type": "code",
   "execution_count": 3,
   "id": "18ca0ac3-cda4-40f5-bf74-eb0590d5cf66",
   "metadata": {},
   "outputs": [],
   "source": [
    "def get_column(entry):\n",
    "    entry = entry[-3:]\n",
    "    col = [n for n in range(8)]\n",
    "    for char in entry:\n",
    "        if char == \"L\":\n",
    "            col = col[:len(col) // 2]\n",
    "        else:\n",
    "            col = col[len(col) // 2:]\n",
    "    return col[0]"
   ]
  },
  {
   "cell_type": "code",
   "execution_count": 4,
   "id": "72ddc9a9-62f9-442f-a33a-b4148c589cf4",
   "metadata": {},
   "outputs": [],
   "source": [
    "def get_id(entry):\n",
    "    return get_row(entry) * 8 + get_column(entry)"
   ]
  },
  {
   "cell_type": "code",
   "execution_count": 5,
   "id": "c460584e-bf0f-4c00-9df3-29e818062c2c",
   "metadata": {},
   "outputs": [
    {
     "name": "stdout",
     "output_type": "stream",
     "text": [
      "Answer #1: 871\n"
     ]
    }
   ],
   "source": [
    "part1 = 0\n",
    "part2_seats = []\n",
    "for row in data:\n",
    "    seat_id = get_id(row)\n",
    "    part1 = max(part1, seat_id)\n",
    "    part2_seats.append(seat_id)\n",
    "print(f\"Answer #1: {part1}\")"
   ]
  },
  {
   "cell_type": "code",
   "execution_count": 6,
   "id": "5b761156-ea45-4790-baf5-f54325aa79cb",
   "metadata": {},
   "outputs": [
    {
     "name": "stdout",
     "output_type": "stream",
     "text": [
      "Answer #2: 640\n"
     ]
    }
   ],
   "source": [
    "sorted_seats = sorted(part2_seats)\n",
    "for entry in sorted_seats:\n",
    "    if entry + 1 not in sorted_seats:\n",
    "        print(f\"Answer #2: {entry + 1}\")\n",
    "        break"
   ]
  }
 ],
 "metadata": {
  "kernelspec": {
   "display_name": "Python 3 (ipykernel)",
   "language": "python",
   "name": "python3"
  },
  "language_info": {
   "codemirror_mode": {
    "name": "ipython",
    "version": 3
   },
   "file_extension": ".py",
   "mimetype": "text/x-python",
   "name": "python",
   "nbconvert_exporter": "python",
   "pygments_lexer": "ipython3",
   "version": "3.9.6"
  }
 },
 "nbformat": 4,
 "nbformat_minor": 5
}
