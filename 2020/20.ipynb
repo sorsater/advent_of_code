{
 "cells": [
  {
   "cell_type": "markdown",
   "id": "b4a546e2-f169-4b3f-8368-43fa4baae256",
   "metadata": {},
   "source": [
    "Extracting all the borders and storing them (+ reversed version) in a dictionary.  \n",
    "Assuming the corners don't match the other borders"
   ]
  },
  {
   "cell_type": "code",
   "execution_count": 1,
   "id": "93f1f717-95fb-4245-bb57-b23218dc6a97",
   "metadata": {},
   "outputs": [],
   "source": [
    "from collections import defaultdict, Counter\n",
    "from math import sqrt\n",
    "from copy import deepcopy"
   ]
  },
  {
   "cell_type": "code",
   "execution_count": 2,
   "id": "c78ca4a4-744c-4aa2-9b15-b21a08ee8e2e",
   "metadata": {},
   "outputs": [],
   "source": [
    "data = open(\"input/20\").read()"
   ]
  },
  {
   "cell_type": "code",
   "execution_count": 3,
   "id": "b54f8856-e0d1-4af2-a93f-9fdd06ae14d7",
   "metadata": {},
   "outputs": [],
   "source": [
    "tiles = defaultdict(dict)\n",
    "tile_size = 0 # Width and height the same\n",
    "for tile in data.split(\"\\n\\n\"):\n",
    "    num = int(tile.split(\":\")[0][5:])\n",
    "    tmp = []\n",
    "    for r, row in enumerate(tile.split(\"\\n\")[1:]):\n",
    "        row_ = []\n",
    "        for c, elem in enumerate(row):\n",
    "            row_.append(elem)\n",
    "            tile_size = max(tile_size, r)\n",
    "        tmp.append(row)\n",
    "    tiles[num] = tmp"
   ]
  },
  {
   "cell_type": "code",
   "execution_count": 4,
   "id": "8cd6730d-e30c-4b9a-a760-ee66cf127da1",
   "metadata": {},
   "outputs": [],
   "source": [
    "edge_origin = defaultdict(list)\n",
    "\n",
    "def add_stuff(key, string):\n",
    "    edge_origin[string].append(key)\n",
    "    edge_origin[string[::-1]].append(key)\n",
    "    \n",
    "for key, g in tiles.items():\n",
    "    top_row = \"\".join([g[0][c] for c in range(tile_size + 1)])\n",
    "    add_stuff(key, top_row)\n",
    "\n",
    "    bottom_row = \"\".join([g[tile_size][c] for c in range(tile_size + 1)])\n",
    "    add_stuff(key, bottom_row)\n",
    "\n",
    "    first_col = \"\".join([g[r][0] for r in range(tile_size + 1)])\n",
    "    add_stuff(key, first_col)\n",
    "\n",
    "    last_col = \"\".join([g[r][tile_size] for r in range(tile_size + 1)])\n",
    "    add_stuff(key, last_col)"
   ]
  },
  {
   "cell_type": "code",
   "execution_count": 5,
   "id": "c300e318-6243-42f9-ae07-1deb1856d457",
   "metadata": {},
   "outputs": [],
   "source": [
    "nums = []\n",
    "for key, values in edge_origin.items():\n",
    "    if len(values) == 1:\n",
    "        nums.append(values[0])"
   ]
  },
  {
   "cell_type": "code",
   "execution_count": 6,
   "id": "bfe7b84d-39df-4973-ae2f-cf0178c1df3f",
   "metadata": {},
   "outputs": [],
   "source": [
    "part1 = 1\n",
    "corners = []\n",
    "for k, v in Counter(nums).items():\n",
    "    if v == 4:\n",
    "        corners.append(k)\n",
    "        part1 *= k"
   ]
  },
  {
   "cell_type": "code",
   "execution_count": 7,
   "id": "b9e80361-d868-4221-9724-4ec612720849",
   "metadata": {},
   "outputs": [
    {
     "name": "stdout",
     "output_type": "stream",
     "text": [
      "Answer #1: 15003787688423\n"
     ]
    }
   ],
   "source": [
    "print(f\"Answer #1: {part1}\")"
   ]
  },
  {
   "cell_type": "markdown",
   "id": "eb347f2e-2831-4778-a9bd-7733bcaa5c56",
   "metadata": {},
   "source": [
    "# Part 2\n",
    "Trying to find the corners + edges and how they fit together"
   ]
  },
  {
   "cell_type": "code",
   "execution_count": 8,
   "id": "4e5ae903-4358-4674-a2f8-e6be25580f52",
   "metadata": {},
   "outputs": [],
   "source": [
    "edges = set()\n",
    "for key, values in edge_origin.items():\n",
    "    if len(values) == 1:\n",
    "        if values[0] not in corners:\n",
    "            edges.add(values[0]) "
   ]
  },
  {
   "cell_type": "code",
   "execution_count": 9,
   "id": "da842baf-595b-42a7-803b-0290bfb3c211",
   "metadata": {},
   "outputs": [],
   "source": [
    "middle = []\n",
    "for key in tiles.keys():\n",
    "    if key in corners:\n",
    "        continue\n",
    "    if key in edges:\n",
    "        continue\n",
    "    middle.append(key)"
   ]
  },
  {
   "cell_type": "code",
   "execution_count": 10,
   "id": "35848431-d390-4866-9273-d94563600824",
   "metadata": {},
   "outputs": [],
   "source": [
    "neighbours = defaultdict(set)\n",
    "for k, v in edge_origin.items():\n",
    "    if len(v) == 1:\n",
    "        continue\n",
    "    neighbours[v[0]].add(v[1])\n",
    "    neighbours[v[1]].add(v[0])"
   ]
  },
  {
   "cell_type": "code",
   "execution_count": 11,
   "id": "e229315d-dde6-4cb1-a7d9-388603f3ce40",
   "metadata": {},
   "outputs": [],
   "source": [
    "# Create the tile order first, going around the border and then all in the middle"
   ]
  },
  {
   "cell_type": "code",
   "execution_count": 12,
   "id": "2f91201c-37ca-464f-a9f7-fa93e5ace16b",
   "metadata": {},
   "outputs": [],
   "source": [
    "tile_order = {}\n",
    "image_size = int(sqrt(len(tiles)))\n",
    "for x in range(image_size):\n",
    "    for y in range(image_size):\n",
    "        tile_order[(x, y)] = None\n",
    "tile_order[(0, 0)] = corners[0]"
   ]
  },
  {
   "cell_type": "code",
   "execution_count": 13,
   "id": "330e1d51-5966-49e8-ba16-379d13b4a53e",
   "metadata": {},
   "outputs": [],
   "source": [
    "def filter_out(ns):\n",
    "    # Ignore the ones already taken + the one in the middle\n",
    "    for t in list(tile_order.values()) + middle:\n",
    "        if t in ns:\n",
    "            ns.remove(t)"
   ]
  },
  {
   "cell_type": "code",
   "execution_count": 14,
   "id": "bba1494b-36ea-4aef-b5da-754b6e8de393",
   "metadata": {},
   "outputs": [],
   "source": [
    "# First row\n",
    "for x in range(1, image_size):\n",
    "    ns = list(neighbours[tile_order[(0, x - 1)]])\n",
    "    filter_out(ns)\n",
    "    tile_order[(0, x)] = ns[0]\n",
    "\n",
    "# First column\n",
    "for y in range(1, image_size):\n",
    "    ns = list(neighbours[tile_order[(y - 1, 0)]])\n",
    "    filter_out(ns)\n",
    "    tile_order[(y, 0)] = ns[0]\n",
    "\n",
    "# Last row\n",
    "for x in range(1, image_size):\n",
    "    ns = list(neighbours[tile_order[(image_size - 1, x - 1)]])\n",
    "    filter_out(ns)\n",
    "    tile_order[(image_size - 1, x)] = ns[0]\n",
    "\n",
    "# Last column\n",
    "for y in range(1, image_size - 1):  # We've already placed the last elem from 'Last row'\n",
    "    ns = list(neighbours[tile_order[(y - 1, image_size - 1)]])\n",
    "    filter_out(ns)\n",
    "    tile_order[(y, image_size - 1)] = ns[0]"
   ]
  },
  {
   "cell_type": "code",
   "execution_count": 15,
   "id": "51591b4e-8156-4cfc-96e3-7107c4cdd19b",
   "metadata": {},
   "outputs": [],
   "source": [
    "reversed_tile_order = {v: k for k, v in tile_order.items()}"
   ]
  },
  {
   "cell_type": "code",
   "execution_count": 16,
   "id": "2ac16942-6dfa-4144-bdab-351d24f9d9c2",
   "metadata": {},
   "outputs": [],
   "source": [
    "# Fill in the ones in the middle\n",
    "# Get all neighbours, if we have placed at least two of them we can place it\n",
    "# Get all possible locations (up, down, left, right) from neighbours and get the most common one, should only be one\n",
    "while None in tile_order.values():\n",
    "    for t in middle:\n",
    "        if t in reversed_tile_order:\n",
    "            continue\n",
    "        picked_ns = [n for n in list(neighbours[t]) if n in reversed_tile_order]\n",
    "       \n",
    "        # If we have two we can place it\n",
    "        if len(picked_ns) < 2:\n",
    "            continue\n",
    "\n",
    "        possible_locations = defaultdict(int)\n",
    "        for n in picked_ns:\n",
    "            x1, y1 = reversed_tile_order[n]\n",
    "            for x2, y2 in [[0, 1], [0, -1], [1, 0], [-1, 0]]:\n",
    "                possible_locations[(x1 + x2, y1 + y2)] += 1\n",
    "        for pos, count in possible_locations.items():\n",
    "            if tile_order.get(pos) is not None:  # Ignore locations where we already placed a tile\n",
    "                continue\n",
    "            if count == len(picked_ns):\n",
    "                my_pos = pos\n",
    "        tile_order[my_pos] = t\n",
    "        reversed_tile_order[t] = my_pos"
   ]
  },
  {
   "cell_type": "code",
   "execution_count": 17,
   "id": "de21d452-6346-4886-9d69-d66d56b45f18",
   "metadata": {},
   "outputs": [],
   "source": [
    "# Now rotate...\n",
    "# Reusing the matrix rotation stuff I did in 2017-21"
   ]
  },
  {
   "cell_type": "code",
   "execution_count": 18,
   "id": "37ea8001-96d5-4fe7-a02a-081fef4cfce1",
   "metadata": {},
   "outputs": [],
   "source": [
    "def rotate_90(matrix):\n",
    "    return [list(row) for row in zip(*matrix[::-1])]\n",
    "def flip_horizontal(matrix):\n",
    "    return [row[::-1] for row in matrix]\n",
    "def flip_vertical(matrix):\n",
    "    return matrix[::-1]"
   ]
  },
  {
   "cell_type": "code",
   "execution_count": 19,
   "id": "7cb610d7-e689-4b09-9158-afd4fccfbbe0",
   "metadata": {},
   "outputs": [],
   "source": [
    "def flip_and_rotate(initial):\n",
    "    all_versions = set()\n",
    "    original = [tuple(row) for row in initial]\n",
    "    all_versions.add(tuple(original))\n",
    "    for _ in range(4):\n",
    "        original = rotate_90(original)\n",
    "        all_versions.add(tuple([tuple(r) for r in original]))\n",
    "\n",
    "    for version in deepcopy(all_versions):\n",
    "        flipped_horizontal = flip_horizontal(version)\n",
    "        all_versions.add(tuple([tuple(r) for r in flipped_horizontal]))\n",
    "\n",
    "        flipped_vertical = flip_vertical(version)\n",
    "        all_versions.add(tuple([tuple(r) for r in flipped_vertical]))\n",
    "\n",
    "    return all_versions"
   ]
  },
  {
   "cell_type": "markdown",
   "id": "f6607a07-fff0-4e59-b6da-231317ab990f",
   "metadata": {},
   "source": [
    "### Approach\n",
    "Started with the the top left and the one to the right of that  \n",
    "generate all combinations (8 x 8) and then from there just assume they only fit in one way\n",
    "\n",
    "Didn't work, they fit in two ways. Need to include more tiles...\n",
    "\n",
    "It works by always checking four tiles\n",
    "\n",
    "A B\n",
    "C D\n",
    "\n",
    "Rotate those four in all 8 possible combinations and compare together (4096 combinations but it's fast so won't optimize)\n",
    "\n",
    "I tried and all only works in one way. So align all four and save when we're done"
   ]
  },
  {
   "cell_type": "code",
   "execution_count": 20,
   "id": "9edc8cfb-3e49-497a-9bbd-fabcf97af16a",
   "metadata": {},
   "outputs": [],
   "source": [
    "def get_first_row(matrix):\n",
    "    return \"\".join(matrix[0])\n",
    "\n",
    "def get_last_row(matrix):\n",
    "    return \"\".join(matrix[-1])\n",
    "\n",
    "def get_first_col(matrix):\n",
    "    col = \"\"\n",
    "    for row in matrix:\n",
    "        col += row[0]\n",
    "    return col\n",
    "\n",
    "def get_last_col(matrix):\n",
    "    col = \"\"\n",
    "    for row in matrix:\n",
    "        col += row[-1]\n",
    "    return col"
   ]
  },
  {
   "cell_type": "code",
   "execution_count": 21,
   "id": "2ca3f6b6-c861-4dea-a1d3-0946fa3b6111",
   "metadata": {},
   "outputs": [],
   "source": [
    "structured_tiles = {}"
   ]
  },
  {
   "cell_type": "code",
   "execution_count": 22,
   "id": "3d58f5ab-c6c7-471b-9acf-5e3d7178cf56",
   "metadata": {},
   "outputs": [],
   "source": [
    "def rotate_and_match(x, y):\n",
    "    if (x + 1, y + 1) not in tile_order: # Will go outside grid\n",
    "        return\n",
    "    first = flip_and_rotate(tiles[tile_order[(x, y)]])\n",
    "    second = flip_and_rotate(tiles[tile_order[(x, y + 1)]])\n",
    "    third = flip_and_rotate(tiles[tile_order[(x + 1, y)]])\n",
    "    fourth = flip_and_rotate(tiles[tile_order[(x + 1, y + 1)]])\n",
    "\n",
    "    for f in first:\n",
    "        f_last_col = get_last_col(f)\n",
    "        f_last_row = get_last_row(f)\n",
    "        \n",
    "        for s in second:\n",
    "            s_first_col = get_first_col(s)\n",
    "            s_last_row = get_last_row(s)\n",
    "    \n",
    "            for t in third:\n",
    "                t_first_row = get_first_row(t)\n",
    "                t_last_col = get_last_col(t)\n",
    "    \n",
    "                for fo in fourth:\n",
    "                    fo_first_col = get_first_col(fo)\n",
    "                    fo_first_row = get_first_row(fo)\n",
    "                    \n",
    "                    if f_last_col != s_first_col:\n",
    "                        continue\n",
    "    \n",
    "                    if f_last_row != t_first_row:\n",
    "                        continue\n",
    "    \n",
    "                    if s_last_row != fo_first_row:\n",
    "                        continue\n",
    "    \n",
    "                    if t_last_col != fo_first_col:\n",
    "                        continue\n",
    "                    \n",
    "                    # This was evaluated to always be 1 combinations reaching here.\n",
    "                    # And also checked that another set of 4 doesn't give different answer...\n",
    "                    if (x, y) not in structured_tiles:\n",
    "                        structured_tiles[(x, y)] = f\n",
    "                    if (x, y + 1) not in structured_tiles:\n",
    "                        structured_tiles[(x, y + 1)] = s\n",
    "                    if (x + 1, y) not in structured_tiles:\n",
    "                        structured_tiles[(x + 1, y)] = t\n",
    "                    if (x + 1, y + 1) not in structured_tiles:\n",
    "                        structured_tiles[(x + 1, y + 1)] = fo"
   ]
  },
  {
   "cell_type": "code",
   "execution_count": 23,
   "id": "ceec3cdd-ae9e-408c-a047-133c9c4f503e",
   "metadata": {},
   "outputs": [],
   "source": [
    "for pos in tile_order.keys():\n",
    "    rotate_and_match(*pos)    "
   ]
  },
  {
   "cell_type": "markdown",
   "id": "47da864e-c938-46a6-bf00-97bed62fb2d5",
   "metadata": {},
   "source": [
    "### Remove the borders around the tiles"
   ]
  },
  {
   "cell_type": "code",
   "execution_count": 24,
   "id": "2843d175-e192-42b2-ab63-34e83a87a10a",
   "metadata": {},
   "outputs": [],
   "source": [
    "no_border_tiles = {}\n",
    "for key, tile in structured_tiles.items():\n",
    "    new_tile = []\n",
    "    for row in tile[1:-1]:\n",
    "        new_tile.append(row[1:-1])\n",
    "    no_border_tiles[key] = new_tile"
   ]
  },
  {
   "cell_type": "code",
   "execution_count": 25,
   "id": "c7fc4a0a-c50d-4c19-b07e-fba514080e68",
   "metadata": {},
   "outputs": [],
   "source": [
    "new_tile_size = tile_size - 1 # removing 2 borders and adding 1 (0 indexed)\n",
    "image = []\n",
    "for r in range(new_tile_size * image_size):\n",
    "    tmp = []\n",
    "    for c in range(new_tile_size * image_size):\n",
    "        tmp.append(None)\n",
    "    image.append(tmp)"
   ]
  },
  {
   "cell_type": "code",
   "execution_count": 26,
   "id": "8cd36a31-39c3-45ae-b23b-10eacdf34568",
   "metadata": {},
   "outputs": [],
   "source": [
    "# Copy to big image\n",
    "for pos, tile in no_border_tiles.items():\n",
    "    x, y = pos\n",
    "    for r, row in enumerate(tile):\n",
    "        for c, elem in enumerate(row):\n",
    "            image[y * new_tile_size + c][x * new_tile_size + r] = elem"
   ]
  },
  {
   "cell_type": "code",
   "execution_count": 27,
   "id": "702388ec-cea3-47ea-bff8-80e9e1b1d402",
   "metadata": {},
   "outputs": [],
   "source": [
    "sea_monster = \"\"\"                  # \n",
    "#    ##    ##    ###\n",
    " #  #  #  #  #  #   \"\"\""
   ]
  },
  {
   "cell_type": "code",
   "execution_count": 28,
   "id": "3a5f766f-0807-41c2-8fc0-4892bf366a56",
   "metadata": {},
   "outputs": [],
   "source": [
    "sea_monster_coords = []\n",
    "for r, row in enumerate(sea_monster.split(\"\\n\")):\n",
    "    for c, elem in enumerate(row):\n",
    "        if elem == \"#\":\n",
    "            sea_monster_coords.append((r, c))\n",
    "sea_monster_size = len(sea_monster_coords)"
   ]
  },
  {
   "cell_type": "code",
   "execution_count": 29,
   "id": "1b16d437-1a87-43bf-9806-609a133dbddc",
   "metadata": {},
   "outputs": [],
   "source": [
    "def find_sea_monster(matrix):\n",
    "    num_monsters = 0\n",
    "    for r in range(len(matrix)):\n",
    "        for c in range(len(matrix[0])):\n",
    "            valid = 0\n",
    "            for rr, cc in sea_monster_coords:\n",
    "                if r + rr >= len(matrix):\n",
    "                    break\n",
    "                if c + cc >= len(matrix[0]):\n",
    "                    break\n",
    "                if matrix[c + cc][r + rr] == \"#\":\n",
    "                    valid += 1\n",
    "            if valid == sea_monster_size:\n",
    "                num_monsters += 1\n",
    "    return num_monsters    "
   ]
  },
  {
   "cell_type": "code",
   "execution_count": 30,
   "id": "c484c9f6-491d-43a6-8cc4-e9cbfef98a89",
   "metadata": {},
   "outputs": [],
   "source": [
    "for idx, img in enumerate(flip_and_rotate(image)):\n",
    "    num_monsters = find_sea_monster(img)\n",
    "    if num_monsters != 0:\n",
    "        break"
   ]
  },
  {
   "cell_type": "code",
   "execution_count": 31,
   "id": "1f5b010e-920e-41ae-b16c-8feb6aca98e8",
   "metadata": {},
   "outputs": [],
   "source": [
    "num_squares = 0\n",
    "for row in image:\n",
    "    for elem in row:\n",
    "        if elem == \"#\":\n",
    "            num_squares += 1"
   ]
  },
  {
   "cell_type": "code",
   "execution_count": 32,
   "id": "43972fc5-8cb0-4d1b-9856-2093cc1d3599",
   "metadata": {},
   "outputs": [],
   "source": [
    "part2 = num_squares - num_monsters * sea_monster_size"
   ]
  },
  {
   "cell_type": "code",
   "execution_count": 33,
   "id": "9cc4830c-baf3-48a2-a490-4f0cdc3eeb59",
   "metadata": {},
   "outputs": [
    {
     "name": "stdout",
     "output_type": "stream",
     "text": [
      "Answer #2: 1705\n"
     ]
    }
   ],
   "source": [
    "print(f\"Answer #2: {part2}\")"
   ]
  },
  {
   "cell_type": "code",
   "execution_count": 34,
   "id": "016e48ae-7bd0-4360-a54b-da0f8c3d542b",
   "metadata": {},
   "outputs": [
    {
     "name": "stdout",
     "output_type": "stream",
     "text": [
      "1453 1291 1951 2137 1997 1609 2131 1867 1187 3917 2689 2477 \n",
      "3257 2659 2543 2083 2423 1511 1297 2251 3793 3221 3083 1109 \n",
      "1747 1249 3517 3877 2749 2687 1999 2957 1447 3323 1933 1583 \n",
      "1019 2939 1787 3541 2069 3011 1327 3539 2801 2843 2411 3407 \n",
      "1483 2347 1433 2557 1709 3061 1471 1901 2267 2671 1303 3853 \n",
      "1823 1801 2803 1637 3229 2063 3989 3527 2153 3719 1907 1429 \n",
      "1627 2857 3359 1123 3739 3313 3023 1549 2797 2141 3191 2399 \n",
      "3779 3929 2039 3769 2879 2081 2971 2503 1753 2539 3137 2017 \n",
      "1663 2053 2917 3169 1103 1831 3041 3697 1987 3433 2887 3343 \n",
      "1721 2777 1231 2579 2819 3709 2663 3673 1559 1031 3823 2969 \n",
      "2459 1201 1063 2441 3329 3701 2707 3491 2531 2027 3347 1607 \n",
      "2897 1777 3121 3371 3301 1301 2521 3463 2551 1427 1861 1439 \n"
     ]
    }
   ],
   "source": [
    "# Helper function to visualize\n",
    "for y in range(image_size):\n",
    "    for x in range(image_size):\n",
    "        print(tile_order[(x, y)], end=\" \")\n",
    "    print()"
   ]
  }
 ],
 "metadata": {
  "kernelspec": {
   "display_name": "Python 3 (ipykernel)",
   "language": "python",
   "name": "python3"
  },
  "language_info": {
   "codemirror_mode": {
    "name": "ipython",
    "version": 3
   },
   "file_extension": ".py",
   "mimetype": "text/x-python",
   "name": "python",
   "nbconvert_exporter": "python",
   "pygments_lexer": "ipython3",
   "version": "3.9.20"
  }
 },
 "nbformat": 4,
 "nbformat_minor": 5
}
