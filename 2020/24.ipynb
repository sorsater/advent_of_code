{
 "cells": [
  {
   "cell_type": "code",
   "execution_count": 1,
   "id": "92061368-58ee-4e64-9872-56f80caff319",
   "metadata": {},
   "outputs": [],
   "source": [
    "data = open(\"input/24\").read().splitlines()"
   ]
  },
  {
   "cell_type": "code",
   "execution_count": 2,
   "id": "b12fc9c6-46ea-4476-bca1-f15e5e7671a2",
   "metadata": {},
   "outputs": [],
   "source": [
    "grid = {}\n",
    "directions = {\n",
    "    \"e\": (1, 0),\n",
    "    \"w\": (-1, 0),\n",
    "    \"A\": (0, 1),   # se\n",
    "    \"B\": (-1, 1),  # sw \n",
    "    \"D\": (0, -1),  # nw\n",
    "    \"C\": (1, -1),  # ne\n",
    "}"
   ]
  },
  {
   "cell_type": "code",
   "execution_count": 3,
   "id": "fae68424-8ce6-4491-b42f-9db4a4eb7f3b",
   "metadata": {},
   "outputs": [],
   "source": [
    "def process_one(line):\n",
    "    pos = (0, 0)\n",
    "    for char in line:\n",
    "        d = directions[char]\n",
    "        pos = (pos[0] + d[0], pos[1] + d[1])\n",
    "    if pos in grid:\n",
    "        grid[pos] = not grid[pos]\n",
    "    else:\n",
    "        grid[pos] = True"
   ]
  },
  {
   "cell_type": "code",
   "execution_count": 4,
   "id": "faf71546-be32-4ef8-938a-9545ad3f5daa",
   "metadata": {},
   "outputs": [],
   "source": [
    "for line in data:\n",
    "    line = line.replace(\"se\", \"A\").replace(\"sw\", \"B\").replace(\"ne\", \"C\").replace(\"nw\", \"D\")\n",
    "    process_one(line)"
   ]
  },
  {
   "cell_type": "code",
   "execution_count": 5,
   "id": "517cea55-c6de-4cd2-850e-25d20c10e4e9",
   "metadata": {},
   "outputs": [
    {
     "name": "stdout",
     "output_type": "stream",
     "text": [
      "Answer #1: 330\n"
     ]
    }
   ],
   "source": [
    "print(f\"Answer #1: {sum(grid.values())}\")"
   ]
  },
  {
   "cell_type": "markdown",
   "id": "21ec758c-88c4-4cb7-8b88-9c3b707e6cc6",
   "metadata": {},
   "source": [
    "# Part 2"
   ]
  },
  {
   "cell_type": "code",
   "execution_count": 6,
   "id": "9d2a0861-8b66-40ef-b14c-573f5cd12a55",
   "metadata": {},
   "outputs": [],
   "source": [
    "def get_candidates():\n",
    "    cands = set()\n",
    "    for k in grid.keys():\n",
    "        cands.add(k)\n",
    "        for d in directions.values():\n",
    "            cands.add((k[0] + d[0], k[1] + d[1]))\n",
    "    return cands"
   ]
  },
  {
   "cell_type": "code",
   "execution_count": 7,
   "id": "39eb819b-fda9-4358-aafd-bdc425dfc469",
   "metadata": {},
   "outputs": [],
   "source": [
    "for _ in range(100):\n",
    "    candidates = get_candidates()\n",
    "    updates = []\n",
    "    for pos in candidates:\n",
    "        adjacent_blacks = 0\n",
    "        for d in directions.values():\n",
    "            if grid.get((pos[0] + d[0], pos[1] + d[1]), False):\n",
    "                adjacent_blacks += 1\n",
    "        black = grid.get(pos, False)\n",
    "        if black:\n",
    "            if adjacent_blacks == 0 or adjacent_blacks > 2:\n",
    "                updates.append([pos, False])\n",
    "        else:\n",
    "            if adjacent_blacks == 2:\n",
    "                updates.append([pos, True])\n",
    "    for p, update in updates:\n",
    "        grid[p] = update"
   ]
  },
  {
   "cell_type": "code",
   "execution_count": 8,
   "id": "55aa7ea1-562e-4683-81b4-af004c09c3cd",
   "metadata": {},
   "outputs": [
    {
     "name": "stdout",
     "output_type": "stream",
     "text": [
      "Answer #2: 3711\n"
     ]
    }
   ],
   "source": [
    "print(f\"Answer #2: {sum(grid.values())}\")"
   ]
  }
 ],
 "metadata": {
  "kernelspec": {
   "display_name": "Python 3 (ipykernel)",
   "language": "python",
   "name": "python3"
  },
  "language_info": {
   "codemirror_mode": {
    "name": "ipython",
    "version": 3
   },
   "file_extension": ".py",
   "mimetype": "text/x-python",
   "name": "python",
   "nbconvert_exporter": "python",
   "pygments_lexer": "ipython3",
   "version": "3.9.6"
  }
 },
 "nbformat": 4,
 "nbformat_minor": 5
}
