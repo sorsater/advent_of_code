{
 "cells": [
  {
   "cell_type": "code",
   "execution_count": 1,
   "id": "0587eb0c-d8d8-43eb-8c2a-cf1e236ece6a",
   "metadata": {},
   "outputs": [],
   "source": [
    "from collections import defaultdict"
   ]
  },
  {
   "cell_type": "code",
   "execution_count": 2,
   "id": "c3e958f7-2113-4340-8558-971150d1ddcb",
   "metadata": {},
   "outputs": [],
   "source": [
    "data = open(\"input/10\").read().splitlines()\n",
    "data = list(map(int, data))\n",
    "data = sorted(data)"
   ]
  },
  {
   "cell_type": "code",
   "execution_count": 3,
   "id": "79283ce9-191f-4ec2-9569-e778a6487a48",
   "metadata": {},
   "outputs": [],
   "source": [
    "prev = 0\n",
    "res = defaultdict(int)\n",
    "for elem in data:\n",
    "    res[elem - prev] += 1\n",
    "    prev = elem\n",
    "res[3] += 1"
   ]
  },
  {
   "cell_type": "code",
   "execution_count": 4,
   "id": "df6ee640-ef6e-4243-ae94-c10961ffb5c2",
   "metadata": {},
   "outputs": [
    {
     "name": "stdout",
     "output_type": "stream",
     "text": [
      "Answer #1: 2080\n"
     ]
    }
   ],
   "source": [
    "part1 = res[1] * res[3]\n",
    "print(f\"Answer #1: {part1}\")"
   ]
  },
  {
   "cell_type": "markdown",
   "id": "2967fd6d-9f65-4550-b53e-0fdc85778a35",
   "metadata": {},
   "source": [
    "# Part 2"
   ]
  },
  {
   "cell_type": "code",
   "execution_count": 5,
   "id": "fedfd4c0-3bb3-43d4-b1ee-91080bfeeb94",
   "metadata": {},
   "outputs": [],
   "source": [
    "def find_all_paths(max_goal):\n",
    "    queue = [[0, 1]]\n",
    "    while queue:   \n",
    "        current, count = queue.pop(0)\n",
    "        if current == max_goal:\n",
    "            return count\n",
    "        for elem in data:\n",
    "            if elem <= current:\n",
    "                continue\n",
    "            if elem > current + 3:\n",
    "                break\n",
    "            new_elem = True\n",
    "            for idx, (e, c) in enumerate(queue):\n",
    "                if e == elem:\n",
    "                    queue[idx][1] += count\n",
    "                    new_elem = False\n",
    "                    break\n",
    "                    \n",
    "            if new_elem:\n",
    "                queue.append([elem, count])\n",
    "    return valid\n",
    "    "
   ]
  },
  {
   "cell_type": "code",
   "execution_count": 6,
   "id": "cfdcaa3b-7274-4fe5-a9c0-88b3e754e194",
   "metadata": {},
   "outputs": [
    {
     "name": "stdout",
     "output_type": "stream",
     "text": [
      "Answer #2: 6908379398144\n"
     ]
    }
   ],
   "source": [
    "print(f\"Answer #2: {find_all_paths(max(data))}\")"
   ]
  }
 ],
 "metadata": {
  "kernelspec": {
   "display_name": "Python 3 (ipykernel)",
   "language": "python",
   "name": "python3"
  },
  "language_info": {
   "codemirror_mode": {
    "name": "ipython",
    "version": 3
   },
   "file_extension": ".py",
   "mimetype": "text/x-python",
   "name": "python",
   "nbconvert_exporter": "python",
   "pygments_lexer": "ipython3",
   "version": "3.9.6"
  }
 },
 "nbformat": 4,
 "nbformat_minor": 5
}
