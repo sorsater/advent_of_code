{
 "cells": [
  {
   "cell_type": "code",
   "execution_count": 1,
   "id": "5cf0c465-512c-49e0-af13-080afa359244",
   "metadata": {},
   "outputs": [],
   "source": [
    "data = open(\"input/14\").read()"
   ]
  },
  {
   "cell_type": "code",
   "execution_count": 2,
   "id": "1bda2297-ab61-475f-86ec-b30627ecd0ef",
   "metadata": {},
   "outputs": [],
   "source": [
    "part1 = {}\n",
    "part2 = {}"
   ]
  },
  {
   "cell_type": "code",
   "execution_count": 3,
   "id": "4df26213-b542-4cc0-83fa-edc5c8c3c3f0",
   "metadata": {},
   "outputs": [],
   "source": [
    "def write_to_memory(memory_masked, original_value):\n",
    "    addresses = [memory_masked]\n",
    "    for _ in range(memory_masked.count(\"X\")):\n",
    "        new_addresses = []\n",
    "        for adr in addresses:\n",
    "            x_idx = adr.index(\"X\")\n",
    "            new_addresses.append(adr[:x_idx] + \"0\" + adr[x_idx + 1:])\n",
    "            new_addresses.append(adr[:x_idx] + \"1\" + adr[x_idx + 1:])\n",
    "        addresses = new_addresses\n",
    "    for a in addresses:\n",
    "        part2[int(a, 2)] = int(original_value)"
   ]
  },
  {
   "cell_type": "code",
   "execution_count": 4,
   "id": "6ecc0539-f71f-4fb9-944a-3d64b36d5026",
   "metadata": {},
   "outputs": [],
   "source": [
    "def run_one(entry):\n",
    "    if not entry:\n",
    "        return\n",
    "    entry = entry.split(\"\\n\")\n",
    "    mask = entry[0].split(\"= \")[1]\n",
    "    for mem in entry[1:]:\n",
    "        if not mem:\n",
    "            continue\n",
    "        memory, original_value = mem[4:].split(\"] = \")\n",
    "        \n",
    "        value = bin(int(original_value))[2:]\n",
    "        new_value = \"\"\n",
    "        for idx, m in enumerate(mask[::-1]):\n",
    "            if m != \"X\":\n",
    "                new_value += m\n",
    "                continue\n",
    "            if idx >= len(value):\n",
    "                val = \"0\"\n",
    "            else:\n",
    "                val = value[::-1][idx]\n",
    "                \n",
    "            new_value += val\n",
    "        new_value = new_value[::-1]\n",
    "        new_value = int(new_value, 2)\n",
    "        part1[memory] = new_value\n",
    "\n",
    "        # Part 2\n",
    "        memory = bin(int(memory))[2:]\n",
    "        memory_masked = \"\"\n",
    "        for idx, m in enumerate(mask[::-1]):\n",
    "            if m == \"0\":\n",
    "                if idx >= len(memory):\n",
    "                    memory_masked += \"0\"\n",
    "                else:\n",
    "                    memory_masked += memory[::-1][idx]\n",
    "            elif m == \"1\":\n",
    "                memory_masked += \"1\"\n",
    "            elif m == \"X\":\n",
    "                memory_masked += \"X\"\n",
    "        memory_masked = memory_masked[::-1]\n",
    "        write_to_memory(memory_masked, original_value)"
   ]
  },
  {
   "cell_type": "code",
   "execution_count": 5,
   "id": "47039b3a-be17-41d7-9b51-0ea925ca862b",
   "metadata": {},
   "outputs": [],
   "source": [
    "_ = list(map(run_one, data.split(\"mask\")))"
   ]
  },
  {
   "cell_type": "code",
   "execution_count": 6,
   "id": "41140f17-6295-428a-906a-0fb5fae18dc5",
   "metadata": {},
   "outputs": [
    {
     "name": "stdout",
     "output_type": "stream",
     "text": [
      "Answer #1: 6386593869035\n"
     ]
    }
   ],
   "source": [
    "print(f\"Answer #1: {sum(part1.values())}\")"
   ]
  },
  {
   "cell_type": "code",
   "execution_count": 7,
   "id": "a1a6a1ba-3782-4b9e-81fa-878088d2ad2d",
   "metadata": {},
   "outputs": [
    {
     "name": "stdout",
     "output_type": "stream",
     "text": [
      "Answer #2: 4288986482164\n"
     ]
    }
   ],
   "source": [
    "print(f\"Answer #2: {sum(part2.values())}\")"
   ]
  }
 ],
 "metadata": {
  "kernelspec": {
   "display_name": "Python 3 (ipykernel)",
   "language": "python",
   "name": "python3"
  },
  "language_info": {
   "codemirror_mode": {
    "name": "ipython",
    "version": 3
   },
   "file_extension": ".py",
   "mimetype": "text/x-python",
   "name": "python",
   "nbconvert_exporter": "python",
   "pygments_lexer": "ipython3",
   "version": "3.9.6"
  }
 },
 "nbformat": 4,
 "nbformat_minor": 5
}
