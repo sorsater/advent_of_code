{
 "cells": [
  {
   "cell_type": "code",
   "execution_count": 1,
   "id": "17a3aaa6-13cd-4c11-8913-05ad7d573d66",
   "metadata": {},
   "outputs": [],
   "source": [
    "from copy import deepcopy"
   ]
  },
  {
   "cell_type": "code",
   "execution_count": 2,
   "id": "494b1ab5-a1a4-47e1-8aa9-99d6e3730b5e",
   "metadata": {},
   "outputs": [],
   "source": [
    "data = open(\"input/22\").read().splitlines()"
   ]
  },
  {
   "cell_type": "code",
   "execution_count": 3,
   "id": "1311f26b-c778-4683-8a85-93987a2193ff",
   "metadata": {},
   "outputs": [],
   "source": [
    "grid = {}\n",
    "start = (len(data) // 2, len(data) // 2)\n",
    "for r, row in enumerate(data):\n",
    "    for c, elem in enumerate(row):\n",
    "        grid[(r, c)] = elem\n",
    "initial_grid = deepcopy(grid)"
   ]
  },
  {
   "cell_type": "code",
   "execution_count": 4,
   "id": "ae95ecf1-b3a2-4c03-83ad-b6b7cda90567",
   "metadata": {},
   "outputs": [],
   "source": [
    "right = {\n",
    "    (-1, 0): (0, 1),\n",
    "    (1, 0): (0, -1),\n",
    "    (0, 1): (1, 0),\n",
    "    (0, -1): (-1, 0)\n",
    "}\n",
    "left = {v: k for k, v in right.items()}"
   ]
  },
  {
   "cell_type": "code",
   "execution_count": 5,
   "id": "4803468e-f621-4169-bacf-ed71ab67739a",
   "metadata": {},
   "outputs": [],
   "source": [
    "def burst(cur, dir):\n",
    "    current = grid.get(cur, \".\")\n",
    "    infected = False\n",
    "    if current == \"#\":\n",
    "        grid[cur] = \".\"\n",
    "        dir = right[dir]\n",
    "    else:\n",
    "        grid[cur] = \"#\"\n",
    "        dir = left[dir]\n",
    "        infected = True\n",
    "    cur = (cur[0] + dir[0], cur[1] + dir[1])\n",
    "    return cur, dir, infected"
   ]
  },
  {
   "cell_type": "code",
   "execution_count": 6,
   "id": "86d58ad7-22e7-4305-8226-978aaccdf6c9",
   "metadata": {},
   "outputs": [
    {
     "name": "stdout",
     "output_type": "stream",
     "text": [
      "Answer #1: 5330\n"
     ]
    }
   ],
   "source": [
    "cur = start\n",
    "dir = (-1, 0)\n",
    "\n",
    "infected_count = 0\n",
    "for _ in range(10000):\n",
    "    cur, dir, infected = burst(cur, dir)\n",
    "    if infected:\n",
    "        infected_count += 1\n",
    "print(f\"Answer #1: {infected_count}\")"
   ]
  },
  {
   "cell_type": "markdown",
   "id": "d9bc2e8a-b18f-4b42-9b9c-57224599775e",
   "metadata": {},
   "source": [
    "# Part 2"
   ]
  },
  {
   "cell_type": "code",
   "execution_count": 7,
   "id": "74d19ac8-f444-4ff9-b85f-fb552e236c2d",
   "metadata": {},
   "outputs": [],
   "source": [
    "def burst2(cur, dir):\n",
    "    current = grid.get(cur, \".\")\n",
    "    infected = False\n",
    "    if current == \"#\":\n",
    "        grid[cur] = \"F\"\n",
    "        dir = right[dir]\n",
    "    elif current == \".\":\n",
    "        dir = left[dir]\n",
    "        grid[cur] = \"W\"\n",
    "    elif current == \"W\":\n",
    "        infected = True\n",
    "        grid[cur] = \"#\"\n",
    "    elif current == \"F\":\n",
    "        grid[cur] = \".\"\n",
    "        dir = right[right[dir]]\n",
    "        \n",
    "    cur = (cur[0] + dir[0], cur[1] + dir[1])\n",
    "    return cur, dir, infected"
   ]
  },
  {
   "cell_type": "code",
   "execution_count": 8,
   "id": "18971cb0-d1ad-4304-ab38-48e4ba939389",
   "metadata": {},
   "outputs": [
    {
     "name": "stdout",
     "output_type": "stream",
     "text": [
      "Answer #2: 2512103\n"
     ]
    }
   ],
   "source": [
    "cur = start\n",
    "dir = (-1, 0)\n",
    "grid = initial_grid\n",
    "\n",
    "infected_count = 0\n",
    "for _ in range(10000000):\n",
    "    cur, dir, infected = burst2(cur, dir)\n",
    "    if infected:\n",
    "        infected_count += 1\n",
    "print(f\"Answer #2: {infected_count}\")"
   ]
  }
 ],
 "metadata": {
  "kernelspec": {
   "display_name": "Python 3 (ipykernel)",
   "language": "python",
   "name": "python3"
  },
  "language_info": {
   "codemirror_mode": {
    "name": "ipython",
    "version": 3
   },
   "file_extension": ".py",
   "mimetype": "text/x-python",
   "name": "python",
   "nbconvert_exporter": "python",
   "pygments_lexer": "ipython3",
   "version": "3.9.6"
  }
 },
 "nbformat": 4,
 "nbformat_minor": 5
}
