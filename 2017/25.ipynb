{
 "cells": [
  {
   "cell_type": "code",
   "execution_count": 1,
   "id": "acdbb4e4-61e9-4af1-a24e-6eb2f500ba3b",
   "metadata": {},
   "outputs": [],
   "source": [
    "from collections import defaultdict\n",
    "from tqdm.notebook import tqdm"
   ]
  },
  {
   "cell_type": "code",
   "execution_count": 2,
   "id": "3cb94701-1a77-4281-a84f-b8cc40099091",
   "metadata": {},
   "outputs": [],
   "source": [
    "data = open(\"input/25\").read().split(\"\\n\\n\")"
   ]
  },
  {
   "cell_type": "code",
   "execution_count": 3,
   "id": "b0d4d792-9538-4cab-886d-2fea87909b1f",
   "metadata": {},
   "outputs": [],
   "source": [
    "init, raw_states = data[0], data[1:]\n",
    "start, steps = init.split(\"\\n\")\n",
    "start = start.split(\"state \")[1][0]\n",
    "steps = int(steps.split(\" after \")[1].split(\" steps.\")[0])"
   ]
  },
  {
   "cell_type": "code",
   "execution_count": 4,
   "id": "bbc0b7fa-43f0-4260-ab2c-9503a68962f6",
   "metadata": {},
   "outputs": [],
   "source": [
    "class State:\n",
    "    __slots__ = \"tape\", \"write_0\", \"move_0\", \"cont_0\", \"write_1\", \"move_1\", \"cont_1\"\n",
    "\n",
    "    def __init__(self, tape):\n",
    "        self.tape = tape\n",
    "\n",
    "    def run(self, cursor):\n",
    "        current = self.tape[cursor]\n",
    "        if current == 0:\n",
    "            self.tape[cursor] = self.write_0\n",
    "            return self.move_0, self.cont_0\n",
    "        self.tape[cursor] = self.write_1\n",
    "        return self.move_1, self.cont_1"
   ]
  },
  {
   "cell_type": "code",
   "execution_count": 5,
   "id": "2f13854d-cad3-45e8-90b7-8ccb392f2e39",
   "metadata": {},
   "outputs": [],
   "source": [
    "states = {}\n",
    "tape = defaultdict(int)\n",
    "for state in raw_states:\n",
    "    state = state.split(\"\\n\")\n",
    "    name = state[0][-2:-1]\n",
    "\n",
    "    s = State(tape)    \n",
    "    s.write_0 = 0 if \"0\" in state[2] else 1\n",
    "    s.move_0 = 1 if \"right\" in state[3] else -1\n",
    "    s.cont_0 = state[4][-2:-1]\n",
    "\n",
    "    s.write_1 = 0 if \"0\" in state[6] else 1\n",
    "    s.move_1 = 1 if \"right\" in state[7] else -1\n",
    "    s.cont_1 = state[8][-2:-1]\n",
    "   \n",
    "    states[name] = s"
   ]
  },
  {
   "cell_type": "code",
   "execution_count": 6,
   "id": "725e60c3-f058-4d42-8181-3cca189f0f63",
   "metadata": {},
   "outputs": [
    {
     "data": {
      "application/vnd.jupyter.widget-view+json": {
       "model_id": "430b5dd17d6e4934b68cc713829a0735",
       "version_major": 2,
       "version_minor": 0
      },
      "text/plain": [
       "  0%|          | 0/12386363 [00:00<?, ?it/s]"
      ]
     },
     "metadata": {},
     "output_type": "display_data"
    }
   ],
   "source": [
    "cursor = 0\n",
    "current_state = start\n",
    "for _ in tqdm(range(steps)):\n",
    "    move, current_state = states[current_state].run(cursor)\n",
    "    cursor += move"
   ]
  },
  {
   "cell_type": "code",
   "execution_count": 7,
   "id": "6ed38ce9-5a8c-4ff9-95fb-d85f9c90a99a",
   "metadata": {},
   "outputs": [
    {
     "name": "stdout",
     "output_type": "stream",
     "text": [
      "Answer #1: 4385\n"
     ]
    }
   ],
   "source": [
    "print(f\"Answer #1: {sum(tape.values())}\")"
   ]
  }
 ],
 "metadata": {
  "kernelspec": {
   "display_name": "Python 3 (ipykernel)",
   "language": "python",
   "name": "python3"
  },
  "language_info": {
   "codemirror_mode": {
    "name": "ipython",
    "version": 3
   },
   "file_extension": ".py",
   "mimetype": "text/x-python",
   "name": "python",
   "nbconvert_exporter": "python",
   "pygments_lexer": "ipython3",
   "version": "3.9.6"
  }
 },
 "nbformat": 4,
 "nbformat_minor": 5
}
