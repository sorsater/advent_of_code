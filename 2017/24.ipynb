{
 "cells": [
  {
   "cell_type": "code",
   "execution_count": 1,
   "id": "e2086364-090a-46b4-bb2b-446795cfccf6",
   "metadata": {},
   "outputs": [],
   "source": [
    "from collections import deque"
   ]
  },
  {
   "cell_type": "code",
   "execution_count": 2,
   "id": "6d443e44-2a14-48fc-b521-fc3f021736ca",
   "metadata": {},
   "outputs": [],
   "source": [
    "data = open(\"input/24\").read().splitlines()"
   ]
  },
  {
   "cell_type": "code",
   "execution_count": 3,
   "id": "5115a334-582a-4cb9-9d04-b87135bfe9c2",
   "metadata": {},
   "outputs": [],
   "source": [
    "comps = [list(map(int, line.split(\"/\"))) for line in data]"
   ]
  },
  {
   "cell_type": "code",
   "execution_count": 4,
   "id": "e800074c-7f64-4c22-bc65-de246a4214f2",
   "metadata": {},
   "outputs": [],
   "source": [
    "comp_sums = [sum(comp) for comp in comps]"
   ]
  },
  {
   "cell_type": "code",
   "execution_count": 5,
   "id": "3bde6c52-0305-4526-9999-b124af2e376f",
   "metadata": {},
   "outputs": [],
   "source": [
    "def find_paths(start_idx):\n",
    "    comp = comps[start_idx]\n",
    "    next_elem = comp[0] if comp[1] == 0 else comp[1]\n",
    "\n",
    "    q = deque([(next_elem, [start_idx])])\n",
    "    all_paths = []\n",
    "    while q:\n",
    "        current, path = q.popleft()\n",
    "        all_paths.append(path)\n",
    "        for i, comp in enumerate(comps):\n",
    "            if i in path:\n",
    "                continue\n",
    "            if current in comp:\n",
    "                next_elem = comp[0] if comp[1] == current else comp[1]\n",
    "                q.append([next_elem, path + [i]])\n",
    "\n",
    "    converted_paths = []\n",
    "    for path in all_paths:\n",
    "        path_sum = 0\n",
    "        for i in path:\n",
    "            path_sum += comp_sums[i]\n",
    "        converted_paths.append([path_sum, len(path)])\n",
    "    return converted_paths"
   ]
  },
  {
   "cell_type": "code",
   "execution_count": 6,
   "id": "1f732bc0-6473-43a0-b747-a0b755b1f5be",
   "metadata": {},
   "outputs": [],
   "source": [
    "all_paths = []\n",
    "for idx, comp in enumerate(comps):\n",
    "    if 0 in comp:\n",
    "        all_paths.extend(find_paths(idx))"
   ]
  },
  {
   "cell_type": "code",
   "execution_count": 7,
   "id": "78505f7c-40d4-4cec-bcbe-95248708c257",
   "metadata": {},
   "outputs": [
    {
     "name": "stdout",
     "output_type": "stream",
     "text": [
      "Answer #1: 1656\n"
     ]
    }
   ],
   "source": [
    "print(f\"Answer #1: {sorted(all_paths)[-1][0]}\")"
   ]
  },
  {
   "cell_type": "code",
   "execution_count": 8,
   "id": "0af54230-0aca-4a03-95e3-254e1cb3ad9c",
   "metadata": {},
   "outputs": [],
   "source": [
    "flipped = [[b, a] for a, b in all_paths]\n",
    "longest = sorted(flipped)[-1][0]\n",
    "part2 = -1\n",
    "for a, b in all_paths:\n",
    "    if b == longest:\n",
    "        part2 = max(part2, a)"
   ]
  },
  {
   "cell_type": "code",
   "execution_count": 9,
   "id": "6fe56c21-51f8-4479-81a2-6c90e828418c",
   "metadata": {},
   "outputs": [
    {
     "name": "stdout",
     "output_type": "stream",
     "text": [
      "Answer #2: 1642\n"
     ]
    }
   ],
   "source": [
    "print(f\"Answer #2: {part2}\")"
   ]
  }
 ],
 "metadata": {
  "kernelspec": {
   "display_name": "Python 3 (ipykernel)",
   "language": "python",
   "name": "python3"
  },
  "language_info": {
   "codemirror_mode": {
    "name": "ipython",
    "version": 3
   },
   "file_extension": ".py",
   "mimetype": "text/x-python",
   "name": "python",
   "nbconvert_exporter": "python",
   "pygments_lexer": "ipython3",
   "version": "3.9.6"
  }
 },
 "nbformat": 4,
 "nbformat_minor": 5
}
