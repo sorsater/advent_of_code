{
 "cells": [
  {
   "cell_type": "code",
   "execution_count": 1,
   "id": "5a80f6a4-d2de-4c2c-8c07-038cfc0a7874",
   "metadata": {},
   "outputs": [],
   "source": [
    "data = open(\"input/23\").read().splitlines()"
   ]
  },
  {
   "cell_type": "code",
   "execution_count": 2,
   "id": "22f33810-d50e-4b6a-9893-b068f3a0c53f",
   "metadata": {},
   "outputs": [],
   "source": [
    "cmds = []\n",
    "for line in data:\n",
    "    instr, first, second = line.split(\" \")\n",
    "    \n",
    "    if first.lstrip('-').isdigit():\n",
    "        first = int(first)\n",
    "\n",
    "    if second.lstrip('-').isdigit():\n",
    "        second = int(second)\n",
    "\n",
    "    cmds.append([instr, first, second])"
   ]
  },
  {
   "cell_type": "code",
   "execution_count": 3,
   "id": "ea78b7ea-6e6c-4abd-b650-b559c0cda9e1",
   "metadata": {},
   "outputs": [],
   "source": [
    "class Computer:\n",
    "    def __init__(self, cmds, part2=False):\n",
    "        self.cmds = cmds\n",
    "        self.pc = 0\n",
    "        self.regs = {}\n",
    "        for char in \"abcdefgh\":\n",
    "            self.regs[char] = 0\n",
    "        self.mul_count = 0\n",
    "        if part2:\n",
    "            self.regs[\"a\"] = 1\n",
    "            \n",
    "    def get_instr(self):\n",
    "        try:\n",
    "            return True, self.cmds[self.pc]\n",
    "        except:\n",
    "            return False, self.mul_count\n",
    "    \n",
    "    def set(self, register, value):\n",
    "        if isinstance(value, int):\n",
    "            self.regs[register] = value\n",
    "        else:\n",
    "            self.regs[register] = self.regs[value]\n",
    "        self.pc += 1\n",
    "\n",
    "    def jnz(self, first, second):\n",
    "        if isinstance(first, str):\n",
    "            val = self.regs[first]\n",
    "        else:\n",
    "            val = first\n",
    "        if val == 0:\n",
    "            self.pc += 1\n",
    "        else:\n",
    "            self.pc += second\n",
    "    \n",
    "    def mul(self, first, second):\n",
    "        self.mul_count += 1\n",
    "        if isinstance(second, str):\n",
    "            val = self.regs[second]\n",
    "        else:\n",
    "            val = second\n",
    "        self.regs[first] *= val\n",
    "        self.pc += 1\n",
    "\n",
    "    def sub(self, first, second):\n",
    "        if isinstance(second, str):\n",
    "            val = self.regs[second]\n",
    "        else:\n",
    "            val = second\n",
    "        self.regs[first] -= val\n",
    "        self.pc += 1\n",
    "        "
   ]
  },
  {
   "cell_type": "code",
   "execution_count": 4,
   "id": "2955d753-6e37-4548-b1cf-464d6380549f",
   "metadata": {},
   "outputs": [],
   "source": [
    "c = Computer(cmds)\n",
    "while True:\n",
    "    run, n = c.get_instr()\n",
    "    if not run:\n",
    "        part1 = n\n",
    "        break\n",
    "    instr, first, second = n\n",
    "    if instr == \"set\":\n",
    "        c.set(first, second)\n",
    "    if instr == \"jnz\":\n",
    "        c.jnz(first, second)\n",
    "    if instr == \"mul\":\n",
    "        c.mul(first, second)\n",
    "    if instr == \"sub\":\n",
    "        c.sub(first, second)"
   ]
  },
  {
   "cell_type": "code",
   "execution_count": 5,
   "id": "12280bbc-0f6b-4049-8cbf-1682bb403478",
   "metadata": {},
   "outputs": [
    {
     "name": "stdout",
     "output_type": "stream",
     "text": [
      "Answer #1: 6724\n"
     ]
    }
   ],
   "source": [
    "print(f\"Answer #1: {part1}\")"
   ]
  },
  {
   "cell_type": "markdown",
   "id": "9465d9de-0dec-46e1-82b2-ac9bef986f02",
   "metadata": {},
   "source": [
    "# Part 2"
   ]
  },
  {
   "cell_type": "code",
   "execution_count": 6,
   "id": "6799d3b4-52c4-4351-b24b-9af143aec547",
   "metadata": {},
   "outputs": [],
   "source": [
    "# Couldn't figure out this one myself\n",
    "# Got some help understanding it's looking for composite numbers\n",
    "b = 84\n",
    "c = b\n",
    "\n",
    "b = b * 100 + 100000\n",
    "c = b + 17000\n",
    "h = 0\n",
    "\n",
    "while b <= c:\n",
    "    f = 1\n",
    "    d = 2\n",
    "    \n",
    "    while d * d <= b:\n",
    "        if b % d == 0:\n",
    "            f = 0\n",
    "        d += 1\n",
    "    \n",
    "    if f == 0:\n",
    "        h += 1\n",
    "    \n",
    "    b += 17"
   ]
  },
  {
   "cell_type": "code",
   "execution_count": 7,
   "id": "d4cbaf35-3679-49ab-821b-ded4b6b9b24c",
   "metadata": {},
   "outputs": [
    {
     "name": "stdout",
     "output_type": "stream",
     "text": [
      "Answer #2: 903\n"
     ]
    }
   ],
   "source": [
    "print(f\"Answer #2: {h}\")"
   ]
  }
 ],
 "metadata": {
  "kernelspec": {
   "display_name": "Python 3 (ipykernel)",
   "language": "python",
   "name": "python3"
  },
  "language_info": {
   "codemirror_mode": {
    "name": "ipython",
    "version": 3
   },
   "file_extension": ".py",
   "mimetype": "text/x-python",
   "name": "python",
   "nbconvert_exporter": "python",
   "pygments_lexer": "ipython3",
   "version": "3.9.6"
  }
 },
 "nbformat": 4,
 "nbformat_minor": 5
}
