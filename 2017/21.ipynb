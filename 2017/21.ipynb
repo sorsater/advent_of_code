{
 "cells": [
  {
   "cell_type": "code",
   "execution_count": 1,
   "id": "8964a8a8-9275-4a0c-abfc-d39ce9a21ece",
   "metadata": {},
   "outputs": [],
   "source": [
    "from copy import deepcopy\n",
    "from math import sqrt"
   ]
  },
  {
   "cell_type": "code",
   "execution_count": 2,
   "id": "c18f14d6-345a-48e5-b582-81ed15f6ffaf",
   "metadata": {},
   "outputs": [],
   "source": [
    "start = \"\"\".#.\n",
    "..#\n",
    "###\"\"\""
   ]
  },
  {
   "cell_type": "code",
   "execution_count": 3,
   "id": "2d6357d0-6d79-4440-950e-8655c4958af8",
   "metadata": {},
   "outputs": [],
   "source": [
    "raw_rules = open(\"input/21\").read().splitlines()"
   ]
  },
  {
   "cell_type": "code",
   "execution_count": 4,
   "id": "e73f9618-0c44-4905-bb53-2d6a58ec61fc",
   "metadata": {},
   "outputs": [],
   "source": [
    "def rotate_90(matrix):\n",
    "    return [list(row) for row in zip(*matrix[::-1])]\n",
    "def flip_horizontal(matrix):\n",
    "    return [row[::-1] for row in matrix]\n",
    "def flip_vertical(matrix):\n",
    "    return matrix[::-1]"
   ]
  },
  {
   "cell_type": "code",
   "execution_count": 5,
   "id": "ded6172f-8d61-4aa1-9d13-e1fcbfa6cd94",
   "metadata": {},
   "outputs": [],
   "source": [
    "def flip_and_rotate(initial):\n",
    "    all_versions = set()\n",
    "    original = [tuple(row) for row in initial.split(\"/\")]\n",
    "    all_versions.add(tuple(original))\n",
    "    for _ in range(4):\n",
    "        original = rotate_90(original)\n",
    "        all_versions.add(tuple([tuple(r) for r in original]))\n",
    "\n",
    "    for version in deepcopy(all_versions):\n",
    "        flipped_horizontal = flip_horizontal(version)\n",
    "        all_versions.add(tuple([tuple(r) for r in flipped_horizontal]))\n",
    "\n",
    "        flipped_vertical = flip_vertical(version)\n",
    "        all_versions.add(tuple([tuple(r) for r in flipped_vertical]))\n",
    "\n",
    "    return all_versions"
   ]
  },
  {
   "cell_type": "code",
   "execution_count": 6,
   "id": "02e140ea-1b55-47f2-bbbe-2cb00c2d35a0",
   "metadata": {},
   "outputs": [],
   "source": [
    "rules = {}\n",
    "for rule in raw_rules:\n",
    "    first, second = rule.split(\" => \")\n",
    "\n",
    "    for variation in flip_and_rotate(first):\n",
    "        rules[variation] = second"
   ]
  },
  {
   "cell_type": "code",
   "execution_count": 7,
   "id": "508f5e5b-c223-4162-acea-98976e62c5c5",
   "metadata": {},
   "outputs": [],
   "source": [
    "grid = {}\n",
    "for r, row in enumerate(start.split(\"\\n\")):\n",
    "    for c, elem in enumerate(row):\n",
    "        grid[(r, c)] = elem"
   ]
  },
  {
   "cell_type": "code",
   "execution_count": 8,
   "id": "08a068f6-935b-4e17-90f8-84e249e61158",
   "metadata": {},
   "outputs": [],
   "source": [
    "def divide_into_smaller(grid_size):\n",
    "    grid_size = int(sqrt(grid_size))\n",
    "    if grid_size % 2 == 0:\n",
    "        jump = 2\n",
    "    else:\n",
    "        jump = 3\n",
    "    new_grids = []\n",
    "    r_cnt = 0\n",
    "    for r in range(0, grid_size, jump):\n",
    "        c_cnt = 0\n",
    "        for c in range(0, grid_size, jump):\n",
    "            new_grid = []\n",
    "            for i in range(jump):\n",
    "                row = []\n",
    "                for j in range(jump):\n",
    "                    row.append(grid[(r + i, c + j)])\n",
    "                new_grid.append(row)\n",
    "            new_grids.append([r_cnt, c_cnt, new_grid])\n",
    "            c_cnt += 1\n",
    "        r_cnt += 1\n",
    "    return new_grids"
   ]
  },
  {
   "cell_type": "code",
   "execution_count": 9,
   "id": "56fa316a-b86a-4c53-a7ec-45d5720c0de1",
   "metadata": {},
   "outputs": [],
   "source": [
    "# Helper function\n",
    "def print_grid():\n",
    "    size = int(sqrt(len(grid)))\n",
    "    for x in range(size):\n",
    "        for y in range(size):\n",
    "            print(new_grid[(x, y)], end=\"\")\n",
    "        print()"
   ]
  },
  {
   "cell_type": "code",
   "execution_count": 10,
   "id": "ba322483-d773-4388-8ab3-b172b6b0d43a",
   "metadata": {},
   "outputs": [],
   "source": [
    "def count_score():\n",
    "    res = 0\n",
    "    for v in grid.values():\n",
    "        if v == \"#\":\n",
    "            res += 1\n",
    "    return res"
   ]
  },
  {
   "cell_type": "code",
   "execution_count": 11,
   "id": "2b11c8c4-f8b5-4e29-9e9f-c7c304ed2c6d",
   "metadata": {},
   "outputs": [],
   "source": [
    "for cntr in range(18):\n",
    "    smaller = divide_into_smaller(len(grid))\n",
    "    grid = {}\n",
    "    for row_offset, col_offset, small in smaller:\n",
    "        small = tuple([tuple(r) for r in small])\n",
    "        offset_size = len(rules[small].split(\"/\")[0])\n",
    "        for r, row in enumerate(rules[small].split(\"/\")):\n",
    "            for c, elem in enumerate(row):\n",
    "                grid[(row_offset * offset_size + r, col_offset * offset_size + c)] = elem\n",
    "    if cntr == 4:\n",
    "        part1 = count_score()"
   ]
  },
  {
   "cell_type": "code",
   "execution_count": 12,
   "id": "5ccc25c1-8cd1-446b-add1-ab62bebc920f",
   "metadata": {},
   "outputs": [
    {
     "name": "stdout",
     "output_type": "stream",
     "text": [
      "Answer #1: 190\n"
     ]
    }
   ],
   "source": [
    "print(f\"Answer #1: {part1}\")"
   ]
  },
  {
   "cell_type": "code",
   "execution_count": 13,
   "id": "dc431125-fe94-443a-ad61-fdb52f70d0c7",
   "metadata": {},
   "outputs": [
    {
     "name": "stdout",
     "output_type": "stream",
     "text": [
      "Answer #2: 2335049\n"
     ]
    }
   ],
   "source": [
    "part2 = count_score()\n",
    "print(f\"Answer #2: {part2}\")"
   ]
  }
 ],
 "metadata": {
  "kernelspec": {
   "display_name": "Python 3 (ipykernel)",
   "language": "python",
   "name": "python3"
  },
  "language_info": {
   "codemirror_mode": {
    "name": "ipython",
    "version": 3
   },
   "file_extension": ".py",
   "mimetype": "text/x-python",
   "name": "python",
   "nbconvert_exporter": "python",
   "pygments_lexer": "ipython3",
   "version": "3.9.6"
  }
 },
 "nbformat": 4,
 "nbformat_minor": 5
}
