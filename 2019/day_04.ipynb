{
 "cells": [
  {
   "cell_type": "code",
   "execution_count": 1,
   "metadata": {},
   "outputs": [],
   "source": [
    "from collections import Counter"
   ]
  },
  {
   "cell_type": "code",
   "execution_count": 2,
   "metadata": {},
   "outputs": [],
   "source": [
    "data = open('input/04.txt').read()\n",
    "start, end = list(map(int, data.split('-')))"
   ]
  },
  {
   "cell_type": "code",
   "execution_count": 3,
   "metadata": {},
   "outputs": [],
   "source": [
    "def check_pw(pw):\n",
    "    pw = str(pw)\n",
    "    if not list(pw) == sorted(pw):\n",
    "        return False, False\n",
    "    \n",
    "    values = Counter(pw).values()\n",
    "    \n",
    "    # Part 1\n",
    "    have_atleast_2 = max(values) > 1\n",
    "\n",
    "    # Part 2\n",
    "    is_grouped = 2 in values\n",
    "    \n",
    "    return have_atleast_2, is_grouped"
   ]
  },
  {
   "cell_type": "code",
   "execution_count": 4,
   "metadata": {},
   "outputs": [
    {
     "name": "stdout",
     "output_type": "stream",
     "text": [
      "Answer #1: 1063\n",
      "Answer #2: 686\n"
     ]
    }
   ],
   "source": [
    "tot_part1, tot_part2 = [], []\n",
    "for i in range(start, end+1):\n",
    "    part1, part2 = check_pw(i)\n",
    "    tot_part1.append(part1)\n",
    "    tot_part2.append(part2)\n",
    "    \n",
    "print(f'Answer #1: {sum(tot_part1)}')\n",
    "print(f'Answer #2: {sum(tot_part2)}')"
   ]
  }
 ],
 "metadata": {
  "kernelspec": {
   "display_name": "Python 3",
   "language": "python",
   "name": "python3"
  },
  "language_info": {
   "codemirror_mode": {
    "name": "ipython",
    "version": 3
   },
   "file_extension": ".py",
   "mimetype": "text/x-python",
   "name": "python",
   "nbconvert_exporter": "python",
   "pygments_lexer": "ipython3",
   "version": "3.7.3"
  }
 },
 "nbformat": 4,
 "nbformat_minor": 2
}
