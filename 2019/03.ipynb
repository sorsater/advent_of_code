{
 "cells": [
  {
   "cell_type": "code",
   "execution_count": 1,
   "metadata": {},
   "outputs": [],
   "source": [
    "data = open('input/03.txt').read().split('\\n')\n",
    "cmds = [line.split(',') for line in data if line ]"
   ]
  },
  {
   "cell_type": "markdown",
   "metadata": {},
   "source": [
    "# Part 1"
   ]
  },
  {
   "cell_type": "code",
   "execution_count": 2,
   "metadata": {},
   "outputs": [],
   "source": [
    "directions = {'R': [1, 0], 'L': [-1, 0], 'U': [0, -1], 'D': [0, 1]}\n",
    "\n",
    "all_pos = {}\n",
    "step_counter = {}\n",
    "for idx, cmd in enumerate(cmds):\n",
    "    x, y = 0, 0\n",
    "    visited_positions = set()\n",
    "    step_counter[idx] = {}\n",
    "    steps_taken = 0\n",
    "    for instr in cmd:\n",
    "        direction, steps = instr[0], int(instr[1:])\n",
    "        for i in range(steps):\n",
    "            tmp_x, tmp_y = directions[direction]\n",
    "            x += tmp_x\n",
    "            y += tmp_y\n",
    "            tup_pos = tuple((x, y))\n",
    "            visited_positions.add(tup_pos)\n",
    "            steps_taken += 1\n",
    "            if tup_pos not in step_counter:\n",
    "                step_counter[idx][tup_pos] = steps_taken\n",
    "\n",
    "    for pos in visited_positions:\n",
    "        all_pos[pos] = all_pos.get(pos, [0, []])\n",
    "        all_pos[pos][0] += 1\n",
    "        all_pos[pos][1].append(idx)"
   ]
  },
  {
   "cell_type": "code",
   "execution_count": 3,
   "metadata": {},
   "outputs": [
    {
     "name": "stdout",
     "output_type": "stream",
     "text": [
      "Answer #1: 386\n"
     ]
    }
   ],
   "source": [
    "matches = [key for key, val in all_pos.items() if val[0] > 1]\n",
    "answer_1 = min([abs(x) + abs(y) for x, y in matches])\n",
    "print(f'Answer #1: {answer_1}')"
   ]
  },
  {
   "cell_type": "markdown",
   "metadata": {},
   "source": [
    "# Part 2"
   ]
  },
  {
   "cell_type": "code",
   "execution_count": 4,
   "metadata": {},
   "outputs": [
    {
     "name": "stdout",
     "output_type": "stream",
     "text": [
      "Answer #2: 6484\n"
     ]
    }
   ],
   "source": [
    "answer_2 = min([sum([step_counter[wire][key] for wire in wires]) for key, (steps, wires) in all_pos.items() if steps > 1])\n",
    "print(f'Answer #2: {answer_2}')"
   ]
  }
 ],
 "metadata": {
  "kernelspec": {
   "display_name": "Python 3",
   "language": "python",
   "name": "python3"
  },
  "language_info": {
   "codemirror_mode": {
    "name": "ipython",
    "version": 3
   },
   "file_extension": ".py",
   "mimetype": "text/x-python",
   "name": "python",
   "nbconvert_exporter": "python",
   "pygments_lexer": "ipython3",
   "version": "3.7.3"
  }
 },
 "nbformat": 4,
 "nbformat_minor": 2
}
