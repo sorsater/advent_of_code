{
 "cells": [
  {
   "cell_type": "code",
   "execution_count": 1,
   "metadata": {},
   "outputs": [],
   "source": [
    "data = list(eval(open('input/07.txt').read()))\n",
    "\n",
    "from intcode import Intcode\n",
    "from itertools import permutations"
   ]
  },
  {
   "cell_type": "code",
   "execution_count": 2,
   "metadata": {},
   "outputs": [],
   "source": [
    "def run_phase_setting(phase_setting, pt1):\n",
    "    # Create amps\n",
    "    amps = [Intcode(program=data[:], day=7, inputs=[phase_setting[i]]) for i in range(5)]\n",
    "\n",
    "    # Init first with 0 \n",
    "    amps[0].add_input(0)\n",
    "\n",
    "    prev_output = 0\n",
    "    while all(not amp.halted for amp in amps):\n",
    "        for idx, amp in enumerate(amps):\n",
    "            res = amp.run_program()\n",
    "            if not amp.halted:\n",
    "                prev_output = res\n",
    "                amps[(idx + 1) % len(amps)].add_input(res)\n",
    "        # Part 1 runs only 1 iteration\n",
    "        if pt1:\n",
    "            break\n",
    "\n",
    "    return prev_output"
   ]
  },
  {
   "cell_type": "markdown",
   "metadata": {},
   "source": [
    "# Part 1"
   ]
  },
  {
   "cell_type": "code",
   "execution_count": 3,
   "metadata": {},
   "outputs": [
    {
     "name": "stdout",
     "output_type": "stream",
     "text": [
      "Answer #1: 20413\n"
     ]
    }
   ],
   "source": [
    "res = [[run_phase_setting(perm, True), perm] for perm in permutations(range(5))]\n",
    "res.sort()\n",
    "print(f'Answer #1: {res[-1][0]}')"
   ]
  },
  {
   "cell_type": "markdown",
   "metadata": {},
   "source": [
    "# Part 2"
   ]
  },
  {
   "cell_type": "code",
   "execution_count": 4,
   "metadata": {},
   "outputs": [
    {
     "name": "stdout",
     "output_type": "stream",
     "text": [
      "Answer #2: 3321777\n"
     ]
    }
   ],
   "source": [
    "res = [[run_phase_setting(perm, False), perm] for perm in permutations(range(5,10))]\n",
    "res.sort()\n",
    "print(f'Answer #2: {res[-1][0]}')"
   ]
  }
 ],
 "metadata": {
  "kernelspec": {
   "display_name": "Python 3",
   "language": "python",
   "name": "python3"
  },
  "language_info": {
   "codemirror_mode": {
    "name": "ipython",
    "version": 3
   },
   "file_extension": ".py",
   "mimetype": "text/x-python",
   "name": "python",
   "nbconvert_exporter": "python",
   "pygments_lexer": "ipython3",
   "version": "3.7.3"
  }
 },
 "nbformat": 4,
 "nbformat_minor": 2
}
