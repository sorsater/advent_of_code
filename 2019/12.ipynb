{
 "cells": [
  {
   "cell_type": "code",
   "execution_count": 1,
   "metadata": {},
   "outputs": [],
   "source": [
    "import re\n",
    "from itertools import combinations\n",
    "from copy import deepcopy"
   ]
  },
  {
   "cell_type": "code",
   "execution_count": 2,
   "metadata": {},
   "outputs": [],
   "source": [
    "data = open('input/12.txt').read().splitlines()\n",
    "\n",
    "steps = 1000"
   ]
  },
  {
   "cell_type": "markdown",
   "metadata": {},
   "source": [
    "## Extract moons"
   ]
  },
  {
   "cell_type": "code",
   "execution_count": 3,
   "metadata": {},
   "outputs": [],
   "source": [
    "moons = []\n",
    "pattern = r'<x=(.*), y=(.*), z=(.*)>'\n",
    "for idx, m in enumerate(data):\n",
    "    match = re.match(pattern, m)\n",
    "    x, y, z = list(map(int, match.groups()))\n",
    "    moons.append([[x, y, z], [0, 0, 0]])\n",
    "original_moons = deepcopy(moons)"
   ]
  },
  {
   "cell_type": "markdown",
   "metadata": {},
   "source": [
    "## Perform 1 iteration"
   ]
  },
  {
   "cell_type": "code",
   "execution_count": 4,
   "metadata": {},
   "outputs": [],
   "source": [
    "def run_iteration():\n",
    "    for idx1, idx2 in combinations(range(len(moons)), 2):\n",
    "        # Calculate velocity\n",
    "        pos1, vel1 = moons[idx1]\n",
    "        pos2, vel2 = moons[idx2]\n",
    "        for a in range(3):\n",
    "            if pos1[a] > pos2[a]:\n",
    "                vel1[a] -= 1\n",
    "                vel2[a] += 1\n",
    "            elif pos1[a] < pos2[a]:\n",
    "                vel1[a] += 1\n",
    "                vel2[a] -= 1\n",
    "        moons[idx1][1] = vel1\n",
    "        moons[idx2][1] = vel2\n",
    "    \n",
    "    # Update moons\n",
    "    for idx, moon in enumerate(moons):\n",
    "        pos = [moon[0][0] + moon[1][0], moon[0][1] + moon[1][1], moon[0][2] + moon[1][2]]\n",
    "        vel = moon[1]\n",
    "        moons[idx] = [pos, vel]"
   ]
  },
  {
   "cell_type": "markdown",
   "metadata": {},
   "source": [
    "# Part 1"
   ]
  },
  {
   "cell_type": "code",
   "execution_count": 5,
   "metadata": {},
   "outputs": [],
   "source": [
    "for i in range(steps):\n",
    "    run_iteration()"
   ]
  },
  {
   "cell_type": "code",
   "execution_count": 6,
   "metadata": {},
   "outputs": [
    {
     "name": "stdout",
     "output_type": "stream",
     "text": [
      "Answer #1: 7138\n"
     ]
    }
   ],
   "source": [
    "def calculate_energy(moon):\n",
    "    pos, vel = moon\n",
    "    potential = sum(list(map(abs, pos)))\n",
    "    kinetic = sum(list(map(abs, vel)))\n",
    "    return potential * kinetic\n",
    "    \n",
    "energies = sum(list(map(calculate_energy, moons)))\n",
    "print(f'Answer #1: {energies}')"
   ]
  },
  {
   "cell_type": "markdown",
   "metadata": {},
   "source": [
    "# Part 2\n",
    "Each axle moves independently of the others.  \n",
    "So for each axle check when they repeat again.\n",
    "When that is done, calculate lowest common multiplier, when they will repeat again together."
   ]
  },
  {
   "cell_type": "code",
   "execution_count": 7,
   "metadata": {},
   "outputs": [],
   "source": [
    "def compare_state_to_initial():\n",
    "    x, y, z = [], [], []\n",
    "    for moon_idx, (pos1, vel1) in enumerate(moons):\n",
    "        pos2, vel2 = original_moons[moon_idx]\n",
    "        \n",
    "        x.append(pos1[0] == pos2[0] and vel1[0] == vel2[0])\n",
    "        y.append(pos1[1] == pos2[1] and vel1[1] == vel2[1])\n",
    "        z.append(pos1[2] == pos2[2] and vel1[2] == vel2[2])\n",
    "        \n",
    "    return sum(x) == len(x), sum(y) == len(y), sum(z) == len(z)        "
   ]
  },
  {
   "cell_type": "markdown",
   "metadata": {},
   "source": [
    "## Run iterations until repeats"
   ]
  },
  {
   "cell_type": "code",
   "execution_count": 8,
   "metadata": {},
   "outputs": [],
   "source": [
    "moons = deepcopy(original_moons)\n",
    "\n",
    "result = [False, False, False]\n",
    "cntr = 0\n",
    "while result.count(False) > 0:\n",
    "    cntr += 1\n",
    "    run_iteration()\n",
    "    x, y, z = compare_state_to_initial()\n",
    "    if x and not result[0]:\n",
    "        result[0] = cntr\n",
    "    if y and not result[1]:\n",
    "        result[1] = cntr\n",
    "    if z and not result[2]:\n",
    "        result[2] = cntr"
   ]
  },
  {
   "cell_type": "markdown",
   "metadata": {},
   "source": [
    "## Calculate lowest common multiple of the axles"
   ]
  },
  {
   "cell_type": "code",
   "execution_count": 9,
   "metadata": {},
   "outputs": [],
   "source": [
    "# From https://gist.github.com/endolith/114336/eff2dc13535f139d0d6a2db68597fad2826b53c3\n",
    "def gcd(a,b):\n",
    "    \"\"\"Compute the greatest common divisor of a and b\"\"\"\n",
    "    while b > 0:\n",
    "        a, b = b, a % b\n",
    "    return a\n",
    "    \n",
    "def lcm(a, b):\n",
    "    \"\"\"Compute the lowest common multiple of a and b\"\"\"\n",
    "    return int(a * b / gcd(a, b))"
   ]
  },
  {
   "cell_type": "code",
   "execution_count": 10,
   "metadata": {},
   "outputs": [
    {
     "name": "stdout",
     "output_type": "stream",
     "text": [
      "Answer #2: 572087463375796\n"
     ]
    }
   ],
   "source": [
    "x, y, z = result\n",
    "answer_2 = lcm(lcm(x, y), z)\n",
    "print(f'Answer #2: {answer_2}')"
   ]
  }
 ],
 "metadata": {
  "kernelspec": {
   "display_name": "Python 3",
   "language": "python",
   "name": "python3"
  },
  "language_info": {
   "codemirror_mode": {
    "name": "ipython",
    "version": 3
   },
   "file_extension": ".py",
   "mimetype": "text/x-python",
   "name": "python",
   "nbconvert_exporter": "python",
   "pygments_lexer": "ipython3",
   "version": "3.7.3"
  }
 },
 "nbformat": 4,
 "nbformat_minor": 2
}
