{
 "cells": [
  {
   "cell_type": "code",
   "execution_count": 1,
   "metadata": {},
   "outputs": [],
   "source": [
    "data = open('input/06.txt').read().splitlines()\n",
    "data = [line.split(')') for line in data]"
   ]
  },
  {
   "cell_type": "markdown",
   "metadata": {},
   "source": [
    "# Part 1"
   ]
  },
  {
   "cell_type": "code",
   "execution_count": 2,
   "metadata": {},
   "outputs": [],
   "source": [
    "orbits = {second: first for first, second in data}"
   ]
  },
  {
   "cell_type": "code",
   "execution_count": 3,
   "metadata": {},
   "outputs": [
    {
     "name": "stdout",
     "output_type": "stream",
     "text": [
      "Answer #1: 162816\n"
     ]
    }
   ],
   "source": [
    "def check_depth(key, queue, depth):\n",
    "    if key in orbits.keys():\n",
    "        return check_depth(orbits[key], queue + [orbits[key]], depth + 1)\n",
    "    else:\n",
    "        return depth, queue\n",
    "\n",
    "depths = 0\n",
    "res = {}\n",
    "for key in orbits.keys():\n",
    "    depth, queue = check_depth(key, [key], 0)\n",
    "    depths += depth\n",
    "    res[key] = queue\n",
    "        \n",
    "answer_1 = depths\n",
    "print(f'Answer #1: {answer_1}')"
   ]
  },
  {
   "cell_type": "markdown",
   "metadata": {},
   "source": [
    "# Part 2"
   ]
  },
  {
   "cell_type": "code",
   "execution_count": 4,
   "metadata": {},
   "outputs": [
    {
     "name": "stdout",
     "output_type": "stream",
     "text": [
      "Answer #2: 304\n"
     ]
    }
   ],
   "source": [
    "answer_2 = min([i_y + i_s for i_y, y in enumerate(res['YOU']) for i_s, s in enumerate(res['SAN']) if y == s]) - 2\n",
    "print(f'Answer #2: {answer_2}')"
   ]
  }
 ],
 "metadata": {
  "kernelspec": {
   "display_name": "Python 3",
   "language": "python",
   "name": "python3"
  },
  "language_info": {
   "codemirror_mode": {
    "name": "ipython",
    "version": 3
   },
   "file_extension": ".py",
   "mimetype": "text/x-python",
   "name": "python",
   "nbconvert_exporter": "python",
   "pygments_lexer": "ipython3",
   "version": "3.7.3"
  }
 },
 "nbformat": 4,
 "nbformat_minor": 2
}
