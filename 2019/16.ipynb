{
 "cells": [
  {
   "cell_type": "code",
   "execution_count": 1,
   "id": "341719c2-3396-45dc-9852-9be8f2d90a8b",
   "metadata": {},
   "outputs": [],
   "source": [
    "from tqdm.notebook import tqdm\n",
    "from copy import deepcopy"
   ]
  },
  {
   "cell_type": "code",
   "execution_count": 2,
   "id": "21033d2a-1039-4dce-816d-631ec51e344a",
   "metadata": {},
   "outputs": [],
   "source": [
    "data = open(\"input/16\").read()"
   ]
  },
  {
   "cell_type": "code",
   "execution_count": 3,
   "id": "b30f22ad-2d19-4e2d-8580-664eef61a499",
   "metadata": {},
   "outputs": [],
   "source": [
    "data = list(map(int, data))\n",
    "data_copy = deepcopy(data)"
   ]
  },
  {
   "cell_type": "code",
   "execution_count": 4,
   "id": "58d30458-7c10-4348-a6a6-676f7aa4d425",
   "metadata": {},
   "outputs": [],
   "source": [
    "pattern = [0, 1, 0, -1]"
   ]
  },
  {
   "cell_type": "code",
   "execution_count": 5,
   "id": "6a073c2f-1332-42a7-8694-b1a928470064",
   "metadata": {},
   "outputs": [],
   "source": [
    "def get_mul(n):\n",
    "    while True:\n",
    "        for p in pattern:\n",
    "            for _ in range(n):\n",
    "                yield p"
   ]
  },
  {
   "cell_type": "code",
   "execution_count": 6,
   "id": "7b5b18f5-ff62-48bf-8448-dc8c4bead564",
   "metadata": {},
   "outputs": [],
   "source": [
    "def phase(inp):\n",
    "    out = []\n",
    "    for idx in range(len(inp)):\n",
    "        res = 0\n",
    "        gen = get_mul(idx + 1)\n",
    "        next(gen)\n",
    "        for num in inp:\n",
    "            res += num * next(gen)\n",
    "        res = abs(res) % 10\n",
    "        out.append(res)\n",
    "    return out"
   ]
  },
  {
   "cell_type": "code",
   "execution_count": 7,
   "id": "301110b0-05c6-4e36-8250-2025f9ef22db",
   "metadata": {},
   "outputs": [
    {
     "data": {
      "application/vnd.jupyter.widget-view+json": {
       "model_id": "3c4527b2af064957992f7353762ea251",
       "version_major": 2,
       "version_minor": 0
      },
      "text/plain": [
       "  0%|          | 0/100 [00:00<?, ?it/s]"
      ]
     },
     "metadata": {},
     "output_type": "display_data"
    }
   ],
   "source": [
    "for _ in tqdm(range(100)):\n",
    "    data = phase(data)"
   ]
  },
  {
   "cell_type": "code",
   "execution_count": 8,
   "id": "eb9a0d3e-18b8-4775-96ac-3a6218857c76",
   "metadata": {},
   "outputs": [
    {
     "name": "stdout",
     "output_type": "stream",
     "text": [
      "Answer #1: 70856418\n"
     ]
    }
   ],
   "source": [
    "part1 = \"\".join([str(d) for d in data[:8]])\n",
    "print(f\"Answer #1: {part1}\")"
   ]
  },
  {
   "cell_type": "markdown",
   "id": "5e3e0acc-6d25-4efb-83b6-e68a4ccd7831",
   "metadata": {},
   "source": [
    "# Part 2"
   ]
  },
  {
   "cell_type": "code",
   "execution_count": 9,
   "id": "73bc5bf1-1797-4ab1-84ca-39b648d39011",
   "metadata": {},
   "outputs": [],
   "source": [
    "# All will be 0 in the beginning and then all will be 1 (at least for my input)\n",
    "# My length is 650 -> 6_500_000, my offset is 5_976_521 so only adding up the last 523_480"
   ]
  },
  {
   "cell_type": "code",
   "execution_count": 10,
   "id": "4ed9296c-2edf-43bc-98ad-a2d0ef589a11",
   "metadata": {},
   "outputs": [],
   "source": [
    "offset = int(\"\".join([str(d) for d in data_copy[:7]]))\n",
    "data = data_copy * 10_000\n",
    "data = data[offset:]"
   ]
  },
  {
   "cell_type": "code",
   "execution_count": 11,
   "id": "588abcad-c846-42d1-ac63-a64bea371107",
   "metadata": {},
   "outputs": [],
   "source": [
    "def phase_part2(inp):\n",
    "    sum_of_all = sum(inp)\n",
    "    new_data = []\n",
    "    for num in inp:\n",
    "        new_data.append(sum_of_all % 10)\n",
    "        sum_of_all -= num\n",
    "    return new_data"
   ]
  },
  {
   "cell_type": "code",
   "execution_count": 12,
   "id": "b1b755c2-6ebc-4879-a969-a56ce9972a80",
   "metadata": {},
   "outputs": [
    {
     "data": {
      "application/vnd.jupyter.widget-view+json": {
       "model_id": "473afd049f9a4177b39247f68ce39de3",
       "version_major": 2,
       "version_minor": 0
      },
      "text/plain": [
       "  0%|          | 0/100 [00:00<?, ?it/s]"
      ]
     },
     "metadata": {},
     "output_type": "display_data"
    }
   ],
   "source": [
    "for _ in tqdm(range(100)):\n",
    "    data = phase_part2(data)"
   ]
  },
  {
   "cell_type": "code",
   "execution_count": 13,
   "id": "9387a449-8d40-4ef2-8caa-e900dab8235a",
   "metadata": {},
   "outputs": [],
   "source": [
    "part2 = \"\".join([str(d) for d in data[:8]])"
   ]
  },
  {
   "cell_type": "code",
   "execution_count": 14,
   "id": "acd84f61-67fd-403e-89b7-a1f344b76dc4",
   "metadata": {},
   "outputs": [
    {
     "name": "stdout",
     "output_type": "stream",
     "text": [
      "Answer #2: 87766336\n"
     ]
    }
   ],
   "source": [
    "print(f\"Answer #2: {part2}\")"
   ]
  }
 ],
 "metadata": {
  "kernelspec": {
   "display_name": "Python 3 (ipykernel)",
   "language": "python",
   "name": "python3"
  },
  "language_info": {
   "codemirror_mode": {
    "name": "ipython",
    "version": 3
   },
   "file_extension": ".py",
   "mimetype": "text/x-python",
   "name": "python",
   "nbconvert_exporter": "python",
   "pygments_lexer": "ipython3",
   "version": "3.9.6"
  }
 },
 "nbformat": 4,
 "nbformat_minor": 5
}
