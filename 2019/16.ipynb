{
 "cells": [
  {
   "cell_type": "code",
   "execution_count": 1,
   "id": "341719c2-3396-45dc-9852-9be8f2d90a8b",
   "metadata": {},
   "outputs": [],
   "source": [
    "from tqdm.notebook import tqdm"
   ]
  },
  {
   "cell_type": "code",
   "execution_count": 2,
   "id": "21033d2a-1039-4dce-816d-631ec51e344a",
   "metadata": {},
   "outputs": [],
   "source": [
    "data = open(\"input/16\").read()"
   ]
  },
  {
   "cell_type": "code",
   "execution_count": 3,
   "id": "b30f22ad-2d19-4e2d-8580-664eef61a499",
   "metadata": {},
   "outputs": [],
   "source": [
    "data = list(map(int, data))"
   ]
  },
  {
   "cell_type": "code",
   "execution_count": 4,
   "id": "6a073c2f-1332-42a7-8694-b1a928470064",
   "metadata": {},
   "outputs": [],
   "source": [
    "def get_mul(n):\n",
    "    pattern = [0, 1, 0, -1]\n",
    "    while True:\n",
    "        for p in pattern:\n",
    "            for _ in range(n):\n",
    "                yield p"
   ]
  },
  {
   "cell_type": "code",
   "execution_count": 5,
   "id": "7b5b18f5-ff62-48bf-8448-dc8c4bead564",
   "metadata": {},
   "outputs": [],
   "source": [
    "def phase(inp):\n",
    "    out = []\n",
    "    for idx in range(len(inp)):\n",
    "        res = 0\n",
    "        gen = get_mul(idx + 1)\n",
    "        next(gen)\n",
    "        for num in inp:\n",
    "            res += num * next(gen)\n",
    "        res = abs(res) % 10\n",
    "        out.append(res)\n",
    "    return out"
   ]
  },
  {
   "cell_type": "code",
   "execution_count": 6,
   "id": "301110b0-05c6-4e36-8250-2025f9ef22db",
   "metadata": {},
   "outputs": [
    {
     "data": {
      "application/vnd.jupyter.widget-view+json": {
       "model_id": "ee8f72d918064554880f11c91dbf0af7",
       "version_major": 2,
       "version_minor": 0
      },
      "text/plain": [
       "  0%|          | 0/100 [00:00<?, ?it/s]"
      ]
     },
     "metadata": {},
     "output_type": "display_data"
    }
   ],
   "source": [
    "for _ in tqdm(range(100)):\n",
    "    data = phase(data)"
   ]
  },
  {
   "cell_type": "code",
   "execution_count": 7,
   "id": "eb9a0d3e-18b8-4775-96ac-3a6218857c76",
   "metadata": {},
   "outputs": [],
   "source": [
    "part1 = \"\".join([str(d) for d in data[:8]])"
   ]
  },
  {
   "cell_type": "code",
   "execution_count": 8,
   "id": "a44ec990-7438-4736-a984-08eb181dce61",
   "metadata": {},
   "outputs": [
    {
     "name": "stdout",
     "output_type": "stream",
     "text": [
      "Answer #1: 70856418\n"
     ]
    }
   ],
   "source": [
    "print(f\"Answer #1: {part1}\")"
   ]
  }
 ],
 "metadata": {
  "kernelspec": {
   "display_name": "Python 3 (ipykernel)",
   "language": "python",
   "name": "python3"
  },
  "language_info": {
   "codemirror_mode": {
    "name": "ipython",
    "version": 3
   },
   "file_extension": ".py",
   "mimetype": "text/x-python",
   "name": "python",
   "nbconvert_exporter": "python",
   "pygments_lexer": "ipython3",
   "version": "3.9.6"
  }
 },
 "nbformat": 4,
 "nbformat_minor": 5
}
