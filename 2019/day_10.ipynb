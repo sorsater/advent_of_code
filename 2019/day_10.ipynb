{
 "cells": [
  {
   "cell_type": "code",
   "execution_count": 1,
   "metadata": {},
   "outputs": [],
   "source": [
    "from math import atan2"
   ]
  },
  {
   "cell_type": "code",
   "execution_count": 2,
   "metadata": {},
   "outputs": [],
   "source": [
    "data = open('input/10.txt').read().splitlines()\n",
    "grid = [list(line) for line in data]"
   ]
  },
  {
   "cell_type": "markdown",
   "metadata": {},
   "source": [
    "## Read all asteroids"
   ]
  },
  {
   "cell_type": "code",
   "execution_count": 3,
   "metadata": {},
   "outputs": [],
   "source": [
    "asteroids = []\n",
    "for y in range(len(grid)):\n",
    "    for x in range(len(grid[0])):\n",
    "        if grid[y][x] == '#':\n",
    "            asteroids.append(tuple((x, y)))"
   ]
  },
  {
   "cell_type": "markdown",
   "metadata": {},
   "source": [
    "# Part 1\n",
    "## Check if vectors are matching"
   ]
  },
  {
   "cell_type": "code",
   "execution_count": 4,
   "metadata": {},
   "outputs": [],
   "source": [
    "def matching_vector(vec1, vec2):\n",
    "    angle_1 = atan2(*vec1)\n",
    "    angle_2 = atan2(*vec2)\n",
    "    return angle_1 if angle_1 == angle_2 else None"
   ]
  },
  {
   "cell_type": "markdown",
   "metadata": {},
   "source": [
    "## Calculate all distances between all point"
   ]
  },
  {
   "cell_type": "code",
   "execution_count": 5,
   "metadata": {},
   "outputs": [],
   "source": [
    "vec_res = {}\n",
    "for a in asteroids:\n",
    "    a_x, a_y = a\n",
    "    vec_res[a] = []\n",
    "    for b_x, b_y in asteroids:\n",
    "        if a_x == b_x and a_y == b_y:\n",
    "            continue\n",
    "        tmp_dist = [a_x - b_x, a_y - b_y]\n",
    "        vec_res[a].append(tmp_dist)    "
   ]
  },
  {
   "cell_type": "markdown",
   "metadata": {},
   "source": [
    "## For each position, calculate if they are aligned and save them"
   ]
  },
  {
   "cell_type": "code",
   "execution_count": 6,
   "metadata": {},
   "outputs": [],
   "source": [
    "angle_results = {}\n",
    "for position, values in vec_res.items():\n",
    "    angle_results[position] = {}\n",
    "    for y_1, x_1 in values:\n",
    "        for y_2, x_2 in values:\n",
    "            if y_1 == y_2 and x_1 == x_2:\n",
    "                continue\n",
    "            angle = matching_vector([y_1, x_1], [y_2, x_2])\n",
    "            if angle is not None:\n",
    "                first = tuple((y_1, x_1))\n",
    "                second = tuple((y_2, x_2))\n",
    "                angle_results[position][angle] = angle_results[position].get(angle, set())\n",
    "                angle_results[position][angle].add(first)\n",
    "                angle_results[position][angle].add(second)"
   ]
  },
  {
   "cell_type": "markdown",
   "metadata": {},
   "source": [
    "## Calculate number of visible"
   ]
  },
  {
   "cell_type": "code",
   "execution_count": 7,
   "metadata": {},
   "outputs": [
    {
     "name": "stdout",
     "output_type": "stream",
     "text": [
      "Answer #1: 230\n"
     ]
    }
   ],
   "source": [
    "res = []\n",
    "for cur_position, values in angle_results.items():\n",
    "    children = 0\n",
    "    for angle, positions in values.items():\n",
    "        children += (len(positions) - 1)\n",
    "    \n",
    "    res.append([len(asteroids) - children - 1, cur_position])\n",
    "\n",
    "res.sort()\n",
    "answer_1, position = res[-1]\n",
    "print(f'Answer #1: {answer_1}')"
   ]
  },
  {
   "cell_type": "markdown",
   "metadata": {},
   "source": [
    "# Part 2  \n",
    "\n",
    "## Calculate angle and relative position to all asteroids from best position"
   ]
  },
  {
   "cell_type": "code",
   "execution_count": 8,
   "metadata": {},
   "outputs": [],
   "source": [
    "angle_result = {}\n",
    "for ast in asteroids:\n",
    "    rel_pos = [ast[0] - position[0], ast[1] - position[1]]    \n",
    "    angle = atan2(*rel_pos)\n",
    "    length = abs(ast[0]) + abs(ast[1])\n",
    "    angle_result[angle] = angle_result.get(angle, []) + [[length, ast]]"
   ]
  },
  {
   "cell_type": "markdown",
   "metadata": {},
   "source": [
    "## Start to shoot based on angle and remove after shot"
   ]
  },
  {
   "cell_type": "code",
   "execution_count": 9,
   "metadata": {},
   "outputs": [],
   "source": [
    "shooting_record = []\n",
    "while angle_result:\n",
    "    for angle, positions in sorted(angle_result.items(), reverse=True):\n",
    "        positions.sort()\n",
    "        shooting_record.append(positions[0])\n",
    "        angle_result[angle] = positions[1:]\n",
    "        if not angle_result[angle]:\n",
    "            del angle_result[angle]"
   ]
  },
  {
   "cell_type": "code",
   "execution_count": 10,
   "metadata": {},
   "outputs": [
    {
     "name": "stdout",
     "output_type": "stream",
     "text": [
      "Answer #2: 1205\n"
     ]
    }
   ],
   "source": [
    "wanted = shooting_record[199][1]\n",
    "answer_2 = wanted[0] * 100 + wanted[1]\n",
    "print(f'Answer #2: {answer_2}')"
   ]
  }
 ],
 "metadata": {
  "kernelspec": {
   "display_name": "Python 3",
   "language": "python",
   "name": "python3"
  },
  "language_info": {
   "codemirror_mode": {
    "name": "ipython",
    "version": 3
   },
   "file_extension": ".py",
   "mimetype": "text/x-python",
   "name": "python",
   "nbconvert_exporter": "python",
   "pygments_lexer": "ipython3",
   "version": "3.7.3"
  }
 },
 "nbformat": 4,
 "nbformat_minor": 2
}
