{
 "cells": [
  {
   "cell_type": "code",
   "execution_count": 1,
   "metadata": {},
   "outputs": [],
   "source": [
    "from collections import Counter"
   ]
  },
  {
   "cell_type": "code",
   "execution_count": 2,
   "metadata": {},
   "outputs": [],
   "source": [
    "data = open('input/08.txt').read()\n",
    "data = list(map(int, list(data)))\n",
    "\n",
    "width, height = 25, 6"
   ]
  },
  {
   "cell_type": "code",
   "execution_count": 3,
   "metadata": {},
   "outputs": [],
   "source": [
    "layers = {}\n",
    "w, h, cur_layer = 0, 0, 0\n",
    "for idx, digit in enumerate(data):\n",
    "    layers[cur_layer] = layers.get(cur_layer, []) + [digit]\n",
    "    w += 1\n",
    "    if w >= width:\n",
    "        w = 0\n",
    "        h += 1\n",
    "    if h >= height:\n",
    "        h = 0\n",
    "        cur_layer += 1"
   ]
  },
  {
   "cell_type": "code",
   "execution_count": 4,
   "metadata": {},
   "outputs": [],
   "source": [
    "res = [[Counter(digits)[0], layer] for layer, digits in layers.items()]"
   ]
  },
  {
   "cell_type": "code",
   "execution_count": 5,
   "metadata": {},
   "outputs": [
    {
     "name": "stdout",
     "output_type": "stream",
     "text": [
      "Answer #1: 2193\n"
     ]
    }
   ],
   "source": [
    "res.sort()\n",
    "best = res[0][1]\n",
    "\n",
    "answer_1 = Counter(layers[best])[1] * Counter(layers[best])[2]\n",
    "print(f'Answer #1: {answer_1}')"
   ]
  },
  {
   "cell_type": "markdown",
   "metadata": {},
   "source": [
    "# Part2"
   ]
  },
  {
   "cell_type": "code",
   "execution_count": 6,
   "metadata": {},
   "outputs": [],
   "source": [
    "msg = []\n",
    "for idx1 in range(width * height):\n",
    "    for pixel in range(len(layers)):\n",
    "        digit = layers[pixel][idx1]\n",
    "        if digit != 2:\n",
    "            msg.append(digit)\n",
    "            break"
   ]
  },
  {
   "cell_type": "code",
   "execution_count": 7,
   "metadata": {},
   "outputs": [
    {
     "name": "stdout",
     "output_type": "stream",
     "text": [
      "Answer #2:\n",
      "\n",
      "#   ##### #  # #### #### \n",
      "#   ##    #  # #    #    \n",
      " # # ###  #### ###  ###  \n",
      "  #  #    #  # #    #    \n",
      "  #  #    #  # #    #    \n",
      "  #  #### #  # #### #    "
     ]
    }
   ],
   "source": [
    "print('Answer #2:')\n",
    "msg = ['#' if val == 1 else ' ' for val in msg]\n",
    "for idx, val in enumerate(msg):\n",
    "    if idx % width == 0:\n",
    "        print()\n",
    "    print(val, end='')"
   ]
  }
 ],
 "metadata": {
  "kernelspec": {
   "display_name": "Python 3",
   "language": "python",
   "name": "python3"
  },
  "language_info": {
   "codemirror_mode": {
    "name": "ipython",
    "version": 3
   },
   "file_extension": ".py",
   "mimetype": "text/x-python",
   "name": "python",
   "nbconvert_exporter": "python",
   "pygments_lexer": "ipython3",
   "version": "3.7.3"
  }
 },
 "nbformat": 4,
 "nbformat_minor": 2
}
