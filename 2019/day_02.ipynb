{
 "cells": [
  {
   "cell_type": "code",
   "execution_count": 1,
   "metadata": {},
   "outputs": [],
   "source": [
    "data = list(eval(open('input/02.txt').read()))\n",
    "\n",
    "from intcode import Intcode"
   ]
  },
  {
   "cell_type": "code",
   "execution_count": 2,
   "metadata": {},
   "outputs": [],
   "source": [
    "def exec_program(code):\n",
    "    for idx, val in enumerate(code):\n",
    "        if idx % 4 == 0:\n",
    "            if val == 99:\n",
    "                return code[0]\n",
    "            a, b = code[code[idx + 1]], code[code[idx + 2]]\n",
    "            if val == 1:\n",
    "                tmp = a + b\n",
    "            elif val == 2:\n",
    "                tmp = a * b\n",
    "            else:\n",
    "                continue\n",
    "            code[code[idx + 3]] = tmp"
   ]
  },
  {
   "cell_type": "markdown",
   "metadata": {},
   "source": [
    "# Part 1"
   ]
  },
  {
   "cell_type": "code",
   "execution_count": 3,
   "metadata": {},
   "outputs": [
    {
     "name": "stdout",
     "output_type": "stream",
     "text": [
      "Answer #1: 3760627\n"
     ]
    }
   ],
   "source": [
    "code = data[:]\n",
    "code[1], code[2] = 12, 2\n",
    "\n",
    "comp = Intcode(program=code, day=2)\n",
    "answer_1 = comp.run_program()\n",
    "print(f'Answer #1: {answer_1}')"
   ]
  },
  {
   "cell_type": "markdown",
   "metadata": {},
   "source": [
    "# Part 2"
   ]
  },
  {
   "cell_type": "code",
   "execution_count": 4,
   "metadata": {},
   "outputs": [],
   "source": [
    "goal = 19690720\n",
    "def get_verb_noun():\n",
    "    for verb in range(100):\n",
    "        for noun in range(100):\n",
    "            code = data[:]\n",
    "            code[1], code[2] = noun, verb\n",
    "            comp = Intcode(program=code, day=2)\n",
    "            if comp.run_program() == goal:\n",
    "                return verb, noun"
   ]
  },
  {
   "cell_type": "code",
   "execution_count": 5,
   "metadata": {},
   "outputs": [
    {
     "name": "stdout",
     "output_type": "stream",
     "text": [
      "Answer #2: 7195\n"
     ]
    }
   ],
   "source": [
    "verb, noun = get_verb_noun()\n",
    "answer_2 = 100 * noun + verb\n",
    "print(f'Answer #2: {answer_2}')"
   ]
  }
 ],
 "metadata": {
  "kernelspec": {
   "display_name": "Python 3",
   "language": "python",
   "name": "python3"
  },
  "language_info": {
   "codemirror_mode": {
    "name": "ipython",
    "version": 3
   },
   "file_extension": ".py",
   "mimetype": "text/x-python",
   "name": "python",
   "nbconvert_exporter": "python",
   "pygments_lexer": "ipython3",
   "version": "3.7.3"
  }
 },
 "nbformat": 4,
 "nbformat_minor": 2
}
